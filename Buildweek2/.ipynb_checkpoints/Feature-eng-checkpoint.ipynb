{
 "cells": [
  {
   "cell_type": "code",
   "execution_count": 2,
   "metadata": {
    "cell_id": "00000-3e29fc92-d378-49e4-ab1f-261edd5999f9",
    "deepnote_cell_type": "code",
    "deepnote_to_be_reexecuted": false,
    "execution_millis": 3008,
    "execution_start": 1621419381503,
    "source_hash": "715ba1b7",
    "tags": []
   },
   "outputs": [],
   "source": [
    "# import libraries for analysis\n",
    "import pandas   as pd\n",
    "import numpy as np\n",
    "import matplotlib.pyplot as plt\n",
    "import re\n",
    "import seaborn as sns\n",
    "\n",
    "# Set Matplotlib defaults\n",
    "plt.style.use(\"seaborn-whitegrid\")\n",
    "plt.rc(\"figure\", autolayout=True)\n",
    "plt.rc(\n",
    "    \"axes\",\n",
    "    labelweight=\"bold\",\n",
    "    labelsize=\"large\",\n",
    "    titleweight=\"bold\",\n",
    "    titlesize=14,\n",
    "    titlepad=10,\n",
    ")\n",
    "\n",
    "from sklearn.feature_selection import mutual_info_classif\n",
    "from sklearn.impute import SimpleImputer\n",
    "from sklearn.model_selection import (\n",
    "    cross_val_score, ShuffleSplit, train_test_split, GridSearchCV)\n",
    "from sklearn.utils import shuffle\n",
    "from sklearn.ensemble import RandomForestClassifier\n",
    "from sklearn.preprocessing import LabelEncoder"
   ]
  },
  {
   "cell_type": "markdown",
   "metadata": {
    "cell_id": "00001-797d217b-5c89-4bec-b397-11b20c90fee8",
    "deepnote_cell_type": "markdown",
    "tags": []
   },
   "source": [
    "Introduce the data"
   ]
  },
  {
   "cell_type": "code",
   "execution_count": 3,
   "metadata": {
    "cell_id": "00001-e469bb90-78ad-4df8-a666-952e9ccdc3b9",
    "deepnote_cell_type": "code",
    "deepnote_to_be_reexecuted": false,
    "execution_millis": 253,
    "execution_start": 1621419387994,
    "source_hash": "9d869249",
    "tags": []
   },
   "outputs": [
    {
     "data": {
      "application/vnd.deepnote.dataframe.v2+json": {
       "column_count": 15,
       "columns": [
        {
         "dtype": "int64",
         "name": "id",
         "stats": {
          "histogram": [
           {
            "bin_end": 2469.5,
            "bin_start": 876,
            "count": 1
           },
           {
            "bin_end": 4063,
            "bin_start": 2469.5,
            "count": 0
           },
           {
            "bin_end": 5656.5,
            "bin_start": 4063,
            "count": 0
           },
           {
            "bin_end": 7250,
            "bin_start": 5656.5,
            "count": 0
           },
           {
            "bin_end": 8843.5,
            "bin_start": 7250,
            "count": 0
           },
           {
            "bin_end": 10437,
            "bin_start": 8843.5,
            "count": 0
           },
           {
            "bin_end": 12030.5,
            "bin_start": 10437,
            "count": 0
           },
           {
            "bin_end": 13624,
            "bin_start": 12030.5,
            "count": 0
           },
           {
            "bin_end": 15217.5,
            "bin_start": 13624,
            "count": 0
           },
           {
            "bin_end": 16811,
            "bin_start": 15217.5,
            "count": 4
           }
          ],
          "max": "16811",
          "min": "876",
          "nan_count": 0,
          "unique_count": 5
         }
        },
        {
         "dtype": "object",
         "name": "user",
         "stats": {
          "categories": [
           {
            "count": 4,
            "name": "Luca"
           },
           {
            "count": 1,
            "name": "andrea"
           }
          ],
          "nan_count": 0,
          "unique_count": 2
         }
        },
        {
         "dtype": "float64",
         "name": "android_sensor_gyroscope_mean",
         "stats": {
          "histogram": [
           {
            "bin_end": 0.019692364659799,
            "bin_start": 0.00152461653211,
            "count": 2
           },
           {
            "bin_end": 0.037860112787488,
            "bin_start": 0.019692364659799,
            "count": 2
           },
           {
            "bin_end": 0.056027860915177,
            "bin_start": 0.037860112787488,
            "count": 0
           },
           {
            "bin_end": 0.074195609042866,
            "bin_start": 0.056027860915177,
            "count": 0
           },
           {
            "bin_end": 0.092363357170555,
            "bin_start": 0.074195609042866,
            "count": 0
           },
           {
            "bin_end": 0.110531105298244,
            "bin_start": 0.092363357170555,
            "count": 0
           },
           {
            "bin_end": 0.12869885342593299,
            "bin_start": 0.110531105298244,
            "count": 0
           },
           {
            "bin_end": 0.146866601553622,
            "bin_start": 0.12869885342593299,
            "count": 0
           },
           {
            "bin_end": 0.165034349681311,
            "bin_start": 0.146866601553622,
            "count": 0
           },
           {
            "bin_end": 0.183202097809,
            "bin_start": 0.165034349681311,
            "count": 1
           }
          ],
          "max": "0.183202097809",
          "min": "0.00152461653211",
          "nan_count": 0,
          "unique_count": 5
         }
        },
        {
         "dtype": "float64",
         "name": "android_sensor_accelerometer_std",
         "stats": {
          "histogram": [
           {
            "bin_end": 0.18767362506253,
            "bin_start": 0.0111991059917,
            "count": 2
           },
           {
            "bin_end": 0.36414814413336,
            "bin_start": 0.18767362506253,
            "count": 0
           },
           {
            "bin_end": 0.5406226632041901,
            "bin_start": 0.36414814413336,
            "count": 1
           },
           {
            "bin_end": 0.7170971822750201,
            "bin_start": 0.5406226632041901,
            "count": 0
           },
           {
            "bin_end": 0.8935717013458501,
            "bin_start": 0.7170971822750201,
            "count": 1
           },
           {
            "bin_end": 1.07004622041668,
            "bin_start": 0.8935717013458501,
            "count": 0
           },
           {
            "bin_end": 1.24652073948751,
            "bin_start": 1.07004622041668,
            "count": 0
           },
           {
            "bin_end": 1.42299525855834,
            "bin_start": 1.24652073948751,
            "count": 0
           },
           {
            "bin_end": 1.5994697776291702,
            "bin_start": 1.42299525855834,
            "count": 0
           },
           {
            "bin_end": 1.7759442967,
            "bin_start": 1.5994697776291702,
            "count": 1
           }
          ],
          "max": "1.7759442967",
          "min": "0.0111991059917",
          "nan_count": 0,
          "unique_count": 5
         }
        },
        {
         "dtype": "float64",
         "name": "android_sensor_gyroscope_std",
         "stats": {
          "histogram": [
           {
            "bin_end": 0.0105233445143767,
            "bin_start": 0.000712700740663,
            "count": 2
           },
           {
            "bin_end": 0.0203339882880904,
            "bin_start": 0.0105233445143767,
            "count": 2
           },
           {
            "bin_end": 0.0301446320618041,
            "bin_start": 0.0203339882880904,
            "count": 0
           },
           {
            "bin_end": 0.0399552758355178,
            "bin_start": 0.0301446320618041,
            "count": 0
           },
           {
            "bin_end": 0.0497659196092315,
            "bin_start": 0.0399552758355178,
            "count": 0
           },
           {
            "bin_end": 0.0595765633829452,
            "bin_start": 0.0497659196092315,
            "count": 0
           },
           {
            "bin_end": 0.0693872071566589,
            "bin_start": 0.0595765633829452,
            "count": 0
           },
           {
            "bin_end": 0.0791978509303726,
            "bin_start": 0.0693872071566589,
            "count": 0
           },
           {
            "bin_end": 0.0890084947040863,
            "bin_start": 0.0791978509303726,
            "count": 0
           },
           {
            "bin_end": 0.0988191384778,
            "bin_start": 0.0890084947040863,
            "count": 1
           }
          ],
          "max": "0.0988191384778",
          "min": "0.000712700740663",
          "nan_count": 0,
          "unique_count": 5
         }
        },
        {
         "dtype": "float64",
         "name": "android_sensor_gyroscope_uncalibrated_mean",
         "stats": {
          "histogram": [
           {
            "bin_end": 0.04116444248034,
            "bin_start": 0.0162213599906,
            "count": 3
           },
           {
            "bin_end": 0.06610752497008,
            "bin_start": 0.04116444248034,
            "count": 1
           },
           {
            "bin_end": 0.09105060745982,
            "bin_start": 0.06610752497008,
            "count": 0
           },
           {
            "bin_end": 0.11599368994956,
            "bin_start": 0.09105060745982,
            "count": 0
           },
           {
            "bin_end": 0.1409367724393,
            "bin_start": 0.11599368994956,
            "count": 0
           },
           {
            "bin_end": 0.16587985492904,
            "bin_start": 0.1409367724393,
            "count": 0
           },
           {
            "bin_end": 0.19082293741878,
            "bin_start": 0.16587985492904,
            "count": 0
           },
           {
            "bin_end": 0.21576601990852,
            "bin_start": 0.19082293741878,
            "count": 0
           },
           {
            "bin_end": 0.24070910239826002,
            "bin_start": 0.21576601990852,
            "count": 0
           },
           {
            "bin_end": 0.265652184888,
            "bin_start": 0.24070910239826002,
            "count": 1
           }
          ],
          "max": "0.265652184888",
          "min": "0.0162213599906",
          "nan_count": 0,
          "unique_count": 5
         }
        },
        {
         "dtype": "float64",
         "name": "android_sensor_accelerometer_max",
         "stats": {
          "histogram": [
           {
            "bin_end": 10.578999020486,
            "bin_start": 9.84926211274,
            "count": 2
           },
           {
            "bin_end": 11.308735928232,
            "bin_start": 10.578999020486,
            "count": 1
           },
           {
            "bin_end": 12.038472835978,
            "bin_start": 11.308735928232,
            "count": 0
           },
           {
            "bin_end": 12.768209743724,
            "bin_start": 12.038472835978,
            "count": 1
           },
           {
            "bin_end": 13.49794665147,
            "bin_start": 12.768209743724,
            "count": 0
           },
           {
            "bin_end": 14.227683559216,
            "bin_start": 13.49794665147,
            "count": 0
           },
           {
            "bin_end": 14.957420466962,
            "bin_start": 14.227683559216,
            "count": 0
           },
           {
            "bin_end": 15.687157374708,
            "bin_start": 14.957420466962,
            "count": 0
           },
           {
            "bin_end": 16.416894282454003,
            "bin_start": 15.687157374708,
            "count": 0
           },
           {
            "bin_end": 17.1466311902,
            "bin_start": 16.416894282454003,
            "count": 1
           }
          ],
          "max": "17.1466311902",
          "min": "9.84926211274",
          "nan_count": 0,
          "unique_count": 5
         }
        },
        {
         "dtype": "float64",
         "name": "android_sensor_linear_acceleration_mean",
         "stats": {
          "histogram": [
           {
            "bin_end": 0.18471080473561002,
            "bin_start": 0.0209778383629,
            "count": 2
           },
           {
            "bin_end": 0.34844377110832003,
            "bin_start": 0.18471080473561002,
            "count": 0
           },
           {
            "bin_end": 0.51217673748103,
            "bin_start": 0.34844377110832003,
            "count": 0
           },
           {
            "bin_end": 0.67590970385374,
            "bin_start": 0.51217673748103,
            "count": 0
           },
           {
            "bin_end": 0.8396426702264501,
            "bin_start": 0.67590970385374,
            "count": 0
           },
           {
            "bin_end": 1.00337563659916,
            "bin_start": 0.8396426702264501,
            "count": 1
           },
           {
            "bin_end": 1.16710860297187,
            "bin_start": 1.00337563659916,
            "count": 0
           },
           {
            "bin_end": 1.33084156934458,
            "bin_start": 1.16710860297187,
            "count": 0
           },
           {
            "bin_end": 1.4945745357172902,
            "bin_start": 1.33084156934458,
            "count": 1
           },
           {
            "bin_end": 1.65830750209,
            "bin_start": 1.4945745357172902,
            "count": 1
           }
          ],
          "max": "1.65830750209",
          "min": "0.0209778383629",
          "nan_count": 0,
          "unique_count": 5
         }
        },
        {
         "dtype": "float64",
         "name": "speed_mean",
         "stats": {
          "histogram": [
           {
            "bin_end": 1.6303283250975626,
            "bin_start": 0.1803785331903315,
            "count": 2
           },
           {
            "bin_end": 3.0802781170047937,
            "bin_start": 1.6303283250975626,
            "count": 0
           },
           {
            "bin_end": 4.530227908912024,
            "bin_start": 3.0802781170047937,
            "count": 0
           },
           {
            "bin_end": 5.980177700819255,
            "bin_start": 4.530227908912024,
            "count": 0
           },
           {
            "bin_end": 7.430127492726487,
            "bin_start": 5.980177700819255,
            "count": 0
           },
           {
            "bin_end": 8.880077284633717,
            "bin_start": 7.430127492726487,
            "count": 0
           },
           {
            "bin_end": 10.330027076540949,
            "bin_start": 8.880077284633717,
            "count": 0
           },
           {
            "bin_end": 11.77997686844818,
            "bin_start": 10.330027076540949,
            "count": 0
           },
           {
            "bin_end": 13.229926660355412,
            "bin_start": 11.77997686844818,
            "count": 0
           },
           {
            "bin_end": 14.679876452262643,
            "bin_start": 13.229926660355412,
            "count": 3
           }
          ],
          "max": "14.679876452262643",
          "min": "0.1803785331903315",
          "nan_count": 0,
          "unique_count": 2
         }
        },
        {
         "dtype": "float64",
         "name": "android_sensor_rotation_vector_mean",
         "stats": {
          "histogram": [
           {
            "bin_end": 0.14536994911599999,
            "bin_start": 0.050413140269,
            "count": 1
           },
           {
            "bin_end": 0.24032675796300002,
            "bin_start": 0.14536994911599999,
            "count": 0
           },
           {
            "bin_end": 0.33528356681000004,
            "bin_start": 0.24032675796300002,
            "count": 1
           },
           {
            "bin_end": 0.430240375657,
            "bin_start": 0.33528356681000004,
            "count": 0
           },
           {
            "bin_end": 0.525197184504,
            "bin_start": 0.430240375657,
            "count": 0
           },
           {
            "bin_end": 0.6201539933510001,
            "bin_start": 0.525197184504,
            "count": 1
           },
           {
            "bin_end": 0.715110802198,
            "bin_start": 0.6201539933510001,
            "count": 0
           },
           {
            "bin_end": 0.810067611045,
            "bin_start": 0.715110802198,
            "count": 0
           },
           {
            "bin_end": 0.905024419892,
            "bin_start": 0.810067611045,
            "count": 0
           },
           {
            "bin_end": 0.999981228739,
            "bin_start": 0.905024419892,
            "count": 2
           }
          ],
          "max": "0.999981228739",
          "min": "0.050413140269",
          "nan_count": 0,
          "unique_count": 5
         }
        },
        {
         "dtype": "float64",
         "name": "android_sensor_rotation_vector_max",
         "stats": {
          "histogram": [
           {
            "bin_end": 0.15071615882803,
            "bin_start": 0.0563513538347,
            "count": 1
           },
           {
            "bin_end": 0.24508096382136,
            "bin_start": 0.15071615882803,
            "count": 0
           },
           {
            "bin_end": 0.33944576881469,
            "bin_start": 0.24508096382136,
            "count": 0
           },
           {
            "bin_end": 0.43381057380802,
            "bin_start": 0.33944576881469,
            "count": 1
           },
           {
            "bin_end": 0.52817537880135,
            "bin_start": 0.43381057380802,
            "count": 0
           },
           {
            "bin_end": 0.62254018379468,
            "bin_start": 0.52817537880135,
            "count": 1
           },
           {
            "bin_end": 0.71690498878801,
            "bin_start": 0.62254018379468,
            "count": 0
           },
           {
            "bin_end": 0.81126979378134,
            "bin_start": 0.71690498878801,
            "count": 0
           },
           {
            "bin_end": 0.90563459877467,
            "bin_start": 0.81126979378134,
            "count": 0
           },
           {
            "bin_end": 0.999999403768,
            "bin_start": 0.90563459877467,
            "count": 2
           }
          ],
          "max": "0.999999403768",
          "min": "0.0563513538347",
          "nan_count": 0,
          "unique_count": 5
         }
        },
        {
         "dtype": "float64",
         "name": "android_sensor_accelerometer_min",
         "stats": {
          "histogram": [
           {
            "bin_end": 7.874188068491,
            "bin_start": 7.65967372861,
            "count": 2
           },
           {
            "bin_end": 8.088702408371999,
            "bin_start": 7.874188068491,
            "count": 0
           },
           {
            "bin_end": 8.303216748253,
            "bin_start": 8.088702408371999,
            "count": 0
           },
           {
            "bin_end": 8.517731088134,
            "bin_start": 8.303216748253,
            "count": 0
           },
           {
            "bin_end": 8.732245428015,
            "bin_start": 8.517731088134,
            "count": 0
           },
           {
            "bin_end": 8.946759767896,
            "bin_start": 8.732245428015,
            "count": 0
           },
           {
            "bin_end": 9.161274107777,
            "bin_start": 8.946759767896,
            "count": 1
           },
           {
            "bin_end": 9.375788447658,
            "bin_start": 9.161274107777,
            "count": 0
           },
           {
            "bin_end": 9.590302787539,
            "bin_start": 9.375788447658,
            "count": 0
           },
           {
            "bin_end": 9.80481712742,
            "bin_start": 9.590302787539,
            "count": 2
           }
          ],
          "max": "9.80481712742",
          "min": "7.65967372861",
          "nan_count": 0,
          "unique_count": 5
         }
        },
        {
         "dtype": "float64",
         "name": "android_sensor_magnetic_field_uncalibrated_min",
         "stats": {
          "histogram": [
           {
            "bin_end": 61.75932743579,
            "bin_start": 51.1997072531,
            "count": 2
           },
           {
            "bin_end": 72.31894761848,
            "bin_start": 61.75932743579,
            "count": 0
           },
           {
            "bin_end": 82.87856780117,
            "bin_start": 72.31894761848,
            "count": 1
           },
           {
            "bin_end": 93.43818798386,
            "bin_start": 82.87856780117,
            "count": 0
           },
           {
            "bin_end": 103.99780816655,
            "bin_start": 93.43818798386,
            "count": 1
           },
           {
            "bin_end": 114.55742834924001,
            "bin_start": 103.99780816655,
            "count": 0
           },
           {
            "bin_end": 125.11704853193001,
            "bin_start": 114.55742834924001,
            "count": 0
           },
           {
            "bin_end": 135.67666871462,
            "bin_start": 125.11704853193001,
            "count": 0
           },
           {
            "bin_end": 146.23628889731,
            "bin_start": 135.67666871462,
            "count": 0
           },
           {
            "bin_end": 156.79590908,
            "bin_start": 146.23628889731,
            "count": 1
           }
          ],
          "max": "156.79590908",
          "min": "51.1997072531",
          "nan_count": 0,
          "unique_count": 5
         }
        },
        {
         "dtype": "float64",
         "name": "sound_min",
         "stats": {
          "histogram": [
           {
            "bin_end": 87.70041262106,
            "bin_start": 87.4703770994,
            "count": 1
           },
           {
            "bin_end": 87.93044814272,
            "bin_start": 87.70041262106,
            "count": 0
           },
           {
            "bin_end": 88.16048366438,
            "bin_start": 87.93044814272,
            "count": 0
           },
           {
            "bin_end": 88.39051918604,
            "bin_start": 88.16048366438,
            "count": 0
           },
           {
            "bin_end": 88.6205547077,
            "bin_start": 88.39051918604,
            "count": 0
           },
           {
            "bin_end": 88.85059022936,
            "bin_start": 88.6205547077,
            "count": 0
           },
           {
            "bin_end": 89.08062575102,
            "bin_start": 88.85059022936,
            "count": 1
           },
           {
            "bin_end": 89.31066127268,
            "bin_start": 89.08062575102,
            "count": 0
           },
           {
            "bin_end": 89.54069679434,
            "bin_start": 89.31066127268,
            "count": 0
           },
           {
            "bin_end": 89.770732316,
            "bin_start": 89.54069679434,
            "count": 1
           }
          ],
          "max": "89.770732316",
          "min": "87.4703770994",
          "nan_count": 2,
          "unique_count": 3
         }
        },
        {
         "dtype": "object",
         "name": "target",
         "stats": {
          "categories": [
           {
            "count": 3,
            "name": "Car"
           },
           {
            "count": 2,
            "name": "Still"
           }
          ],
          "nan_count": 0,
          "unique_count": 2
         }
        },
        {
         "dtype": "int64",
         "name": "_deepnote_index_column"
        }
       ],
       "row_count": 5,
       "rows_bottom": null,
       "rows_top": [
        {
         "_deepnote_index_column": 0,
         "android_sensor_accelerometer_max": 9.84941095639,
         "android_sensor_accelerometer_min": 9.75889547269,
         "android_sensor_accelerometer_std": 0.0146255073331,
         "android_sensor_gyroscope_mean": 0.00165077522136,
         "android_sensor_gyroscope_std": 0.000736963641413,
         "android_sensor_gyroscope_uncalibrated_mean": 0.0162213599906,
         "android_sensor_linear_acceleration_mean": 0.0209778383629,
         "android_sensor_magnetic_field_uncalibrated_min": 51.1997072531,
         "android_sensor_rotation_vector_max": 0.0563513538347,
         "android_sensor_rotation_vector_mean": 0.050413140269,
         "id": 16170,
         "sound_min": "nan",
         "speed_mean": 0.1803785331903315,
         "target": "Still",
         "user": "Luca"
        },
        {
         "_deepnote_index_column": 1,
         "android_sensor_accelerometer_max": 17.1466311902,
         "android_sensor_accelerometer_min": 7.70743742161,
         "android_sensor_accelerometer_std": 1.7759442967,
         "android_sensor_gyroscope_mean": 0.0363257142488,
         "android_sensor_gyroscope_std": 0.0202897002181,
         "android_sensor_gyroscope_uncalibrated_mean": 0.0390225389502,
         "android_sensor_linear_acceleration_mean": 0.879220182554,
         "android_sensor_magnetic_field_uncalibrated_min": 82.4098901832,
         "android_sensor_rotation_vector_max": 0.999999403768,
         "android_sensor_rotation_vector_mean": 0.999981228739,
         "id": 15871,
         "sound_min": "89.06514335",
         "speed_mean": 14.679876452262643,
         "target": "Car",
         "user": "Luca"
        },
        {
         "_deepnote_index_column": 2,
         "android_sensor_accelerometer_max": 9.84926211274,
         "android_sensor_accelerometer_min": 9.80481712742,
         "android_sensor_accelerometer_std": 0.0111991059917,
         "android_sensor_gyroscope_mean": 0.00152461653211,
         "android_sensor_gyroscope_std": 0.000712700740663,
         "android_sensor_gyroscope_uncalibrated_mean": 0.016301566129,
         "android_sensor_linear_acceleration_mean": 0.0341102311454,
         "android_sensor_magnetic_field_uncalibrated_min": 55.5018017726,
         "android_sensor_rotation_vector_max": 0.610456220789,
         "android_sensor_rotation_vector_mean": 0.610456220789,
         "id": 16811,
         "sound_min": "nan",
         "speed_mean": 0.1803785331903315,
         "target": "Still",
         "user": "Luca"
        },
        {
         "_deepnote_index_column": 3,
         "android_sensor_accelerometer_max": 12.3042975935,
         "android_sensor_accelerometer_min": 7.65967372861,
         "android_sensor_accelerometer_std": 0.862553258429,
         "android_sensor_gyroscope_mean": 0.0364403150565,
         "android_sensor_gyroscope_std": 0.0105527726211,
         "android_sensor_gyroscope_uncalibrated_mean": 0.0507587448203,
         "android_sensor_linear_acceleration_mean": 1.48836057989,
         "android_sensor_magnetic_field_uncalibrated_min": 95.6643091367,
         "android_sensor_rotation_vector_max": 0.998112317214,
         "android_sensor_rotation_vector_mean": 0.998112317214,
         "id": 15831,
         "sound_min": "87.4703770994",
         "speed_mean": 14.679876452262643,
         "target": "Car",
         "user": "Luca"
        },
        {
         "_deepnote_index_column": 4,
         "android_sensor_accelerometer_max": 10.8916451194,
         "android_sensor_accelerometer_min": 8.96562096134,
         "android_sensor_accelerometer_std": 0.504117059576,
         "android_sensor_gyroscope_mean": 0.183202097809,
         "android_sensor_gyroscope_std": 0.0988191384778,
         "android_sensor_gyroscope_uncalibrated_mean": 0.265652184888,
         "android_sensor_linear_acceleration_mean": 1.65830750209,
         "android_sensor_magnetic_field_uncalibrated_min": 156.79590908,
         "android_sensor_rotation_vector_max": 0.378193174062,
         "android_sensor_rotation_vector_mean": 0.322241915004,
         "id": 876,
         "sound_min": "89.770732316",
         "speed_mean": 14.679876452262643,
         "target": "Car",
         "user": "andrea"
        }
       ]
      },
      "text/html": [
       "<div>\n",
       "<style scoped>\n",
       "    .dataframe tbody tr th:only-of-type {\n",
       "        vertical-align: middle;\n",
       "    }\n",
       "\n",
       "    .dataframe tbody tr th {\n",
       "        vertical-align: top;\n",
       "    }\n",
       "\n",
       "    .dataframe thead th {\n",
       "        text-align: right;\n",
       "    }\n",
       "</style>\n",
       "<table border=\"1\" class=\"dataframe\">\n",
       "  <thead>\n",
       "    <tr style=\"text-align: right;\">\n",
       "      <th></th>\n",
       "      <th>id</th>\n",
       "      <th>user</th>\n",
       "      <th>android_sensor_gyroscope_mean</th>\n",
       "      <th>android_sensor_accelerometer_std</th>\n",
       "      <th>android_sensor_gyroscope_std</th>\n",
       "      <th>android_sensor_gyroscope_uncalibrated_mean</th>\n",
       "      <th>android_sensor_accelerometer_max</th>\n",
       "      <th>android_sensor_linear_acceleration_mean</th>\n",
       "      <th>speed_mean</th>\n",
       "      <th>android_sensor_rotation_vector_mean</th>\n",
       "      <th>android_sensor_rotation_vector_max</th>\n",
       "      <th>android_sensor_accelerometer_min</th>\n",
       "      <th>android_sensor_magnetic_field_uncalibrated_min</th>\n",
       "      <th>sound_min</th>\n",
       "      <th>target</th>\n",
       "    </tr>\n",
       "  </thead>\n",
       "  <tbody>\n",
       "    <tr>\n",
       "      <th>0</th>\n",
       "      <td>16170</td>\n",
       "      <td>Luca</td>\n",
       "      <td>0.001651</td>\n",
       "      <td>0.014626</td>\n",
       "      <td>0.000737</td>\n",
       "      <td>0.016221</td>\n",
       "      <td>9.849411</td>\n",
       "      <td>0.020978</td>\n",
       "      <td>0.180379</td>\n",
       "      <td>0.050413</td>\n",
       "      <td>0.056351</td>\n",
       "      <td>9.758895</td>\n",
       "      <td>51.199707</td>\n",
       "      <td>NaN</td>\n",
       "      <td>Still</td>\n",
       "    </tr>\n",
       "    <tr>\n",
       "      <th>1</th>\n",
       "      <td>15871</td>\n",
       "      <td>Luca</td>\n",
       "      <td>0.036326</td>\n",
       "      <td>1.775944</td>\n",
       "      <td>0.020290</td>\n",
       "      <td>0.039023</td>\n",
       "      <td>17.146631</td>\n",
       "      <td>0.879220</td>\n",
       "      <td>14.679876</td>\n",
       "      <td>0.999981</td>\n",
       "      <td>0.999999</td>\n",
       "      <td>7.707437</td>\n",
       "      <td>82.409890</td>\n",
       "      <td>89.065143</td>\n",
       "      <td>Car</td>\n",
       "    </tr>\n",
       "    <tr>\n",
       "      <th>2</th>\n",
       "      <td>16811</td>\n",
       "      <td>Luca</td>\n",
       "      <td>0.001525</td>\n",
       "      <td>0.011199</td>\n",
       "      <td>0.000713</td>\n",
       "      <td>0.016302</td>\n",
       "      <td>9.849262</td>\n",
       "      <td>0.034110</td>\n",
       "      <td>0.180379</td>\n",
       "      <td>0.610456</td>\n",
       "      <td>0.610456</td>\n",
       "      <td>9.804817</td>\n",
       "      <td>55.501802</td>\n",
       "      <td>NaN</td>\n",
       "      <td>Still</td>\n",
       "    </tr>\n",
       "    <tr>\n",
       "      <th>3</th>\n",
       "      <td>15831</td>\n",
       "      <td>Luca</td>\n",
       "      <td>0.036440</td>\n",
       "      <td>0.862553</td>\n",
       "      <td>0.010553</td>\n",
       "      <td>0.050759</td>\n",
       "      <td>12.304298</td>\n",
       "      <td>1.488361</td>\n",
       "      <td>14.679876</td>\n",
       "      <td>0.998112</td>\n",
       "      <td>0.998112</td>\n",
       "      <td>7.659674</td>\n",
       "      <td>95.664309</td>\n",
       "      <td>87.470377</td>\n",
       "      <td>Car</td>\n",
       "    </tr>\n",
       "    <tr>\n",
       "      <th>4</th>\n",
       "      <td>876</td>\n",
       "      <td>andrea</td>\n",
       "      <td>0.183202</td>\n",
       "      <td>0.504117</td>\n",
       "      <td>0.098819</td>\n",
       "      <td>0.265652</td>\n",
       "      <td>10.891645</td>\n",
       "      <td>1.658308</td>\n",
       "      <td>14.679876</td>\n",
       "      <td>0.322242</td>\n",
       "      <td>0.378193</td>\n",
       "      <td>8.965621</td>\n",
       "      <td>156.795909</td>\n",
       "      <td>89.770732</td>\n",
       "      <td>Car</td>\n",
       "    </tr>\n",
       "  </tbody>\n",
       "</table>\n",
       "</div>"
      ],
      "text/plain": [
       "      id    user  android_sensor_gyroscope_mean  \\\n",
       "0  16170    Luca                       0.001651   \n",
       "1  15871    Luca                       0.036326   \n",
       "2  16811    Luca                       0.001525   \n",
       "3  15831    Luca                       0.036440   \n",
       "4    876  andrea                       0.183202   \n",
       "\n",
       "   android_sensor_accelerometer_std  android_sensor_gyroscope_std  \\\n",
       "0                          0.014626                      0.000737   \n",
       "1                          1.775944                      0.020290   \n",
       "2                          0.011199                      0.000713   \n",
       "3                          0.862553                      0.010553   \n",
       "4                          0.504117                      0.098819   \n",
       "\n",
       "   android_sensor_gyroscope_uncalibrated_mean  \\\n",
       "0                                    0.016221   \n",
       "1                                    0.039023   \n",
       "2                                    0.016302   \n",
       "3                                    0.050759   \n",
       "4                                    0.265652   \n",
       "\n",
       "   android_sensor_accelerometer_max  android_sensor_linear_acceleration_mean  \\\n",
       "0                          9.849411                                 0.020978   \n",
       "1                         17.146631                                 0.879220   \n",
       "2                          9.849262                                 0.034110   \n",
       "3                         12.304298                                 1.488361   \n",
       "4                         10.891645                                 1.658308   \n",
       "\n",
       "   speed_mean  android_sensor_rotation_vector_mean  \\\n",
       "0    0.180379                             0.050413   \n",
       "1   14.679876                             0.999981   \n",
       "2    0.180379                             0.610456   \n",
       "3   14.679876                             0.998112   \n",
       "4   14.679876                             0.322242   \n",
       "\n",
       "   android_sensor_rotation_vector_max  android_sensor_accelerometer_min  \\\n",
       "0                            0.056351                          9.758895   \n",
       "1                            0.999999                          7.707437   \n",
       "2                            0.610456                          9.804817   \n",
       "3                            0.998112                          7.659674   \n",
       "4                            0.378193                          8.965621   \n",
       "\n",
       "   android_sensor_magnetic_field_uncalibrated_min  sound_min target  \n",
       "0                                       51.199707        NaN  Still  \n",
       "1                                       82.409890  89.065143    Car  \n",
       "2                                       55.501802        NaN  Still  \n",
       "3                                       95.664309  87.470377    Car  \n",
       "4                                      156.795909  89.770732    Car  "
      ]
     },
     "execution_count": 3,
     "metadata": {},
     "output_type": "execute_result"
    }
   ],
   "source": [
    "#Load and preview data\n",
    "df = pd.read_csv('data_selected_feature.csv')\n",
    "df.head()"
   ]
  },
  {
   "cell_type": "code",
   "execution_count": 4,
   "metadata": {
    "cell_id": "00002-516c5973-fb5e-4326-b2e8-12ab5da65684",
    "deepnote_cell_type": "code",
    "deepnote_to_be_reexecuted": false,
    "execution_millis": 1,
    "execution_start": 1621419390261,
    "source_hash": "14f60b8f",
    "tags": []
   },
   "outputs": [
    {
     "data": {
      "text/plain": [
       "(5893, 15)"
      ]
     },
     "execution_count": 4,
     "metadata": {},
     "output_type": "execute_result"
    }
   ],
   "source": [
    "df.shape"
   ]
  },
  {
   "cell_type": "markdown",
   "metadata": {
    "cell_id": "00004-af9640c0-6a6b-4a96-a694-0156e5a66e48",
    "deepnote_cell_type": "markdown",
    "tags": []
   },
   "source": [
    "Data exploration"
   ]
  },
  {
   "cell_type": "code",
   "execution_count": 5,
   "metadata": {
    "cell_id": "00003-e5b0be70-40ed-4213-b10a-155593c459b6",
    "deepnote_cell_type": "code",
    "deepnote_to_be_reexecuted": false,
    "execution_millis": 346,
    "execution_start": 1621419394134,
    "source_hash": "c36692c2",
    "tags": []
   },
   "outputs": [
    {
     "data": {
      "application/vnd.deepnote.dataframe.v2+json": {
       "column_count": 13,
       "columns": [
        {
         "dtype": "float64",
         "name": "id",
         "stats": {
          "histogram": [
           {
            "bin_end": 2204.5,
            "bin_start": 0,
            "count": 1
           },
           {
            "bin_end": 4409,
            "bin_start": 2204.5,
            "count": 0
           },
           {
            "bin_end": 6613.5,
            "bin_start": 4409,
            "count": 2
           },
           {
            "bin_end": 8818,
            "bin_start": 6613.5,
            "count": 1
           },
           {
            "bin_end": 11022.5,
            "bin_start": 8818,
            "count": 2
           },
           {
            "bin_end": 13227,
            "bin_start": 11022.5,
            "count": 0
           },
           {
            "bin_end": 15431.5,
            "bin_start": 13227,
            "count": 0
           },
           {
            "bin_end": 17636,
            "bin_start": 15431.5,
            "count": 1
           },
           {
            "bin_end": 19840.5,
            "bin_start": 17636,
            "count": 0
           },
           {
            "bin_end": 22045,
            "bin_start": 19840.5,
            "count": 1
           }
          ],
          "max": "22045.0",
          "min": "0.0",
          "nan_count": 0,
          "unique_count": 8
         }
        },
        {
         "dtype": "float64",
         "name": "android_sensor_gyroscope_mean",
         "stats": {
          "histogram": [
           {
            "bin_end": 517.3,
            "bin_start": 0,
            "count": 7
           },
           {
            "bin_end": 1034.6,
            "bin_start": 517.3,
            "count": 0
           },
           {
            "bin_end": 1551.8999999999999,
            "bin_start": 1034.6,
            "count": 0
           },
           {
            "bin_end": 2069.2,
            "bin_start": 1551.8999999999999,
            "count": 0
           },
           {
            "bin_end": 2586.5,
            "bin_start": 2069.2,
            "count": 0
           },
           {
            "bin_end": 3103.7999999999997,
            "bin_start": 2586.5,
            "count": 0
           },
           {
            "bin_end": 3621.0999999999995,
            "bin_start": 3103.7999999999997,
            "count": 0
           },
           {
            "bin_end": 4138.4,
            "bin_start": 3621.0999999999995,
            "count": 0
           },
           {
            "bin_end": 4655.7,
            "bin_start": 4138.4,
            "count": 0
           },
           {
            "bin_end": 5173,
            "bin_start": 4655.7,
            "count": 1
           }
          ],
          "max": "5173.0",
          "min": "0.0",
          "nan_count": 0,
          "unique_count": 8
         }
        },
        {
         "dtype": "float64",
         "name": "android_sensor_accelerometer_std",
         "stats": {
          "histogram": [
           {
            "bin_end": 589.30115752884,
            "bin_start": 0.00128614315565,
            "count": 7
           },
           {
            "bin_end": 1178.6010289145242,
            "bin_start": 589.30115752884,
            "count": 0
           },
           {
            "bin_end": 1767.9009003002086,
            "bin_start": 1178.6010289145242,
            "count": 0
           },
           {
            "bin_end": 2357.200771685893,
            "bin_start": 1767.9009003002086,
            "count": 0
           },
           {
            "bin_end": 2946.500643071577,
            "bin_start": 2357.200771685893,
            "count": 0
           },
           {
            "bin_end": 3535.8005144572617,
            "bin_start": 2946.500643071577,
            "count": 0
           },
           {
            "bin_end": 4125.100385842947,
            "bin_start": 3535.8005144572617,
            "count": 0
           },
           {
            "bin_end": 4714.400257228631,
            "bin_start": 4125.100385842947,
            "count": 0
           },
           {
            "bin_end": 5303.700128614315,
            "bin_start": 4714.400257228631,
            "count": 0
           },
           {
            "bin_end": 5893,
            "bin_start": 5303.700128614315,
            "count": 1
           }
          ],
          "max": "5893.0",
          "min": "0.00128614315565",
          "nan_count": 0,
          "unique_count": 8
         }
        },
        {
         "dtype": "float64",
         "name": "android_sensor_gyroscope_std",
         "stats": {
          "histogram": [
           {
            "bin_end": 517.2,
            "bin_start": 0,
            "count": 7
           },
           {
            "bin_end": 1034.4,
            "bin_start": 517.2,
            "count": 0
           },
           {
            "bin_end": 1551.6000000000001,
            "bin_start": 1034.4,
            "count": 0
           },
           {
            "bin_end": 2068.8,
            "bin_start": 1551.6000000000001,
            "count": 0
           },
           {
            "bin_end": 2586,
            "bin_start": 2068.8,
            "count": 0
           },
           {
            "bin_end": 3103.2000000000003,
            "bin_start": 2586,
            "count": 0
           },
           {
            "bin_end": 3620.4000000000005,
            "bin_start": 3103.2000000000003,
            "count": 0
           },
           {
            "bin_end": 4137.6,
            "bin_start": 3620.4000000000005,
            "count": 0
           },
           {
            "bin_end": 4654.8,
            "bin_start": 4137.6,
            "count": 0
           },
           {
            "bin_end": 5172,
            "bin_start": 4654.8,
            "count": 1
           }
          ],
          "max": "5172.0",
          "min": "0.0",
          "nan_count": 0,
          "unique_count": 8
         }
        },
        {
         "dtype": "float64",
         "name": "android_sensor_gyroscope_uncalibrated_mean",
         "stats": {
          "histogram": [
           {
            "bin_end": 509.40104134945886,
            "bin_start": 0.00115705495425,
            "count": 7
           },
           {
            "bin_end": 1018.8009256439634,
            "bin_start": 509.40104134945886,
            "count": 0
           },
           {
            "bin_end": 1528.2008099384682,
            "bin_start": 1018.8009256439634,
            "count": 0
           },
           {
            "bin_end": 2037.6006942329727,
            "bin_start": 1528.2008099384682,
            "count": 0
           },
           {
            "bin_end": 2547.000578527477,
            "bin_start": 2037.6006942329727,
            "count": 0
           },
           {
            "bin_end": 3056.400462821982,
            "bin_start": 2547.000578527477,
            "count": 0
           },
           {
            "bin_end": 3565.800347116486,
            "bin_start": 3056.400462821982,
            "count": 0
           },
           {
            "bin_end": 4075.200231410991,
            "bin_start": 3565.800347116486,
            "count": 0
           },
           {
            "bin_end": 4584.600115705495,
            "bin_start": 4075.200231410991,
            "count": 0
           },
           {
            "bin_end": 5094,
            "bin_start": 4584.600115705495,
            "count": 1
           }
          ],
          "max": "5094.0",
          "min": "0.00115705495425",
          "nan_count": 0,
          "unique_count": 8
         }
        },
        {
         "dtype": "float64",
         "name": "android_sensor_accelerometer_max",
         "stats": {
          "histogram": [
           {
            "bin_end": 593.9605920994463,
            "bin_start": 5.178435666051567,
            "count": 7
           },
           {
            "bin_end": 1182.7427485328412,
            "bin_start": 593.9605920994463,
            "count": 0
           },
           {
            "bin_end": 1771.524904966236,
            "bin_start": 1182.7427485328412,
            "count": 0
           },
           {
            "bin_end": 2360.3070613996306,
            "bin_start": 1771.524904966236,
            "count": 0
           },
           {
            "bin_end": 2949.0892178330255,
            "bin_start": 2360.3070613996306,
            "count": 0
           },
           {
            "bin_end": 3537.87137426642,
            "bin_start": 2949.0892178330255,
            "count": 0
           },
           {
            "bin_end": 4126.653530699816,
            "bin_start": 3537.87137426642,
            "count": 0
           },
           {
            "bin_end": 4715.43568713321,
            "bin_start": 4126.653530699816,
            "count": 0
           },
           {
            "bin_end": 5304.217843566605,
            "bin_start": 4715.43568713321,
            "count": 0
           },
           {
            "bin_end": 5893,
            "bin_start": 5304.217843566605,
            "count": 1
           }
          ],
          "max": "5893.0",
          "min": "5.178435666051567",
          "nan_count": 0,
          "unique_count": 8
         }
        },
        {
         "dtype": "float64",
         "name": "android_sensor_linear_acceleration_mean",
         "stats": {
          "histogram": [
           {
            "bin_end": 539.9007421590126,
            "bin_start": 0.000824621125124,
            "count": 7
           },
           {
            "bin_end": 1079.8006596968999,
            "bin_start": 539.9007421590126,
            "count": 0
           },
           {
            "bin_end": 1619.7005772347873,
            "bin_start": 1079.8006596968999,
            "count": 0
           },
           {
            "bin_end": 2159.6004947726747,
            "bin_start": 1619.7005772347873,
            "count": 0
           },
           {
            "bin_end": 2699.5004123105623,
            "bin_start": 2159.6004947726747,
            "count": 0
           },
           {
            "bin_end": 3239.4003298484495,
            "bin_start": 2699.5004123105623,
            "count": 0
           },
           {
            "bin_end": 3779.3002473863367,
            "bin_start": 3239.4003298484495,
            "count": 0
           },
           {
            "bin_end": 4319.200164924225,
            "bin_start": 3779.3002473863367,
            "count": 0
           },
           {
            "bin_end": 4859.100082462112,
            "bin_start": 4319.200164924225,
            "count": 0
           },
           {
            "bin_end": 5399,
            "bin_start": 4859.100082462112,
            "count": 1
           }
          ],
          "max": "5399.0",
          "min": "0.000824621125124",
          "nan_count": 0,
          "unique_count": 8
         }
        },
        {
         "dtype": "float64",
         "name": "speed_mean",
         "stats": {
          "histogram": [
           {
            "bin_end": 589.4623406798713,
            "bin_start": 0.1803785331903315,
            "count": 7
           },
           {
            "bin_end": 1178.7443028265523,
            "bin_start": 589.4623406798713,
            "count": 0
           },
           {
            "bin_end": 1768.026264973233,
            "bin_start": 1178.7443028265523,
            "count": 0
           },
           {
            "bin_end": 2357.308227119914,
            "bin_start": 1768.026264973233,
            "count": 0
           },
           {
            "bin_end": 2946.590189266595,
            "bin_start": 2357.308227119914,
            "count": 0
           },
           {
            "bin_end": 3535.872151413276,
            "bin_start": 2946.590189266595,
            "count": 0
           },
           {
            "bin_end": 4125.154113559957,
            "bin_start": 3535.872151413276,
            "count": 0
           },
           {
            "bin_end": 4714.436075706638,
            "bin_start": 4125.154113559957,
            "count": 0
           },
           {
            "bin_end": 5303.7180378533185,
            "bin_start": 4714.436075706638,
            "count": 0
           },
           {
            "bin_end": 5893,
            "bin_start": 5303.7180378533185,
            "count": 1
           }
          ],
          "max": "5893.0",
          "min": "0.1803785331903315",
          "nan_count": 0,
          "unique_count": 8
         }
        },
        {
         "dtype": "float64",
         "name": "android_sensor_rotation_vector_mean",
         "stats": {
          "histogram": [
           {
            "bin_end": 517.2183146853803,
            "bin_start": 0.0203496504225,
            "count": 7
           },
           {
            "bin_end": 1034.416279720338,
            "bin_start": 517.2183146853803,
            "count": 0
           },
           {
            "bin_end": 1551.6142447552959,
            "bin_start": 1034.416279720338,
            "count": 0
           },
           {
            "bin_end": 2068.8122097902533,
            "bin_start": 1551.6142447552959,
            "count": 0
           },
           {
            "bin_end": 2586.010174825211,
            "bin_start": 2068.8122097902533,
            "count": 0
           },
           {
            "bin_end": 3103.208139860169,
            "bin_start": 2586.010174825211,
            "count": 0
           },
           {
            "bin_end": 3620.4061048951266,
            "bin_start": 3103.208139860169,
            "count": 0
           },
           {
            "bin_end": 4137.604069930085,
            "bin_start": 3620.4061048951266,
            "count": 0
           },
           {
            "bin_end": 4654.802034965042,
            "bin_start": 4137.604069930085,
            "count": 0
           },
           {
            "bin_end": 5172,
            "bin_start": 4654.802034965042,
            "count": 1
           }
          ],
          "max": "5172.0",
          "min": "0.0203496504225",
          "nan_count": 0,
          "unique_count": 8
         }
        },
        {
         "dtype": "float64",
         "name": "android_sensor_rotation_vector_max",
         "stats": {
          "histogram": [
           {
            "bin_end": 517.2279650557917,
            "bin_start": 0.0310722842131,
            "count": 7
           },
           {
            "bin_end": 1034.4248578273703,
            "bin_start": 517.2279650557917,
            "count": 0
           },
           {
            "bin_end": 1551.621750598949,
            "bin_start": 1034.4248578273703,
            "count": 0
           },
           {
            "bin_end": 2068.8186433705278,
            "bin_start": 1551.621750598949,
            "count": 0
           },
           {
            "bin_end": 2586.0155361421066,
            "bin_start": 2068.8186433705278,
            "count": 0
           },
           {
            "bin_end": 3103.212428913685,
            "bin_start": 2586.0155361421066,
            "count": 0
           },
           {
            "bin_end": 3620.4093216852634,
            "bin_start": 3103.212428913685,
            "count": 0
           },
           {
            "bin_end": 4137.606214456842,
            "bin_start": 3620.4093216852634,
            "count": 0
           },
           {
            "bin_end": 4654.803107228421,
            "bin_start": 4137.606214456842,
            "count": 0
           },
           {
            "bin_end": 5172,
            "bin_start": 4654.803107228421,
            "count": 1
           }
          ],
          "max": "5172.0",
          "min": "0.0310722842131",
          "nan_count": 0,
          "unique_count": 8
         }
        },
        {
         "dtype": "float64",
         "name": "android_sensor_accelerometer_min",
         "stats": {
          "histogram": [
           {
            "bin_end": 589.603449556222,
            "bin_start": 0.33716617358,
            "count": 7
           },
           {
            "bin_end": 1178.869732938864,
            "bin_start": 589.603449556222,
            "count": 0
           },
           {
            "bin_end": 1768.1360163215058,
            "bin_start": 1178.869732938864,
            "count": 0
           },
           {
            "bin_end": 2357.402299704148,
            "bin_start": 1768.1360163215058,
            "count": 0
           },
           {
            "bin_end": 2946.66858308679,
            "bin_start": 2357.402299704148,
            "count": 0
           },
           {
            "bin_end": 3535.9348664694317,
            "bin_start": 2946.66858308679,
            "count": 0
           },
           {
            "bin_end": 4125.201149852074,
            "bin_start": 3535.9348664694317,
            "count": 0
           },
           {
            "bin_end": 4714.467433234716,
            "bin_start": 4125.201149852074,
            "count": 0
           },
           {
            "bin_end": 5303.7337166173575,
            "bin_start": 4714.467433234716,
            "count": 0
           },
           {
            "bin_end": 5893,
            "bin_start": 5303.7337166173575,
            "count": 1
           }
          ],
          "max": "5893.0",
          "min": "0.33716617358",
          "nan_count": 0,
          "unique_count": 8
         }
        },
        {
         "dtype": "float64",
         "name": "android_sensor_magnetic_field_uncalibrated_min",
         "stats": {
          "histogram": [
           {
            "bin_end": 524.0005419402,
            "bin_start": 16.222824378,
            "count": 6
           },
           {
            "bin_end": 1031.7782595024,
            "bin_start": 524.0005419402,
            "count": 1
           },
           {
            "bin_end": 1539.5559770646,
            "bin_start": 1031.7782595024,
            "count": 0
           },
           {
            "bin_end": 2047.3336946268,
            "bin_start": 1539.5559770646,
            "count": 0
           },
           {
            "bin_end": 2555.111412189,
            "bin_start": 2047.3336946268,
            "count": 0
           },
           {
            "bin_end": 3062.8891297512,
            "bin_start": 2555.111412189,
            "count": 0
           },
           {
            "bin_end": 3570.6668473134,
            "bin_start": 3062.8891297512,
            "count": 0
           },
           {
            "bin_end": 4078.4445648756,
            "bin_start": 3570.6668473134,
            "count": 0
           },
           {
            "bin_end": 4586.2222824378,
            "bin_start": 4078.4445648756,
            "count": 0
           },
           {
            "bin_end": 5094,
            "bin_start": 4586.2222824378,
            "count": 1
           }
          ],
          "max": "5094.0",
          "min": "16.222824378",
          "nan_count": 0,
          "unique_count": 8
         }
        },
        {
         "dtype": "float64",
         "name": "sound_min",
         "stats": {
          "histogram": [
           {
            "bin_end": 489.9,
            "bin_start": 0,
            "count": 7
           },
           {
            "bin_end": 979.8,
            "bin_start": 489.9,
            "count": 0
           },
           {
            "bin_end": 1469.6999999999998,
            "bin_start": 979.8,
            "count": 0
           },
           {
            "bin_end": 1959.6,
            "bin_start": 1469.6999999999998,
            "count": 0
           },
           {
            "bin_end": 2449.5,
            "bin_start": 1959.6,
            "count": 0
           },
           {
            "bin_end": 2939.3999999999996,
            "bin_start": 2449.5,
            "count": 0
           },
           {
            "bin_end": 3429.2999999999997,
            "bin_start": 2939.3999999999996,
            "count": 0
           },
           {
            "bin_end": 3919.2,
            "bin_start": 3429.2999999999997,
            "count": 0
           },
           {
            "bin_end": 4409.099999999999,
            "bin_start": 3919.2,
            "count": 0
           },
           {
            "bin_end": 4899,
            "bin_start": 4409.099999999999,
            "count": 1
           }
          ],
          "max": "4899.0",
          "min": "0.0",
          "nan_count": 0,
          "unique_count": 8
         }
        },
        {
         "dtype": "object",
         "name": "_deepnote_index_column"
        }
       ],
       "row_count": 8,
       "rows_bottom": null,
       "rows_top": [
        {
         "_deepnote_index_column": "count",
         "android_sensor_accelerometer_max": 5893,
         "android_sensor_accelerometer_min": 5893,
         "android_sensor_accelerometer_std": 5893,
         "android_sensor_gyroscope_mean": 5173,
         "android_sensor_gyroscope_std": 5172,
         "android_sensor_gyroscope_uncalibrated_mean": 5094,
         "android_sensor_linear_acceleration_mean": 5399,
         "android_sensor_magnetic_field_uncalibrated_min": 5094,
         "android_sensor_rotation_vector_max": 5172,
         "android_sensor_rotation_vector_mean": 5172,
         "id": 5893,
         "sound_min": 4899,
         "speed_mean": 5893
        },
        {
         "_deepnote_index_column": "mean",
         "android_sensor_accelerometer_max": 12.247691241151308,
         "android_sensor_accelerometer_min": 8.426262092182213,
         "android_sensor_accelerometer_std": 0.9829867120540425,
         "android_sensor_gyroscope_mean": 0.31253628332942285,
         "android_sensor_gyroscope_std": 0.18990341907290723,
         "android_sensor_gyroscope_uncalibrated_mean": 0.31280685696353117,
         "android_sensor_linear_acceleration_mean": 1.315970583117608,
         "android_sensor_magnetic_field_uncalibrated_min": 136.95589564081374,
         "android_sensor_rotation_vector_max": 0.77899965329584,
         "android_sensor_rotation_vector_mean": 0.7659315870899981,
         "id": 10685.407262854234,
         "sound_min": 78.45165828874045,
         "speed_mean": 11.219236153432245
        },
        {
         "_deepnote_index_column": "std",
         "android_sensor_accelerometer_max": 5.178435666051567,
         "android_sensor_accelerometer_min": 1.7830070294838105,
         "android_sensor_accelerometer_std": 1.505614772237705,
         "android_sensor_gyroscope_mean": 0.5545853952639238,
         "android_sensor_gyroscope_std": 0.34290108666247626,
         "android_sensor_gyroscope_uncalibrated_mean": 0.5379246566688233,
         "android_sensor_linear_acceleration_mean": 2.065444145647968,
         "android_sensor_magnetic_field_uncalibrated_min": 70.76499200604277,
         "android_sensor_rotation_vector_max": 0.2628807411805591,
         "android_sensor_rotation_vector_mean": 0.2633926241346347,
         "id": 6921.229832934336,
         "sound_min": 14.26291231312708,
         "speed_mean": 12.827053060715528
        },
        {
         "_deepnote_index_column": "min",
         "android_sensor_accelerometer_max": 8.80101887039,
         "android_sensor_accelerometer_min": 0.33716617358,
         "android_sensor_accelerometer_std": 0.00128614315565,
         "android_sensor_gyroscope_mean": 0,
         "android_sensor_gyroscope_std": 0,
         "android_sensor_gyroscope_uncalibrated_mean": 0.00115705495425,
         "android_sensor_linear_acceleration_mean": 0.000824621125124,
         "android_sensor_magnetic_field_uncalibrated_min": 16.222824378,
         "android_sensor_rotation_vector_max": 0.0310722842131,
         "android_sensor_rotation_vector_mean": 0.0203496504225,
         "id": 0,
         "sound_min": 0,
         "speed_mean": 0.1803785331903315
        },
        {
         "_deepnote_index_column": "25%",
         "android_sensor_accelerometer_max": 10.0155664108,
         "android_sensor_accelerometer_min": 7.80529491413,
         "android_sensor_accelerometer_std": 0.0780548606047,
         "android_sensor_gyroscope_mean": 0.015823955936,
         "android_sensor_gyroscope_std": 0.0075520377537975,
         "android_sensor_gyroscope_uncalibrated_mean": 0.038872602883299995,
         "android_sensor_linear_acceleration_mean": 0.101898258454,
         "android_sensor_magnetic_field_uncalibrated_min": 86.491724203125,
         "android_sensor_rotation_vector_max": 0.6661050350337501,
         "android_sensor_rotation_vector_mean": 0.651735059317,
         "id": 4502,
         "sound_min": 72.23339899195,
         "speed_mean": 1.1202056532480036
        },
        {
         "_deepnote_index_column": "50%",
         "android_sensor_accelerometer_max": 10.6020812187,
         "android_sensor_accelerometer_min": 9.12312384027,
         "android_sensor_accelerometer_std": 0.369163322387,
         "android_sensor_gyroscope_mean": 0.0533659932669,
         "android_sensor_gyroscope_std": 0.028407765068000003,
         "android_sensor_gyroscope_uncalibrated_mean": 0.0608950914993,
         "android_sensor_linear_acceleration_mean": 0.471369557719,
         "android_sensor_magnetic_field_uncalibrated_min": 134.1981302005,
         "android_sensor_rotation_vector_max": 0.9047355955709999,
         "android_sensor_rotation_vector_mean": 0.880361441911,
         "id": 10959,
         "sound_min": 83.8597075819,
         "speed_mean": 5.368553579536653
        },
        {
         "_deepnote_index_column": "75%",
         "android_sensor_accelerometer_max": 12.2915753577,
         "android_sensor_accelerometer_min": 9.69173082456,
         "android_sensor_accelerometer_std": 1.05837600859,
         "android_sensor_gyroscope_mean": 0.256314926915,
         "android_sensor_gyroscope_std": 0.17716351922,
         "android_sensor_gyroscope_uncalibrated_mean": 0.256837798369,
         "android_sensor_linear_acceleration_mean": 1.3889895667049998,
         "android_sensor_magnetic_field_uncalibrated_min": 160.1692314185,
         "android_sensor_rotation_vector_max": 0.9823423519707501,
         "android_sensor_rotation_vector_mean": 0.9723329635690001,
         "id": 17049,
         "sound_min": 89.7433333471,
         "speed_mean": 14.679876452262643
        },
        {
         "_deepnote_index_column": "max",
         "android_sensor_accelerometer_max": 66.8863758417,
         "android_sensor_accelerometer_min": 12.1150128555,
         "android_sensor_accelerometer_std": 12.8798505901,
         "android_sensor_gyroscope_mean": 5.66215327195,
         "android_sensor_gyroscope_std": 4.98089199121,
         "android_sensor_gyroscope_uncalibrated_mean": 3.86319387457,
         "android_sensor_linear_acceleration_mean": 23.1108418208,
         "android_sensor_magnetic_field_uncalibrated_min": 527.049731999,
         "android_sensor_rotation_vector_max": 0.999999999979,
         "android_sensor_rotation_vector_mean": 0.999999593198,
         "id": 22045,
         "sound_min": 90.3087336228,
         "speed_mean": 34.72213738533318
        }
       ]
      },
      "text/html": [
       "<div>\n",
       "<style scoped>\n",
       "    .dataframe tbody tr th:only-of-type {\n",
       "        vertical-align: middle;\n",
       "    }\n",
       "\n",
       "    .dataframe tbody tr th {\n",
       "        vertical-align: top;\n",
       "    }\n",
       "\n",
       "    .dataframe thead th {\n",
       "        text-align: right;\n",
       "    }\n",
       "</style>\n",
       "<table border=\"1\" class=\"dataframe\">\n",
       "  <thead>\n",
       "    <tr style=\"text-align: right;\">\n",
       "      <th></th>\n",
       "      <th>id</th>\n",
       "      <th>android_sensor_gyroscope_mean</th>\n",
       "      <th>android_sensor_accelerometer_std</th>\n",
       "      <th>android_sensor_gyroscope_std</th>\n",
       "      <th>android_sensor_gyroscope_uncalibrated_mean</th>\n",
       "      <th>android_sensor_accelerometer_max</th>\n",
       "      <th>android_sensor_linear_acceleration_mean</th>\n",
       "      <th>speed_mean</th>\n",
       "      <th>android_sensor_rotation_vector_mean</th>\n",
       "      <th>android_sensor_rotation_vector_max</th>\n",
       "      <th>android_sensor_accelerometer_min</th>\n",
       "      <th>android_sensor_magnetic_field_uncalibrated_min</th>\n",
       "      <th>sound_min</th>\n",
       "    </tr>\n",
       "  </thead>\n",
       "  <tbody>\n",
       "    <tr>\n",
       "      <th>count</th>\n",
       "      <td>5893.000000</td>\n",
       "      <td>5173.000000</td>\n",
       "      <td>5893.000000</td>\n",
       "      <td>5172.000000</td>\n",
       "      <td>5094.000000</td>\n",
       "      <td>5893.000000</td>\n",
       "      <td>5399.000000</td>\n",
       "      <td>5893.000000</td>\n",
       "      <td>5172.000000</td>\n",
       "      <td>5172.000000</td>\n",
       "      <td>5893.000000</td>\n",
       "      <td>5094.000000</td>\n",
       "      <td>4899.000000</td>\n",
       "    </tr>\n",
       "    <tr>\n",
       "      <th>mean</th>\n",
       "      <td>10685.407263</td>\n",
       "      <td>0.312536</td>\n",
       "      <td>0.982987</td>\n",
       "      <td>0.189903</td>\n",
       "      <td>0.312807</td>\n",
       "      <td>12.247691</td>\n",
       "      <td>1.315971</td>\n",
       "      <td>11.219236</td>\n",
       "      <td>0.765932</td>\n",
       "      <td>0.779000</td>\n",
       "      <td>8.426262</td>\n",
       "      <td>136.955896</td>\n",
       "      <td>78.451658</td>\n",
       "    </tr>\n",
       "    <tr>\n",
       "      <th>std</th>\n",
       "      <td>6921.229833</td>\n",
       "      <td>0.554585</td>\n",
       "      <td>1.505615</td>\n",
       "      <td>0.342901</td>\n",
       "      <td>0.537925</td>\n",
       "      <td>5.178436</td>\n",
       "      <td>2.065444</td>\n",
       "      <td>12.827053</td>\n",
       "      <td>0.263393</td>\n",
       "      <td>0.262881</td>\n",
       "      <td>1.783007</td>\n",
       "      <td>70.764992</td>\n",
       "      <td>14.262912</td>\n",
       "    </tr>\n",
       "    <tr>\n",
       "      <th>min</th>\n",
       "      <td>0.000000</td>\n",
       "      <td>0.000000</td>\n",
       "      <td>0.001286</td>\n",
       "      <td>0.000000</td>\n",
       "      <td>0.001157</td>\n",
       "      <td>8.801019</td>\n",
       "      <td>0.000825</td>\n",
       "      <td>0.180379</td>\n",
       "      <td>0.020350</td>\n",
       "      <td>0.031072</td>\n",
       "      <td>0.337166</td>\n",
       "      <td>16.222824</td>\n",
       "      <td>0.000000</td>\n",
       "    </tr>\n",
       "    <tr>\n",
       "      <th>25%</th>\n",
       "      <td>4502.000000</td>\n",
       "      <td>0.015824</td>\n",
       "      <td>0.078055</td>\n",
       "      <td>0.007552</td>\n",
       "      <td>0.038873</td>\n",
       "      <td>10.015566</td>\n",
       "      <td>0.101898</td>\n",
       "      <td>1.120206</td>\n",
       "      <td>0.651735</td>\n",
       "      <td>0.666105</td>\n",
       "      <td>7.805295</td>\n",
       "      <td>86.491724</td>\n",
       "      <td>72.233399</td>\n",
       "    </tr>\n",
       "    <tr>\n",
       "      <th>50%</th>\n",
       "      <td>10959.000000</td>\n",
       "      <td>0.053366</td>\n",
       "      <td>0.369163</td>\n",
       "      <td>0.028408</td>\n",
       "      <td>0.060895</td>\n",
       "      <td>10.602081</td>\n",
       "      <td>0.471370</td>\n",
       "      <td>5.368554</td>\n",
       "      <td>0.880361</td>\n",
       "      <td>0.904736</td>\n",
       "      <td>9.123124</td>\n",
       "      <td>134.198130</td>\n",
       "      <td>83.859708</td>\n",
       "    </tr>\n",
       "    <tr>\n",
       "      <th>75%</th>\n",
       "      <td>17049.000000</td>\n",
       "      <td>0.256315</td>\n",
       "      <td>1.058376</td>\n",
       "      <td>0.177164</td>\n",
       "      <td>0.256838</td>\n",
       "      <td>12.291575</td>\n",
       "      <td>1.388990</td>\n",
       "      <td>14.679876</td>\n",
       "      <td>0.972333</td>\n",
       "      <td>0.982342</td>\n",
       "      <td>9.691731</td>\n",
       "      <td>160.169231</td>\n",
       "      <td>89.743333</td>\n",
       "    </tr>\n",
       "    <tr>\n",
       "      <th>max</th>\n",
       "      <td>22045.000000</td>\n",
       "      <td>5.662153</td>\n",
       "      <td>12.879851</td>\n",
       "      <td>4.980892</td>\n",
       "      <td>3.863194</td>\n",
       "      <td>66.886376</td>\n",
       "      <td>23.110842</td>\n",
       "      <td>34.722137</td>\n",
       "      <td>1.000000</td>\n",
       "      <td>1.000000</td>\n",
       "      <td>12.115013</td>\n",
       "      <td>527.049732</td>\n",
       "      <td>90.308734</td>\n",
       "    </tr>\n",
       "  </tbody>\n",
       "</table>\n",
       "</div>"
      ],
      "text/plain": [
       "                 id  android_sensor_gyroscope_mean  \\\n",
       "count   5893.000000                    5173.000000   \n",
       "mean   10685.407263                       0.312536   \n",
       "std     6921.229833                       0.554585   \n",
       "min        0.000000                       0.000000   \n",
       "25%     4502.000000                       0.015824   \n",
       "50%    10959.000000                       0.053366   \n",
       "75%    17049.000000                       0.256315   \n",
       "max    22045.000000                       5.662153   \n",
       "\n",
       "       android_sensor_accelerometer_std  android_sensor_gyroscope_std  \\\n",
       "count                       5893.000000                   5172.000000   \n",
       "mean                           0.982987                      0.189903   \n",
       "std                            1.505615                      0.342901   \n",
       "min                            0.001286                      0.000000   \n",
       "25%                            0.078055                      0.007552   \n",
       "50%                            0.369163                      0.028408   \n",
       "75%                            1.058376                      0.177164   \n",
       "max                           12.879851                      4.980892   \n",
       "\n",
       "       android_sensor_gyroscope_uncalibrated_mean  \\\n",
       "count                                 5094.000000   \n",
       "mean                                     0.312807   \n",
       "std                                      0.537925   \n",
       "min                                      0.001157   \n",
       "25%                                      0.038873   \n",
       "50%                                      0.060895   \n",
       "75%                                      0.256838   \n",
       "max                                      3.863194   \n",
       "\n",
       "       android_sensor_accelerometer_max  \\\n",
       "count                       5893.000000   \n",
       "mean                          12.247691   \n",
       "std                            5.178436   \n",
       "min                            8.801019   \n",
       "25%                           10.015566   \n",
       "50%                           10.602081   \n",
       "75%                           12.291575   \n",
       "max                           66.886376   \n",
       "\n",
       "       android_sensor_linear_acceleration_mean   speed_mean  \\\n",
       "count                              5399.000000  5893.000000   \n",
       "mean                                  1.315971    11.219236   \n",
       "std                                   2.065444    12.827053   \n",
       "min                                   0.000825     0.180379   \n",
       "25%                                   0.101898     1.120206   \n",
       "50%                                   0.471370     5.368554   \n",
       "75%                                   1.388990    14.679876   \n",
       "max                                  23.110842    34.722137   \n",
       "\n",
       "       android_sensor_rotation_vector_mean  \\\n",
       "count                          5172.000000   \n",
       "mean                              0.765932   \n",
       "std                               0.263393   \n",
       "min                               0.020350   \n",
       "25%                               0.651735   \n",
       "50%                               0.880361   \n",
       "75%                               0.972333   \n",
       "max                               1.000000   \n",
       "\n",
       "       android_sensor_rotation_vector_max  android_sensor_accelerometer_min  \\\n",
       "count                         5172.000000                       5893.000000   \n",
       "mean                             0.779000                          8.426262   \n",
       "std                              0.262881                          1.783007   \n",
       "min                              0.031072                          0.337166   \n",
       "25%                              0.666105                          7.805295   \n",
       "50%                              0.904736                          9.123124   \n",
       "75%                              0.982342                          9.691731   \n",
       "max                              1.000000                         12.115013   \n",
       "\n",
       "       android_sensor_magnetic_field_uncalibrated_min    sound_min  \n",
       "count                                     5094.000000  4899.000000  \n",
       "mean                                       136.955896    78.451658  \n",
       "std                                         70.764992    14.262912  \n",
       "min                                         16.222824     0.000000  \n",
       "25%                                         86.491724    72.233399  \n",
       "50%                                        134.198130    83.859708  \n",
       "75%                                        160.169231    89.743333  \n",
       "max                                        527.049732    90.308734  "
      ]
     },
     "execution_count": 5,
     "metadata": {},
     "output_type": "execute_result"
    }
   ],
   "source": [
    "#General overview of the statistical distribution of our data\n",
    "df.describe()"
   ]
  },
  {
   "cell_type": "code",
   "execution_count": 6,
   "metadata": {
    "cell_id": "00004-bf0a5597-e808-46bf-ab85-55b1cc701e09",
    "deepnote_cell_type": "code",
    "deepnote_to_be_reexecuted": false,
    "execution_millis": 15,
    "execution_start": 1621419395913,
    "source_hash": "835893fd",
    "tags": []
   },
   "outputs": [
    {
     "data": {
      "text/plain": [
       "Index(['id', 'user', 'android_sensor_gyroscope_mean',\n",
       "       'android_sensor_accelerometer_std', 'android_sensor_gyroscope_std',\n",
       "       'android_sensor_gyroscope_uncalibrated_mean',\n",
       "       'android_sensor_accelerometer_max',\n",
       "       'android_sensor_linear_acceleration_mean', 'speed_mean',\n",
       "       'android_sensor_rotation_vector_mean',\n",
       "       'android_sensor_rotation_vector_max',\n",
       "       'android_sensor_accelerometer_min',\n",
       "       'android_sensor_magnetic_field_uncalibrated_min', 'sound_min',\n",
       "       'target'],\n",
       "      dtype='object')"
      ]
     },
     "execution_count": 6,
     "metadata": {},
     "output_type": "execute_result"
    }
   ],
   "source": [
    "#what features do we have?\n",
    "df.columns"
   ]
  },
  {
   "cell_type": "code",
   "execution_count": 7,
   "metadata": {
    "cell_id": "00002-06499f19-3201-4f6e-8cbe-121231b36979",
    "deepnote_cell_type": "code",
    "deepnote_to_be_reexecuted": false,
    "execution_millis": 72,
    "execution_start": 1621419398125,
    "source_hash": "3106afbb",
    "tags": []
   },
   "outputs": [
    {
     "data": {
      "application/vnd.deepnote.dataframe.v2+json": {
       "column_count": 3,
       "columns": [
        {
         "dtype": "object",
         "name": 2936,
         "stats": {
          "categories": [
           {
            "count": 2,
            "name": "0.2784283591"
           },
           {
            "count": 1,
            "name": "17695"
           },
           {
            "count": 12,
            "name": "12 others"
           }
          ],
          "nan_count": 0,
          "unique_count": 14
         }
        },
        {
         "dtype": "object",
         "name": 3926,
         "stats": {
          "categories": [
           {
            "count": 2,
            "name": "0.709050206287"
           },
           {
            "count": 1,
            "name": "12145"
           },
           {
            "count": 12,
            "name": "12 others"
           }
          ],
          "nan_count": 0,
          "unique_count": 14
         }
        },
        {
         "dtype": "object",
         "name": 1548,
         "stats": {
          "categories": [
           {
            "count": 1,
            "name": "3327"
           },
           {
            "count": 1,
            "name": "andrea"
           },
           {
            "count": 13,
            "name": "13 others"
           }
          ],
          "nan_count": 0,
          "unique_count": 15
         }
        },
        {
         "dtype": "object",
         "name": "_deepnote_index_column"
        }
       ],
       "row_count": 15,
       "rows_bottom": null,
       "rows_top": [
        {
         "1548": "3327",
         "2936": "17695",
         "3926": "12145",
         "_deepnote_index_column": "id"
        },
        {
         "1548": "andrea",
         "2936": "Luca",
         "3926": "Damiano",
         "_deepnote_index_column": "user"
        },
        {
         "1548": "0.00620249769337",
         "2936": "0.0187967771902",
         "3926": "0.0167016244619",
         "_deepnote_index_column": "android_sensor_gyroscope_mean"
        },
        {
         "1548": "0.0124871036939",
         "2936": "0.115944348671",
         "3926": "0.0519604755107",
         "_deepnote_index_column": "android_sensor_accelerometer_std"
        },
        {
         "1548": "0.00413036103543",
         "2936": "0.00992998154772",
         "3926": "0.00135867525466",
         "_deepnote_index_column": "android_sensor_gyroscope_std"
        },
        {
         "1548": "0.0376937252844",
         "2936": "0.0244668373423",
         "3926": "0.0547059824263",
         "_deepnote_index_column": "android_sensor_gyroscope_uncalibrated_mean"
        },
        {
         "1548": "10.2230187626",
         "2936": "10.0917946694",
         "3926": "9.95877807704",
         "_deepnote_index_column": "android_sensor_accelerometer_max"
        },
        {
         "1548": "0.016696556492",
         "2936": "0.117770930874",
         "3926": "0.120590334122",
         "_deepnote_index_column": "android_sensor_linear_acceleration_mean"
        },
        {
         "1548": "0.1803785331903315",
         "2936": "34.72213738533318",
         "3926": "0.1803785331903315",
         "_deepnote_index_column": "speed_mean"
        },
        {
         "1548": "0.993905382397",
         "2936": "0.2784283591",
         "3926": "0.709050206287",
         "_deepnote_index_column": "android_sensor_rotation_vector_mean"
        },
        {
         "1548": "0.994024899914",
         "2936": "0.2784283591",
         "3926": "0.709050206287",
         "_deepnote_index_column": "android_sensor_rotation_vector_max"
        },
        {
         "1548": "10.1707528975",
         "2936": "9.63369872486",
         "3926": "9.75775588356",
         "_deepnote_index_column": "android_sensor_accelerometer_min"
        },
        {
         "1548": "98.3221778797",
         "2936": "64.0210125631",
         "3926": "242.905090133",
         "_deepnote_index_column": "android_sensor_magnetic_field_uncalibrated_min"
        },
        {
         "1548": "54.2192623799",
         "2936": "83.247105471",
         "3926": "65.6976342931",
         "_deepnote_index_column": "sound_min"
        },
        {
         "1548": "Still",
         "2936": "Train",
         "3926": "Still",
         "_deepnote_index_column": "target"
        }
       ]
      },
      "text/html": [
       "<div>\n",
       "<style scoped>\n",
       "    .dataframe tbody tr th:only-of-type {\n",
       "        vertical-align: middle;\n",
       "    }\n",
       "\n",
       "    .dataframe tbody tr th {\n",
       "        vertical-align: top;\n",
       "    }\n",
       "\n",
       "    .dataframe thead th {\n",
       "        text-align: right;\n",
       "    }\n",
       "</style>\n",
       "<table border=\"1\" class=\"dataframe\">\n",
       "  <thead>\n",
       "    <tr style=\"text-align: right;\">\n",
       "      <th></th>\n",
       "      <th>2936</th>\n",
       "      <th>3926</th>\n",
       "      <th>1548</th>\n",
       "    </tr>\n",
       "  </thead>\n",
       "  <tbody>\n",
       "    <tr>\n",
       "      <th>id</th>\n",
       "      <td>17695</td>\n",
       "      <td>12145</td>\n",
       "      <td>3327</td>\n",
       "    </tr>\n",
       "    <tr>\n",
       "      <th>user</th>\n",
       "      <td>Luca</td>\n",
       "      <td>Damiano</td>\n",
       "      <td>andrea</td>\n",
       "    </tr>\n",
       "    <tr>\n",
       "      <th>android_sensor_gyroscope_mean</th>\n",
       "      <td>0.018797</td>\n",
       "      <td>0.016702</td>\n",
       "      <td>0.006202</td>\n",
       "    </tr>\n",
       "    <tr>\n",
       "      <th>android_sensor_accelerometer_std</th>\n",
       "      <td>0.115944</td>\n",
       "      <td>0.05196</td>\n",
       "      <td>0.012487</td>\n",
       "    </tr>\n",
       "    <tr>\n",
       "      <th>android_sensor_gyroscope_std</th>\n",
       "      <td>0.00993</td>\n",
       "      <td>0.001359</td>\n",
       "      <td>0.00413</td>\n",
       "    </tr>\n",
       "    <tr>\n",
       "      <th>android_sensor_gyroscope_uncalibrated_mean</th>\n",
       "      <td>0.024467</td>\n",
       "      <td>0.054706</td>\n",
       "      <td>0.037694</td>\n",
       "    </tr>\n",
       "    <tr>\n",
       "      <th>android_sensor_accelerometer_max</th>\n",
       "      <td>10.091795</td>\n",
       "      <td>9.958778</td>\n",
       "      <td>10.223019</td>\n",
       "    </tr>\n",
       "    <tr>\n",
       "      <th>android_sensor_linear_acceleration_mean</th>\n",
       "      <td>0.117771</td>\n",
       "      <td>0.12059</td>\n",
       "      <td>0.016697</td>\n",
       "    </tr>\n",
       "    <tr>\n",
       "      <th>speed_mean</th>\n",
       "      <td>34.722137</td>\n",
       "      <td>0.180379</td>\n",
       "      <td>0.180379</td>\n",
       "    </tr>\n",
       "    <tr>\n",
       "      <th>android_sensor_rotation_vector_mean</th>\n",
       "      <td>0.278428</td>\n",
       "      <td>0.70905</td>\n",
       "      <td>0.993905</td>\n",
       "    </tr>\n",
       "    <tr>\n",
       "      <th>android_sensor_rotation_vector_max</th>\n",
       "      <td>0.278428</td>\n",
       "      <td>0.70905</td>\n",
       "      <td>0.994025</td>\n",
       "    </tr>\n",
       "    <tr>\n",
       "      <th>android_sensor_accelerometer_min</th>\n",
       "      <td>9.633699</td>\n",
       "      <td>9.757756</td>\n",
       "      <td>10.170753</td>\n",
       "    </tr>\n",
       "    <tr>\n",
       "      <th>android_sensor_magnetic_field_uncalibrated_min</th>\n",
       "      <td>64.021013</td>\n",
       "      <td>242.90509</td>\n",
       "      <td>98.322178</td>\n",
       "    </tr>\n",
       "    <tr>\n",
       "      <th>sound_min</th>\n",
       "      <td>83.247105</td>\n",
       "      <td>65.697634</td>\n",
       "      <td>54.219262</td>\n",
       "    </tr>\n",
       "    <tr>\n",
       "      <th>target</th>\n",
       "      <td>Train</td>\n",
       "      <td>Still</td>\n",
       "      <td>Still</td>\n",
       "    </tr>\n",
       "  </tbody>\n",
       "</table>\n",
       "</div>"
      ],
      "text/plain": [
       "                                                     2936       3926  \\\n",
       "id                                                  17695      12145   \n",
       "user                                                 Luca    Damiano   \n",
       "android_sensor_gyroscope_mean                    0.018797   0.016702   \n",
       "android_sensor_accelerometer_std                 0.115944    0.05196   \n",
       "android_sensor_gyroscope_std                      0.00993   0.001359   \n",
       "android_sensor_gyroscope_uncalibrated_mean       0.024467   0.054706   \n",
       "android_sensor_accelerometer_max                10.091795   9.958778   \n",
       "android_sensor_linear_acceleration_mean          0.117771    0.12059   \n",
       "speed_mean                                      34.722137   0.180379   \n",
       "android_sensor_rotation_vector_mean              0.278428    0.70905   \n",
       "android_sensor_rotation_vector_max               0.278428    0.70905   \n",
       "android_sensor_accelerometer_min                 9.633699   9.757756   \n",
       "android_sensor_magnetic_field_uncalibrated_min  64.021013  242.90509   \n",
       "sound_min                                       83.247105  65.697634   \n",
       "target                                              Train      Still   \n",
       "\n",
       "                                                     1548  \n",
       "id                                                   3327  \n",
       "user                                               andrea  \n",
       "android_sensor_gyroscope_mean                    0.006202  \n",
       "android_sensor_accelerometer_std                 0.012487  \n",
       "android_sensor_gyroscope_std                      0.00413  \n",
       "android_sensor_gyroscope_uncalibrated_mean       0.037694  \n",
       "android_sensor_accelerometer_max                10.223019  \n",
       "android_sensor_linear_acceleration_mean          0.016697  \n",
       "speed_mean                                       0.180379  \n",
       "android_sensor_rotation_vector_mean              0.993905  \n",
       "android_sensor_rotation_vector_max               0.994025  \n",
       "android_sensor_accelerometer_min                10.170753  \n",
       "android_sensor_magnetic_field_uncalibrated_min  98.322178  \n",
       "sound_min                                       54.219262  \n",
       "target                                              Still  "
      ]
     },
     "execution_count": 7,
     "metadata": {},
     "output_type": "execute_result"
    }
   ],
   "source": [
    "#preview of what the fitness data looks like for each user \n",
    "df.sample(3).T"
   ]
  },
  {
   "cell_type": "code",
   "execution_count": 8,
   "metadata": {
    "cell_id": "00003-ccc0bc16-4c53-4246-ac9f-23f6c446c4e1",
    "deepnote_cell_type": "code",
    "deepnote_to_be_reexecuted": false,
    "execution_millis": 24,
    "execution_start": 1621419400181,
    "source_hash": "1793bd7a",
    "tags": []
   },
   "outputs": [
    {
     "data": {
      "text/plain": [
       "sound_min                                         994\n",
       "android_sensor_gyroscope_uncalibrated_mean        799\n",
       "android_sensor_magnetic_field_uncalibrated_min    799\n",
       "android_sensor_gyroscope_std                      721\n",
       "android_sensor_rotation_vector_mean               721\n",
       "android_sensor_rotation_vector_max                721\n",
       "android_sensor_gyroscope_mean                     720\n",
       "android_sensor_linear_acceleration_mean           494\n",
       "id                                                  0\n",
       "user                                                0\n",
       "android_sensor_accelerometer_std                    0\n",
       "android_sensor_accelerometer_max                    0\n",
       "speed_mean                                          0\n",
       "android_sensor_accelerometer_min                    0\n",
       "target                                              0\n",
       "dtype: int64"
      ]
     },
     "execution_count": 8,
     "metadata": {},
     "output_type": "execute_result"
    }
   ],
   "source": [
    "# How much of your data is missing?\n",
    "df.isnull().sum().sort_values(ascending = False)"
   ]
  },
  {
   "cell_type": "code",
   "execution_count": 22,
   "metadata": {
    "cell_id": "00009-3de4e229-d780-4a46-8af6-44f5e129baf6",
    "deepnote_cell_type": "code",
    "deepnote_to_be_reexecuted": false,
    "execution_millis": 21,
    "execution_start": 1621435121329,
    "source_hash": "4cd2d052",
    "tags": []
   },
   "outputs": [
    {
     "data": {
      "text/plain": [
       "0        0.180379\n",
       "1       14.679876\n",
       "2        0.180379\n",
       "3       14.679876\n",
       "4       14.679876\n",
       "          ...    \n",
       "5888     1.120206\n",
       "5889    34.722137\n",
       "5890     0.180379\n",
       "5891     0.180379\n",
       "5892     1.120206\n",
       "Name: speed_mean, Length: 5893, dtype: float64"
      ]
     },
     "execution_count": 22,
     "metadata": {},
     "output_type": "execute_result"
    }
   ],
   "source": [
    "df.speed_mean"
   ]
  },
  {
   "cell_type": "code",
   "execution_count": 9,
   "metadata": {
    "cell_id": "00007-377070ff-7b33-49b6-a81e-a893c30a9e66",
    "deepnote_cell_type": "code",
    "deepnote_to_be_reexecuted": false,
    "execution_millis": 43,
    "execution_start": 1621419403124,
    "source_hash": "f6dff865",
    "tags": []
   },
   "outputs": [
    {
     "data": {
      "text/plain": [
       "sound_min                                         16.867470\n",
       "android_sensor_gyroscope_uncalibrated_mean        13.558459\n",
       "android_sensor_magnetic_field_uncalibrated_min    13.558459\n",
       "android_sensor_gyroscope_std                      12.234855\n",
       "android_sensor_rotation_vector_mean               12.234855\n",
       "android_sensor_rotation_vector_max                12.234855\n",
       "android_sensor_gyroscope_mean                     12.217886\n",
       "android_sensor_linear_acceleration_mean            8.382827\n",
       "id                                                 0.000000\n",
       "user                                               0.000000\n",
       "android_sensor_accelerometer_std                   0.000000\n",
       "android_sensor_accelerometer_max                   0.000000\n",
       "speed_mean                                         0.000000\n",
       "android_sensor_accelerometer_min                   0.000000\n",
       "target                                             0.000000\n",
       "dtype: float64"
      ]
     },
     "execution_count": 9,
     "metadata": {},
     "output_type": "execute_result"
    }
   ],
   "source": [
    "#missing data in percentages\n",
    "per_miss = ((df.isnull().sum() * 100) / len(df))\n",
    "per_miss.sort_values(ascending = False)"
   ]
  },
  {
   "cell_type": "code",
   "execution_count": 12,
   "metadata": {
    "cell_id": "00009-7af10ab3-c13d-4fce-b2bb-cca7ac161684",
    "deepnote_cell_type": "code",
    "deepnote_to_be_reexecuted": false,
    "execution_millis": 161,
    "execution_start": 1621420294338,
    "source_hash": "f13d1e97",
    "tags": []
   },
   "outputs": [
    {
     "data": {
      "text/plain": [
       "array([[16170, 'Luca', 0.00165077522136, ..., 9.75889547269,\n",
       "        51.1997072531, 89.759161852],\n",
       "       [15871, 'Luca', 0.0363257142488, ..., 7.70743742161,\n",
       "        82.4098901832, 89.06514335],\n",
       "       [16811, 'Luca', 0.00152461653211, ..., 9.80481712742,\n",
       "        55.5018017726, 89.759161852],\n",
       "       ...,\n",
       "       [16178, 'Luca', 0.0018033469041, ..., 9.77288063757,\n",
       "        51.1294435722, 89.759161852],\n",
       "       [10973, 'Damiano', 0.00365158473917, ..., 9.80734672534,\n",
       "        270.328539987, 89.759161852],\n",
       "       [8278, 'andrea', 1.45440841261, ..., 5.20328476548, 149.048368913,\n",
       "        89.7124413341]], dtype=object)"
      ]
     },
     "execution_count": 12,
     "metadata": {},
     "output_type": "execute_result"
    }
   ],
   "source": [
    "#Handling missing data \n",
    "# Impute missing values using Imputer in sklearn.preprocessing\n",
    "X = df.drop('target', 1)\n",
    "y = df.target\n",
    "\n",
    "imp = SimpleImputer(missing_values = np.nan, strategy='most_frequent')\n",
    "imp.fit(X)\n",
    "imp.fit_transform(X)"
   ]
  },
  {
   "cell_type": "markdown",
   "metadata": {
    "cell_id": "00011-2dc1c0c6-3b31-4955-89a8-6537cb855089",
    "deepnote_cell_type": "markdown",
    "tags": []
   },
   "source": [
    "Feature analysis"
   ]
  },
  {
   "cell_type": "code",
   "execution_count": 10,
   "metadata": {
    "cell_id": "00011-00028ba3-2d11-43f7-98f0-d3c02311c831",
    "deepnote_cell_type": "code",
    "deepnote_to_be_reexecuted": false,
    "execution_millis": 2458,
    "execution_start": 1621419408092,
    "source_hash": "3a45b1f2",
    "tags": []
   },
   "outputs": [
    {
     "data": {
      "text/plain": [
       "<AxesSubplot:>"
      ]
     },
     "execution_count": 10,
     "metadata": {},
     "output_type": "execute_result"
    },
    {
     "data": {
      "image/png": "[encoded data removed]",
      "text/plain": [
       "<Figure size 1080x720 with 2 Axes>"
      ]
     },
     "metadata": {
      "image/png": {
       "height": 712,
       "width": 1007
      }
     },
     "output_type": "display_data"
    }
   ],
   "source": [
    "#how does these features correlate?\n",
    "#Plot heatmap of feature correlation\n",
    "plt.figure(figsize = (15,10))\n",
    "sns.heatmap(df.corr())"
   ]
  },
  {
   "cell_type": "markdown",
   "metadata": {
    "cell_id": "00013-0b3565d0-2147-4d96-b6a7-27d3fe31dc5b",
    "deepnote_cell_type": "markdown",
    "tags": []
   },
   "source": [
    "Mutual information (MI) describes relationships in terms of uncertainty. \n",
    "The mutual information (MI) between two quantities is a measure of the extent to which knowledge of one quantity reduces uncertainty about the other.\n",
    "\n",
    "Because of our little domain knowledge on this project segement, \n",
    "we applied MI to deduce which the relevancy of each feature to target."
   ]
  },
  {
   "cell_type": "markdown",
   "metadata": {
    "cell_id": "00009-b7744b7a-c895-4ddc-8b89-c209962dfcc6",
    "deepnote_cell_type": "markdown",
    "tags": []
   },
   "source": [
    "To compute the mutual information scores for our features"
   ]
  },
  {
   "cell_type": "code",
   "execution_count": 13,
   "metadata": {
    "cell_id": "00013-0db05906-5a67-4ac9-9b2d-c54492042e8c",
    "deepnote_cell_type": "code",
    "deepnote_to_be_reexecuted": false,
    "execution_millis": 74,
    "execution_start": 1621420301290,
    "source_hash": "15ad6e14",
    "tags": []
   },
   "outputs": [
    {
     "data": {
      "text/plain": [
       "id                                                category\n",
       "user                                              category\n",
       "android_sensor_gyroscope_mean                     category\n",
       "android_sensor_accelerometer_std                  category\n",
       "android_sensor_gyroscope_std                      category\n",
       "android_sensor_gyroscope_uncalibrated_mean        category\n",
       "android_sensor_accelerometer_max                  category\n",
       "android_sensor_linear_acceleration_mean           category\n",
       "speed_mean                                        category\n",
       "android_sensor_rotation_vector_mean               category\n",
       "android_sensor_rotation_vector_max                category\n",
       "android_sensor_accelerometer_min                  category\n",
       "android_sensor_magnetic_field_uncalibrated_min    category\n",
       "sound_min                                         category\n",
       "dtype: object"
      ]
     },
     "execution_count": 13,
     "metadata": {},
     "output_type": "execute_result"
    }
   ],
   "source": [
    "#Mutual information from sklearn only works with object and categorical data\n",
    "#converting from the float and int data type into categorical\n",
    "X = X.astype('category')\n",
    "X.dtypes"
   ]
  },
  {
   "cell_type": "code",
   "execution_count": 16,
   "metadata": {
    "cell_id": "00007-eaeb7ae8-9e2e-4bce-945f-66212def1e82",
    "deepnote_cell_type": "code",
    "deepnote_to_be_reexecuted": false,
    "execution_millis": 463,
    "execution_start": 1621420740013,
    "source_hash": "67cf0c13",
    "tags": []
   },
   "outputs": [],
   "source": [
    "#import mutual_info_classif to prob the categorical features\n",
    "from sklearn.feature_selection import mutual_info_classif\n",
    "\n",
    "# Utility functions to rank the features\n",
    "def make_mi_scores(x1, y):\n",
    "    x1 = x1.copy()\n",
    "    # Label encoding for categoricals\n",
    "    for colname in x1.select_dtypes([\"category\"]):\n",
    "        x1[colname], _ = x1[colname].factorize()\n",
    "    # All discrete features should now have integer dtypes\n",
    "    discrete_features = [pd.api.types.is_integer_dtype(t) for t in x1.dtypes]\n",
    "    mi_scores = mutual_info_classif(x1, y, discrete_features=discrete_features, random_state=0)\n",
    "    mi_scores = pd.Series(mi_scores, name=\"MI Scores\", index=x1.columns)\n",
    "    mi_scores = mi_scores.sort_values(ascending=False)\n",
    "    return mi_scores\n",
    "\n",
    "#function to display the ranking in barplot\n",
    "def plot_mi_scores(scores):\n",
    "    scores = scores.sort_values(ascending=True)\n",
    "    width = np.arange(len(scores))\n",
    "    ticks = list(scores.index)\n",
    "    plt.barh(width, scores)\n",
    "    plt.yticks(width, ticks)\n",
    "    plt.title(\"Mutual Information Scores\")\n",
    "\n",
    "x1 = X.copy()\n",
    "y = df.target\n",
    "\n",
    "mi_scores = make_mi_scores(x1, y)"
   ]
  },
  {
   "cell_type": "code",
   "execution_count": 17,
   "metadata": {
    "cell_id": "00014-54a9194b-6b79-4271-8026-123b018e61d9",
    "deepnote_cell_type": "code",
    "deepnote_to_be_reexecuted": false,
    "execution_millis": 986,
    "execution_start": 1621420750577,
    "source_hash": "1d1aa325",
    "tags": []
   },
   "outputs": [
    {
     "name": "stdout",
     "output_type": "stream",
     "text": [
      "id                                                1.609438\n",
      "android_sensor_accelerometer_std                  1.609438\n",
      "android_sensor_accelerometer_max                  1.609438\n",
      "speed_mean                                        1.609438\n",
      "android_sensor_accelerometer_min                  1.609202\n",
      "android_sensor_linear_acceleration_mean           1.497159\n",
      "android_sensor_rotation_vector_mean               1.426675\n",
      "android_sensor_rotation_vector_max                1.426204\n",
      "android_sensor_gyroscope_std                      1.422606\n",
      "android_sensor_gyroscope_mean                     1.420106\n",
      "android_sensor_magnetic_field_uncalibrated_min    1.403483\n",
      "android_sensor_gyroscope_uncalibrated_mean        1.403248\n",
      "sound_min                                         1.152705\n",
      "user                                              0.413110\n",
      "Name: MI Scores, dtype: float64\n"
     ]
    },
    {
     "data": {
      "image/png": "[encoded data removed]",
      "text/plain": [
       "<Figure size 800x500 with 1 Axes>"
      ]
     },
     "metadata": {
      "image/png": {
       "height": 489,
       "width": 790
      }
     },
     "output_type": "display_data"
    }
   ],
   "source": [
    "#display MI score...least possible is 0.0, above 2.0 is rare.\n",
    "print(mi_scores)\n",
    "\n",
    "#plot to make comparisions easy\n",
    "plt.figure(dpi=100, figsize=(8, 5))\n",
    "plot_mi_scores(mi_scores)"
   ]
  },
  {
   "cell_type": "code",
   "execution_count": null,
   "metadata": {
    "cell_id": "00011-af181b81-b08b-43d4-aad6-478b0cc2110e",
    "deepnote_cell_type": "code",
    "deepnote_to_be_reexecuted": false,
    "execution_millis": 467,
    "execution_start": 1621333939832,
    "source_hash": "aaf86bd8",
    "tags": []
   },
   "outputs": [
    {
     "data": {
      "image/png": "[encoded data removed]",
      "text/plain": [
       "<Figure size 360x360 with 1 Axes>"
      ]
     },
     "metadata": {
      "image/png": {
       "height": 352,
       "width": 352
      }
     },
     "output_type": "display_data"
    }
   ],
   "source": [
    "#Visualizing the strongest feature  with respect to the target\n",
    "sns.relplot(x = 'android_sensor_accelerometer_max', y = 'target', data = df);"
   ]
  },
  {
   "cell_type": "markdown",
   "metadata": {
    "cell_id": "00019-ea4f1f9a-9db1-4b5f-a0e9-24a928c1c28f",
    "deepnote_cell_type": "markdown",
    "tags": []
   },
   "source": [
    "Feature tweaking based on Mutual Information scores"
   ]
  },
  {
   "cell_type": "code",
   "execution_count": 19,
   "metadata": {
    "cell_id": "00017-caa614c9-ec8c-4ad0-8451-a94bd73ca323",
    "deepnote_cell_type": "code",
    "deepnote_to_be_reexecuted": false,
    "execution_millis": 135,
    "execution_start": 1621423311273,
    "source_hash": "79c9dc12",
    "tags": []
   },
   "outputs": [
    {
     "data": {
      "application/vnd.deepnote.dataframe.v2+json": {
       "column_count": 7,
       "columns": [
        {
         "dtype": "float64",
         "name": "android_sensor_rotation_vector_mean",
         "stats": {
          "histogram": [
           {
            "bin_end": 0.14536994911599999,
            "bin_start": 0.050413140269,
            "count": 1
           },
           {
            "bin_end": 0.24032675796300002,
            "bin_start": 0.14536994911599999,
            "count": 0
           },
           {
            "bin_end": 0.33528356681000004,
            "bin_start": 0.24032675796300002,
            "count": 1
           },
           {
            "bin_end": 0.430240375657,
            "bin_start": 0.33528356681000004,
            "count": 0
           },
           {
            "bin_end": 0.525197184504,
            "bin_start": 0.430240375657,
            "count": 0
           },
           {
            "bin_end": 0.6201539933510001,
            "bin_start": 0.525197184504,
            "count": 1
           },
           {
            "bin_end": 0.715110802198,
            "bin_start": 0.6201539933510001,
            "count": 0
           },
           {
            "bin_end": 0.810067611045,
            "bin_start": 0.715110802198,
            "count": 0
           },
           {
            "bin_end": 0.905024419892,
            "bin_start": 0.810067611045,
            "count": 0
           },
           {
            "bin_end": 0.999981228739,
            "bin_start": 0.905024419892,
            "count": 2
           }
          ],
          "max": "0.999981228739",
          "min": "0.050413140269",
          "nan_count": 0,
          "unique_count": 5
         }
        },
        {
         "dtype": "float64",
         "name": "android_sensor_gyroscope_mean",
         "stats": {
          "histogram": [
           {
            "bin_end": 0.019692364659799,
            "bin_start": 0.00152461653211,
            "count": 2
           },
           {
            "bin_end": 0.037860112787488,
            "bin_start": 0.019692364659799,
            "count": 2
           },
           {
            "bin_end": 0.056027860915177,
            "bin_start": 0.037860112787488,
            "count": 0
           },
           {
            "bin_end": 0.074195609042866,
            "bin_start": 0.056027860915177,
            "count": 0
           },
           {
            "bin_end": 0.092363357170555,
            "bin_start": 0.074195609042866,
            "count": 0
           },
           {
            "bin_end": 0.110531105298244,
            "bin_start": 0.092363357170555,
            "count": 0
           },
           {
            "bin_end": 0.12869885342593299,
            "bin_start": 0.110531105298244,
            "count": 0
           },
           {
            "bin_end": 0.146866601553622,
            "bin_start": 0.12869885342593299,
            "count": 0
           },
           {
            "bin_end": 0.165034349681311,
            "bin_start": 0.146866601553622,
            "count": 0
           },
           {
            "bin_end": 0.183202097809,
            "bin_start": 0.165034349681311,
            "count": 1
           }
          ],
          "max": "0.183202097809",
          "min": "0.00152461653211",
          "nan_count": 0,
          "unique_count": 5
         }
        },
        {
         "dtype": "float64",
         "name": "acc_gyro",
         "stats": {
          "histogram": [
           {
            "bin_end": 0.005978438169580537,
            "bin_start": 8.32207627870112e-05,
            "count": 2
           },
           {
            "bin_end": 0.011873655576374063,
            "bin_start": 0.005978438169580537,
            "count": 0
           },
           {
            "bin_end": 0.01776887298316759,
            "bin_start": 0.011873655576374063,
            "count": 0
           },
           {
            "bin_end": 0.023664090389961118,
            "bin_start": 0.01776887298316759,
            "count": 0
           },
           {
            "bin_end": 0.029559307796754645,
            "bin_start": 0.023664090389961118,
            "count": 0
           },
           {
            "bin_end": 0.035454525203548165,
            "bin_start": 0.029559307796754645,
            "count": 0
           },
           {
            "bin_end": 0.041349742610341696,
            "bin_start": 0.035454525203548165,
            "count": 2
           },
           {
            "bin_end": 0.04724496001713522,
            "bin_start": 0.041349742610341696,
            "count": 0
           },
           {
            "bin_end": 0.05314017742392874,
            "bin_start": 0.04724496001713522,
            "count": 0
           },
           {
            "bin_end": 0.059035394830722274,
            "bin_start": 0.05314017742392874,
            "count": 1
           }
          ],
          "max": "0.059035394830722274",
          "min": "8.32207627870112e-05",
          "nan_count": 0,
          "unique_count": 5
         }
        },
        {
         "dtype": "float64",
         "name": "speed_mean",
         "stats": {
          "histogram": [
           {
            "bin_end": 1.6303283250975626,
            "bin_start": 0.1803785331903315,
            "count": 2
           },
           {
            "bin_end": 3.0802781170047937,
            "bin_start": 1.6303283250975626,
            "count": 0
           },
           {
            "bin_end": 4.530227908912024,
            "bin_start": 3.0802781170047937,
            "count": 0
           },
           {
            "bin_end": 5.980177700819255,
            "bin_start": 4.530227908912024,
            "count": 0
           },
           {
            "bin_end": 7.430127492726487,
            "bin_start": 5.980177700819255,
            "count": 0
           },
           {
            "bin_end": 8.880077284633717,
            "bin_start": 7.430127492726487,
            "count": 0
           },
           {
            "bin_end": 10.330027076540949,
            "bin_start": 8.880077284633717,
            "count": 0
           },
           {
            "bin_end": 11.77997686844818,
            "bin_start": 10.330027076540949,
            "count": 0
           },
           {
            "bin_end": 13.229926660355412,
            "bin_start": 11.77997686844818,
            "count": 0
           },
           {
            "bin_end": 14.679876452262643,
            "bin_start": 13.229926660355412,
            "count": 3
           }
          ],
          "max": "14.679876452262643",
          "min": "0.1803785331903315",
          "nan_count": 0,
          "unique_count": 2
         }
        },
        {
         "dtype": "float64",
         "name": "android_sensor_linear_acceleration_mean",
         "stats": {
          "histogram": [
           {
            "bin_end": 0.18471080473561002,
            "bin_start": 0.0209778383629,
            "count": 2
           },
           {
            "bin_end": 0.34844377110832003,
            "bin_start": 0.18471080473561002,
            "count": 0
           },
           {
            "bin_end": 0.51217673748103,
            "bin_start": 0.34844377110832003,
            "count": 0
           },
           {
            "bin_end": 0.67590970385374,
            "bin_start": 0.51217673748103,
            "count": 0
           },
           {
            "bin_end": 0.8396426702264501,
            "bin_start": 0.67590970385374,
            "count": 0
           },
           {
            "bin_end": 1.00337563659916,
            "bin_start": 0.8396426702264501,
            "count": 1
           },
           {
            "bin_end": 1.16710860297187,
            "bin_start": 1.00337563659916,
            "count": 0
           },
           {
            "bin_end": 1.33084156934458,
            "bin_start": 1.16710860297187,
            "count": 0
           },
           {
            "bin_end": 1.4945745357172902,
            "bin_start": 1.33084156934458,
            "count": 1
           },
           {
            "bin_end": 1.65830750209,
            "bin_start": 1.4945745357172902,
            "count": 1
           }
          ],
          "max": "1.65830750209",
          "min": "0.0209778383629",
          "nan_count": 0,
          "unique_count": 5
         }
        },
        {
         "dtype": "float64",
         "name": "Lin_speed",
         "stats": {
          "histogram": [
           {
            "bin_end": 2.437780481596211,
            "bin_start": 0.0037839517134037673,
            "count": 2
           },
           {
            "bin_end": 4.8717770114790175,
            "bin_start": 2.437780481596211,
            "count": 0
           },
           {
            "bin_end": 7.305773541361825,
            "bin_start": 4.8717770114790175,
            "count": 0
           },
           {
            "bin_end": 9.739770071244632,
            "bin_start": 7.305773541361825,
            "count": 0
           },
           {
            "bin_end": 12.173766601127438,
            "bin_start": 9.739770071244632,
            "count": 0
           },
           {
            "bin_end": 14.607763131010246,
            "bin_start": 12.173766601127438,
            "count": 1
           },
           {
            "bin_end": 17.041759660893053,
            "bin_start": 14.607763131010246,
            "count": 0
           },
           {
            "bin_end": 19.47575619077586,
            "bin_start": 17.041759660893053,
            "count": 0
           },
           {
            "bin_end": 21.90975272065867,
            "bin_start": 19.47575619077586,
            "count": 1
           },
           {
            "bin_end": 24.343749250541475,
            "bin_start": 21.90975272065867,
            "count": 1
           }
          ],
          "max": "24.343749250541475",
          "min": "0.0037839517134037673",
          "nan_count": 0,
          "unique_count": 5
         }
        },
        {
         "dtype": "float64",
         "name": "still_sensor",
         "stats": {
          "histogram": [
           {
            "bin_end": 4.821478681736601,
            "bin_start": 0.29548152192993726,
            "count": 2
           },
           {
            "bin_end": 9.347475841543266,
            "bin_start": 4.821478681736601,
            "count": 0
           },
           {
            "bin_end": 13.87347300134993,
            "bin_start": 9.347475841543266,
            "count": 0
           },
           {
            "bin_end": 18.399470161156593,
            "bin_start": 13.87347300134993,
            "count": 2
           },
           {
            "bin_end": 22.925467320963257,
            "bin_start": 18.399470161156593,
            "count": 0
           },
           {
            "bin_end": 27.45146448076992,
            "bin_start": 22.925467320963257,
            "count": 0
           },
           {
            "bin_end": 31.977461640576585,
            "bin_start": 27.45146448076992,
            "count": 0
           },
           {
            "bin_end": 36.50345880038325,
            "bin_start": 31.977461640576585,
            "count": 0
           },
           {
            "bin_end": 41.029455960189914,
            "bin_start": 36.50345880038325,
            "count": 0
           },
           {
            "bin_end": 45.55545311999658,
            "bin_start": 41.029455960189914,
            "count": 1
           }
          ],
          "max": "45.55545311999658",
          "min": "0.29548152192993726",
          "nan_count": 0,
          "unique_count": 5
         }
        },
        {
         "dtype": "int64",
         "name": "_deepnote_index_column"
        }
       ],
       "row_count": 5,
       "rows_bottom": null,
       "rows_top": [
        {
         "Lin_speed": 0.0037839517134037673,
         "_deepnote_index_column": 0,
         "acc_gyro": 8.32207627870112e-05,
         "android_sensor_gyroscope_mean": 0.00165077522136,
         "android_sensor_linear_acceleration_mean": 0.0209778383629,
         "android_sensor_rotation_vector_mean": 0.050413140269,
         "speed_mean": 0.1803785331903315,
         "still_sensor": 3.578006294149657
        },
        {
         "Lin_speed": 12.906843654228528,
         "_deepnote_index_column": 1,
         "acc_gyro": 0.036325032369336825,
         "android_sensor_gyroscope_mean": 0.0363257142488,
         "android_sensor_linear_acceleration_mean": 0.879220182554,
         "android_sensor_rotation_vector_mean": 0.999981228739,
         "speed_mean": 14.679876452262643,
         "still_sensor": 14.680152017227678
        },
        {
         "Lin_speed": 0.006152753460790414,
         "_deepnote_index_column": 2,
         "acc_gyro": 0.0009307116463443016,
         "android_sensor_gyroscope_mean": 0.00152461653211,
         "android_sensor_linear_acceleration_mean": 0.0341102311454,
         "android_sensor_rotation_vector_mean": 0.610456220789,
         "speed_mean": 0.1803785331903315,
         "still_sensor": 0.29548152192993726
        },
        {
         "Lin_speed": 21.848949429203184,
         "_deepnote_index_column": 3,
         "acc_gyro": 0.03637152730105143,
         "android_sensor_gyroscope_mean": 0.0364403150565,
         "android_sensor_linear_acceleration_mean": 1.48836057989,
         "android_sensor_rotation_vector_mean": 0.998112317214,
         "speed_mean": 14.679876452262643,
         "still_sensor": 14.707639810756097
        },
        {
         "Lin_speed": 24.343749250541475,
         "_deepnote_index_column": 4,
         "acc_gyro": 0.059035394830722274,
         "android_sensor_gyroscope_mean": 0.183202097809,
         "android_sensor_linear_acceleration_mean": 1.65830750209,
         "android_sensor_rotation_vector_mean": 0.322241915004,
         "speed_mean": 14.679876452262643,
         "still_sensor": 45.55545311999658
        }
       ]
      },
      "text/html": [
       "<div>\n",
       "<style scoped>\n",
       "    .dataframe tbody tr th:only-of-type {\n",
       "        vertical-align: middle;\n",
       "    }\n",
       "\n",
       "    .dataframe tbody tr th {\n",
       "        vertical-align: top;\n",
       "    }\n",
       "\n",
       "    .dataframe thead th {\n",
       "        text-align: right;\n",
       "    }\n",
       "</style>\n",
       "<table border=\"1\" class=\"dataframe\">\n",
       "  <thead>\n",
       "    <tr style=\"text-align: right;\">\n",
       "      <th></th>\n",
       "      <th>android_sensor_rotation_vector_mean</th>\n",
       "      <th>android_sensor_gyroscope_mean</th>\n",
       "      <th>acc_gyro</th>\n",
       "      <th>speed_mean</th>\n",
       "      <th>android_sensor_linear_acceleration_mean</th>\n",
       "      <th>Lin_speed</th>\n",
       "      <th>still_sensor</th>\n",
       "    </tr>\n",
       "  </thead>\n",
       "  <tbody>\n",
       "    <tr>\n",
       "      <th>0</th>\n",
       "      <td>0.050413</td>\n",
       "      <td>0.001651</td>\n",
       "      <td>0.000083</td>\n",
       "      <td>0.180379</td>\n",
       "      <td>0.020978</td>\n",
       "      <td>0.003784</td>\n",
       "      <td>3.578006</td>\n",
       "    </tr>\n",
       "    <tr>\n",
       "      <th>1</th>\n",
       "      <td>0.999981</td>\n",
       "      <td>0.036326</td>\n",
       "      <td>0.036325</td>\n",
       "      <td>14.679876</td>\n",
       "      <td>0.879220</td>\n",
       "      <td>12.906844</td>\n",
       "      <td>14.680152</td>\n",
       "    </tr>\n",
       "    <tr>\n",
       "      <th>2</th>\n",
       "      <td>0.610456</td>\n",
       "      <td>0.001525</td>\n",
       "      <td>0.000931</td>\n",
       "      <td>0.180379</td>\n",
       "      <td>0.034110</td>\n",
       "      <td>0.006153</td>\n",
       "      <td>0.295482</td>\n",
       "    </tr>\n",
       "    <tr>\n",
       "      <th>3</th>\n",
       "      <td>0.998112</td>\n",
       "      <td>0.036440</td>\n",
       "      <td>0.036372</td>\n",
       "      <td>14.679876</td>\n",
       "      <td>1.488361</td>\n",
       "      <td>21.848949</td>\n",
       "      <td>14.707640</td>\n",
       "    </tr>\n",
       "    <tr>\n",
       "      <th>4</th>\n",
       "      <td>0.322242</td>\n",
       "      <td>0.183202</td>\n",
       "      <td>0.059035</td>\n",
       "      <td>14.679876</td>\n",
       "      <td>1.658308</td>\n",
       "      <td>24.343749</td>\n",
       "      <td>45.555453</td>\n",
       "    </tr>\n",
       "  </tbody>\n",
       "</table>\n",
       "</div>"
      ],
      "text/plain": [
       "   android_sensor_rotation_vector_mean  android_sensor_gyroscope_mean  \\\n",
       "0                             0.050413                       0.001651   \n",
       "1                             0.999981                       0.036326   \n",
       "2                             0.610456                       0.001525   \n",
       "3                             0.998112                       0.036440   \n",
       "4                             0.322242                       0.183202   \n",
       "\n",
       "   acc_gyro  speed_mean  android_sensor_linear_acceleration_mean  Lin_speed  \\\n",
       "0  0.000083    0.180379                                 0.020978   0.003784   \n",
       "1  0.036325   14.679876                                 0.879220  12.906844   \n",
       "2  0.000931    0.180379                                 0.034110   0.006153   \n",
       "3  0.036372   14.679876                                 1.488361  21.848949   \n",
       "4  0.059035   14.679876                                 1.658308  24.343749   \n",
       "\n",
       "   still_sensor  \n",
       "0      3.578006  \n",
       "1     14.680152  \n",
       "2      0.295482  \n",
       "3     14.707640  \n",
       "4     45.555453  "
      ]
     },
     "execution_count": 19,
     "metadata": {},
     "output_type": "execute_result"
    }
   ],
   "source": [
    "#literature suggests that this two features are better when paired\n",
    "#source: https://www.news-medical.net/health/Types-of-sensors-in-wearable-fitness-trackers.aspx\n",
    "df[\"acc_gyro\"] = df.android_sensor_rotation_vector_mean * df.android_sensor_gyroscope_mean\n",
    "\n",
    "#also linear speed would be speed of movement on a straight linear\n",
    "df[\"Lin_speed\"] = df.speed_mean * df.android_sensor_linear_acceleration_mean\n",
    "\n",
    "#feature to track change in motion in around direction\n",
    "df[\"still_sensor\"] = df.speed_mean / df.android_sensor_rotation_vector_mean\n",
    "\n",
    "df[[\"android_sensor_rotation_vector_mean\", \"android_sensor_gyroscope_mean\", \"acc_gyro\", \"speed_mean\", \"android_sensor_linear_acceleration_mean\", \"Lin_speed\", \"still_sensor\"]].head()\n",
    "\n"
   ]
  },
  {
   "cell_type": "code",
   "execution_count": 20,
   "metadata": {
    "cell_id": "00018-1fabe4b5-9e27-4051-a916-185a7b91b654",
    "deepnote_cell_type": "code",
    "deepnote_to_be_reexecuted": false,
    "execution_millis": 24,
    "execution_start": 1621423469015,
    "source_hash": "14f60b8f",
    "tags": []
   },
   "outputs": [
    {
     "data": {
      "text/plain": [
       "(5893, 18)"
      ]
     },
     "execution_count": 20,
     "metadata": {},
     "output_type": "execute_result"
    }
   ],
   "source": [
    "df.shape"
   ]
  },
  {
   "cell_type": "code",
   "execution_count": 21,
   "metadata": {
    "cell_id": "00019-02fa1411-64e9-49bb-9961-9f5de6ec376e",
    "deepnote_cell_type": "code",
    "deepnote_to_be_reexecuted": false,
    "execution_millis": 364,
    "execution_start": 1621423941329,
    "source_hash": "8c484bcc",
    "tags": []
   },
   "outputs": [],
   "source": [
    "df.to_csv(\"fe_still.csv\", index = False)"
   ]
  },
  {
   "cell_type": "markdown",
   "metadata": {
    "cell_id": "00017-15423151-5c07-48c0-a9f1-c52f04f7dc40",
    "deepnote_cell_type": "text-cell-h1",
    "tags": []
   },
   "source": [
    "# Preprocessing"
   ]
  },
  {
   "cell_type": "code",
   "execution_count": null,
   "metadata": {
    "cell_id": "00018-460c5937-3bb5-4287-b63c-b91931f2e4f8",
    "deepnote_cell_type": "code",
    "deepnote_to_be_reexecuted": false,
    "execution_millis": 5,
    "execution_start": 1621333940303,
    "source_hash": "765b4c0f",
    "tags": []
   },
   "outputs": [],
   "source": [
    "# change name of columns \n",
    "def change_name(df):\n",
    "    column_names=[]\n",
    "    for i in df.columns:\n",
    "        k=i.replace('.','_').replace(\"#\",'_')\n",
    "        df.rename(columns = {i:k}, inplace = True)\n",
    "    return df"
   ]
  },
  {
   "cell_type": "markdown",
   "metadata": {
    "created_in_deepnote_cell": true,
    "deepnote_cell_type": "markdown",
    "tags": []
   },
   "source": [
    "<a style='text-decoration:none;line-height:16px;display:flex;color:#5B5B62;padding:10px;justify-content:end;' href='https://deepnote.com?utm_source=created-in-deepnote-cell&projectId=3e7089f3-11a5-48ad-89c4-39a166311a14' target=\"_blank\">\n",
    "<img alt='Created in deepnote.com' style='display:inline;max-height:16px;margin:0px;margin-right:7.5px;' src='data:image/svg+xml;base64,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' > </img>\n",
    "Created in <span style='font-weight:600;margin-left:4px;'>Deepnote</span></a>"
   ]
  }
 ],
 "metadata": {
  "deepnote": {
   "is_reactive": false
  },
  "deepnote_execution_queue": [],
  "deepnote_notebook_id": "97223c96-d7fe-4041-9a4c-9dd684251abc",
  "kernelspec": {
   "display_name": "Python 3",
   "language": "python",
   "name": "python3"
  },
  "language_info": {
   "codemirror_mode": {
    "name": "ipython",
    "version": 3
   },
   "file_extension": ".py",
   "mimetype": "text/x-python",
   "name": "python",
   "nbconvert_exporter": "python",
   "pygments_lexer": "ipython3",
   "version": "3.8.8"
  }
 },
 "nbformat": 4,
 "nbformat_minor": 2
}
