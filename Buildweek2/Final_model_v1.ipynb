{
 "cells": [
  {
   "cell_type": "markdown",
   "source": "## Start with imports and loading the data",
   "metadata": {
    "tags": [],
    "cell_id": "00000-5bfce9f4-5415-4737-a8a0-538c3fa93585",
    "deepnote_cell_type": "text-cell-h2"
   }
  },
  {
   "cell_type": "code",
   "metadata": {
    "tags": [],
    "cell_id": "00000-7b61a4aa-bbd3-473e-a2e0-0a82f711e78d",
    "deepnote_to_be_reexecuted": false,
    "source_hash": "983da27c",
    "execution_start": 1621430387469,
    "execution_millis": 29,
    "deepnote_cell_type": "code"
   },
   "source": "# do imports here\nimport time\nimport numpy    as np\nimport pandas   as pd\n\nfrom sklearn import pipeline\nfrom sklearn.pipeline import Pipeline ,make_pipeline\nfrom sklearn import impute\nfrom sklearn import compose\nfrom sklearn import set_config\nset_config(display='diagram') # Useful to display the pipeline\nfrom sklearn.preprocessing import RobustScaler\nfrom sklearn import model_selection # train_test_split\nfrom sklearn import metrics         # accuracy_score, balanced_accuracy_score, plot_confusion_matrix\n\nfrom sklearn.preprocessing import MinMaxScaler,Normalizer,PowerTransformer,QuantileTransformer, RobustScaler,StandardScaler,LabelEncoder, OneHotEncoder,OrdinalEncoder\nfrom sklearn.tree          import DecisionTreeClassifier\nfrom sklearn.linear_model  import LogisticRegression    \nfrom xgboost               import XGBClassifier\nfrom lightgbm              import LGBMClassifier\nfrom sklearn.neighbors import KNeighborsClassifier\nfrom sklearn.naive_bayes import GaussianNB\n\n\nfrom sklearn.model_selection import train_test_split,cross_val_score\nfrom sklearn.metrics import accuracy_score, balanced_accuracy_score, plot_confusion_matrix,roc_auc_score\nfrom sklearn import set_config\nimport warnings\nwarnings.filterwarnings('ignore')\n\nfrom sklearn.metrics import classification_report,confusion_matrix\nimport sklearn\n\nprint(\"Numpy  \", np.__version__)\nprint(\"Pandas  \", pd.__version__)\nprint(\"Sklearn \", sklearn.__version__) # Try to use 0.24\n\nprint('setup complete')",
   "execution_count": 24,
   "outputs": [
    {
     "name": "stdout",
     "text": "Numpy   1.19.5\nPandas   1.2.4\nSklearn  0.24.2\nsetup complete\n",
     "output_type": "stream"
    }
   ]
  },
  {
   "cell_type": "code",
   "source": "#load the data\n\ndata = pd.read_csv('feature_eng.csv')\ndata.head(5)",
   "metadata": {
    "tags": [],
    "cell_id": "00002-1bcb3788-81d3-41d6-84df-5236c0cc4b86",
    "deepnote_to_be_reexecuted": false,
    "source_hash": "43889370",
    "execution_start": 1621428487355,
    "execution_millis": 1159,
    "deepnote_cell_type": "code"
   },
   "outputs": [
    {
     "output_type": "execute_result",
     "execution_count": 2,
     "data": {
      "application/vnd.deepnote.dataframe.v2+json": {
       "row_count": 5,
       "column_count": 17,
       "columns": [
        {
         "name": "id",
         "dtype": "int64",
         "stats": {
          "unique_count": 5,
          "nan_count": 0,
          "min": "876",
          "max": "16811",
          "histogram": [
           {
            "bin_start": 876,
            "bin_end": 2469.5,
            "count": 1
           },
           {
            "bin_start": 2469.5,
            "bin_end": 4063,
            "count": 0
           },
           {
            "bin_start": 4063,
            "bin_end": 5656.5,
            "count": 0
           },
           {
            "bin_start": 5656.5,
            "bin_end": 7250,
            "count": 0
           },
           {
            "bin_start": 7250,
            "bin_end": 8843.5,
            "count": 0
           },
           {
            "bin_start": 8843.5,
            "bin_end": 10437,
            "count": 0
           },
           {
            "bin_start": 10437,
            "bin_end": 12030.5,
            "count": 0
           },
           {
            "bin_start": 12030.5,
            "bin_end": 13624,
            "count": 0
           },
           {
            "bin_start": 13624,
            "bin_end": 15217.5,
            "count": 0
           },
           {
            "bin_start": 15217.5,
            "bin_end": 16811,
            "count": 4
           }
          ]
         }
        },
        {
         "name": "user",
         "dtype": "object",
         "stats": {
          "unique_count": 2,
          "nan_count": 0,
          "categories": [
           {
            "name": "Luca",
            "count": 4
           },
           {
            "name": "andrea",
            "count": 1
           }
          ]
         }
        },
        {
         "name": "android_sensor_gyroscope_mean",
         "dtype": "float64",
         "stats": {
          "unique_count": 5,
          "nan_count": 0,
          "min": "0.00152461653211",
          "max": "0.183202097809",
          "histogram": [
           {
            "bin_start": 0.00152461653211,
            "bin_end": 0.019692364659799,
            "count": 2
           },
           {
            "bin_start": 0.019692364659799,
            "bin_end": 0.037860112787488,
            "count": 2
           },
           {
            "bin_start": 0.037860112787488,
            "bin_end": 0.056027860915177,
            "count": 0
           },
           {
            "bin_start": 0.056027860915177,
            "bin_end": 0.074195609042866,
            "count": 0
           },
           {
            "bin_start": 0.074195609042866,
            "bin_end": 0.092363357170555,
            "count": 0
           },
           {
            "bin_start": 0.092363357170555,
            "bin_end": 0.110531105298244,
            "count": 0
           },
           {
            "bin_start": 0.110531105298244,
            "bin_end": 0.12869885342593299,
            "count": 0
           },
           {
            "bin_start": 0.12869885342593299,
            "bin_end": 0.146866601553622,
            "count": 0
           },
           {
            "bin_start": 0.146866601553622,
            "bin_end": 0.165034349681311,
            "count": 0
           },
           {
            "bin_start": 0.165034349681311,
            "bin_end": 0.183202097809,
            "count": 1
           }
          ]
         }
        },
        {
         "name": "android_sensor_accelerometer_std",
         "dtype": "float64",
         "stats": {
          "unique_count": 5,
          "nan_count": 0,
          "min": "0.0111991059917",
          "max": "1.7759442967",
          "histogram": [
           {
            "bin_start": 0.0111991059917,
            "bin_end": 0.18767362506253,
            "count": 2
           },
           {
            "bin_start": 0.18767362506253,
            "bin_end": 0.36414814413336,
            "count": 0
           },
           {
            "bin_start": 0.36414814413336,
            "bin_end": 0.5406226632041901,
            "count": 1
           },
           {
            "bin_start": 0.5406226632041901,
            "bin_end": 0.7170971822750201,
            "count": 0
           },
           {
            "bin_start": 0.7170971822750201,
            "bin_end": 0.8935717013458501,
            "count": 1
           },
           {
            "bin_start": 0.8935717013458501,
            "bin_end": 1.07004622041668,
            "count": 0
           },
           {
            "bin_start": 1.07004622041668,
            "bin_end": 1.24652073948751,
            "count": 0
           },
           {
            "bin_start": 1.24652073948751,
            "bin_end": 1.42299525855834,
            "count": 0
           },
           {
            "bin_start": 1.42299525855834,
            "bin_end": 1.5994697776291702,
            "count": 0
           },
           {
            "bin_start": 1.5994697776291702,
            "bin_end": 1.7759442967,
            "count": 1
           }
          ]
         }
        },
        {
         "name": "android_sensor_gyroscope_std",
         "dtype": "float64",
         "stats": {
          "unique_count": 5,
          "nan_count": 0,
          "min": "0.000712700740663",
          "max": "0.0988191384778",
          "histogram": [
           {
            "bin_start": 0.000712700740663,
            "bin_end": 0.0105233445143767,
            "count": 2
           },
           {
            "bin_start": 0.0105233445143767,
            "bin_end": 0.0203339882880904,
            "count": 2
           },
           {
            "bin_start": 0.0203339882880904,
            "bin_end": 0.0301446320618041,
            "count": 0
           },
           {
            "bin_start": 0.0301446320618041,
            "bin_end": 0.0399552758355178,
            "count": 0
           },
           {
            "bin_start": 0.0399552758355178,
            "bin_end": 0.0497659196092315,
            "count": 0
           },
           {
            "bin_start": 0.0497659196092315,
            "bin_end": 0.0595765633829452,
            "count": 0
           },
           {
            "bin_start": 0.0595765633829452,
            "bin_end": 0.0693872071566589,
            "count": 0
           },
           {
            "bin_start": 0.0693872071566589,
            "bin_end": 0.0791978509303726,
            "count": 0
           },
           {
            "bin_start": 0.0791978509303726,
            "bin_end": 0.0890084947040863,
            "count": 0
           },
           {
            "bin_start": 0.0890084947040863,
            "bin_end": 0.0988191384778,
            "count": 1
           }
          ]
         }
        },
        {
         "name": "android_sensor_gyroscope_uncalibrated_mean",
         "dtype": "float64",
         "stats": {
          "unique_count": 5,
          "nan_count": 0,
          "min": "0.0162213599906",
          "max": "0.265652184888",
          "histogram": [
           {
            "bin_start": 0.0162213599906,
            "bin_end": 0.04116444248034,
            "count": 3
           },
           {
            "bin_start": 0.04116444248034,
            "bin_end": 0.06610752497008,
            "count": 1
           },
           {
            "bin_start": 0.06610752497008,
            "bin_end": 0.09105060745982,
            "count": 0
           },
           {
            "bin_start": 0.09105060745982,
            "bin_end": 0.11599368994956,
            "count": 0
           },
           {
            "bin_start": 0.11599368994956,
            "bin_end": 0.1409367724393,
            "count": 0
           },
           {
            "bin_start": 0.1409367724393,
            "bin_end": 0.16587985492904,
            "count": 0
           },
           {
            "bin_start": 0.16587985492904,
            "bin_end": 0.19082293741878,
            "count": 0
           },
           {
            "bin_start": 0.19082293741878,
            "bin_end": 0.21576601990852,
            "count": 0
           },
           {
            "bin_start": 0.21576601990852,
            "bin_end": 0.24070910239826002,
            "count": 0
           },
           {
            "bin_start": 0.24070910239826002,
            "bin_end": 0.265652184888,
            "count": 1
           }
          ]
         }
        },
        {
         "name": "android_sensor_accelerometer_max",
         "dtype": "float64",
         "stats": {
          "unique_count": 5,
          "nan_count": 0,
          "min": "9.84926211274",
          "max": "17.1466311902",
          "histogram": [
           {
            "bin_start": 9.84926211274,
            "bin_end": 10.578999020486,
            "count": 2
           },
           {
            "bin_start": 10.578999020486,
            "bin_end": 11.308735928232,
            "count": 1
           },
           {
            "bin_start": 11.308735928232,
            "bin_end": 12.038472835978,
            "count": 0
           },
           {
            "bin_start": 12.038472835978,
            "bin_end": 12.768209743724,
            "count": 1
           },
           {
            "bin_start": 12.768209743724,
            "bin_end": 13.49794665147,
            "count": 0
           },
           {
            "bin_start": 13.49794665147,
            "bin_end": 14.227683559216,
            "count": 0
           },
           {
            "bin_start": 14.227683559216,
            "bin_end": 14.957420466962,
            "count": 0
           },
           {
            "bin_start": 14.957420466962,
            "bin_end": 15.687157374708,
            "count": 0
           },
           {
            "bin_start": 15.687157374708,
            "bin_end": 16.416894282454003,
            "count": 0
           },
           {
            "bin_start": 16.416894282454003,
            "bin_end": 17.1466311902,
            "count": 1
           }
          ]
         }
        },
        {
         "name": "android_sensor_linear_acceleration_mean",
         "dtype": "float64",
         "stats": {
          "unique_count": 5,
          "nan_count": 0,
          "min": "0.0209778383629",
          "max": "1.65830750209",
          "histogram": [
           {
            "bin_start": 0.0209778383629,
            "bin_end": 0.18471080473561002,
            "count": 2
           },
           {
            "bin_start": 0.18471080473561002,
            "bin_end": 0.34844377110832003,
            "count": 0
           },
           {
            "bin_start": 0.34844377110832003,
            "bin_end": 0.51217673748103,
            "count": 0
           },
           {
            "bin_start": 0.51217673748103,
            "bin_end": 0.67590970385374,
            "count": 0
           },
           {
            "bin_start": 0.67590970385374,
            "bin_end": 0.8396426702264501,
            "count": 0
           },
           {
            "bin_start": 0.8396426702264501,
            "bin_end": 1.00337563659916,
            "count": 1
           },
           {
            "bin_start": 1.00337563659916,
            "bin_end": 1.16710860297187,
            "count": 0
           },
           {
            "bin_start": 1.16710860297187,
            "bin_end": 1.33084156934458,
            "count": 0
           },
           {
            "bin_start": 1.33084156934458,
            "bin_end": 1.4945745357172902,
            "count": 1
           },
           {
            "bin_start": 1.4945745357172902,
            "bin_end": 1.65830750209,
            "count": 1
           }
          ]
         }
        },
        {
         "name": "speed_mean",
         "dtype": "float64",
         "stats": {
          "unique_count": 2,
          "nan_count": 0,
          "min": "0.1803785331903315",
          "max": "14.679876452262643",
          "histogram": [
           {
            "bin_start": 0.1803785331903315,
            "bin_end": 1.6303283250975626,
            "count": 2
           },
           {
            "bin_start": 1.6303283250975626,
            "bin_end": 3.0802781170047937,
            "count": 0
           },
           {
            "bin_start": 3.0802781170047937,
            "bin_end": 4.530227908912024,
            "count": 0
           },
           {
            "bin_start": 4.530227908912024,
            "bin_end": 5.980177700819255,
            "count": 0
           },
           {
            "bin_start": 5.980177700819255,
            "bin_end": 7.430127492726487,
            "count": 0
           },
           {
            "bin_start": 7.430127492726487,
            "bin_end": 8.880077284633717,
            "count": 0
           },
           {
            "bin_start": 8.880077284633717,
            "bin_end": 10.330027076540949,
            "count": 0
           },
           {
            "bin_start": 10.330027076540949,
            "bin_end": 11.77997686844818,
            "count": 0
           },
           {
            "bin_start": 11.77997686844818,
            "bin_end": 13.229926660355412,
            "count": 0
           },
           {
            "bin_start": 13.229926660355412,
            "bin_end": 14.679876452262643,
            "count": 3
           }
          ]
         }
        },
        {
         "name": "android_sensor_rotation_vector_mean",
         "dtype": "float64",
         "stats": {
          "unique_count": 5,
          "nan_count": 0,
          "min": "0.050413140269",
          "max": "0.999981228739",
          "histogram": [
           {
            "bin_start": 0.050413140269,
            "bin_end": 0.14536994911599999,
            "count": 1
           },
           {
            "bin_start": 0.14536994911599999,
            "bin_end": 0.24032675796300002,
            "count": 0
           },
           {
            "bin_start": 0.24032675796300002,
            "bin_end": 0.33528356681000004,
            "count": 1
           },
           {
            "bin_start": 0.33528356681000004,
            "bin_end": 0.430240375657,
            "count": 0
           },
           {
            "bin_start": 0.430240375657,
            "bin_end": 0.525197184504,
            "count": 0
           },
           {
            "bin_start": 0.525197184504,
            "bin_end": 0.6201539933510001,
            "count": 1
           },
           {
            "bin_start": 0.6201539933510001,
            "bin_end": 0.715110802198,
            "count": 0
           },
           {
            "bin_start": 0.715110802198,
            "bin_end": 0.810067611045,
            "count": 0
           },
           {
            "bin_start": 0.810067611045,
            "bin_end": 0.905024419892,
            "count": 0
           },
           {
            "bin_start": 0.905024419892,
            "bin_end": 0.999981228739,
            "count": 2
           }
          ]
         }
        },
        {
         "name": "android_sensor_rotation_vector_max",
         "dtype": "float64",
         "stats": {
          "unique_count": 5,
          "nan_count": 0,
          "min": "0.0563513538347",
          "max": "0.999999403768",
          "histogram": [
           {
            "bin_start": 0.0563513538347,
            "bin_end": 0.15071615882803,
            "count": 1
           },
           {
            "bin_start": 0.15071615882803,
            "bin_end": 0.24508096382136,
            "count": 0
           },
           {
            "bin_start": 0.24508096382136,
            "bin_end": 0.33944576881469,
            "count": 0
           },
           {
            "bin_start": 0.33944576881469,
            "bin_end": 0.43381057380802,
            "count": 1
           },
           {
            "bin_start": 0.43381057380802,
            "bin_end": 0.52817537880135,
            "count": 0
           },
           {
            "bin_start": 0.52817537880135,
            "bin_end": 0.62254018379468,
            "count": 1
           },
           {
            "bin_start": 0.62254018379468,
            "bin_end": 0.71690498878801,
            "count": 0
           },
           {
            "bin_start": 0.71690498878801,
            "bin_end": 0.81126979378134,
            "count": 0
           },
           {
            "bin_start": 0.81126979378134,
            "bin_end": 0.90563459877467,
            "count": 0
           },
           {
            "bin_start": 0.90563459877467,
            "bin_end": 0.999999403768,
            "count": 2
           }
          ]
         }
        },
        {
         "name": "android_sensor_accelerometer_min",
         "dtype": "float64",
         "stats": {
          "unique_count": 5,
          "nan_count": 0,
          "min": "7.65967372861",
          "max": "9.80481712742",
          "histogram": [
           {
            "bin_start": 7.65967372861,
            "bin_end": 7.874188068491,
            "count": 2
           },
           {
            "bin_start": 7.874188068491,
            "bin_end": 8.088702408371999,
            "count": 0
           },
           {
            "bin_start": 8.088702408371999,
            "bin_end": 8.303216748253,
            "count": 0
           },
           {
            "bin_start": 8.303216748253,
            "bin_end": 8.517731088134,
            "count": 0
           },
           {
            "bin_start": 8.517731088134,
            "bin_end": 8.732245428015,
            "count": 0
           },
           {
            "bin_start": 8.732245428015,
            "bin_end": 8.946759767896,
            "count": 0
           },
           {
            "bin_start": 8.946759767896,
            "bin_end": 9.161274107777,
            "count": 1
           },
           {
            "bin_start": 9.161274107777,
            "bin_end": 9.375788447658,
            "count": 0
           },
           {
            "bin_start": 9.375788447658,
            "bin_end": 9.590302787539,
            "count": 0
           },
           {
            "bin_start": 9.590302787539,
            "bin_end": 9.80481712742,
            "count": 2
           }
          ]
         }
        },
        {
         "name": "android_sensor_magnetic_field_uncalibrated_min",
         "dtype": "float64",
         "stats": {
          "unique_count": 5,
          "nan_count": 0,
          "min": "51.1997072531",
          "max": "156.79590908",
          "histogram": [
           {
            "bin_start": 51.1997072531,
            "bin_end": 61.75932743579,
            "count": 2
           },
           {
            "bin_start": 61.75932743579,
            "bin_end": 72.31894761848,
            "count": 0
           },
           {
            "bin_start": 72.31894761848,
            "bin_end": 82.87856780117,
            "count": 1
           },
           {
            "bin_start": 82.87856780117,
            "bin_end": 93.43818798386,
            "count": 0
           },
           {
            "bin_start": 93.43818798386,
            "bin_end": 103.99780816655,
            "count": 1
           },
           {
            "bin_start": 103.99780816655,
            "bin_end": 114.55742834924001,
            "count": 0
           },
           {
            "bin_start": 114.55742834924001,
            "bin_end": 125.11704853193001,
            "count": 0
           },
           {
            "bin_start": 125.11704853193001,
            "bin_end": 135.67666871462,
            "count": 0
           },
           {
            "bin_start": 135.67666871462,
            "bin_end": 146.23628889731,
            "count": 0
           },
           {
            "bin_start": 146.23628889731,
            "bin_end": 156.79590908,
            "count": 1
           }
          ]
         }
        },
        {
         "name": "sound_min",
         "dtype": "float64",
         "stats": {
          "unique_count": 3,
          "nan_count": 2,
          "min": "87.4703770994",
          "max": "89.770732316",
          "histogram": [
           {
            "bin_start": 87.4703770994,
            "bin_end": 87.70041262106,
            "count": 1
           },
           {
            "bin_start": 87.70041262106,
            "bin_end": 87.93044814272,
            "count": 0
           },
           {
            "bin_start": 87.93044814272,
            "bin_end": 88.16048366438,
            "count": 0
           },
           {
            "bin_start": 88.16048366438,
            "bin_end": 88.39051918604,
            "count": 0
           },
           {
            "bin_start": 88.39051918604,
            "bin_end": 88.6205547077,
            "count": 0
           },
           {
            "bin_start": 88.6205547077,
            "bin_end": 88.85059022936,
            "count": 0
           },
           {
            "bin_start": 88.85059022936,
            "bin_end": 89.08062575102,
            "count": 1
           },
           {
            "bin_start": 89.08062575102,
            "bin_end": 89.31066127268,
            "count": 0
           },
           {
            "bin_start": 89.31066127268,
            "bin_end": 89.54069679434,
            "count": 0
           },
           {
            "bin_start": 89.54069679434,
            "bin_end": 89.770732316,
            "count": 1
           }
          ]
         }
        },
        {
         "name": "target",
         "dtype": "object",
         "stats": {
          "unique_count": 2,
          "nan_count": 0,
          "categories": [
           {
            "name": "Car",
            "count": 3
           },
           {
            "name": "Still",
            "count": 2
           }
          ]
         }
        },
        {
         "name": "acc_gyro",
         "dtype": "float64",
         "stats": {
          "unique_count": 5,
          "nan_count": 0,
          "min": "8.32207627870112e-05",
          "max": "0.0590353948307222",
          "histogram": [
           {
            "bin_start": 0.0000832207627870112,
            "bin_end": 0.005978438169580529,
            "count": 2
           },
           {
            "bin_start": 0.005978438169580529,
            "bin_end": 0.011873655576374048,
            "count": 0
           },
           {
            "bin_start": 0.011873655576374048,
            "bin_end": 0.01776887298316757,
            "count": 0
           },
           {
            "bin_start": 0.01776887298316757,
            "bin_end": 0.023664090389961086,
            "count": 0
           },
           {
            "bin_start": 0.023664090389961086,
            "bin_end": 0.029559307796754603,
            "count": 0
           },
           {
            "bin_start": 0.029559307796754603,
            "bin_end": 0.03545452520354812,
            "count": 0
           },
           {
            "bin_start": 0.03545452520354812,
            "bin_end": 0.04134974261034164,
            "count": 2
           },
           {
            "bin_start": 0.04134974261034164,
            "bin_end": 0.04724496001713516,
            "count": 0
           },
           {
            "bin_start": 0.04724496001713516,
            "bin_end": 0.053140177423928674,
            "count": 0
           },
           {
            "bin_start": 0.053140177423928674,
            "bin_end": 0.0590353948307222,
            "count": 1
           }
          ]
         }
        },
        {
         "name": "Lin_speed",
         "dtype": "float64",
         "stats": {
          "unique_count": 5,
          "nan_count": 0,
          "min": "0.0037839517134037",
          "max": "24.343749250541475",
          "histogram": [
           {
            "bin_start": 0.0037839517134037,
            "bin_end": 2.4377804815962105,
            "count": 2
           },
           {
            "bin_start": 2.4377804815962105,
            "bin_end": 4.8717770114790175,
            "count": 0
           },
           {
            "bin_start": 4.8717770114790175,
            "bin_end": 7.305773541361825,
            "count": 0
           },
           {
            "bin_start": 7.305773541361825,
            "bin_end": 9.739770071244632,
            "count": 0
           },
           {
            "bin_start": 9.739770071244632,
            "bin_end": 12.173766601127438,
            "count": 0
           },
           {
            "bin_start": 12.173766601127438,
            "bin_end": 14.607763131010246,
            "count": 1
           },
           {
            "bin_start": 14.607763131010246,
            "bin_end": 17.041759660893053,
            "count": 0
           },
           {
            "bin_start": 17.041759660893053,
            "bin_end": 19.47575619077586,
            "count": 0
           },
           {
            "bin_start": 19.47575619077586,
            "bin_end": 21.90975272065867,
            "count": 1
           },
           {
            "bin_start": 21.90975272065867,
            "bin_end": 24.343749250541475,
            "count": 1
           }
          ]
         }
        },
        {
         "name": "_deepnote_index_column",
         "dtype": "int64"
        }
       ],
       "rows_top": [
        {
         "id": 16170,
         "user": "Luca",
         "android_sensor_gyroscope_mean": 0.00165077522136,
         "android_sensor_accelerometer_std": 0.0146255073331,
         "android_sensor_gyroscope_std": 0.000736963641413,
         "android_sensor_gyroscope_uncalibrated_mean": 0.0162213599906,
         "android_sensor_accelerometer_max": 9.84941095639,
         "android_sensor_linear_acceleration_mean": 0.0209778383629,
         "speed_mean": 0.1803785331903315,
         "android_sensor_rotation_vector_mean": 0.050413140269,
         "android_sensor_rotation_vector_max": 0.0563513538347,
         "android_sensor_accelerometer_min": 9.75889547269,
         "android_sensor_magnetic_field_uncalibrated_min": 51.1997072531,
         "sound_min": "nan",
         "target": "Still",
         "acc_gyro": 0.0000832207627870112,
         "Lin_speed": 0.0037839517134037,
         "_deepnote_index_column": 0
        },
        {
         "id": 15871,
         "user": "Luca",
         "android_sensor_gyroscope_mean": 0.0363257142488,
         "android_sensor_accelerometer_std": 1.7759442967,
         "android_sensor_gyroscope_std": 0.0202897002181,
         "android_sensor_gyroscope_uncalibrated_mean": 0.0390225389502,
         "android_sensor_accelerometer_max": 17.1466311902,
         "android_sensor_linear_acceleration_mean": 0.879220182554,
         "speed_mean": 14.679876452262643,
         "android_sensor_rotation_vector_mean": 0.999981228739,
         "android_sensor_rotation_vector_max": 0.999999403768,
         "android_sensor_accelerometer_min": 7.70743742161,
         "android_sensor_magnetic_field_uncalibrated_min": 82.4098901832,
         "sound_min": "89.06514335",
         "target": "Car",
         "acc_gyro": 0.0363250323693368,
         "Lin_speed": 12.906843654228528,
         "_deepnote_index_column": 1
        },
        {
         "id": 16811,
         "user": "Luca",
         "android_sensor_gyroscope_mean": 0.00152461653211,
         "android_sensor_accelerometer_std": 0.0111991059917,
         "android_sensor_gyroscope_std": 0.000712700740663,
         "android_sensor_gyroscope_uncalibrated_mean": 0.016301566129,
         "android_sensor_accelerometer_max": 9.84926211274,
         "android_sensor_linear_acceleration_mean": 0.0341102311454,
         "speed_mean": 0.1803785331903315,
         "android_sensor_rotation_vector_mean": 0.610456220789,
         "android_sensor_rotation_vector_max": 0.610456220789,
         "android_sensor_accelerometer_min": 9.80481712742,
         "android_sensor_magnetic_field_uncalibrated_min": 55.5018017726,
         "sound_min": "nan",
         "target": "Still",
         "acc_gyro": 0.0009307116463443,
         "Lin_speed": 0.0061527534607904,
         "_deepnote_index_column": 2
        },
        {
         "id": 15831,
         "user": "Luca",
         "android_sensor_gyroscope_mean": 0.0364403150565,
         "android_sensor_accelerometer_std": 0.862553258429,
         "android_sensor_gyroscope_std": 0.0105527726211,
         "android_sensor_gyroscope_uncalibrated_mean": 0.0507587448203,
         "android_sensor_accelerometer_max": 12.3042975935,
         "android_sensor_linear_acceleration_mean": 1.48836057989,
         "speed_mean": 14.679876452262643,
         "android_sensor_rotation_vector_mean": 0.998112317214,
         "android_sensor_rotation_vector_max": 0.998112317214,
         "android_sensor_accelerometer_min": 7.65967372861,
         "android_sensor_magnetic_field_uncalibrated_min": 95.6643091367,
         "sound_min": "87.4703770994",
         "target": "Car",
         "acc_gyro": 0.0363715273010514,
         "Lin_speed": 21.848949429203184,
         "_deepnote_index_column": 3
        },
        {
         "id": 876,
         "user": "andrea",
         "android_sensor_gyroscope_mean": 0.183202097809,
         "android_sensor_accelerometer_std": 0.504117059576,
         "android_sensor_gyroscope_std": 0.0988191384778,
         "android_sensor_gyroscope_uncalibrated_mean": 0.265652184888,
         "android_sensor_accelerometer_max": 10.8916451194,
         "android_sensor_linear_acceleration_mean": 1.65830750209,
         "speed_mean": 14.679876452262643,
         "android_sensor_rotation_vector_mean": 0.322241915004,
         "android_sensor_rotation_vector_max": 0.378193174062,
         "android_sensor_accelerometer_min": 8.96562096134,
         "android_sensor_magnetic_field_uncalibrated_min": 156.79590908,
         "sound_min": "89.770732316",
         "target": "Car",
         "acc_gyro": 0.0590353948307222,
         "Lin_speed": 24.343749250541475,
         "_deepnote_index_column": 4
        }
       ],
       "rows_bottom": null
      },
      "text/plain": "      id    user  android_sensor_gyroscope_mean  \\\n0  16170    Luca                       0.001651   \n1  15871    Luca                       0.036326   \n2  16811    Luca                       0.001525   \n3  15831    Luca                       0.036440   \n4    876  andrea                       0.183202   \n\n   android_sensor_accelerometer_std  android_sensor_gyroscope_std  \\\n0                          0.014626                      0.000737   \n1                          1.775944                      0.020290   \n2                          0.011199                      0.000713   \n3                          0.862553                      0.010553   \n4                          0.504117                      0.098819   \n\n   android_sensor_gyroscope_uncalibrated_mean  \\\n0                                    0.016221   \n1                                    0.039023   \n2                                    0.016302   \n3                                    0.050759   \n4                                    0.265652   \n\n   android_sensor_accelerometer_max  android_sensor_linear_acceleration_mean  \\\n0                          9.849411                                 0.020978   \n1                         17.146631                                 0.879220   \n2                          9.849262                                 0.034110   \n3                         12.304298                                 1.488361   \n4                         10.891645                                 1.658308   \n\n   speed_mean  android_sensor_rotation_vector_mean  \\\n0    0.180379                             0.050413   \n1   14.679876                             0.999981   \n2    0.180379                             0.610456   \n3   14.679876                             0.998112   \n4   14.679876                             0.322242   \n\n   android_sensor_rotation_vector_max  android_sensor_accelerometer_min  \\\n0                            0.056351                          9.758895   \n1                            0.999999                          7.707437   \n2                            0.610456                          9.804817   \n3                            0.998112                          7.659674   \n4                            0.378193                          8.965621   \n\n   android_sensor_magnetic_field_uncalibrated_min  sound_min target  acc_gyro  \\\n0                                       51.199707        NaN  Still  0.000083   \n1                                       82.409890  89.065143    Car  0.036325   \n2                                       55.501802        NaN  Still  0.000931   \n3                                       95.664309  87.470377    Car  0.036372   \n4                                      156.795909  89.770732    Car  0.059035   \n\n   Lin_speed  \n0   0.003784  \n1  12.906844  \n2   0.006153  \n3  21.848949  \n4  24.343749  ",
      "text/html": "<div>\n<style scoped>\n    .dataframe tbody tr th:only-of-type {\n        vertical-align: middle;\n    }\n\n    .dataframe tbody tr th {\n        vertical-align: top;\n    }\n\n    .dataframe thead th {\n        text-align: right;\n    }\n</style>\n<table border=\"1\" class=\"dataframe\">\n  <thead>\n    <tr style=\"text-align: right;\">\n      <th></th>\n      <th>id</th>\n      <th>user</th>\n      <th>android_sensor_gyroscope_mean</th>\n      <th>android_sensor_accelerometer_std</th>\n      <th>android_sensor_gyroscope_std</th>\n      <th>android_sensor_gyroscope_uncalibrated_mean</th>\n      <th>android_sensor_accelerometer_max</th>\n      <th>android_sensor_linear_acceleration_mean</th>\n      <th>speed_mean</th>\n      <th>android_sensor_rotation_vector_mean</th>\n      <th>android_sensor_rotation_vector_max</th>\n      <th>android_sensor_accelerometer_min</th>\n      <th>android_sensor_magnetic_field_uncalibrated_min</th>\n      <th>sound_min</th>\n      <th>target</th>\n      <th>acc_gyro</th>\n      <th>Lin_speed</th>\n    </tr>\n  </thead>\n  <tbody>\n    <tr>\n      <th>0</th>\n      <td>16170</td>\n      <td>Luca</td>\n      <td>0.001651</td>\n      <td>0.014626</td>\n      <td>0.000737</td>\n      <td>0.016221</td>\n      <td>9.849411</td>\n      <td>0.020978</td>\n      <td>0.180379</td>\n      <td>0.050413</td>\n      <td>0.056351</td>\n      <td>9.758895</td>\n      <td>51.199707</td>\n      <td>NaN</td>\n      <td>Still</td>\n      <td>0.000083</td>\n      <td>0.003784</td>\n    </tr>\n    <tr>\n      <th>1</th>\n      <td>15871</td>\n      <td>Luca</td>\n      <td>0.036326</td>\n      <td>1.775944</td>\n      <td>0.020290</td>\n      <td>0.039023</td>\n      <td>17.146631</td>\n      <td>0.879220</td>\n      <td>14.679876</td>\n      <td>0.999981</td>\n      <td>0.999999</td>\n      <td>7.707437</td>\n      <td>82.409890</td>\n      <td>89.065143</td>\n      <td>Car</td>\n      <td>0.036325</td>\n      <td>12.906844</td>\n    </tr>\n    <tr>\n      <th>2</th>\n      <td>16811</td>\n      <td>Luca</td>\n      <td>0.001525</td>\n      <td>0.011199</td>\n      <td>0.000713</td>\n      <td>0.016302</td>\n      <td>9.849262</td>\n      <td>0.034110</td>\n      <td>0.180379</td>\n      <td>0.610456</td>\n      <td>0.610456</td>\n      <td>9.804817</td>\n      <td>55.501802</td>\n      <td>NaN</td>\n      <td>Still</td>\n      <td>0.000931</td>\n      <td>0.006153</td>\n    </tr>\n    <tr>\n      <th>3</th>\n      <td>15831</td>\n      <td>Luca</td>\n      <td>0.036440</td>\n      <td>0.862553</td>\n      <td>0.010553</td>\n      <td>0.050759</td>\n      <td>12.304298</td>\n      <td>1.488361</td>\n      <td>14.679876</td>\n      <td>0.998112</td>\n      <td>0.998112</td>\n      <td>7.659674</td>\n      <td>95.664309</td>\n      <td>87.470377</td>\n      <td>Car</td>\n      <td>0.036372</td>\n      <td>21.848949</td>\n    </tr>\n    <tr>\n      <th>4</th>\n      <td>876</td>\n      <td>andrea</td>\n      <td>0.183202</td>\n      <td>0.504117</td>\n      <td>0.098819</td>\n      <td>0.265652</td>\n      <td>10.891645</td>\n      <td>1.658308</td>\n      <td>14.679876</td>\n      <td>0.322242</td>\n      <td>0.378193</td>\n      <td>8.965621</td>\n      <td>156.795909</td>\n      <td>89.770732</td>\n      <td>Car</td>\n      <td>0.059035</td>\n      <td>24.343749</td>\n    </tr>\n  </tbody>\n</table>\n</div>"
     },
     "metadata": {}
    }
   ],
   "execution_count": 2
  },
  {
   "cell_type": "markdown",
   "source": "",
   "metadata": {
    "tags": [],
    "cell_id": "00003-497c8309-31fc-4274-92f9-bc699f6f8482",
    "deepnote_cell_type": "text-cell-p"
   }
  },
  {
   "cell_type": "markdown",
   "source": "## Separate data into Train and Test  based on users",
   "metadata": {
    "tags": [],
    "cell_id": "00004-ec6a2941-3d0f-424c-b516-4181b4d5a8b6",
    "deepnote_cell_type": "text-cell-h2"
   }
  },
  {
   "cell_type": "markdown",
   "source": "There are 13 users in the data. The rows contain the data of users from multiple instances. If we don't separate the users and keep the same users both in train and test, the model will pick up the hidden patterns and ultimately overfit the data.                                                                                                 Hence, split the data so that the test data contains new users that the model has never seen before.",
   "metadata": {
    "tags": [],
    "cell_id": "00005-91d6c903-7ef8-4d0c-ac3e-7571cd05f586",
    "deepnote_cell_type": "text-cell-p"
   }
  },
  {
   "cell_type": "code",
   "source": "# create test data from certain users\n\ndf=data.copy()\nuser1=df[df['user']=='Pierpaolo']\nuser2=df[df['user']=='IvanHeibi']\nuser3=df[df['user']=='AndreaCarpineti']\nuser4=df[df['user']=='Elena']\nusers=[user1,user2,user3,user4]\ndf_test=pd.concat(users)\n\n#print(df_test.head(5))\ndf_test.user.unique()",
   "metadata": {
    "tags": [],
    "cell_id": "00003-1c4abc6c-8581-429f-875e-af7f037a8df0",
    "deepnote_to_be_reexecuted": false,
    "source_hash": "2d9ddd48",
    "execution_start": 1621428491097,
    "execution_millis": 191,
    "deepnote_cell_type": "code"
   },
   "outputs": [
    {
     "output_type": "execute_result",
     "execution_count": 3,
     "data": {
      "text/plain": "array(['Pierpaolo', 'IvanHeibi', 'AndreaCarpineti', 'Elena'], dtype=object)"
     },
     "metadata": {}
    }
   ],
   "execution_count": 3
  },
  {
   "cell_type": "code",
   "source": "#create train data by substracting it from test data\n\ndf_train = df.merge(df_test, how='left', indicator=True)\ndf_train = df_train[df_train['_merge'] == 'left_only']\ndf_train=df_train.drop('_merge',axis=1)\n\n#df_train.head(5)\ndf_train.user.unique()",
   "metadata": {
    "tags": [],
    "cell_id": "00007-7a9c0467-9c7a-4cea-a31d-7aea9ef4ccfe",
    "deepnote_to_be_reexecuted": false,
    "source_hash": "89db0858",
    "execution_start": 1621428494265,
    "execution_millis": 733,
    "deepnote_cell_type": "code"
   },
   "outputs": [
    {
     "output_type": "execute_result",
     "execution_count": 4,
     "data": {
      "text/plain": "array(['Luca', 'andrea', 'Federica', 'michelangelo', 'Damiano', 'Claudio',\n       'Vincenzo', 'Serena', 'Riccardo'], dtype=object)"
     },
     "metadata": {}
    }
   ],
   "execution_count": 4
  },
  {
   "cell_type": "markdown",
   "source": "",
   "metadata": {
    "tags": [],
    "cell_id": "00008-352a5bc0-7e4a-4305-96dd-0fd5efab676f",
    "deepnote_cell_type": "text-cell-p"
   }
  },
  {
   "cell_type": "markdown",
   "source": "## Drop the columns which are not useful",
   "metadata": {
    "tags": [],
    "cell_id": "00009-a25c2f8e-d1d6-4806-b103-835532841905",
    "deepnote_cell_type": "text-cell-h2"
   }
  },
  {
   "cell_type": "code",
   "source": "df_train.head()",
   "metadata": {
    "tags": [],
    "cell_id": "00010-17c762fb-6ea6-4014-90eb-32d74fa5581e",
    "deepnote_to_be_reexecuted": false,
    "source_hash": "5e2a9c26",
    "execution_start": 1621428499542,
    "execution_millis": 1006,
    "deepnote_cell_type": "code"
   },
   "outputs": [
    {
     "output_type": "execute_result",
     "execution_count": 5,
     "data": {
      "application/vnd.deepnote.dataframe.v2+json": {
       "row_count": 5,
       "column_count": 17,
       "columns": [
        {
         "name": "id",
         "dtype": "int64",
         "stats": {
          "unique_count": 5,
          "nan_count": 0,
          "min": "876",
          "max": "16811",
          "histogram": [
           {
            "bin_start": 876,
            "bin_end": 2469.5,
            "count": 1
           },
           {
            "bin_start": 2469.5,
            "bin_end": 4063,
            "count": 0
           },
           {
            "bin_start": 4063,
            "bin_end": 5656.5,
            "count": 0
           },
           {
            "bin_start": 5656.5,
            "bin_end": 7250,
            "count": 0
           },
           {
            "bin_start": 7250,
            "bin_end": 8843.5,
            "count": 0
           },
           {
            "bin_start": 8843.5,
            "bin_end": 10437,
            "count": 0
           },
           {
            "bin_start": 10437,
            "bin_end": 12030.5,
            "count": 0
           },
           {
            "bin_start": 12030.5,
            "bin_end": 13624,
            "count": 0
           },
           {
            "bin_start": 13624,
            "bin_end": 15217.5,
            "count": 0
           },
           {
            "bin_start": 15217.5,
            "bin_end": 16811,
            "count": 4
           }
          ]
         }
        },
        {
         "name": "user",
         "dtype": "object",
         "stats": {
          "unique_count": 2,
          "nan_count": 0,
          "categories": [
           {
            "name": "Luca",
            "count": 4
           },
           {
            "name": "andrea",
            "count": 1
           }
          ]
         }
        },
        {
         "name": "android_sensor_gyroscope_mean",
         "dtype": "float64",
         "stats": {
          "unique_count": 5,
          "nan_count": 0,
          "min": "0.00152461653211",
          "max": "0.183202097809",
          "histogram": [
           {
            "bin_start": 0.00152461653211,
            "bin_end": 0.019692364659799,
            "count": 2
           },
           {
            "bin_start": 0.019692364659799,
            "bin_end": 0.037860112787488,
            "count": 2
           },
           {
            "bin_start": 0.037860112787488,
            "bin_end": 0.056027860915177,
            "count": 0
           },
           {
            "bin_start": 0.056027860915177,
            "bin_end": 0.074195609042866,
            "count": 0
           },
           {
            "bin_start": 0.074195609042866,
            "bin_end": 0.092363357170555,
            "count": 0
           },
           {
            "bin_start": 0.092363357170555,
            "bin_end": 0.110531105298244,
            "count": 0
           },
           {
            "bin_start": 0.110531105298244,
            "bin_end": 0.12869885342593299,
            "count": 0
           },
           {
            "bin_start": 0.12869885342593299,
            "bin_end": 0.146866601553622,
            "count": 0
           },
           {
            "bin_start": 0.146866601553622,
            "bin_end": 0.165034349681311,
            "count": 0
           },
           {
            "bin_start": 0.165034349681311,
            "bin_end": 0.183202097809,
            "count": 1
           }
          ]
         }
        },
        {
         "name": "android_sensor_accelerometer_std",
         "dtype": "float64",
         "stats": {
          "unique_count": 5,
          "nan_count": 0,
          "min": "0.0111991059917",
          "max": "1.7759442967",
          "histogram": [
           {
            "bin_start": 0.0111991059917,
            "bin_end": 0.18767362506253,
            "count": 2
           },
           {
            "bin_start": 0.18767362506253,
            "bin_end": 0.36414814413336,
            "count": 0
           },
           {
            "bin_start": 0.36414814413336,
            "bin_end": 0.5406226632041901,
            "count": 1
           },
           {
            "bin_start": 0.5406226632041901,
            "bin_end": 0.7170971822750201,
            "count": 0
           },
           {
            "bin_start": 0.7170971822750201,
            "bin_end": 0.8935717013458501,
            "count": 1
           },
           {
            "bin_start": 0.8935717013458501,
            "bin_end": 1.07004622041668,
            "count": 0
           },
           {
            "bin_start": 1.07004622041668,
            "bin_end": 1.24652073948751,
            "count": 0
           },
           {
            "bin_start": 1.24652073948751,
            "bin_end": 1.42299525855834,
            "count": 0
           },
           {
            "bin_start": 1.42299525855834,
            "bin_end": 1.5994697776291702,
            "count": 0
           },
           {
            "bin_start": 1.5994697776291702,
            "bin_end": 1.7759442967,
            "count": 1
           }
          ]
         }
        },
        {
         "name": "android_sensor_gyroscope_std",
         "dtype": "float64",
         "stats": {
          "unique_count": 5,
          "nan_count": 0,
          "min": "0.000712700740663",
          "max": "0.0988191384778",
          "histogram": [
           {
            "bin_start": 0.000712700740663,
            "bin_end": 0.0105233445143767,
            "count": 2
           },
           {
            "bin_start": 0.0105233445143767,
            "bin_end": 0.0203339882880904,
            "count": 2
           },
           {
            "bin_start": 0.0203339882880904,
            "bin_end": 0.0301446320618041,
            "count": 0
           },
           {
            "bin_start": 0.0301446320618041,
            "bin_end": 0.0399552758355178,
            "count": 0
           },
           {
            "bin_start": 0.0399552758355178,
            "bin_end": 0.0497659196092315,
            "count": 0
           },
           {
            "bin_start": 0.0497659196092315,
            "bin_end": 0.0595765633829452,
            "count": 0
           },
           {
            "bin_start": 0.0595765633829452,
            "bin_end": 0.0693872071566589,
            "count": 0
           },
           {
            "bin_start": 0.0693872071566589,
            "bin_end": 0.0791978509303726,
            "count": 0
           },
           {
            "bin_start": 0.0791978509303726,
            "bin_end": 0.0890084947040863,
            "count": 0
           },
           {
            "bin_start": 0.0890084947040863,
            "bin_end": 0.0988191384778,
            "count": 1
           }
          ]
         }
        },
        {
         "name": "android_sensor_gyroscope_uncalibrated_mean",
         "dtype": "float64",
         "stats": {
          "unique_count": 5,
          "nan_count": 0,
          "min": "0.0162213599906",
          "max": "0.265652184888",
          "histogram": [
           {
            "bin_start": 0.0162213599906,
            "bin_end": 0.04116444248034,
            "count": 3
           },
           {
            "bin_start": 0.04116444248034,
            "bin_end": 0.06610752497008,
            "count": 1
           },
           {
            "bin_start": 0.06610752497008,
            "bin_end": 0.09105060745982,
            "count": 0
           },
           {
            "bin_start": 0.09105060745982,
            "bin_end": 0.11599368994956,
            "count": 0
           },
           {
            "bin_start": 0.11599368994956,
            "bin_end": 0.1409367724393,
            "count": 0
           },
           {
            "bin_start": 0.1409367724393,
            "bin_end": 0.16587985492904,
            "count": 0
           },
           {
            "bin_start": 0.16587985492904,
            "bin_end": 0.19082293741878,
            "count": 0
           },
           {
            "bin_start": 0.19082293741878,
            "bin_end": 0.21576601990852,
            "count": 0
           },
           {
            "bin_start": 0.21576601990852,
            "bin_end": 0.24070910239826002,
            "count": 0
           },
           {
            "bin_start": 0.24070910239826002,
            "bin_end": 0.265652184888,
            "count": 1
           }
          ]
         }
        },
        {
         "name": "android_sensor_accelerometer_max",
         "dtype": "float64",
         "stats": {
          "unique_count": 5,
          "nan_count": 0,
          "min": "9.84926211274",
          "max": "17.1466311902",
          "histogram": [
           {
            "bin_start": 9.84926211274,
            "bin_end": 10.578999020486,
            "count": 2
           },
           {
            "bin_start": 10.578999020486,
            "bin_end": 11.308735928232,
            "count": 1
           },
           {
            "bin_start": 11.308735928232,
            "bin_end": 12.038472835978,
            "count": 0
           },
           {
            "bin_start": 12.038472835978,
            "bin_end": 12.768209743724,
            "count": 1
           },
           {
            "bin_start": 12.768209743724,
            "bin_end": 13.49794665147,
            "count": 0
           },
           {
            "bin_start": 13.49794665147,
            "bin_end": 14.227683559216,
            "count": 0
           },
           {
            "bin_start": 14.227683559216,
            "bin_end": 14.957420466962,
            "count": 0
           },
           {
            "bin_start": 14.957420466962,
            "bin_end": 15.687157374708,
            "count": 0
           },
           {
            "bin_start": 15.687157374708,
            "bin_end": 16.416894282454003,
            "count": 0
           },
           {
            "bin_start": 16.416894282454003,
            "bin_end": 17.1466311902,
            "count": 1
           }
          ]
         }
        },
        {
         "name": "android_sensor_linear_acceleration_mean",
         "dtype": "float64",
         "stats": {
          "unique_count": 5,
          "nan_count": 0,
          "min": "0.0209778383629",
          "max": "1.65830750209",
          "histogram": [
           {
            "bin_start": 0.0209778383629,
            "bin_end": 0.18471080473561002,
            "count": 2
           },
           {
            "bin_start": 0.18471080473561002,
            "bin_end": 0.34844377110832003,
            "count": 0
           },
           {
            "bin_start": 0.34844377110832003,
            "bin_end": 0.51217673748103,
            "count": 0
           },
           {
            "bin_start": 0.51217673748103,
            "bin_end": 0.67590970385374,
            "count": 0
           },
           {
            "bin_start": 0.67590970385374,
            "bin_end": 0.8396426702264501,
            "count": 0
           },
           {
            "bin_start": 0.8396426702264501,
            "bin_end": 1.00337563659916,
            "count": 1
           },
           {
            "bin_start": 1.00337563659916,
            "bin_end": 1.16710860297187,
            "count": 0
           },
           {
            "bin_start": 1.16710860297187,
            "bin_end": 1.33084156934458,
            "count": 0
           },
           {
            "bin_start": 1.33084156934458,
            "bin_end": 1.4945745357172902,
            "count": 1
           },
           {
            "bin_start": 1.4945745357172902,
            "bin_end": 1.65830750209,
            "count": 1
           }
          ]
         }
        },
        {
         "name": "speed_mean",
         "dtype": "float64",
         "stats": {
          "unique_count": 2,
          "nan_count": 0,
          "min": "0.1803785331903315",
          "max": "14.679876452262643",
          "histogram": [
           {
            "bin_start": 0.1803785331903315,
            "bin_end": 1.6303283250975626,
            "count": 2
           },
           {
            "bin_start": 1.6303283250975626,
            "bin_end": 3.0802781170047937,
            "count": 0
           },
           {
            "bin_start": 3.0802781170047937,
            "bin_end": 4.530227908912024,
            "count": 0
           },
           {
            "bin_start": 4.530227908912024,
            "bin_end": 5.980177700819255,
            "count": 0
           },
           {
            "bin_start": 5.980177700819255,
            "bin_end": 7.430127492726487,
            "count": 0
           },
           {
            "bin_start": 7.430127492726487,
            "bin_end": 8.880077284633717,
            "count": 0
           },
           {
            "bin_start": 8.880077284633717,
            "bin_end": 10.330027076540949,
            "count": 0
           },
           {
            "bin_start": 10.330027076540949,
            "bin_end": 11.77997686844818,
            "count": 0
           },
           {
            "bin_start": 11.77997686844818,
            "bin_end": 13.229926660355412,
            "count": 0
           },
           {
            "bin_start": 13.229926660355412,
            "bin_end": 14.679876452262643,
            "count": 3
           }
          ]
         }
        },
        {
         "name": "android_sensor_rotation_vector_mean",
         "dtype": "float64",
         "stats": {
          "unique_count": 5,
          "nan_count": 0,
          "min": "0.050413140269",
          "max": "0.999981228739",
          "histogram": [
           {
            "bin_start": 0.050413140269,
            "bin_end": 0.14536994911599999,
            "count": 1
           },
           {
            "bin_start": 0.14536994911599999,
            "bin_end": 0.24032675796300002,
            "count": 0
           },
           {
            "bin_start": 0.24032675796300002,
            "bin_end": 0.33528356681000004,
            "count": 1
           },
           {
            "bin_start": 0.33528356681000004,
            "bin_end": 0.430240375657,
            "count": 0
           },
           {
            "bin_start": 0.430240375657,
            "bin_end": 0.525197184504,
            "count": 0
           },
           {
            "bin_start": 0.525197184504,
            "bin_end": 0.6201539933510001,
            "count": 1
           },
           {
            "bin_start": 0.6201539933510001,
            "bin_end": 0.715110802198,
            "count": 0
           },
           {
            "bin_start": 0.715110802198,
            "bin_end": 0.810067611045,
            "count": 0
           },
           {
            "bin_start": 0.810067611045,
            "bin_end": 0.905024419892,
            "count": 0
           },
           {
            "bin_start": 0.905024419892,
            "bin_end": 0.999981228739,
            "count": 2
           }
          ]
         }
        },
        {
         "name": "android_sensor_rotation_vector_max",
         "dtype": "float64",
         "stats": {
          "unique_count": 5,
          "nan_count": 0,
          "min": "0.0563513538347",
          "max": "0.999999403768",
          "histogram": [
           {
            "bin_start": 0.0563513538347,
            "bin_end": 0.15071615882803,
            "count": 1
           },
           {
            "bin_start": 0.15071615882803,
            "bin_end": 0.24508096382136,
            "count": 0
           },
           {
            "bin_start": 0.24508096382136,
            "bin_end": 0.33944576881469,
            "count": 0
           },
           {
            "bin_start": 0.33944576881469,
            "bin_end": 0.43381057380802,
            "count": 1
           },
           {
            "bin_start": 0.43381057380802,
            "bin_end": 0.52817537880135,
            "count": 0
           },
           {
            "bin_start": 0.52817537880135,
            "bin_end": 0.62254018379468,
            "count": 1
           },
           {
            "bin_start": 0.62254018379468,
            "bin_end": 0.71690498878801,
            "count": 0
           },
           {
            "bin_start": 0.71690498878801,
            "bin_end": 0.81126979378134,
            "count": 0
           },
           {
            "bin_start": 0.81126979378134,
            "bin_end": 0.90563459877467,
            "count": 0
           },
           {
            "bin_start": 0.90563459877467,
            "bin_end": 0.999999403768,
            "count": 2
           }
          ]
         }
        },
        {
         "name": "android_sensor_accelerometer_min",
         "dtype": "float64",
         "stats": {
          "unique_count": 5,
          "nan_count": 0,
          "min": "7.65967372861",
          "max": "9.80481712742",
          "histogram": [
           {
            "bin_start": 7.65967372861,
            "bin_end": 7.874188068491,
            "count": 2
           },
           {
            "bin_start": 7.874188068491,
            "bin_end": 8.088702408371999,
            "count": 0
           },
           {
            "bin_start": 8.088702408371999,
            "bin_end": 8.303216748253,
            "count": 0
           },
           {
            "bin_start": 8.303216748253,
            "bin_end": 8.517731088134,
            "count": 0
           },
           {
            "bin_start": 8.517731088134,
            "bin_end": 8.732245428015,
            "count": 0
           },
           {
            "bin_start": 8.732245428015,
            "bin_end": 8.946759767896,
            "count": 0
           },
           {
            "bin_start": 8.946759767896,
            "bin_end": 9.161274107777,
            "count": 1
           },
           {
            "bin_start": 9.161274107777,
            "bin_end": 9.375788447658,
            "count": 0
           },
           {
            "bin_start": 9.375788447658,
            "bin_end": 9.590302787539,
            "count": 0
           },
           {
            "bin_start": 9.590302787539,
            "bin_end": 9.80481712742,
            "count": 2
           }
          ]
         }
        },
        {
         "name": "android_sensor_magnetic_field_uncalibrated_min",
         "dtype": "float64",
         "stats": {
          "unique_count": 5,
          "nan_count": 0,
          "min": "51.1997072531",
          "max": "156.79590908",
          "histogram": [
           {
            "bin_start": 51.1997072531,
            "bin_end": 61.75932743579,
            "count": 2
           },
           {
            "bin_start": 61.75932743579,
            "bin_end": 72.31894761848,
            "count": 0
           },
           {
            "bin_start": 72.31894761848,
            "bin_end": 82.87856780117,
            "count": 1
           },
           {
            "bin_start": 82.87856780117,
            "bin_end": 93.43818798386,
            "count": 0
           },
           {
            "bin_start": 93.43818798386,
            "bin_end": 103.99780816655,
            "count": 1
           },
           {
            "bin_start": 103.99780816655,
            "bin_end": 114.55742834924001,
            "count": 0
           },
           {
            "bin_start": 114.55742834924001,
            "bin_end": 125.11704853193001,
            "count": 0
           },
           {
            "bin_start": 125.11704853193001,
            "bin_end": 135.67666871462,
            "count": 0
           },
           {
            "bin_start": 135.67666871462,
            "bin_end": 146.23628889731,
            "count": 0
           },
           {
            "bin_start": 146.23628889731,
            "bin_end": 156.79590908,
            "count": 1
           }
          ]
         }
        },
        {
         "name": "sound_min",
         "dtype": "float64",
         "stats": {
          "unique_count": 3,
          "nan_count": 2,
          "min": "87.4703770994",
          "max": "89.770732316",
          "histogram": [
           {
            "bin_start": 87.4703770994,
            "bin_end": 87.70041262106,
            "count": 1
           },
           {
            "bin_start": 87.70041262106,
            "bin_end": 87.93044814272,
            "count": 0
           },
           {
            "bin_start": 87.93044814272,
            "bin_end": 88.16048366438,
            "count": 0
           },
           {
            "bin_start": 88.16048366438,
            "bin_end": 88.39051918604,
            "count": 0
           },
           {
            "bin_start": 88.39051918604,
            "bin_end": 88.6205547077,
            "count": 0
           },
           {
            "bin_start": 88.6205547077,
            "bin_end": 88.85059022936,
            "count": 0
           },
           {
            "bin_start": 88.85059022936,
            "bin_end": 89.08062575102,
            "count": 1
           },
           {
            "bin_start": 89.08062575102,
            "bin_end": 89.31066127268,
            "count": 0
           },
           {
            "bin_start": 89.31066127268,
            "bin_end": 89.54069679434,
            "count": 0
           },
           {
            "bin_start": 89.54069679434,
            "bin_end": 89.770732316,
            "count": 1
           }
          ]
         }
        },
        {
         "name": "target",
         "dtype": "object",
         "stats": {
          "unique_count": 2,
          "nan_count": 0,
          "categories": [
           {
            "name": "Car",
            "count": 3
           },
           {
            "name": "Still",
            "count": 2
           }
          ]
         }
        },
        {
         "name": "acc_gyro",
         "dtype": "float64",
         "stats": {
          "unique_count": 5,
          "nan_count": 0,
          "min": "8.32207627870112e-05",
          "max": "0.0590353948307222",
          "histogram": [
           {
            "bin_start": 0.0000832207627870112,
            "bin_end": 0.005978438169580529,
            "count": 2
           },
           {
            "bin_start": 0.005978438169580529,
            "bin_end": 0.011873655576374048,
            "count": 0
           },
           {
            "bin_start": 0.011873655576374048,
            "bin_end": 0.01776887298316757,
            "count": 0
           },
           {
            "bin_start": 0.01776887298316757,
            "bin_end": 0.023664090389961086,
            "count": 0
           },
           {
            "bin_start": 0.023664090389961086,
            "bin_end": 0.029559307796754603,
            "count": 0
           },
           {
            "bin_start": 0.029559307796754603,
            "bin_end": 0.03545452520354812,
            "count": 0
           },
           {
            "bin_start": 0.03545452520354812,
            "bin_end": 0.04134974261034164,
            "count": 2
           },
           {
            "bin_start": 0.04134974261034164,
            "bin_end": 0.04724496001713516,
            "count": 0
           },
           {
            "bin_start": 0.04724496001713516,
            "bin_end": 0.053140177423928674,
            "count": 0
           },
           {
            "bin_start": 0.053140177423928674,
            "bin_end": 0.0590353948307222,
            "count": 1
           }
          ]
         }
        },
        {
         "name": "Lin_speed",
         "dtype": "float64",
         "stats": {
          "unique_count": 5,
          "nan_count": 0,
          "min": "0.0037839517134037",
          "max": "24.343749250541475",
          "histogram": [
           {
            "bin_start": 0.0037839517134037,
            "bin_end": 2.4377804815962105,
            "count": 2
           },
           {
            "bin_start": 2.4377804815962105,
            "bin_end": 4.8717770114790175,
            "count": 0
           },
           {
            "bin_start": 4.8717770114790175,
            "bin_end": 7.305773541361825,
            "count": 0
           },
           {
            "bin_start": 7.305773541361825,
            "bin_end": 9.739770071244632,
            "count": 0
           },
           {
            "bin_start": 9.739770071244632,
            "bin_end": 12.173766601127438,
            "count": 0
           },
           {
            "bin_start": 12.173766601127438,
            "bin_end": 14.607763131010246,
            "count": 1
           },
           {
            "bin_start": 14.607763131010246,
            "bin_end": 17.041759660893053,
            "count": 0
           },
           {
            "bin_start": 17.041759660893053,
            "bin_end": 19.47575619077586,
            "count": 0
           },
           {
            "bin_start": 19.47575619077586,
            "bin_end": 21.90975272065867,
            "count": 1
           },
           {
            "bin_start": 21.90975272065867,
            "bin_end": 24.343749250541475,
            "count": 1
           }
          ]
         }
        },
        {
         "name": "_deepnote_index_column",
         "dtype": "int64"
        }
       ],
       "rows_top": [
        {
         "id": 16170,
         "user": "Luca",
         "android_sensor_gyroscope_mean": 0.00165077522136,
         "android_sensor_accelerometer_std": 0.0146255073331,
         "android_sensor_gyroscope_std": 0.000736963641413,
         "android_sensor_gyroscope_uncalibrated_mean": 0.0162213599906,
         "android_sensor_accelerometer_max": 9.84941095639,
         "android_sensor_linear_acceleration_mean": 0.0209778383629,
         "speed_mean": 0.1803785331903315,
         "android_sensor_rotation_vector_mean": 0.050413140269,
         "android_sensor_rotation_vector_max": 0.0563513538347,
         "android_sensor_accelerometer_min": 9.75889547269,
         "android_sensor_magnetic_field_uncalibrated_min": 51.1997072531,
         "sound_min": "nan",
         "target": "Still",
         "acc_gyro": 0.0000832207627870112,
         "Lin_speed": 0.0037839517134037,
         "_deepnote_index_column": 0
        },
        {
         "id": 15871,
         "user": "Luca",
         "android_sensor_gyroscope_mean": 0.0363257142488,
         "android_sensor_accelerometer_std": 1.7759442967,
         "android_sensor_gyroscope_std": 0.0202897002181,
         "android_sensor_gyroscope_uncalibrated_mean": 0.0390225389502,
         "android_sensor_accelerometer_max": 17.1466311902,
         "android_sensor_linear_acceleration_mean": 0.879220182554,
         "speed_mean": 14.679876452262643,
         "android_sensor_rotation_vector_mean": 0.999981228739,
         "android_sensor_rotation_vector_max": 0.999999403768,
         "android_sensor_accelerometer_min": 7.70743742161,
         "android_sensor_magnetic_field_uncalibrated_min": 82.4098901832,
         "sound_min": "89.06514335",
         "target": "Car",
         "acc_gyro": 0.0363250323693368,
         "Lin_speed": 12.906843654228528,
         "_deepnote_index_column": 1
        },
        {
         "id": 16811,
         "user": "Luca",
         "android_sensor_gyroscope_mean": 0.00152461653211,
         "android_sensor_accelerometer_std": 0.0111991059917,
         "android_sensor_gyroscope_std": 0.000712700740663,
         "android_sensor_gyroscope_uncalibrated_mean": 0.016301566129,
         "android_sensor_accelerometer_max": 9.84926211274,
         "android_sensor_linear_acceleration_mean": 0.0341102311454,
         "speed_mean": 0.1803785331903315,
         "android_sensor_rotation_vector_mean": 0.610456220789,
         "android_sensor_rotation_vector_max": 0.610456220789,
         "android_sensor_accelerometer_min": 9.80481712742,
         "android_sensor_magnetic_field_uncalibrated_min": 55.5018017726,
         "sound_min": "nan",
         "target": "Still",
         "acc_gyro": 0.0009307116463443,
         "Lin_speed": 0.0061527534607904,
         "_deepnote_index_column": 2
        },
        {
         "id": 15831,
         "user": "Luca",
         "android_sensor_gyroscope_mean": 0.0364403150565,
         "android_sensor_accelerometer_std": 0.862553258429,
         "android_sensor_gyroscope_std": 0.0105527726211,
         "android_sensor_gyroscope_uncalibrated_mean": 0.0507587448203,
         "android_sensor_accelerometer_max": 12.3042975935,
         "android_sensor_linear_acceleration_mean": 1.48836057989,
         "speed_mean": 14.679876452262643,
         "android_sensor_rotation_vector_mean": 0.998112317214,
         "android_sensor_rotation_vector_max": 0.998112317214,
         "android_sensor_accelerometer_min": 7.65967372861,
         "android_sensor_magnetic_field_uncalibrated_min": 95.6643091367,
         "sound_min": "87.4703770994",
         "target": "Car",
         "acc_gyro": 0.0363715273010514,
         "Lin_speed": 21.848949429203184,
         "_deepnote_index_column": 3
        },
        {
         "id": 876,
         "user": "andrea",
         "android_sensor_gyroscope_mean": 0.183202097809,
         "android_sensor_accelerometer_std": 0.504117059576,
         "android_sensor_gyroscope_std": 0.0988191384778,
         "android_sensor_gyroscope_uncalibrated_mean": 0.265652184888,
         "android_sensor_accelerometer_max": 10.8916451194,
         "android_sensor_linear_acceleration_mean": 1.65830750209,
         "speed_mean": 14.679876452262643,
         "android_sensor_rotation_vector_mean": 0.322241915004,
         "android_sensor_rotation_vector_max": 0.378193174062,
         "android_sensor_accelerometer_min": 8.96562096134,
         "android_sensor_magnetic_field_uncalibrated_min": 156.79590908,
         "sound_min": "89.770732316",
         "target": "Car",
         "acc_gyro": 0.0590353948307222,
         "Lin_speed": 24.343749250541475,
         "_deepnote_index_column": 4
        }
       ],
       "rows_bottom": null
      },
      "text/plain": "      id    user  android_sensor_gyroscope_mean  \\\n0  16170    Luca                       0.001651   \n1  15871    Luca                       0.036326   \n2  16811    Luca                       0.001525   \n3  15831    Luca                       0.036440   \n4    876  andrea                       0.183202   \n\n   android_sensor_accelerometer_std  android_sensor_gyroscope_std  \\\n0                          0.014626                      0.000737   \n1                          1.775944                      0.020290   \n2                          0.011199                      0.000713   \n3                          0.862553                      0.010553   \n4                          0.504117                      0.098819   \n\n   android_sensor_gyroscope_uncalibrated_mean  \\\n0                                    0.016221   \n1                                    0.039023   \n2                                    0.016302   \n3                                    0.050759   \n4                                    0.265652   \n\n   android_sensor_accelerometer_max  android_sensor_linear_acceleration_mean  \\\n0                          9.849411                                 0.020978   \n1                         17.146631                                 0.879220   \n2                          9.849262                                 0.034110   \n3                         12.304298                                 1.488361   \n4                         10.891645                                 1.658308   \n\n   speed_mean  android_sensor_rotation_vector_mean  \\\n0    0.180379                             0.050413   \n1   14.679876                             0.999981   \n2    0.180379                             0.610456   \n3   14.679876                             0.998112   \n4   14.679876                             0.322242   \n\n   android_sensor_rotation_vector_max  android_sensor_accelerometer_min  \\\n0                            0.056351                          9.758895   \n1                            0.999999                          7.707437   \n2                            0.610456                          9.804817   \n3                            0.998112                          7.659674   \n4                            0.378193                          8.965621   \n\n   android_sensor_magnetic_field_uncalibrated_min  sound_min target  acc_gyro  \\\n0                                       51.199707        NaN  Still  0.000083   \n1                                       82.409890  89.065143    Car  0.036325   \n2                                       55.501802        NaN  Still  0.000931   \n3                                       95.664309  87.470377    Car  0.036372   \n4                                      156.795909  89.770732    Car  0.059035   \n\n   Lin_speed  \n0   0.003784  \n1  12.906844  \n2   0.006153  \n3  21.848949  \n4  24.343749  ",
      "text/html": "<div>\n<style scoped>\n    .dataframe tbody tr th:only-of-type {\n        vertical-align: middle;\n    }\n\n    .dataframe tbody tr th {\n        vertical-align: top;\n    }\n\n    .dataframe thead th {\n        text-align: right;\n    }\n</style>\n<table border=\"1\" class=\"dataframe\">\n  <thead>\n    <tr style=\"text-align: right;\">\n      <th></th>\n      <th>id</th>\n      <th>user</th>\n      <th>android_sensor_gyroscope_mean</th>\n      <th>android_sensor_accelerometer_std</th>\n      <th>android_sensor_gyroscope_std</th>\n      <th>android_sensor_gyroscope_uncalibrated_mean</th>\n      <th>android_sensor_accelerometer_max</th>\n      <th>android_sensor_linear_acceleration_mean</th>\n      <th>speed_mean</th>\n      <th>android_sensor_rotation_vector_mean</th>\n      <th>android_sensor_rotation_vector_max</th>\n      <th>android_sensor_accelerometer_min</th>\n      <th>android_sensor_magnetic_field_uncalibrated_min</th>\n      <th>sound_min</th>\n      <th>target</th>\n      <th>acc_gyro</th>\n      <th>Lin_speed</th>\n    </tr>\n  </thead>\n  <tbody>\n    <tr>\n      <th>0</th>\n      <td>16170</td>\n      <td>Luca</td>\n      <td>0.001651</td>\n      <td>0.014626</td>\n      <td>0.000737</td>\n      <td>0.016221</td>\n      <td>9.849411</td>\n      <td>0.020978</td>\n      <td>0.180379</td>\n      <td>0.050413</td>\n      <td>0.056351</td>\n      <td>9.758895</td>\n      <td>51.199707</td>\n      <td>NaN</td>\n      <td>Still</td>\n      <td>0.000083</td>\n      <td>0.003784</td>\n    </tr>\n    <tr>\n      <th>1</th>\n      <td>15871</td>\n      <td>Luca</td>\n      <td>0.036326</td>\n      <td>1.775944</td>\n      <td>0.020290</td>\n      <td>0.039023</td>\n      <td>17.146631</td>\n      <td>0.879220</td>\n      <td>14.679876</td>\n      <td>0.999981</td>\n      <td>0.999999</td>\n      <td>7.707437</td>\n      <td>82.409890</td>\n      <td>89.065143</td>\n      <td>Car</td>\n      <td>0.036325</td>\n      <td>12.906844</td>\n    </tr>\n    <tr>\n      <th>2</th>\n      <td>16811</td>\n      <td>Luca</td>\n      <td>0.001525</td>\n      <td>0.011199</td>\n      <td>0.000713</td>\n      <td>0.016302</td>\n      <td>9.849262</td>\n      <td>0.034110</td>\n      <td>0.180379</td>\n      <td>0.610456</td>\n      <td>0.610456</td>\n      <td>9.804817</td>\n      <td>55.501802</td>\n      <td>NaN</td>\n      <td>Still</td>\n      <td>0.000931</td>\n      <td>0.006153</td>\n    </tr>\n    <tr>\n      <th>3</th>\n      <td>15831</td>\n      <td>Luca</td>\n      <td>0.036440</td>\n      <td>0.862553</td>\n      <td>0.010553</td>\n      <td>0.050759</td>\n      <td>12.304298</td>\n      <td>1.488361</td>\n      <td>14.679876</td>\n      <td>0.998112</td>\n      <td>0.998112</td>\n      <td>7.659674</td>\n      <td>95.664309</td>\n      <td>87.470377</td>\n      <td>Car</td>\n      <td>0.036372</td>\n      <td>21.848949</td>\n    </tr>\n    <tr>\n      <th>4</th>\n      <td>876</td>\n      <td>andrea</td>\n      <td>0.183202</td>\n      <td>0.504117</td>\n      <td>0.098819</td>\n      <td>0.265652</td>\n      <td>10.891645</td>\n      <td>1.658308</td>\n      <td>14.679876</td>\n      <td>0.322242</td>\n      <td>0.378193</td>\n      <td>8.965621</td>\n      <td>156.795909</td>\n      <td>89.770732</td>\n      <td>Car</td>\n      <td>0.059035</td>\n      <td>24.343749</td>\n    </tr>\n  </tbody>\n</table>\n</div>"
     },
     "metadata": {}
    }
   ],
   "execution_count": 5
  },
  {
   "cell_type": "code",
   "source": "#drop id, user \n#drop speed_mean because it only contains 5 unique values just like our target \n#and it's somehow leaking the data\n\n#Run this cell only once as it will drop the columns \n\nunimp    = ['id','user']\ndf_train  = df_train.drop(unimp,axis=1)\ndf_test  = df_test.drop(unimp,axis=1)\ndf_train=df_train.drop('speed_mean',axis=1)\ndf_test=df_test.drop('speed_mean',axis=1)",
   "metadata": {
    "tags": [],
    "cell_id": "00008-bca1fbce-3516-4da3-8b26-2ce06a0c302c",
    "deepnote_to_be_reexecuted": false,
    "source_hash": "962c7979",
    "execution_start": 1621428502981,
    "execution_millis": 77,
    "deepnote_cell_type": "code"
   },
   "outputs": [],
   "execution_count": 6
  },
  {
   "cell_type": "code",
   "source": "df_test.head()",
   "metadata": {
    "tags": [],
    "cell_id": "00012-ecf675a6-cc4e-4c22-bb11-76670fb501ce",
    "deepnote_to_be_reexecuted": false,
    "source_hash": "f6325a18",
    "execution_start": 1621428516700,
    "execution_millis": 555,
    "deepnote_cell_type": "code"
   },
   "outputs": [
    {
     "output_type": "execute_result",
     "execution_count": 7,
     "data": {
      "application/vnd.deepnote.dataframe.v2+json": {
       "row_count": 5,
       "column_count": 14,
       "columns": [
        {
         "name": "android_sensor_gyroscope_mean",
         "dtype": "float64",
         "stats": {
          "unique_count": 5,
          "nan_count": 0,
          "min": "0.0450412859846",
          "max": "1.73429365531",
          "histogram": [
           {
            "bin_start": 0.0450412859846,
            "bin_end": 0.21396652291713997,
            "count": 2
           },
           {
            "bin_start": 0.21396652291713997,
            "bin_end": 0.38289175984967994,
            "count": 0
           },
           {
            "bin_start": 0.38289175984967994,
            "bin_end": 0.5518169967822198,
            "count": 1
           },
           {
            "bin_start": 0.5518169967822198,
            "bin_end": 0.7207422337147599,
            "count": 1
           },
           {
            "bin_start": 0.7207422337147599,
            "bin_end": 0.8896674706472999,
            "count": 0
           },
           {
            "bin_start": 0.8896674706472999,
            "bin_end": 1.0585927075798396,
            "count": 0
           },
           {
            "bin_start": 1.0585927075798396,
            "bin_end": 1.2275179445123796,
            "count": 0
           },
           {
            "bin_start": 1.2275179445123796,
            "bin_end": 1.3964431814449196,
            "count": 0
           },
           {
            "bin_start": 1.3964431814449196,
            "bin_end": 1.5653684183774597,
            "count": 0
           },
           {
            "bin_start": 1.5653684183774597,
            "bin_end": 1.73429365531,
            "count": 1
           }
          ]
         }
        },
        {
         "name": "android_sensor_accelerometer_std",
         "dtype": "float64",
         "stats": {
          "unique_count": 5,
          "nan_count": 0,
          "min": "0.0706047627162",
          "max": "4.27202176309",
          "histogram": [
           {
            "bin_start": 0.0706047627162,
            "bin_end": 0.49074646275358,
            "count": 3
           },
           {
            "bin_start": 0.49074646275358,
            "bin_end": 0.91088816279096,
            "count": 0
           },
           {
            "bin_start": 0.91088816279096,
            "bin_end": 1.3310298628283401,
            "count": 1
           },
           {
            "bin_start": 1.3310298628283401,
            "bin_end": 1.75117156286572,
            "count": 0
           },
           {
            "bin_start": 1.75117156286572,
            "bin_end": 2.1713132629031,
            "count": 0
           },
           {
            "bin_start": 2.1713132629031,
            "bin_end": 2.59145496294048,
            "count": 0
           },
           {
            "bin_start": 2.59145496294048,
            "bin_end": 3.0115966629778597,
            "count": 0
           },
           {
            "bin_start": 3.0115966629778597,
            "bin_end": 3.43173836301524,
            "count": 0
           },
           {
            "bin_start": 3.43173836301524,
            "bin_end": 3.85188006305262,
            "count": 0
           },
           {
            "bin_start": 3.85188006305262,
            "bin_end": 4.27202176309,
            "count": 1
           }
          ]
         }
        },
        {
         "name": "android_sensor_gyroscope_std",
         "dtype": "float64",
         "stats": {
          "unique_count": 5,
          "nan_count": 0,
          "min": "0.0273672639483",
          "max": "1.40024884745",
          "histogram": [
           {
            "bin_start": 0.0273672639483,
            "bin_end": 0.16465542229847,
            "count": 3
           },
           {
            "bin_start": 0.16465542229847,
            "bin_end": 0.30194358064864,
            "count": 0
           },
           {
            "bin_start": 0.30194358064864,
            "bin_end": 0.43923173899881,
            "count": 0
           },
           {
            "bin_start": 0.43923173899881,
            "bin_end": 0.57651989734898,
            "count": 0
           },
           {
            "bin_start": 0.57651989734898,
            "bin_end": 0.71380805569915,
            "count": 1
           },
           {
            "bin_start": 0.71380805569915,
            "bin_end": 0.85109621404932,
            "count": 0
           },
           {
            "bin_start": 0.85109621404932,
            "bin_end": 0.9883843723994901,
            "count": 0
           },
           {
            "bin_start": 0.9883843723994901,
            "bin_end": 1.12567253074966,
            "count": 0
           },
           {
            "bin_start": 1.12567253074966,
            "bin_end": 1.26296068909983,
            "count": 0
           },
           {
            "bin_start": 1.26296068909983,
            "bin_end": 1.40024884745,
            "count": 1
           }
          ]
         }
        },
        {
         "name": "android_sensor_gyroscope_uncalibrated_mean",
         "dtype": "float64",
         "stats": {
          "unique_count": 5,
          "nan_count": 0,
          "min": "0.0386439364457",
          "max": "1.33156584208",
          "histogram": [
           {
            "bin_start": 0.0386439364457,
            "bin_end": 0.16793612700913,
            "count": 2
           },
           {
            "bin_start": 0.16793612700913,
            "bin_end": 0.29722831757256,
            "count": 0
           },
           {
            "bin_start": 0.29722831757256,
            "bin_end": 0.42652050813599,
            "count": 1
           },
           {
            "bin_start": 0.42652050813599,
            "bin_end": 0.55581269869942,
            "count": 0
           },
           {
            "bin_start": 0.55581269869942,
            "bin_end": 0.68510488926285,
            "count": 0
           },
           {
            "bin_start": 0.68510488926285,
            "bin_end": 0.81439707982628,
            "count": 1
           },
           {
            "bin_start": 0.81439707982628,
            "bin_end": 0.94368927038971,
            "count": 0
           },
           {
            "bin_start": 0.94368927038971,
            "bin_end": 1.07298146095314,
            "count": 0
           },
           {
            "bin_start": 1.07298146095314,
            "bin_end": 1.20227365151657,
            "count": 0
           },
           {
            "bin_start": 1.20227365151657,
            "bin_end": 1.33156584208,
            "count": 1
           }
          ]
         }
        },
        {
         "name": "android_sensor_accelerometer_max",
         "dtype": "float64",
         "stats": {
          "unique_count": 5,
          "nan_count": 0,
          "min": "9.18734022134",
          "max": "17.743662445",
          "histogram": [
           {
            "bin_start": 9.18734022134,
            "bin_end": 10.042972443705999,
            "count": 3
           },
           {
            "bin_start": 10.042972443705999,
            "bin_end": 10.898604666072,
            "count": 0
           },
           {
            "bin_start": 10.898604666072,
            "bin_end": 11.754236888438,
            "count": 0
           },
           {
            "bin_start": 11.754236888438,
            "bin_end": 12.609869110803999,
            "count": 0
           },
           {
            "bin_start": 12.609869110803999,
            "bin_end": 13.46550133317,
            "count": 0
           },
           {
            "bin_start": 13.46550133317,
            "bin_end": 14.321133555535999,
            "count": 1
           },
           {
            "bin_start": 14.321133555535999,
            "bin_end": 15.176765777901998,
            "count": 0
           },
           {
            "bin_start": 15.176765777901998,
            "bin_end": 16.032398000268,
            "count": 0
           },
           {
            "bin_start": 16.032398000268,
            "bin_end": 16.888030222634,
            "count": 0
           },
           {
            "bin_start": 16.888030222634,
            "bin_end": 17.743662445,
            "count": 1
           }
          ]
         }
        },
        {
         "name": "android_sensor_linear_acceleration_mean",
         "dtype": "float64",
         "stats": {
          "unique_count": 5,
          "nan_count": 0,
          "min": "0.868718940229",
          "max": "8.8239176427",
          "histogram": [
           {
            "bin_start": 0.868718940229,
            "bin_end": 1.6642388104761001,
            "count": 3
           },
           {
            "bin_start": 1.6642388104761001,
            "bin_end": 2.4597586807232,
            "count": 1
           },
           {
            "bin_start": 2.4597586807232,
            "bin_end": 3.2552785509703,
            "count": 0
           },
           {
            "bin_start": 3.2552785509703,
            "bin_end": 4.0507984212174,
            "count": 0
           },
           {
            "bin_start": 4.0507984212174,
            "bin_end": 4.8463182914645,
            "count": 0
           },
           {
            "bin_start": 4.8463182914645,
            "bin_end": 5.6418381617116005,
            "count": 0
           },
           {
            "bin_start": 5.6418381617116005,
            "bin_end": 6.4373580319587,
            "count": 0
           },
           {
            "bin_start": 6.4373580319587,
            "bin_end": 7.2328779022058,
            "count": 0
           },
           {
            "bin_start": 7.2328779022058,
            "bin_end": 8.0283977724529,
            "count": 0
           },
           {
            "bin_start": 8.0283977724529,
            "bin_end": 8.8239176427,
            "count": 1
           }
          ]
         }
        },
        {
         "name": "android_sensor_rotation_vector_mean",
         "dtype": "float64",
         "stats": {
          "unique_count": 5,
          "nan_count": 0,
          "min": "0.787569832783",
          "max": "0.993875876436",
          "histogram": [
           {
            "bin_start": 0.787569832783,
            "bin_end": 0.8082004371482999,
            "count": 1
           },
           {
            "bin_start": 0.8082004371482999,
            "bin_end": 0.8288310415136,
            "count": 0
           },
           {
            "bin_start": 0.8288310415136,
            "bin_end": 0.8494616458788999,
            "count": 0
           },
           {
            "bin_start": 0.8494616458788999,
            "bin_end": 0.8700922502442,
            "count": 0
           },
           {
            "bin_start": 0.8700922502442,
            "bin_end": 0.8907228546095,
            "count": 0
           },
           {
            "bin_start": 0.8907228546095,
            "bin_end": 0.9113534589748,
            "count": 0
           },
           {
            "bin_start": 0.9113534589748,
            "bin_end": 0.9319840633401,
            "count": 0
           },
           {
            "bin_start": 0.9319840633401,
            "bin_end": 0.9526146677053999,
            "count": 0
           },
           {
            "bin_start": 0.9526146677053999,
            "bin_end": 0.9732452720707,
            "count": 1
           },
           {
            "bin_start": 0.9732452720707,
            "bin_end": 0.993875876436,
            "count": 3
           }
          ]
         }
        },
        {
         "name": "android_sensor_rotation_vector_max",
         "dtype": "float64",
         "stats": {
          "unique_count": 5,
          "nan_count": 0,
          "min": "0.80281077253",
          "max": "0.996116787219",
          "histogram": [
           {
            "bin_start": 0.80281077253,
            "bin_end": 0.8221413739989,
            "count": 1
           },
           {
            "bin_start": 0.8221413739989,
            "bin_end": 0.8414719754678,
            "count": 0
           },
           {
            "bin_start": 0.8414719754678,
            "bin_end": 0.8608025769367,
            "count": 0
           },
           {
            "bin_start": 0.8608025769367,
            "bin_end": 0.8801331784056,
            "count": 0
           },
           {
            "bin_start": 0.8801331784056,
            "bin_end": 0.8994637798745,
            "count": 0
           },
           {
            "bin_start": 0.8994637798745,
            "bin_end": 0.9187943813434,
            "count": 0
           },
           {
            "bin_start": 0.9187943813434,
            "bin_end": 0.9381249828123,
            "count": 0
           },
           {
            "bin_start": 0.9381249828123,
            "bin_end": 0.9574555842812,
            "count": 1
           },
           {
            "bin_start": 0.9574555842812,
            "bin_end": 0.9767861857501,
            "count": 0
           },
           {
            "bin_start": 0.9767861857501,
            "bin_end": 0.996116787219,
            "count": 3
           }
          ]
         }
        },
        {
         "name": "android_sensor_accelerometer_min",
         "dtype": "float64",
         "stats": {
          "unique_count": 5,
          "nan_count": 0,
          "min": "3.33216261865",
          "max": "9.76451291455",
          "histogram": [
           {
            "bin_start": 3.33216261865,
            "bin_end": 3.97539764824,
            "count": 1
           },
           {
            "bin_start": 3.97539764824,
            "bin_end": 4.61863267783,
            "count": 0
           },
           {
            "bin_start": 4.61863267783,
            "bin_end": 5.26186770742,
            "count": 0
           },
           {
            "bin_start": 5.26186770742,
            "bin_end": 5.90510273701,
            "count": 0
           },
           {
            "bin_start": 5.90510273701,
            "bin_end": 6.5483377665999996,
            "count": 0
           },
           {
            "bin_start": 6.5483377665999996,
            "bin_end": 7.19157279619,
            "count": 0
           },
           {
            "bin_start": 7.19157279619,
            "bin_end": 7.83480782578,
            "count": 0
           },
           {
            "bin_start": 7.83480782578,
            "bin_end": 8.47804285537,
            "count": 1
           },
           {
            "bin_start": 8.47804285537,
            "bin_end": 9.121277884960001,
            "count": 2
           },
           {
            "bin_start": 9.121277884960001,
            "bin_end": 9.76451291455,
            "count": 1
           }
          ]
         }
        },
        {
         "name": "android_sensor_magnetic_field_uncalibrated_min",
         "dtype": "float64",
         "stats": {
          "unique_count": 5,
          "nan_count": 0,
          "min": "36.378865774",
          "max": "91.9514775235",
          "histogram": [
           {
            "bin_start": 36.378865774,
            "bin_end": 41.93612694895,
            "count": 1
           },
           {
            "bin_start": 41.93612694895,
            "bin_end": 47.4933881239,
            "count": 0
           },
           {
            "bin_start": 47.4933881239,
            "bin_end": 53.050649298850004,
            "count": 0
           },
           {
            "bin_start": 53.050649298850004,
            "bin_end": 58.607910473800004,
            "count": 0
           },
           {
            "bin_start": 58.607910473800004,
            "bin_end": 64.16517164875,
            "count": 0
           },
           {
            "bin_start": 64.16517164875,
            "bin_end": 69.7224328237,
            "count": 0
           },
           {
            "bin_start": 69.7224328237,
            "bin_end": 75.27969399865,
            "count": 1
           },
           {
            "bin_start": 75.27969399865,
            "bin_end": 80.8369551736,
            "count": 1
           },
           {
            "bin_start": 80.8369551736,
            "bin_end": 86.39421634855,
            "count": 0
           },
           {
            "bin_start": 86.39421634855,
            "bin_end": 91.9514775235,
            "count": 2
           }
          ]
         }
        },
        {
         "name": "sound_min",
         "dtype": "float64",
         "stats": {
          "unique_count": 5,
          "nan_count": 0,
          "min": "6.02059991328",
          "max": "77.0642266901",
          "histogram": [
           {
            "bin_start": 6.02059991328,
            "bin_end": 13.124962590962,
            "count": 1
           },
           {
            "bin_start": 13.124962590962,
            "bin_end": 20.229325268644,
            "count": 0
           },
           {
            "bin_start": 20.229325268644,
            "bin_end": 27.333687946326002,
            "count": 0
           },
           {
            "bin_start": 27.333687946326002,
            "bin_end": 34.438050624008,
            "count": 0
           },
           {
            "bin_start": 34.438050624008,
            "bin_end": 41.542413301690004,
            "count": 0
           },
           {
            "bin_start": 41.542413301690004,
            "bin_end": 48.646775979372,
            "count": 0
           },
           {
            "bin_start": 48.646775979372,
            "bin_end": 55.75113865705401,
            "count": 0
           },
           {
            "bin_start": 55.75113865705401,
            "bin_end": 62.855501334736005,
            "count": 0
           },
           {
            "bin_start": 62.855501334736005,
            "bin_end": 69.959864012418,
            "count": 0
           },
           {
            "bin_start": 69.959864012418,
            "bin_end": 77.0642266901,
            "count": 4
           }
          ]
         }
        },
        {
         "name": "target",
         "dtype": "object",
         "stats": {
          "unique_count": 2,
          "nan_count": 0,
          "categories": [
           {
            "name": "Walking",
            "count": 3
           },
           {
            "name": "Bus",
            "count": 2
           }
          ]
         }
        },
        {
         "name": "acc_gyro",
         "dtype": "float64",
         "stats": {
          "unique_count": 5,
          "nan_count": 0,
          "min": "0.0447654475837488",
          "max": "1.709420881606191",
          "histogram": [
           {
            "bin_start": 0.0447654475837488,
            "bin_end": 0.21123099098599302,
            "count": 2
           },
           {
            "bin_start": 0.21123099098599302,
            "bin_end": 0.37769653438823725,
            "count": 0
           },
           {
            "bin_start": 0.37769653438823725,
            "bin_end": 0.5441620777904815,
            "count": 1
           },
           {
            "bin_start": 0.5441620777904815,
            "bin_end": 0.7106276211927257,
            "count": 1
           },
           {
            "bin_start": 0.7106276211927257,
            "bin_end": 0.8770931645949699,
            "count": 0
           },
           {
            "bin_start": 0.8770931645949699,
            "bin_end": 1.0435587079972142,
            "count": 0
           },
           {
            "bin_start": 1.0435587079972142,
            "bin_end": 1.2100242513994586,
            "count": 0
           },
           {
            "bin_start": 1.2100242513994586,
            "bin_end": 1.3764897948017027,
            "count": 0
           },
           {
            "bin_start": 1.3764897948017027,
            "bin_end": 1.542955338203947,
            "count": 0
           },
           {
            "bin_start": 1.542955338203947,
            "bin_end": 1.709420881606191,
            "count": 1
           }
          ]
         }
        },
        {
         "name": "Lin_speed",
         "dtype": "float64",
         "stats": {
          "unique_count": 5,
          "nan_count": 0,
          "min": "0.9731438679281404",
          "max": "9.884602427147335",
          "histogram": [
           {
            "bin_start": 0.9731438679281404,
            "bin_end": 1.86428972385006,
            "count": 1
           },
           {
            "bin_start": 1.86428972385006,
            "bin_end": 2.7554355797719796,
            "count": 1
           },
           {
            "bin_start": 2.7554355797719796,
            "bin_end": 3.646581435693899,
            "count": 0
           },
           {
            "bin_start": 3.646581435693899,
            "bin_end": 4.537727291615819,
            "count": 0
           },
           {
            "bin_start": 4.537727291615819,
            "bin_end": 5.428873147537738,
            "count": 2
           },
           {
            "bin_start": 5.428873147537738,
            "bin_end": 6.320019003459658,
            "count": 0
           },
           {
            "bin_start": 6.320019003459658,
            "bin_end": 7.211164859381577,
            "count": 0
           },
           {
            "bin_start": 7.211164859381577,
            "bin_end": 8.102310715303497,
            "count": 0
           },
           {
            "bin_start": 8.102310715303497,
            "bin_end": 8.993456571225416,
            "count": 0
           },
           {
            "bin_start": 8.993456571225416,
            "bin_end": 9.884602427147335,
            "count": 1
           }
          ]
         }
        },
        {
         "name": "_deepnote_index_column",
         "dtype": "int64"
        }
       ],
       "rows_top": [
        {
         "android_sensor_gyroscope_mean": 0.615398648401,
         "android_sensor_accelerometer_std": 1.2832040781,
         "android_sensor_gyroscope_std": 0.655962204127,
         "android_sensor_gyroscope_uncalibrated_mean": 0.77845825456,
         "android_sensor_accelerometer_max": 14.0281256028,
         "android_sensor_linear_acceleration_mean": 1.72131441249,
         "android_sensor_rotation_vector_mean": 0.955201994901,
         "android_sensor_rotation_vector_max": 0.955201994901,
         "android_sensor_accelerometer_min": 9.76451291455,
         "android_sensor_magnetic_field_uncalibrated_min": 36.378865774,
         "sound_min": 77.0642266901,
         "target": "Walking",
         "acc_gyro": 0.5878300166120143,
         "Lin_speed": 1.928226135888564,
         "_deepnote_index_column": 33
        },
        {
         "android_sensor_gyroscope_mean": 0.447801623284,
         "android_sensor_accelerometer_std": 0.361960582421,
         "android_sensor_gyroscope_std": 0.116563738283,
         "android_sensor_gyroscope_uncalibrated_mean": 0.334574278861,
         "android_sensor_accelerometer_max": 9.96326427091,
         "android_sensor_linear_acceleration_mean": 0.958200104328,
         "android_sensor_rotation_vector_mean": 0.983560663234,
         "android_sensor_rotation_vector_max": 0.989575800266,
         "android_sensor_accelerometer_min": 8.71217695924,
         "android_sensor_magnetic_field_uncalibrated_min": 77.4960432458,
         "sound_min": 74.1786107161,
         "target": "Bus",
         "acc_gyro": 0.4404400615944729,
         "Lin_speed": 5.144148600002478,
         "_deepnote_index_column": 54
        },
        {
         "android_sensor_gyroscope_mean": 0.0695025486235,
         "android_sensor_accelerometer_std": 0.0706047627162,
         "android_sensor_gyroscope_std": 0.0481404948783,
         "android_sensor_gyroscope_uncalibrated_mean": 0.0786263322772,
         "android_sensor_accelerometer_max": 9.18734022134,
         "android_sensor_linear_acceleration_mean": 0.868718940229,
         "android_sensor_rotation_vector_mean": 0.787569832783,
         "android_sensor_rotation_vector_max": 0.80281077253,
         "android_sensor_accelerometer_min": 9.01224277385,
         "android_sensor_magnetic_field_uncalibrated_min": 91.9514775235,
         "sound_min": 6.02059991328,
         "target": "Walking",
         "acc_gyro": 0.0547381105974022,
         "Lin_speed": 0.9731438679281404,
         "_deepnote_index_column": 102
        },
        {
         "android_sensor_gyroscope_mean": 0.0450412859846,
         "android_sensor_accelerometer_std": 0.451772842813,
         "android_sensor_gyroscope_std": 0.0273672639483,
         "android_sensor_gyroscope_uncalibrated_mean": 0.0386439364457,
         "android_sensor_accelerometer_max": 9.56396733902,
         "android_sensor_linear_acceleration_mean": 0.958079040355,
         "android_sensor_rotation_vector_mean": 0.993875876436,
         "android_sensor_rotation_vector_max": 0.996116787219,
         "android_sensor_accelerometer_min": 8.24622015153,
         "android_sensor_magnetic_field_uncalibrated_min": 70.4364463098,
         "sound_min": 72.5595997966,
         "target": "Bus",
         "acc_gyro": 0.0447654475837488,
         "Lin_speed": 5.143498661576877,
         "_deepnote_index_column": 121
        },
        {
         "android_sensor_gyroscope_mean": 1.73429365531,
         "android_sensor_accelerometer_std": 4.27202176309,
         "android_sensor_gyroscope_std": 1.40024884745,
         "android_sensor_gyroscope_uncalibrated_mean": 1.33156584208,
         "android_sensor_accelerometer_max": 17.743662445,
         "android_sensor_linear_acceleration_mean": 8.8239176427,
         "android_sensor_rotation_vector_mean": 0.98565826864,
         "android_sensor_rotation_vector_max": 0.993053389134,
         "android_sensor_accelerometer_min": 3.33216261865,
         "android_sensor_magnetic_field_uncalibrated_min": 90.1187367796,
         "sound_min": 73.7022893809,
         "target": "Walking",
         "acc_gyro": 1.709420881606191,
         "Lin_speed": 9.884602427147335,
         "_deepnote_index_column": 172
        }
       ],
       "rows_bottom": null
      },
      "text/plain": "     android_sensor_gyroscope_mean  android_sensor_accelerometer_std  \\\n33                        0.615399                          1.283204   \n54                        0.447802                          0.361961   \n102                       0.069503                          0.070605   \n121                       0.045041                          0.451773   \n172                       1.734294                          4.272022   \n\n     android_sensor_gyroscope_std  android_sensor_gyroscope_uncalibrated_mean  \\\n33                       0.655962                                    0.778458   \n54                       0.116564                                    0.334574   \n102                      0.048140                                    0.078626   \n121                      0.027367                                    0.038644   \n172                      1.400249                                    1.331566   \n\n     android_sensor_accelerometer_max  \\\n33                          14.028126   \n54                           9.963264   \n102                          9.187340   \n121                          9.563967   \n172                         17.743662   \n\n     android_sensor_linear_acceleration_mean  \\\n33                                  1.721314   \n54                                  0.958200   \n102                                 0.868719   \n121                                 0.958079   \n172                                 8.823918   \n\n     android_sensor_rotation_vector_mean  android_sensor_rotation_vector_max  \\\n33                              0.955202                            0.955202   \n54                              0.983561                            0.989576   \n102                             0.787570                            0.802811   \n121                             0.993876                            0.996117   \n172                             0.985658                            0.993053   \n\n     android_sensor_accelerometer_min  \\\n33                           9.764513   \n54                           8.712177   \n102                          9.012243   \n121                          8.246220   \n172                          3.332163   \n\n     android_sensor_magnetic_field_uncalibrated_min  sound_min   target  \\\n33                                        36.378866  77.064227  Walking   \n54                                        77.496043  74.178611      Bus   \n102                                       91.951478   6.020600  Walking   \n121                                       70.436446  72.559600      Bus   \n172                                       90.118737  73.702289  Walking   \n\n     acc_gyro  Lin_speed  \n33   0.587830   1.928226  \n54   0.440440   5.144149  \n102  0.054738   0.973144  \n121  0.044765   5.143499  \n172  1.709421   9.884602  ",
      "text/html": "<div>\n<style scoped>\n    .dataframe tbody tr th:only-of-type {\n        vertical-align: middle;\n    }\n\n    .dataframe tbody tr th {\n        vertical-align: top;\n    }\n\n    .dataframe thead th {\n        text-align: right;\n    }\n</style>\n<table border=\"1\" class=\"dataframe\">\n  <thead>\n    <tr style=\"text-align: right;\">\n      <th></th>\n      <th>android_sensor_gyroscope_mean</th>\n      <th>android_sensor_accelerometer_std</th>\n      <th>android_sensor_gyroscope_std</th>\n      <th>android_sensor_gyroscope_uncalibrated_mean</th>\n      <th>android_sensor_accelerometer_max</th>\n      <th>android_sensor_linear_acceleration_mean</th>\n      <th>android_sensor_rotation_vector_mean</th>\n      <th>android_sensor_rotation_vector_max</th>\n      <th>android_sensor_accelerometer_min</th>\n      <th>android_sensor_magnetic_field_uncalibrated_min</th>\n      <th>sound_min</th>\n      <th>target</th>\n      <th>acc_gyro</th>\n      <th>Lin_speed</th>\n    </tr>\n  </thead>\n  <tbody>\n    <tr>\n      <th>33</th>\n      <td>0.615399</td>\n      <td>1.283204</td>\n      <td>0.655962</td>\n      <td>0.778458</td>\n      <td>14.028126</td>\n      <td>1.721314</td>\n      <td>0.955202</td>\n      <td>0.955202</td>\n      <td>9.764513</td>\n      <td>36.378866</td>\n      <td>77.064227</td>\n      <td>Walking</td>\n      <td>0.587830</td>\n      <td>1.928226</td>\n    </tr>\n    <tr>\n      <th>54</th>\n      <td>0.447802</td>\n      <td>0.361961</td>\n      <td>0.116564</td>\n      <td>0.334574</td>\n      <td>9.963264</td>\n      <td>0.958200</td>\n      <td>0.983561</td>\n      <td>0.989576</td>\n      <td>8.712177</td>\n      <td>77.496043</td>\n      <td>74.178611</td>\n      <td>Bus</td>\n      <td>0.440440</td>\n      <td>5.144149</td>\n    </tr>\n    <tr>\n      <th>102</th>\n      <td>0.069503</td>\n      <td>0.070605</td>\n      <td>0.048140</td>\n      <td>0.078626</td>\n      <td>9.187340</td>\n      <td>0.868719</td>\n      <td>0.787570</td>\n      <td>0.802811</td>\n      <td>9.012243</td>\n      <td>91.951478</td>\n      <td>6.020600</td>\n      <td>Walking</td>\n      <td>0.054738</td>\n      <td>0.973144</td>\n    </tr>\n    <tr>\n      <th>121</th>\n      <td>0.045041</td>\n      <td>0.451773</td>\n      <td>0.027367</td>\n      <td>0.038644</td>\n      <td>9.563967</td>\n      <td>0.958079</td>\n      <td>0.993876</td>\n      <td>0.996117</td>\n      <td>8.246220</td>\n      <td>70.436446</td>\n      <td>72.559600</td>\n      <td>Bus</td>\n      <td>0.044765</td>\n      <td>5.143499</td>\n    </tr>\n    <tr>\n      <th>172</th>\n      <td>1.734294</td>\n      <td>4.272022</td>\n      <td>1.400249</td>\n      <td>1.331566</td>\n      <td>17.743662</td>\n      <td>8.823918</td>\n      <td>0.985658</td>\n      <td>0.993053</td>\n      <td>3.332163</td>\n      <td>90.118737</td>\n      <td>73.702289</td>\n      <td>Walking</td>\n      <td>1.709421</td>\n      <td>9.884602</td>\n    </tr>\n  </tbody>\n</table>\n</div>"
     },
     "metadata": {}
    }
   ],
   "execution_count": 7
  },
  {
   "cell_type": "markdown",
   "source": "",
   "metadata": {
    "tags": [],
    "cell_id": "00013-3473cda4-bcbc-42af-a4f2-aca5bf49b2df",
    "deepnote_cell_type": "text-cell-p"
   }
  },
  {
   "cell_type": "markdown",
   "source": "## Separate the data into features(X) and labels(y)",
   "metadata": {
    "tags": [],
    "cell_id": "00014-551dcdef-0600-4eda-af32-72ee5807e0a2",
    "deepnote_cell_type": "text-cell-h2"
   }
  },
  {
   "cell_type": "code",
   "source": "X=df_train.drop('target',axis=1) #for training\ny=df_train.target\n\nX_test=df_test.drop('target',axis=1) #for testing\ny_test=df_test.target",
   "metadata": {
    "tags": [],
    "cell_id": "00014-05a90d66-f2f1-430e-94bb-b7bf570210f6",
    "deepnote_to_be_reexecuted": false,
    "source_hash": "a24689f7",
    "execution_start": 1621428654822,
    "execution_millis": 0,
    "deepnote_cell_type": "code"
   },
   "outputs": [],
   "execution_count": 8
  },
  {
   "cell_type": "code",
   "source": "print(X.shape, y.shape)\nprint(X_test.shape, y_test.shape)",
   "metadata": {
    "tags": [],
    "cell_id": "00016-01432493-d792-4139-bc0d-96fd82554942",
    "deepnote_to_be_reexecuted": false,
    "source_hash": "80ac1da7",
    "execution_start": 1621428693721,
    "execution_millis": 34,
    "deepnote_cell_type": "code"
   },
   "outputs": [
    {
     "name": "stdout",
     "text": "(4985, 13) (4985,)\n(908, 13) (908,)\n",
     "output_type": "stream"
    }
   ],
   "execution_count": 9
  },
  {
   "cell_type": "markdown",
   "source": "",
   "metadata": {
    "tags": [],
    "cell_id": "00017-81ad80d4-c6c3-445a-8c6a-da91288c9f5e",
    "deepnote_cell_type": "text-cell-p"
   }
  },
  {
   "cell_type": "markdown",
   "source": "## Creating the Pipeline",
   "metadata": {
    "tags": [],
    "cell_id": "00018-b135af70-dd7b-46c2-a807-4df1c0fe53a4",
    "deepnote_cell_type": "text-cell-h2"
   }
  },
  {
   "cell_type": "code",
   "source": "num_vars  = list(X.columns) #define the numerical features (we don't have any categorical features)\n#num_vars",
   "metadata": {
    "tags": [],
    "cell_id": "00017-2241c7c4-d856-425b-b1ac-fd1e37e92668",
    "deepnote_to_be_reexecuted": false,
    "source_hash": "6edf6272",
    "execution_start": 1621429048935,
    "execution_millis": 0,
    "deepnote_cell_type": "code"
   },
   "outputs": [],
   "execution_count": 15
  },
  {
   "cell_type": "code",
   "source": "# num_4_treeModels = Pipeline(steps=[\n#   ('imputer', impute.SimpleImputer(missing_values=np.nan ,strategy='mean')),\n#   ('Normalizer',RobustScaler())\n  \n# ])\n\n# tree_prepro = compose.ColumnTransformer(transformers=[\n#     ('num', num_4_treeModels, num_vars),\n# ], remainder='drop') # Drop other vars not specified in num_vars or cat_vars\n\n\nnum_attribs=df_train.drop('target',axis=1).columns.to_list()\nnum_pip=Pipeline([('imputer',impute.SimpleImputer(strategy='median')),\n                  ('scalar',MinMaxScaler()),\n               ])  # ('PCA',PCA(n_components=12))\ntree_prepro=compose.ColumnTransformer([\n    ('num',num_pip,num_vars)\n])\ntree_prepro",
   "metadata": {
    "tags": [],
    "cell_id": "00019-c4b44b3a-180f-4bf7-9ade-58e7f2294428",
    "deepnote_to_be_reexecuted": false,
    "source_hash": "d1c5f7c",
    "execution_start": 1621431554720,
    "execution_millis": 232,
    "deepnote_cell_type": "code"
   },
   "outputs": [
    {
     "output_type": "execute_result",
     "execution_count": 33,
     "data": {
      "text/plain": "ColumnTransformer(transformers=[('num',\n                                 Pipeline(steps=[('imputer',\n                                                  SimpleImputer(strategy='median')),\n                                                 ('scalar', MinMaxScaler())]),\n                                 ['android_sensor_gyroscope_mean',\n                                  'android_sensor_accelerometer_std',\n                                  'android_sensor_gyroscope_std',\n                                  'android_sensor_gyroscope_uncalibrated_mean',\n                                  'android_sensor_accelerometer_max',\n                                  'android_sensor_linear_acceleration_mean',\n                                  'android_sensor_rotation_vector_mean',\n                                  'android_sensor_rotation_vector_max',\n                                  'android_sensor_accelerometer_min',\n                                  'android_sensor_magnetic_field_uncalibrated_min',\n                                  'sound_min', 'acc_gyro', 'Lin_speed'])])",
      "text/html": "<style>#sk-999d17f2-f1b9-453c-aa22-a41004f6b78d {color: black;background-color: white;}#sk-999d17f2-f1b9-453c-aa22-a41004f6b78d pre{padding: 0;}#sk-999d17f2-f1b9-453c-aa22-a41004f6b78d div.sk-toggleable {background-color: white;}#sk-999d17f2-f1b9-453c-aa22-a41004f6b78d label.sk-toggleable__label {cursor: pointer;display: block;width: 100%;margin-bottom: 0;padding: 0.2em 0.3em;box-sizing: border-box;text-align: center;}#sk-999d17f2-f1b9-453c-aa22-a41004f6b78d div.sk-toggleable__content {max-height: 0;max-width: 0;overflow: hidden;text-align: left;background-color: #f0f8ff;}#sk-999d17f2-f1b9-453c-aa22-a41004f6b78d div.sk-toggleable__content pre {margin: 0.2em;color: black;border-radius: 0.25em;background-color: #f0f8ff;}#sk-999d17f2-f1b9-453c-aa22-a41004f6b78d input.sk-toggleable__control:checked~div.sk-toggleable__content {max-height: 200px;max-width: 100%;overflow: auto;}#sk-999d17f2-f1b9-453c-aa22-a41004f6b78d div.sk-estimator input.sk-toggleable__control:checked~label.sk-toggleable__label {background-color: #d4ebff;}#sk-999d17f2-f1b9-453c-aa22-a41004f6b78d div.sk-label input.sk-toggleable__control:checked~label.sk-toggleable__label {background-color: #d4ebff;}#sk-999d17f2-f1b9-453c-aa22-a41004f6b78d input.sk-hidden--visually {border: 0;clip: rect(1px 1px 1px 1px);clip: rect(1px, 1px, 1px, 1px);height: 1px;margin: -1px;overflow: hidden;padding: 0;position: absolute;width: 1px;}#sk-999d17f2-f1b9-453c-aa22-a41004f6b78d div.sk-estimator {font-family: monospace;background-color: #f0f8ff;margin: 0.25em 0.25em;border: 1px dotted black;border-radius: 0.25em;box-sizing: border-box;}#sk-999d17f2-f1b9-453c-aa22-a41004f6b78d div.sk-estimator:hover {background-color: #d4ebff;}#sk-999d17f2-f1b9-453c-aa22-a41004f6b78d div.sk-parallel-item::after {content: \"\";width: 100%;border-bottom: 1px solid gray;flex-grow: 1;}#sk-999d17f2-f1b9-453c-aa22-a41004f6b78d div.sk-label:hover label.sk-toggleable__label {background-color: #d4ebff;}#sk-999d17f2-f1b9-453c-aa22-a41004f6b78d div.sk-serial::before {content: \"\";position: absolute;border-left: 1px solid gray;box-sizing: border-box;top: 2em;bottom: 0;left: 50%;}#sk-999d17f2-f1b9-453c-aa22-a41004f6b78d div.sk-serial {display: flex;flex-direction: column;align-items: center;background-color: white;}#sk-999d17f2-f1b9-453c-aa22-a41004f6b78d div.sk-item {z-index: 1;}#sk-999d17f2-f1b9-453c-aa22-a41004f6b78d div.sk-parallel {display: flex;align-items: stretch;justify-content: center;background-color: white;}#sk-999d17f2-f1b9-453c-aa22-a41004f6b78d div.sk-parallel-item {display: flex;flex-direction: column;position: relative;background-color: white;}#sk-999d17f2-f1b9-453c-aa22-a41004f6b78d div.sk-parallel-item:first-child::after {align-self: flex-end;width: 50%;}#sk-999d17f2-f1b9-453c-aa22-a41004f6b78d div.sk-parallel-item:last-child::after {align-self: flex-start;width: 50%;}#sk-999d17f2-f1b9-453c-aa22-a41004f6b78d div.sk-parallel-item:only-child::after {width: 0;}#sk-999d17f2-f1b9-453c-aa22-a41004f6b78d div.sk-dashed-wrapped {border: 1px dashed gray;margin: 0.2em;box-sizing: border-box;padding-bottom: 0.1em;background-color: white;position: relative;}#sk-999d17f2-f1b9-453c-aa22-a41004f6b78d div.sk-label label {font-family: monospace;font-weight: bold;background-color: white;display: inline-block;line-height: 1.2em;}#sk-999d17f2-f1b9-453c-aa22-a41004f6b78d div.sk-label-container {position: relative;z-index: 2;text-align: center;}#sk-999d17f2-f1b9-453c-aa22-a41004f6b78d div.sk-container {display: inline-block;position: relative;}</style><div id=\"sk-999d17f2-f1b9-453c-aa22-a41004f6b78d\" class\"sk-top-container\"><div class=\"sk-container\"><div class=\"sk-item sk-dashed-wrapped\"><div class=\"sk-label-container\"><div class=\"sk-label sk-toggleable\"><input class=\"sk-toggleable__control sk-hidden--visually\" id=\"0490f0a4-8ef6-4dff-a426-7f538d0888ff\" type=\"checkbox\" ><label class=\"sk-toggleable__label\" for=\"0490f0a4-8ef6-4dff-a426-7f538d0888ff\">ColumnTransformer</label><div class=\"sk-toggleable__content\"><pre>ColumnTransformer(transformers=[('num',\n                                 Pipeline(steps=[('imputer',\n                                                  SimpleImputer(strategy='median')),\n                                                 ('scalar', MinMaxScaler())]),\n                                 ['android_sensor_gyroscope_mean',\n                                  'android_sensor_accelerometer_std',\n                                  'android_sensor_gyroscope_std',\n                                  'android_sensor_gyroscope_uncalibrated_mean',\n                                  'android_sensor_accelerometer_max',\n                                  'android_sensor_linear_acceleration_mean',\n                                  'android_sensor_rotation_vector_mean',\n                                  'android_sensor_rotation_vector_max',\n                                  'android_sensor_accelerometer_min',\n                                  'android_sensor_magnetic_field_uncalibrated_min',\n                                  'sound_min', 'acc_gyro', 'Lin_speed'])])</pre></div></div></div><div class=\"sk-parallel\"><div class=\"sk-parallel-item\"><div class=\"sk-item\"><div class=\"sk-label-container\"><div class=\"sk-label sk-toggleable\"><input class=\"sk-toggleable__control sk-hidden--visually\" id=\"0772b804-9f80-493f-9387-22780b3ccf6c\" type=\"checkbox\" ><label class=\"sk-toggleable__label\" for=\"0772b804-9f80-493f-9387-22780b3ccf6c\">num</label><div class=\"sk-toggleable__content\"><pre>['android_sensor_gyroscope_mean', 'android_sensor_accelerometer_std', 'android_sensor_gyroscope_std', 'android_sensor_gyroscope_uncalibrated_mean', 'android_sensor_accelerometer_max', 'android_sensor_linear_acceleration_mean', 'android_sensor_rotation_vector_mean', 'android_sensor_rotation_vector_max', 'android_sensor_accelerometer_min', 'android_sensor_magnetic_field_uncalibrated_min', 'sound_min', 'acc_gyro', 'Lin_speed']</pre></div></div></div><div class=\"sk-serial\"><div class=\"sk-item\"><div class=\"sk-serial\"><div class=\"sk-item\"><div class=\"sk-estimator sk-toggleable\"><input class=\"sk-toggleable__control sk-hidden--visually\" id=\"b4205c8c-c5ba-45f1-9f33-5943f0af7f8b\" type=\"checkbox\" ><label class=\"sk-toggleable__label\" for=\"b4205c8c-c5ba-45f1-9f33-5943f0af7f8b\">SimpleImputer</label><div class=\"sk-toggleable__content\"><pre>SimpleImputer(strategy='median')</pre></div></div></div><div class=\"sk-item\"><div class=\"sk-estimator sk-toggleable\"><input class=\"sk-toggleable__control sk-hidden--visually\" id=\"a294d119-d5f0-4b2e-a2af-99dd77111d2a\" type=\"checkbox\" ><label class=\"sk-toggleable__label\" for=\"a294d119-d5f0-4b2e-a2af-99dd77111d2a\">MinMaxScaler</label><div class=\"sk-toggleable__content\"><pre>MinMaxScaler()</pre></div></div></div></div></div></div></div></div></div></div></div></div>"
     },
     "metadata": {}
    }
   ],
   "execution_count": 33
  },
  {
   "cell_type": "code",
   "source": "# using the best classifier\ntree_classifiers = {\n\"LGBMClassifier\":LGBMClassifier()\n\n}\n\n#pass the pipeline to everymodel\n\ntree_classifiers = {name: pipeline.make_pipeline(tree_prepro, model) for name, model in tree_classifiers.items()}\ntree_classifiers[\"LGBMClassifier\"]",
   "metadata": {
    "tags": [],
    "cell_id": "00021-61e5ec67-b20b-4628-a770-565f2fdab708",
    "deepnote_to_be_reexecuted": false,
    "source_hash": "73e00f0c",
    "execution_start": 1621430211150,
    "execution_millis": 536,
    "deepnote_cell_type": "code"
   },
   "outputs": [
    {
     "output_type": "execute_result",
     "execution_count": 21,
     "data": {
      "text/plain": "Pipeline(steps=[('columntransformer',\n                 ColumnTransformer(transformers=[('num',\n                                                  Pipeline(steps=[('imputer',\n                                                                   SimpleImputer()),\n                                                                  ('Normalizer',\n                                                                   RobustScaler())]),\n                                                  ['android_sensor_gyroscope_mean',\n                                                   'android_sensor_accelerometer_std',\n                                                   'android_sensor_gyroscope_std',\n                                                   'android_sensor_gyroscope_uncalibrated_mean',\n                                                   'android_sensor_accelerometer_max',\n                                                   'android_sensor_linear_acceleration_mean',\n                                                   'android_sensor_rotation_vector_mean',\n                                                   'android_sensor_rotation_vector_max',\n                                                   'android_sensor_accelerometer_min',\n                                                   'android_sensor_magnetic_field_uncalibrated_min',\n                                                   'sound_min', 'acc_gyro',\n                                                   'Lin_speed'])])),\n                ('lgbmclassifier', LGBMClassifier())])",
      "text/html": "<style>#sk-a5f5efd2-f048-47da-96fb-d5c90f09c156 {color: black;background-color: white;}#sk-a5f5efd2-f048-47da-96fb-d5c90f09c156 pre{padding: 0;}#sk-a5f5efd2-f048-47da-96fb-d5c90f09c156 div.sk-toggleable {background-color: white;}#sk-a5f5efd2-f048-47da-96fb-d5c90f09c156 label.sk-toggleable__label {cursor: pointer;display: block;width: 100%;margin-bottom: 0;padding: 0.2em 0.3em;box-sizing: border-box;text-align: center;}#sk-a5f5efd2-f048-47da-96fb-d5c90f09c156 div.sk-toggleable__content {max-height: 0;max-width: 0;overflow: hidden;text-align: left;background-color: #f0f8ff;}#sk-a5f5efd2-f048-47da-96fb-d5c90f09c156 div.sk-toggleable__content pre {margin: 0.2em;color: black;border-radius: 0.25em;background-color: #f0f8ff;}#sk-a5f5efd2-f048-47da-96fb-d5c90f09c156 input.sk-toggleable__control:checked~div.sk-toggleable__content {max-height: 200px;max-width: 100%;overflow: auto;}#sk-a5f5efd2-f048-47da-96fb-d5c90f09c156 div.sk-estimator input.sk-toggleable__control:checked~label.sk-toggleable__label {background-color: #d4ebff;}#sk-a5f5efd2-f048-47da-96fb-d5c90f09c156 div.sk-label input.sk-toggleable__control:checked~label.sk-toggleable__label {background-color: #d4ebff;}#sk-a5f5efd2-f048-47da-96fb-d5c90f09c156 input.sk-hidden--visually {border: 0;clip: rect(1px 1px 1px 1px);clip: rect(1px, 1px, 1px, 1px);height: 1px;margin: -1px;overflow: hidden;padding: 0;position: absolute;width: 1px;}#sk-a5f5efd2-f048-47da-96fb-d5c90f09c156 div.sk-estimator {font-family: monospace;background-color: #f0f8ff;margin: 0.25em 0.25em;border: 1px dotted black;border-radius: 0.25em;box-sizing: border-box;}#sk-a5f5efd2-f048-47da-96fb-d5c90f09c156 div.sk-estimator:hover {background-color: #d4ebff;}#sk-a5f5efd2-f048-47da-96fb-d5c90f09c156 div.sk-parallel-item::after {content: \"\";width: 100%;border-bottom: 1px solid gray;flex-grow: 1;}#sk-a5f5efd2-f048-47da-96fb-d5c90f09c156 div.sk-label:hover label.sk-toggleable__label {background-color: #d4ebff;}#sk-a5f5efd2-f048-47da-96fb-d5c90f09c156 div.sk-serial::before {content: \"\";position: absolute;border-left: 1px solid gray;box-sizing: border-box;top: 2em;bottom: 0;left: 50%;}#sk-a5f5efd2-f048-47da-96fb-d5c90f09c156 div.sk-serial {display: flex;flex-direction: column;align-items: center;background-color: white;}#sk-a5f5efd2-f048-47da-96fb-d5c90f09c156 div.sk-item {z-index: 1;}#sk-a5f5efd2-f048-47da-96fb-d5c90f09c156 div.sk-parallel {display: flex;align-items: stretch;justify-content: center;background-color: white;}#sk-a5f5efd2-f048-47da-96fb-d5c90f09c156 div.sk-parallel-item {display: flex;flex-direction: column;position: relative;background-color: white;}#sk-a5f5efd2-f048-47da-96fb-d5c90f09c156 div.sk-parallel-item:first-child::after {align-self: flex-end;width: 50%;}#sk-a5f5efd2-f048-47da-96fb-d5c90f09c156 div.sk-parallel-item:last-child::after {align-self: flex-start;width: 50%;}#sk-a5f5efd2-f048-47da-96fb-d5c90f09c156 div.sk-parallel-item:only-child::after {width: 0;}#sk-a5f5efd2-f048-47da-96fb-d5c90f09c156 div.sk-dashed-wrapped {border: 1px dashed gray;margin: 0.2em;box-sizing: border-box;padding-bottom: 0.1em;background-color: white;position: relative;}#sk-a5f5efd2-f048-47da-96fb-d5c90f09c156 div.sk-label label {font-family: monospace;font-weight: bold;background-color: white;display: inline-block;line-height: 1.2em;}#sk-a5f5efd2-f048-47da-96fb-d5c90f09c156 div.sk-label-container {position: relative;z-index: 2;text-align: center;}#sk-a5f5efd2-f048-47da-96fb-d5c90f09c156 div.sk-container {display: inline-block;position: relative;}</style><div id=\"sk-a5f5efd2-f048-47da-96fb-d5c90f09c156\" class\"sk-top-container\"><div class=\"sk-container\"><div class=\"sk-item sk-dashed-wrapped\"><div class=\"sk-label-container\"><div class=\"sk-label sk-toggleable\"><input class=\"sk-toggleable__control sk-hidden--visually\" id=\"5dbca516-0d59-43ea-958d-f0e8e35c84fd\" type=\"checkbox\" ><label class=\"sk-toggleable__label\" for=\"5dbca516-0d59-43ea-958d-f0e8e35c84fd\">Pipeline</label><div class=\"sk-toggleable__content\"><pre>Pipeline(steps=[('columntransformer',\n                 ColumnTransformer(transformers=[('num',\n                                                  Pipeline(steps=[('imputer',\n                                                                   SimpleImputer()),\n                                                                  ('Normalizer',\n                                                                   RobustScaler())]),\n                                                  ['android_sensor_gyroscope_mean',\n                                                   'android_sensor_accelerometer_std',\n                                                   'android_sensor_gyroscope_std',\n                                                   'android_sensor_gyroscope_uncalibrated_mean',\n                                                   'android_sensor_accelerometer_max',\n                                                   'android_sensor_linear_acceleration_mean',\n                                                   'android_sensor_rotation_vector_mean',\n                                                   'android_sensor_rotation_vector_max',\n                                                   'android_sensor_accelerometer_min',\n                                                   'android_sensor_magnetic_field_uncalibrated_min',\n                                                   'sound_min', 'acc_gyro',\n                                                   'Lin_speed'])])),\n                ('lgbmclassifier', LGBMClassifier())])</pre></div></div></div><div class=\"sk-serial\"><div class=\"sk-item sk-dashed-wrapped\"><div class=\"sk-label-container\"><div class=\"sk-label sk-toggleable\"><input class=\"sk-toggleable__control sk-hidden--visually\" id=\"9b3658b7-f9ce-41c0-92a3-6d28a26c2b2f\" type=\"checkbox\" ><label class=\"sk-toggleable__label\" for=\"9b3658b7-f9ce-41c0-92a3-6d28a26c2b2f\">columntransformer: ColumnTransformer</label><div class=\"sk-toggleable__content\"><pre>ColumnTransformer(transformers=[('num',\n                                 Pipeline(steps=[('imputer', SimpleImputer()),\n                                                 ('Normalizer',\n                                                  RobustScaler())]),\n                                 ['android_sensor_gyroscope_mean',\n                                  'android_sensor_accelerometer_std',\n                                  'android_sensor_gyroscope_std',\n                                  'android_sensor_gyroscope_uncalibrated_mean',\n                                  'android_sensor_accelerometer_max',\n                                  'android_sensor_linear_acceleration_mean',\n                                  'android_sensor_rotation_vector_mean',\n                                  'android_sensor_rotation_vector_max',\n                                  'android_sensor_accelerometer_min',\n                                  'android_sensor_magnetic_field_uncalibrated_min',\n                                  'sound_min', 'acc_gyro', 'Lin_speed'])])</pre></div></div></div><div class=\"sk-parallel\"><div class=\"sk-parallel-item\"><div class=\"sk-item\"><div class=\"sk-label-container\"><div class=\"sk-label sk-toggleable\"><input class=\"sk-toggleable__control sk-hidden--visually\" id=\"a022961d-0bc4-4978-b13a-97be735b4718\" type=\"checkbox\" ><label class=\"sk-toggleable__label\" for=\"a022961d-0bc4-4978-b13a-97be735b4718\">num</label><div class=\"sk-toggleable__content\"><pre>['android_sensor_gyroscope_mean', 'android_sensor_accelerometer_std', 'android_sensor_gyroscope_std', 'android_sensor_gyroscope_uncalibrated_mean', 'android_sensor_accelerometer_max', 'android_sensor_linear_acceleration_mean', 'android_sensor_rotation_vector_mean', 'android_sensor_rotation_vector_max', 'android_sensor_accelerometer_min', 'android_sensor_magnetic_field_uncalibrated_min', 'sound_min', 'acc_gyro', 'Lin_speed']</pre></div></div></div><div class=\"sk-serial\"><div class=\"sk-item\"><div class=\"sk-serial\"><div class=\"sk-item\"><div class=\"sk-estimator sk-toggleable\"><input class=\"sk-toggleable__control sk-hidden--visually\" id=\"a6779008-8986-43d7-94ec-e265ac2de121\" type=\"checkbox\" ><label class=\"sk-toggleable__label\" for=\"a6779008-8986-43d7-94ec-e265ac2de121\">SimpleImputer</label><div class=\"sk-toggleable__content\"><pre>SimpleImputer()</pre></div></div></div><div class=\"sk-item\"><div class=\"sk-estimator sk-toggleable\"><input class=\"sk-toggleable__control sk-hidden--visually\" id=\"6858b581-73ff-4f2c-9a91-61adf8703dd7\" type=\"checkbox\" ><label class=\"sk-toggleable__label\" for=\"6858b581-73ff-4f2c-9a91-61adf8703dd7\">RobustScaler</label><div class=\"sk-toggleable__content\"><pre>RobustScaler()</pre></div></div></div></div></div></div></div></div></div></div><div class=\"sk-item\"><div class=\"sk-estimator sk-toggleable\"><input class=\"sk-toggleable__control sk-hidden--visually\" id=\"f7019d8e-7f5e-4627-96cb-114551290f22\" type=\"checkbox\" ><label class=\"sk-toggleable__label\" for=\"f7019d8e-7f5e-4627-96cb-114551290f22\">LGBMClassifier</label><div class=\"sk-toggleable__content\"><pre>LGBMClassifier()</pre></div></div></div></div></div></div></div>"
     },
     "metadata": {}
    }
   ],
   "execution_count": 21
  },
  {
   "cell_type": "code",
   "source": "#fit the data to the model\n\nresults = pd.DataFrame({'Model': [], 'Accuracy': [], 'Bal Acc.': [], 'Time': []})\n\nx_train, x_val, y_train, y_val = model_selection.train_test_split(\n    X, y,\n    test_size=0.2,\n    stratify = y,   \n    random_state=37\n)\n\nfor model_name, model in tree_classifiers.items():\n\n    start_time = time.time()\n    model.fit(x_train, y_train)\n    total_time = time.time() - start_time\n    \n    pred = model.predict(x_val)  \n    \n    results = results.append({\"Model\":    model_name,\n                              \"Accuracy\": metrics.accuracy_score(y_val, pred)*100,\n                              \"Bal Acc.\": metrics.balanced_accuracy_score(y_val, pred)*100,\n                              \"Time\":     total_time},\n                              ignore_index=True)\n\n    \nresults_ord = results.sort_values(by=['Accuracy'], ascending=False, ignore_index=True)\nresults_ord.index += 1 \nresults_ord.style.bar(subset=['Accuracy', 'Bal Acc.'], vmin=0, vmax=100, color='#5fba7d')",
   "metadata": {
    "tags": [],
    "cell_id": "00022-0f0b8d84-5f74-4024-8e32-eb10b6c6fa33",
    "deepnote_to_be_reexecuted": false,
    "source_hash": "b8199e0e",
    "execution_start": 1621431238395,
    "execution_millis": 104917,
    "deepnote_cell_type": "code"
   },
   "outputs": [
    {
     "output_type": "error",
     "ename": "KeyboardInterrupt",
     "evalue": "",
     "traceback": [
      "\u001b[0;31m---------------------------------------------------------------------------\u001b[0m",
      "\u001b[0;31mKeyboardInterrupt\u001b[0m                         Traceback (most recent call last)",
      "\u001b[0;32m<ipython-input-26-ae5dd8ed192c>\u001b[0m in \u001b[0;36m<module>\u001b[0;34m\u001b[0m\n\u001b[1;32m     13\u001b[0m \u001b[0;34m\u001b[0m\u001b[0m\n\u001b[1;32m     14\u001b[0m     \u001b[0mstart_time\u001b[0m \u001b[0;34m=\u001b[0m \u001b[0mtime\u001b[0m\u001b[0;34m.\u001b[0m\u001b[0mtime\u001b[0m\u001b[0;34m(\u001b[0m\u001b[0;34m)\u001b[0m\u001b[0;34m\u001b[0m\u001b[0;34m\u001b[0m\u001b[0m\n\u001b[0;32m---> 15\u001b[0;31m     \u001b[0mmodel\u001b[0m\u001b[0;34m.\u001b[0m\u001b[0mfit\u001b[0m\u001b[0;34m(\u001b[0m\u001b[0mx_train\u001b[0m\u001b[0;34m,\u001b[0m \u001b[0my_train\u001b[0m\u001b[0;34m)\u001b[0m\u001b[0;34m\u001b[0m\u001b[0;34m\u001b[0m\u001b[0m\n\u001b[0m\u001b[1;32m     16\u001b[0m     \u001b[0mtotal_time\u001b[0m \u001b[0;34m=\u001b[0m \u001b[0mtime\u001b[0m\u001b[0;34m.\u001b[0m\u001b[0mtime\u001b[0m\u001b[0;34m(\u001b[0m\u001b[0;34m)\u001b[0m \u001b[0;34m-\u001b[0m \u001b[0mstart_time\u001b[0m\u001b[0;34m\u001b[0m\u001b[0;34m\u001b[0m\u001b[0m\n\u001b[1;32m     17\u001b[0m \u001b[0;34m\u001b[0m\u001b[0m\n",
      "\u001b[0;32m/shared-libs/python3.7/py/lib/python3.7/site-packages/sklearn/pipeline.py\u001b[0m in \u001b[0;36mfit\u001b[0;34m(self, X, y, **fit_params)\u001b[0m\n\u001b[1;32m    344\u001b[0m             \u001b[0;32mif\u001b[0m \u001b[0mself\u001b[0m\u001b[0;34m.\u001b[0m\u001b[0m_final_estimator\u001b[0m \u001b[0;34m!=\u001b[0m \u001b[0;34m'passthrough'\u001b[0m\u001b[0;34m:\u001b[0m\u001b[0;34m\u001b[0m\u001b[0;34m\u001b[0m\u001b[0m\n\u001b[1;32m    345\u001b[0m                 \u001b[0mfit_params_last_step\u001b[0m \u001b[0;34m=\u001b[0m \u001b[0mfit_params_steps\u001b[0m\u001b[0;34m[\u001b[0m\u001b[0mself\u001b[0m\u001b[0;34m.\u001b[0m\u001b[0msteps\u001b[0m\u001b[0;34m[\u001b[0m\u001b[0;34m-\u001b[0m\u001b[0;36m1\u001b[0m\u001b[0;34m]\u001b[0m\u001b[0;34m[\u001b[0m\u001b[0;36m0\u001b[0m\u001b[0;34m]\u001b[0m\u001b[0;34m]\u001b[0m\u001b[0;34m\u001b[0m\u001b[0;34m\u001b[0m\u001b[0m\n\u001b[0;32m--> 346\u001b[0;31m                 \u001b[0mself\u001b[0m\u001b[0;34m.\u001b[0m\u001b[0m_final_estimator\u001b[0m\u001b[0;34m.\u001b[0m\u001b[0mfit\u001b[0m\u001b[0;34m(\u001b[0m\u001b[0mXt\u001b[0m\u001b[0;34m,\u001b[0m \u001b[0my\u001b[0m\u001b[0;34m,\u001b[0m \u001b[0;34m**\u001b[0m\u001b[0mfit_params_last_step\u001b[0m\u001b[0;34m)\u001b[0m\u001b[0;34m\u001b[0m\u001b[0;34m\u001b[0m\u001b[0m\n\u001b[0m\u001b[1;32m    347\u001b[0m \u001b[0;34m\u001b[0m\u001b[0m\n\u001b[1;32m    348\u001b[0m         \u001b[0;32mreturn\u001b[0m \u001b[0mself\u001b[0m\u001b[0;34m\u001b[0m\u001b[0;34m\u001b[0m\u001b[0m\n",
      "\u001b[0;32m~/venv/lib/python3.7/site-packages/lightgbm/sklearn.py\u001b[0m in \u001b[0;36mfit\u001b[0;34m(self, X, y, sample_weight, init_score, eval_set, eval_names, eval_sample_weight, eval_class_weight, eval_init_score, eval_metric, early_stopping_rounds, verbose, feature_name, categorical_feature, callbacks, init_model)\u001b[0m\n\u001b[1;32m    893\u001b[0m                     \u001b[0meval_metric\u001b[0m\u001b[0;34m=\u001b[0m\u001b[0meval_metric\u001b[0m\u001b[0;34m,\u001b[0m \u001b[0mearly_stopping_rounds\u001b[0m\u001b[0;34m=\u001b[0m\u001b[0mearly_stopping_rounds\u001b[0m\u001b[0;34m,\u001b[0m\u001b[0;34m\u001b[0m\u001b[0;34m\u001b[0m\u001b[0m\n\u001b[1;32m    894\u001b[0m                     \u001b[0mverbose\u001b[0m\u001b[0;34m=\u001b[0m\u001b[0mverbose\u001b[0m\u001b[0;34m,\u001b[0m \u001b[0mfeature_name\u001b[0m\u001b[0;34m=\u001b[0m\u001b[0mfeature_name\u001b[0m\u001b[0;34m,\u001b[0m \u001b[0mcategorical_feature\u001b[0m\u001b[0;34m=\u001b[0m\u001b[0mcategorical_feature\u001b[0m\u001b[0;34m,\u001b[0m\u001b[0;34m\u001b[0m\u001b[0;34m\u001b[0m\u001b[0m\n\u001b[0;32m--> 895\u001b[0;31m                     callbacks=callbacks, init_model=init_model)\n\u001b[0m\u001b[1;32m    896\u001b[0m         \u001b[0;32mreturn\u001b[0m \u001b[0mself\u001b[0m\u001b[0;34m\u001b[0m\u001b[0;34m\u001b[0m\u001b[0m\n\u001b[1;32m    897\u001b[0m \u001b[0;34m\u001b[0m\u001b[0m\n",
      "\u001b[0;32m~/venv/lib/python3.7/site-packages/lightgbm/sklearn.py\u001b[0m in \u001b[0;36mfit\u001b[0;34m(self, X, y, sample_weight, init_score, group, eval_set, eval_names, eval_sample_weight, eval_class_weight, eval_init_score, eval_group, eval_metric, early_stopping_rounds, verbose, feature_name, categorical_feature, callbacks, init_model)\u001b[0m\n\u001b[1;32m    686\u001b[0m                               \u001b[0mevals_result\u001b[0m\u001b[0;34m=\u001b[0m\u001b[0mevals_result\u001b[0m\u001b[0;34m,\u001b[0m \u001b[0mfobj\u001b[0m\u001b[0;34m=\u001b[0m\u001b[0mself\u001b[0m\u001b[0;34m.\u001b[0m\u001b[0m_fobj\u001b[0m\u001b[0;34m,\u001b[0m \u001b[0mfeval\u001b[0m\u001b[0;34m=\u001b[0m\u001b[0meval_metrics_callable\u001b[0m\u001b[0;34m,\u001b[0m\u001b[0;34m\u001b[0m\u001b[0;34m\u001b[0m\u001b[0m\n\u001b[1;32m    687\u001b[0m                               \u001b[0mverbose_eval\u001b[0m\u001b[0;34m=\u001b[0m\u001b[0mverbose\u001b[0m\u001b[0;34m,\u001b[0m \u001b[0mfeature_name\u001b[0m\u001b[0;34m=\u001b[0m\u001b[0mfeature_name\u001b[0m\u001b[0;34m,\u001b[0m\u001b[0;34m\u001b[0m\u001b[0;34m\u001b[0m\u001b[0m\n\u001b[0;32m--> 688\u001b[0;31m                               callbacks=callbacks, init_model=init_model)\n\u001b[0m\u001b[1;32m    689\u001b[0m \u001b[0;34m\u001b[0m\u001b[0m\n\u001b[1;32m    690\u001b[0m         \u001b[0;32mif\u001b[0m \u001b[0mevals_result\u001b[0m\u001b[0;34m:\u001b[0m\u001b[0;34m\u001b[0m\u001b[0;34m\u001b[0m\u001b[0m\n",
      "\u001b[0;32m~/venv/lib/python3.7/site-packages/lightgbm/engine.py\u001b[0m in \u001b[0;36mtrain\u001b[0;34m(params, train_set, num_boost_round, valid_sets, valid_names, fobj, feval, init_model, feature_name, categorical_feature, early_stopping_rounds, evals_result, verbose_eval, learning_rates, keep_training_booster, callbacks)\u001b[0m\n\u001b[1;32m    247\u001b[0m                                     evaluation_result_list=None))\n\u001b[1;32m    248\u001b[0m \u001b[0;34m\u001b[0m\u001b[0m\n\u001b[0;32m--> 249\u001b[0;31m         \u001b[0mbooster\u001b[0m\u001b[0;34m.\u001b[0m\u001b[0mupdate\u001b[0m\u001b[0;34m(\u001b[0m\u001b[0mfobj\u001b[0m\u001b[0;34m=\u001b[0m\u001b[0mfobj\u001b[0m\u001b[0;34m)\u001b[0m\u001b[0;34m\u001b[0m\u001b[0;34m\u001b[0m\u001b[0m\n\u001b[0m\u001b[1;32m    250\u001b[0m \u001b[0;34m\u001b[0m\u001b[0m\n\u001b[1;32m    251\u001b[0m         \u001b[0mevaluation_result_list\u001b[0m \u001b[0;34m=\u001b[0m \u001b[0;34m[\u001b[0m\u001b[0;34m]\u001b[0m\u001b[0;34m\u001b[0m\u001b[0;34m\u001b[0m\u001b[0m\n",
      "\u001b[0;32m~/venv/lib/python3.7/site-packages/lightgbm/basic.py\u001b[0m in \u001b[0;36mupdate\u001b[0;34m(self, train_set, fobj)\u001b[0m\n\u001b[1;32m   2643\u001b[0m             _safe_call(_LIB.LGBM_BoosterUpdateOneIter(\n\u001b[1;32m   2644\u001b[0m                 \u001b[0mself\u001b[0m\u001b[0;34m.\u001b[0m\u001b[0mhandle\u001b[0m\u001b[0;34m,\u001b[0m\u001b[0;34m\u001b[0m\u001b[0;34m\u001b[0m\u001b[0m\n\u001b[0;32m-> 2645\u001b[0;31m                 ctypes.byref(is_finished)))\n\u001b[0m\u001b[1;32m   2646\u001b[0m             \u001b[0mself\u001b[0m\u001b[0;34m.\u001b[0m\u001b[0m__is_predicted_cur_iter\u001b[0m \u001b[0;34m=\u001b[0m \u001b[0;34m[\u001b[0m\u001b[0;32mFalse\u001b[0m \u001b[0;32mfor\u001b[0m \u001b[0m_\u001b[0m \u001b[0;32min\u001b[0m \u001b[0mrange\u001b[0m\u001b[0;34m(\u001b[0m\u001b[0mself\u001b[0m\u001b[0;34m.\u001b[0m\u001b[0m__num_dataset\u001b[0m\u001b[0;34m)\u001b[0m\u001b[0;34m]\u001b[0m\u001b[0;34m\u001b[0m\u001b[0;34m\u001b[0m\u001b[0m\n\u001b[1;32m   2647\u001b[0m             \u001b[0;32mreturn\u001b[0m \u001b[0mis_finished\u001b[0m\u001b[0;34m.\u001b[0m\u001b[0mvalue\u001b[0m \u001b[0;34m==\u001b[0m \u001b[0;36m1\u001b[0m\u001b[0;34m\u001b[0m\u001b[0;34m\u001b[0m\u001b[0m\n",
      "\u001b[0;31mKeyboardInterrupt\u001b[0m: "
     ]
    }
   ],
   "execution_count": 26
  },
  {
   "cell_type": "code",
   "source": "x_train, x_val, y_train, y_val = model_selection.train_test_split(\n    X, y,\n    test_size=0.2,\n    stratify = y,   \n    random_state=37\n)",
   "metadata": {
    "tags": [],
    "cell_id": "00023-d0544d3d-5226-4992-8de2-aa7bf6268056",
    "deepnote_to_be_reexecuted": false,
    "source_hash": "1801669e",
    "execution_start": 1621431432281,
    "execution_millis": 69,
    "deepnote_cell_type": "code"
   },
   "outputs": [],
   "execution_count": 30
  },
  {
   "cell_type": "code",
   "source": "model=Pipeline([('preprocess',tree_prepro),('classification',LGBMClassifier())])",
   "metadata": {
    "tags": [],
    "cell_id": "00023-970030a3-1bed-47dd-a53a-d7e956646657",
    "deepnote_to_be_reexecuted": false,
    "source_hash": "49eb0d06",
    "execution_start": 1621431414114,
    "execution_millis": 35,
    "deepnote_cell_type": "code"
   },
   "outputs": [],
   "execution_count": 29
  },
  {
   "cell_type": "code",
   "source": "model.fit(x_train,y_train)\n",
   "metadata": {
    "tags": [],
    "cell_id": "00024-89d065b1-0393-4ad3-b7b0-11b43566b2fa",
    "deepnote_to_be_reexecuted": true,
    "source_hash": "e6999237",
    "execution_start": 1621431947594,
    "execution_millis": 14756,
    "deepnote_cell_type": "code"
   },
   "outputs": [
    {
     "output_type": "error",
     "ename": "KeyboardInterrupt",
     "evalue": "",
     "traceback": [
      "\u001b[0;31m---------------------------------------------------------------------------\u001b[0m",
      "\u001b[0;31mKeyboardInterrupt\u001b[0m                         Traceback (most recent call last)",
      "\u001b[0;32m<ipython-input-39-ecfc616fa393>\u001b[0m in \u001b[0;36m<module>\u001b[0;34m\u001b[0m\n\u001b[0;32m----> 1\u001b[0;31m \u001b[0mmodel\u001b[0m\u001b[0;34m.\u001b[0m\u001b[0mfit\u001b[0m\u001b[0;34m(\u001b[0m\u001b[0mx_train\u001b[0m\u001b[0;34m,\u001b[0m\u001b[0my_train\u001b[0m\u001b[0;34m)\u001b[0m\u001b[0;34m\u001b[0m\u001b[0;34m\u001b[0m\u001b[0m\n\u001b[0m\u001b[1;32m      2\u001b[0m \u001b[0mpred_test_1\u001b[0m\u001b[0;34m=\u001b[0m\u001b[0mmodel\u001b[0m\u001b[0;34m.\u001b[0m\u001b[0mpredict\u001b[0m\u001b[0;34m(\u001b[0m\u001b[0mx_test\u001b[0m\u001b[0;34m)\u001b[0m\u001b[0;34m\u001b[0m\u001b[0;34m\u001b[0m\u001b[0m\n",
      "\u001b[0;32m/shared-libs/python3.7/py/lib/python3.7/site-packages/sklearn/pipeline.py\u001b[0m in \u001b[0;36mfit\u001b[0;34m(self, X, y, **fit_params)\u001b[0m\n\u001b[1;32m    344\u001b[0m             \u001b[0;32mif\u001b[0m \u001b[0mself\u001b[0m\u001b[0;34m.\u001b[0m\u001b[0m_final_estimator\u001b[0m \u001b[0;34m!=\u001b[0m \u001b[0;34m'passthrough'\u001b[0m\u001b[0;34m:\u001b[0m\u001b[0;34m\u001b[0m\u001b[0;34m\u001b[0m\u001b[0m\n\u001b[1;32m    345\u001b[0m                 \u001b[0mfit_params_last_step\u001b[0m \u001b[0;34m=\u001b[0m \u001b[0mfit_params_steps\u001b[0m\u001b[0;34m[\u001b[0m\u001b[0mself\u001b[0m\u001b[0;34m.\u001b[0m\u001b[0msteps\u001b[0m\u001b[0;34m[\u001b[0m\u001b[0;34m-\u001b[0m\u001b[0;36m1\u001b[0m\u001b[0;34m]\u001b[0m\u001b[0;34m[\u001b[0m\u001b[0;36m0\u001b[0m\u001b[0;34m]\u001b[0m\u001b[0;34m]\u001b[0m\u001b[0;34m\u001b[0m\u001b[0;34m\u001b[0m\u001b[0m\n\u001b[0;32m--> 346\u001b[0;31m                 \u001b[0mself\u001b[0m\u001b[0;34m.\u001b[0m\u001b[0m_final_estimator\u001b[0m\u001b[0;34m.\u001b[0m\u001b[0mfit\u001b[0m\u001b[0;34m(\u001b[0m\u001b[0mXt\u001b[0m\u001b[0;34m,\u001b[0m \u001b[0my\u001b[0m\u001b[0;34m,\u001b[0m \u001b[0;34m**\u001b[0m\u001b[0mfit_params_last_step\u001b[0m\u001b[0;34m)\u001b[0m\u001b[0;34m\u001b[0m\u001b[0;34m\u001b[0m\u001b[0m\n\u001b[0m\u001b[1;32m    347\u001b[0m \u001b[0;34m\u001b[0m\u001b[0m\n\u001b[1;32m    348\u001b[0m         \u001b[0;32mreturn\u001b[0m \u001b[0mself\u001b[0m\u001b[0;34m\u001b[0m\u001b[0;34m\u001b[0m\u001b[0m\n",
      "\u001b[0;32m~/venv/lib/python3.7/site-packages/lightgbm/sklearn.py\u001b[0m in \u001b[0;36mfit\u001b[0;34m(self, X, y, sample_weight, init_score, eval_set, eval_names, eval_sample_weight, eval_class_weight, eval_init_score, eval_metric, early_stopping_rounds, verbose, feature_name, categorical_feature, callbacks, init_model)\u001b[0m\n\u001b[1;32m    893\u001b[0m                     \u001b[0meval_metric\u001b[0m\u001b[0;34m=\u001b[0m\u001b[0meval_metric\u001b[0m\u001b[0;34m,\u001b[0m \u001b[0mearly_stopping_rounds\u001b[0m\u001b[0;34m=\u001b[0m\u001b[0mearly_stopping_rounds\u001b[0m\u001b[0;34m,\u001b[0m\u001b[0;34m\u001b[0m\u001b[0;34m\u001b[0m\u001b[0m\n\u001b[1;32m    894\u001b[0m                     \u001b[0mverbose\u001b[0m\u001b[0;34m=\u001b[0m\u001b[0mverbose\u001b[0m\u001b[0;34m,\u001b[0m \u001b[0mfeature_name\u001b[0m\u001b[0;34m=\u001b[0m\u001b[0mfeature_name\u001b[0m\u001b[0;34m,\u001b[0m \u001b[0mcategorical_feature\u001b[0m\u001b[0;34m=\u001b[0m\u001b[0mcategorical_feature\u001b[0m\u001b[0;34m,\u001b[0m\u001b[0;34m\u001b[0m\u001b[0;34m\u001b[0m\u001b[0m\n\u001b[0;32m--> 895\u001b[0;31m                     callbacks=callbacks, init_model=init_model)\n\u001b[0m\u001b[1;32m    896\u001b[0m         \u001b[0;32mreturn\u001b[0m \u001b[0mself\u001b[0m\u001b[0;34m\u001b[0m\u001b[0;34m\u001b[0m\u001b[0m\n\u001b[1;32m    897\u001b[0m \u001b[0;34m\u001b[0m\u001b[0m\n",
      "\u001b[0;32m~/venv/lib/python3.7/site-packages/lightgbm/sklearn.py\u001b[0m in \u001b[0;36mfit\u001b[0;34m(self, X, y, sample_weight, init_score, group, eval_set, eval_names, eval_sample_weight, eval_class_weight, eval_init_score, eval_group, eval_metric, early_stopping_rounds, verbose, feature_name, categorical_feature, callbacks, init_model)\u001b[0m\n\u001b[1;32m    686\u001b[0m                               \u001b[0mevals_result\u001b[0m\u001b[0;34m=\u001b[0m\u001b[0mevals_result\u001b[0m\u001b[0;34m,\u001b[0m \u001b[0mfobj\u001b[0m\u001b[0;34m=\u001b[0m\u001b[0mself\u001b[0m\u001b[0;34m.\u001b[0m\u001b[0m_fobj\u001b[0m\u001b[0;34m,\u001b[0m \u001b[0mfeval\u001b[0m\u001b[0;34m=\u001b[0m\u001b[0meval_metrics_callable\u001b[0m\u001b[0;34m,\u001b[0m\u001b[0;34m\u001b[0m\u001b[0;34m\u001b[0m\u001b[0m\n\u001b[1;32m    687\u001b[0m                               \u001b[0mverbose_eval\u001b[0m\u001b[0;34m=\u001b[0m\u001b[0mverbose\u001b[0m\u001b[0;34m,\u001b[0m \u001b[0mfeature_name\u001b[0m\u001b[0;34m=\u001b[0m\u001b[0mfeature_name\u001b[0m\u001b[0;34m,\u001b[0m\u001b[0;34m\u001b[0m\u001b[0;34m\u001b[0m\u001b[0m\n\u001b[0;32m--> 688\u001b[0;31m                               callbacks=callbacks, init_model=init_model)\n\u001b[0m\u001b[1;32m    689\u001b[0m \u001b[0;34m\u001b[0m\u001b[0m\n\u001b[1;32m    690\u001b[0m         \u001b[0;32mif\u001b[0m \u001b[0mevals_result\u001b[0m\u001b[0;34m:\u001b[0m\u001b[0;34m\u001b[0m\u001b[0;34m\u001b[0m\u001b[0m\n",
      "\u001b[0;32m~/venv/lib/python3.7/site-packages/lightgbm/engine.py\u001b[0m in \u001b[0;36mtrain\u001b[0;34m(params, train_set, num_boost_round, valid_sets, valid_names, fobj, feval, init_model, feature_name, categorical_feature, early_stopping_rounds, evals_result, verbose_eval, learning_rates, keep_training_booster, callbacks)\u001b[0m\n\u001b[1;32m    247\u001b[0m                                     evaluation_result_list=None))\n\u001b[1;32m    248\u001b[0m \u001b[0;34m\u001b[0m\u001b[0m\n\u001b[0;32m--> 249\u001b[0;31m         \u001b[0mbooster\u001b[0m\u001b[0;34m.\u001b[0m\u001b[0mupdate\u001b[0m\u001b[0;34m(\u001b[0m\u001b[0mfobj\u001b[0m\u001b[0;34m=\u001b[0m\u001b[0mfobj\u001b[0m\u001b[0;34m)\u001b[0m\u001b[0;34m\u001b[0m\u001b[0;34m\u001b[0m\u001b[0m\n\u001b[0m\u001b[1;32m    250\u001b[0m \u001b[0;34m\u001b[0m\u001b[0m\n\u001b[1;32m    251\u001b[0m         \u001b[0mevaluation_result_list\u001b[0m \u001b[0;34m=\u001b[0m \u001b[0;34m[\u001b[0m\u001b[0;34m]\u001b[0m\u001b[0;34m\u001b[0m\u001b[0;34m\u001b[0m\u001b[0m\n",
      "\u001b[0;32m~/venv/lib/python3.7/site-packages/lightgbm/basic.py\u001b[0m in \u001b[0;36mupdate\u001b[0;34m(self, train_set, fobj)\u001b[0m\n\u001b[1;32m   2643\u001b[0m             _safe_call(_LIB.LGBM_BoosterUpdateOneIter(\n\u001b[1;32m   2644\u001b[0m                 \u001b[0mself\u001b[0m\u001b[0;34m.\u001b[0m\u001b[0mhandle\u001b[0m\u001b[0;34m,\u001b[0m\u001b[0;34m\u001b[0m\u001b[0;34m\u001b[0m\u001b[0m\n\u001b[0;32m-> 2645\u001b[0;31m                 ctypes.byref(is_finished)))\n\u001b[0m\u001b[1;32m   2646\u001b[0m             \u001b[0mself\u001b[0m\u001b[0;34m.\u001b[0m\u001b[0m__is_predicted_cur_iter\u001b[0m \u001b[0;34m=\u001b[0m \u001b[0;34m[\u001b[0m\u001b[0;32mFalse\u001b[0m \u001b[0;32mfor\u001b[0m \u001b[0m_\u001b[0m \u001b[0;32min\u001b[0m \u001b[0mrange\u001b[0m\u001b[0;34m(\u001b[0m\u001b[0mself\u001b[0m\u001b[0;34m.\u001b[0m\u001b[0m__num_dataset\u001b[0m\u001b[0;34m)\u001b[0m\u001b[0;34m]\u001b[0m\u001b[0;34m\u001b[0m\u001b[0;34m\u001b[0m\u001b[0m\n\u001b[1;32m   2647\u001b[0m             \u001b[0;32mreturn\u001b[0m \u001b[0mis_finished\u001b[0m\u001b[0;34m.\u001b[0m\u001b[0mvalue\u001b[0m \u001b[0;34m==\u001b[0m \u001b[0;36m1\u001b[0m\u001b[0;34m\u001b[0m\u001b[0;34m\u001b[0m\u001b[0m\n",
      "\u001b[0;31mKeyboardInterrupt\u001b[0m: "
     ]
    }
   ],
   "execution_count": 39
  },
  {
   "cell_type": "code",
   "source": "pred_test_1=model.predict(x_test)\naccuracy_score(y_val, pred_test_1)*100,",
   "metadata": {
    "tags": [],
    "cell_id": "00026-1b085121-75d1-4039-94b0-d115e57fa231",
    "deepnote_cell_type": "code"
   },
   "outputs": [],
   "execution_count": null
  },
  {
   "cell_type": "code",
   "source": "print(classification_report(y_val, pred_test_1))\nprint()\nprint(confusion_matrix(y_val, pred_test_1))",
   "metadata": {
    "tags": [],
    "cell_id": "00026-d78a9a00-7211-46b1-8e47-8b62431009c8",
    "deepnote_to_be_reexecuted": false,
    "source_hash": "cca85f11",
    "execution_start": 1621431891691,
    "execution_millis": 328,
    "deepnote_cell_type": "code"
   },
   "outputs": [
    {
     "name": "stdout",
     "text": "              precision    recall  f1-score   support\n\n         Bus       0.94      0.93      0.94       203\n         Car       0.94      0.96      0.95       229\n       Still       1.00      1.00      1.00       220\n       Train       0.97      0.96      0.96       219\n     Walking       0.99      0.99      0.99       126\n\n    accuracy                           0.97       997\n   macro avg       0.97      0.97      0.97       997\nweighted avg       0.97      0.97      0.97       997\n\n\n[[189   9   0   5   0]\n [  8 219   0   2   0]\n [  0   0 220   0   0]\n [  2   6   0 210   1]\n [  1   0   0   0 125]]\n",
     "output_type": "stream"
    }
   ],
   "execution_count": 38
  },
  {
   "cell_type": "code",
   "source": "",
   "metadata": {
    "tags": [],
    "cell_id": "00026-644ccaad-43cb-44f8-8e16-5e4859ddb678",
    "deepnote_cell_type": "code"
   },
   "outputs": [],
   "execution_count": null
  },
  {
   "cell_type": "markdown",
   "source": "<a style='text-decoration:none;line-height:16px;display:flex;color:#5B5B62;padding:10px;justify-content:end;' href='https://deepnote.com?utm_source=created-in-deepnote-cell&projectId=3e7089f3-11a5-48ad-89c4-39a166311a14' target=\"_blank\">\n<img alt='Created in deepnote.com' style='display:inline;max-height:16px;margin:0px;margin-right:7.5px;' src='data:image/svg+xml;base64,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' > </img>\nCreated in <span style='font-weight:600;margin-left:4px;'>Deepnote</span></a>",
   "metadata": {
    "tags": [],
    "created_in_deepnote_cell": true,
    "deepnote_cell_type": "markdown"
   }
  }
 ],
 "nbformat": 4,
 "nbformat_minor": 2,
 "metadata": {
  "orig_nbformat": 2,
  "deepnote": {
   "is_reactive": false
  },
  "deepnote_notebook_id": "5425c81f-c0a5-4c1e-91eb-7e9f84fca7e7",
  "deepnote_execution_queue": [
   {
    "cellId": "00024-89d065b1-0393-4ad3-b7b0-11b43566b2fa",
    "sessionId": "34452b6f-2b41-48e4-b801-0c42e866149c",
    "msgId": "62c06efa-6fe6-46b0-a904-99a6ac2cbcf7"
   },
   {
    "cellId": "00024-89d065b1-0393-4ad3-b7b0-11b43566b2fa",
    "sessionId": "34452b6f-2b41-48e4-b801-0c42e866149c",
    "msgId": "4ca57f5a-0217-40ba-bb93-33cf832d272d"
   }
  ]
 }
}