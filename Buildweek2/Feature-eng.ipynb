{
 "cells": [
  {
   "cell_type": "code",
   "execution_count": 1,
   "metadata": {
    "ExecuteTime": {
     "end_time": "2021-05-19T15:23:45.180738Z",
     "start_time": "2021-05-19T15:23:40.917097Z"
    },
    "cell_id": "00000-3e29fc92-d378-49e4-ab1f-261edd5999f9",
    "deepnote_cell_type": "code",
    "deepnote_to_be_reexecuted": false,
    "execution_millis": 3008,
    "execution_start": 1621419381503,
    "source_hash": "715ba1b7",
    "tags": []
   },
   "outputs": [],
   "source": [
    "# import libraries for analysis\n",
    "import pandas   as pd\n",
    "import numpy as np\n",
    "import matplotlib.pyplot as plt\n",
    "import re\n",
    "import seaborn as sns\n",
    "\n",
    "# Set Matplotlib defaults\n",
    "plt.style.use(\"seaborn-whitegrid\")\n",
    "plt.rc(\"figure\", autolayout=True)\n",
    "plt.rc(\n",
    "    \"axes\",\n",
    "    labelweight=\"bold\",\n",
    "    labelsize=\"large\",\n",
    "    titleweight=\"bold\",\n",
    "    titlesize=14,\n",
    "    titlepad=10,\n",
    ")\n",
    "\n",
    "from sklearn.feature_selection import mutual_info_classif\n",
    "from sklearn.impute import SimpleImputer\n",
    "from sklearn.model_selection import (\n",
    "    cross_val_score, ShuffleSplit, train_test_split, GridSearchCV)\n",
    "from sklearn.utils import shuffle\n",
    "from sklearn.ensemble import RandomForestClassifier\n",
    "from sklearn.preprocessing import LabelEncoder"
   ]
  },
  {
   "cell_type": "markdown",
   "metadata": {
    "cell_id": "00001-797d217b-5c89-4bec-b397-11b20c90fee8",
    "deepnote_cell_type": "markdown",
    "tags": []
   },
   "source": [
    "Introduce the data"
   ]
  },
  {
   "cell_type": "code",
   "execution_count": 3,
   "metadata": {
    "ExecuteTime": {
     "end_time": "2021-05-19T15:24:07.605740Z",
     "start_time": "2021-05-19T15:24:07.548886Z"
    },
    "cell_id": "00001-e469bb90-78ad-4df8-a666-952e9ccdc3b9",
    "deepnote_cell_type": "code",
    "deepnote_to_be_reexecuted": false,
    "execution_millis": 253,
    "execution_start": 1621419387994,
    "source_hash": "9d869249",
    "tags": []
   },
   "outputs": [
    {
     "data": {
      "text/html": [
       "<div>\n",
       "<style scoped>\n",
       "    .dataframe tbody tr th:only-of-type {\n",
       "        vertical-align: middle;\n",
       "    }\n",
       "\n",
       "    .dataframe tbody tr th {\n",
       "        vertical-align: top;\n",
       "    }\n",
       "\n",
       "    .dataframe thead th {\n",
       "        text-align: right;\n",
       "    }\n",
       "</style>\n",
       "<table border=\"1\" class=\"dataframe\">\n",
       "  <thead>\n",
       "    <tr style=\"text-align: right;\">\n",
       "      <th></th>\n",
       "      <th>id</th>\n",
       "      <th>user</th>\n",
       "      <th>android_sensor_gyroscope_mean</th>\n",
       "      <th>android_sensor_accelerometer_std</th>\n",
       "      <th>android_sensor_gyroscope_std</th>\n",
       "      <th>android_sensor_gyroscope_uncalibrated_mean</th>\n",
       "      <th>android_sensor_accelerometer_max</th>\n",
       "      <th>android_sensor_linear_acceleration_mean</th>\n",
       "      <th>speed_mean</th>\n",
       "      <th>android_sensor_rotation_vector_mean</th>\n",
       "      <th>android_sensor_rotation_vector_max</th>\n",
       "      <th>android_sensor_accelerometer_min</th>\n",
       "      <th>android_sensor_magnetic_field_uncalibrated_min</th>\n",
       "      <th>sound_min</th>\n",
       "      <th>target</th>\n",
       "    </tr>\n",
       "  </thead>\n",
       "  <tbody>\n",
       "    <tr>\n",
       "      <th>0</th>\n",
       "      <td>16170</td>\n",
       "      <td>Luca</td>\n",
       "      <td>0.001651</td>\n",
       "      <td>0.014626</td>\n",
       "      <td>0.000737</td>\n",
       "      <td>0.016221</td>\n",
       "      <td>9.849411</td>\n",
       "      <td>0.020978</td>\n",
       "      <td>0.180379</td>\n",
       "      <td>0.050413</td>\n",
       "      <td>0.056351</td>\n",
       "      <td>9.758895</td>\n",
       "      <td>51.199707</td>\n",
       "      <td>NaN</td>\n",
       "      <td>Still</td>\n",
       "    </tr>\n",
       "    <tr>\n",
       "      <th>1</th>\n",
       "      <td>15871</td>\n",
       "      <td>Luca</td>\n",
       "      <td>0.036326</td>\n",
       "      <td>1.775944</td>\n",
       "      <td>0.020290</td>\n",
       "      <td>0.039023</td>\n",
       "      <td>17.146631</td>\n",
       "      <td>0.879220</td>\n",
       "      <td>14.679876</td>\n",
       "      <td>0.999981</td>\n",
       "      <td>0.999999</td>\n",
       "      <td>7.707437</td>\n",
       "      <td>82.409890</td>\n",
       "      <td>89.065143</td>\n",
       "      <td>Car</td>\n",
       "    </tr>\n",
       "    <tr>\n",
       "      <th>2</th>\n",
       "      <td>16811</td>\n",
       "      <td>Luca</td>\n",
       "      <td>0.001525</td>\n",
       "      <td>0.011199</td>\n",
       "      <td>0.000713</td>\n",
       "      <td>0.016302</td>\n",
       "      <td>9.849262</td>\n",
       "      <td>0.034110</td>\n",
       "      <td>0.180379</td>\n",
       "      <td>0.610456</td>\n",
       "      <td>0.610456</td>\n",
       "      <td>9.804817</td>\n",
       "      <td>55.501802</td>\n",
       "      <td>NaN</td>\n",
       "      <td>Still</td>\n",
       "    </tr>\n",
       "    <tr>\n",
       "      <th>3</th>\n",
       "      <td>15831</td>\n",
       "      <td>Luca</td>\n",
       "      <td>0.036440</td>\n",
       "      <td>0.862553</td>\n",
       "      <td>0.010553</td>\n",
       "      <td>0.050759</td>\n",
       "      <td>12.304298</td>\n",
       "      <td>1.488361</td>\n",
       "      <td>14.679876</td>\n",
       "      <td>0.998112</td>\n",
       "      <td>0.998112</td>\n",
       "      <td>7.659674</td>\n",
       "      <td>95.664309</td>\n",
       "      <td>87.470377</td>\n",
       "      <td>Car</td>\n",
       "    </tr>\n",
       "    <tr>\n",
       "      <th>4</th>\n",
       "      <td>876</td>\n",
       "      <td>andrea</td>\n",
       "      <td>0.183202</td>\n",
       "      <td>0.504117</td>\n",
       "      <td>0.098819</td>\n",
       "      <td>0.265652</td>\n",
       "      <td>10.891645</td>\n",
       "      <td>1.658308</td>\n",
       "      <td>14.679876</td>\n",
       "      <td>0.322242</td>\n",
       "      <td>0.378193</td>\n",
       "      <td>8.965621</td>\n",
       "      <td>156.795909</td>\n",
       "      <td>89.770732</td>\n",
       "      <td>Car</td>\n",
       "    </tr>\n",
       "  </tbody>\n",
       "</table>\n",
       "</div>"
      ],
      "text/plain": [
       "      id    user  android_sensor_gyroscope_mean  \\\n",
       "0  16170    Luca                       0.001651   \n",
       "1  15871    Luca                       0.036326   \n",
       "2  16811    Luca                       0.001525   \n",
       "3  15831    Luca                       0.036440   \n",
       "4    876  andrea                       0.183202   \n",
       "\n",
       "   android_sensor_accelerometer_std  android_sensor_gyroscope_std  \\\n",
       "0                          0.014626                      0.000737   \n",
       "1                          1.775944                      0.020290   \n",
       "2                          0.011199                      0.000713   \n",
       "3                          0.862553                      0.010553   \n",
       "4                          0.504117                      0.098819   \n",
       "\n",
       "   android_sensor_gyroscope_uncalibrated_mean  \\\n",
       "0                                    0.016221   \n",
       "1                                    0.039023   \n",
       "2                                    0.016302   \n",
       "3                                    0.050759   \n",
       "4                                    0.265652   \n",
       "\n",
       "   android_sensor_accelerometer_max  android_sensor_linear_acceleration_mean  \\\n",
       "0                          9.849411                                 0.020978   \n",
       "1                         17.146631                                 0.879220   \n",
       "2                          9.849262                                 0.034110   \n",
       "3                         12.304298                                 1.488361   \n",
       "4                         10.891645                                 1.658308   \n",
       "\n",
       "   speed_mean  android_sensor_rotation_vector_mean  \\\n",
       "0    0.180379                             0.050413   \n",
       "1   14.679876                             0.999981   \n",
       "2    0.180379                             0.610456   \n",
       "3   14.679876                             0.998112   \n",
       "4   14.679876                             0.322242   \n",
       "\n",
       "   android_sensor_rotation_vector_max  android_sensor_accelerometer_min  \\\n",
       "0                            0.056351                          9.758895   \n",
       "1                            0.999999                          7.707437   \n",
       "2                            0.610456                          9.804817   \n",
       "3                            0.998112                          7.659674   \n",
       "4                            0.378193                          8.965621   \n",
       "\n",
       "   android_sensor_magnetic_field_uncalibrated_min  sound_min target  \n",
       "0                                       51.199707        NaN  Still  \n",
       "1                                       82.409890  89.065143    Car  \n",
       "2                                       55.501802        NaN  Still  \n",
       "3                                       95.664309  87.470377    Car  \n",
       "4                                      156.795909  89.770732    Car  "
      ]
     },
     "execution_count": 3,
     "metadata": {},
     "output_type": "execute_result"
    }
   ],
   "source": [
    "#Load and preview data\n",
    "df = pd.read_csv('data_selected_feature.csv')\n",
    "df.head()"
   ]
  },
  {
   "cell_type": "code",
   "execution_count": 4,
   "metadata": {
    "ExecuteTime": {
     "end_time": "2021-05-19T15:24:10.682504Z",
     "start_time": "2021-05-19T15:24:10.662557Z"
    },
    "cell_id": "00002-516c5973-fb5e-4326-b2e8-12ab5da65684",
    "deepnote_cell_type": "code",
    "deepnote_to_be_reexecuted": false,
    "execution_millis": 1,
    "execution_start": 1621419390261,
    "source_hash": "14f60b8f",
    "tags": []
   },
   "outputs": [
    {
     "data": {
      "text/plain": [
       "(5893, 15)"
      ]
     },
     "execution_count": 4,
     "metadata": {},
     "output_type": "execute_result"
    }
   ],
   "source": [
    "df.shape"
   ]
  },
  {
   "cell_type": "markdown",
   "metadata": {
    "cell_id": "00004-af9640c0-6a6b-4a96-a694-0156e5a66e48",
    "deepnote_cell_type": "markdown",
    "tags": []
   },
   "source": [
    "Data exploration"
   ]
  },
  {
   "cell_type": "code",
   "execution_count": 5,
   "metadata": {
    "ExecuteTime": {
     "end_time": "2021-05-19T15:24:13.844664Z",
     "start_time": "2021-05-19T15:24:13.765907Z"
    },
    "cell_id": "00003-e5b0be70-40ed-4213-b10a-155593c459b6",
    "deepnote_cell_type": "code",
    "deepnote_to_be_reexecuted": false,
    "execution_millis": 346,
    "execution_start": 1621419394134,
    "source_hash": "c36692c2",
    "tags": []
   },
   "outputs": [
    {
     "data": {
      "text/html": [
       "<div>\n",
       "<style scoped>\n",
       "    .dataframe tbody tr th:only-of-type {\n",
       "        vertical-align: middle;\n",
       "    }\n",
       "\n",
       "    .dataframe tbody tr th {\n",
       "        vertical-align: top;\n",
       "    }\n",
       "\n",
       "    .dataframe thead th {\n",
       "        text-align: right;\n",
       "    }\n",
       "</style>\n",
       "<table border=\"1\" class=\"dataframe\">\n",
       "  <thead>\n",
       "    <tr style=\"text-align: right;\">\n",
       "      <th></th>\n",
       "      <th>id</th>\n",
       "      <th>android_sensor_gyroscope_mean</th>\n",
       "      <th>android_sensor_accelerometer_std</th>\n",
       "      <th>android_sensor_gyroscope_std</th>\n",
       "      <th>android_sensor_gyroscope_uncalibrated_mean</th>\n",
       "      <th>android_sensor_accelerometer_max</th>\n",
       "      <th>android_sensor_linear_acceleration_mean</th>\n",
       "      <th>speed_mean</th>\n",
       "      <th>android_sensor_rotation_vector_mean</th>\n",
       "      <th>android_sensor_rotation_vector_max</th>\n",
       "      <th>android_sensor_accelerometer_min</th>\n",
       "      <th>android_sensor_magnetic_field_uncalibrated_min</th>\n",
       "      <th>sound_min</th>\n",
       "    </tr>\n",
       "  </thead>\n",
       "  <tbody>\n",
       "    <tr>\n",
       "      <th>count</th>\n",
       "      <td>5893.000000</td>\n",
       "      <td>5173.000000</td>\n",
       "      <td>5893.000000</td>\n",
       "      <td>5172.000000</td>\n",
       "      <td>5094.000000</td>\n",
       "      <td>5893.000000</td>\n",
       "      <td>5399.000000</td>\n",
       "      <td>5893.000000</td>\n",
       "      <td>5172.000000</td>\n",
       "      <td>5172.000000</td>\n",
       "      <td>5893.000000</td>\n",
       "      <td>5094.000000</td>\n",
       "      <td>4899.000000</td>\n",
       "    </tr>\n",
       "    <tr>\n",
       "      <th>mean</th>\n",
       "      <td>10685.407263</td>\n",
       "      <td>0.312536</td>\n",
       "      <td>0.982987</td>\n",
       "      <td>0.189903</td>\n",
       "      <td>0.312807</td>\n",
       "      <td>12.247691</td>\n",
       "      <td>1.315971</td>\n",
       "      <td>11.219236</td>\n",
       "      <td>0.765932</td>\n",
       "      <td>0.779000</td>\n",
       "      <td>8.426262</td>\n",
       "      <td>136.955896</td>\n",
       "      <td>78.451658</td>\n",
       "    </tr>\n",
       "    <tr>\n",
       "      <th>std</th>\n",
       "      <td>6921.229833</td>\n",
       "      <td>0.554585</td>\n",
       "      <td>1.505615</td>\n",
       "      <td>0.342901</td>\n",
       "      <td>0.537925</td>\n",
       "      <td>5.178436</td>\n",
       "      <td>2.065444</td>\n",
       "      <td>12.827053</td>\n",
       "      <td>0.263393</td>\n",
       "      <td>0.262881</td>\n",
       "      <td>1.783007</td>\n",
       "      <td>70.764992</td>\n",
       "      <td>14.262912</td>\n",
       "    </tr>\n",
       "    <tr>\n",
       "      <th>min</th>\n",
       "      <td>0.000000</td>\n",
       "      <td>0.000000</td>\n",
       "      <td>0.001286</td>\n",
       "      <td>0.000000</td>\n",
       "      <td>0.001157</td>\n",
       "      <td>8.801019</td>\n",
       "      <td>0.000825</td>\n",
       "      <td>0.180379</td>\n",
       "      <td>0.020350</td>\n",
       "      <td>0.031072</td>\n",
       "      <td>0.337166</td>\n",
       "      <td>16.222824</td>\n",
       "      <td>0.000000</td>\n",
       "    </tr>\n",
       "    <tr>\n",
       "      <th>25%</th>\n",
       "      <td>4502.000000</td>\n",
       "      <td>0.015824</td>\n",
       "      <td>0.078055</td>\n",
       "      <td>0.007552</td>\n",
       "      <td>0.038873</td>\n",
       "      <td>10.015566</td>\n",
       "      <td>0.101898</td>\n",
       "      <td>1.120206</td>\n",
       "      <td>0.651735</td>\n",
       "      <td>0.666105</td>\n",
       "      <td>7.805295</td>\n",
       "      <td>86.491724</td>\n",
       "      <td>72.233399</td>\n",
       "    </tr>\n",
       "    <tr>\n",
       "      <th>50%</th>\n",
       "      <td>10959.000000</td>\n",
       "      <td>0.053366</td>\n",
       "      <td>0.369163</td>\n",
       "      <td>0.028408</td>\n",
       "      <td>0.060895</td>\n",
       "      <td>10.602081</td>\n",
       "      <td>0.471370</td>\n",
       "      <td>5.368554</td>\n",
       "      <td>0.880361</td>\n",
       "      <td>0.904736</td>\n",
       "      <td>9.123124</td>\n",
       "      <td>134.198130</td>\n",
       "      <td>83.859708</td>\n",
       "    </tr>\n",
       "    <tr>\n",
       "      <th>75%</th>\n",
       "      <td>17049.000000</td>\n",
       "      <td>0.256315</td>\n",
       "      <td>1.058376</td>\n",
       "      <td>0.177164</td>\n",
       "      <td>0.256838</td>\n",
       "      <td>12.291575</td>\n",
       "      <td>1.388990</td>\n",
       "      <td>14.679876</td>\n",
       "      <td>0.972333</td>\n",
       "      <td>0.982342</td>\n",
       "      <td>9.691731</td>\n",
       "      <td>160.169231</td>\n",
       "      <td>89.743333</td>\n",
       "    </tr>\n",
       "    <tr>\n",
       "      <th>max</th>\n",
       "      <td>22045.000000</td>\n",
       "      <td>5.662153</td>\n",
       "      <td>12.879851</td>\n",
       "      <td>4.980892</td>\n",
       "      <td>3.863194</td>\n",
       "      <td>66.886376</td>\n",
       "      <td>23.110842</td>\n",
       "      <td>34.722137</td>\n",
       "      <td>1.000000</td>\n",
       "      <td>1.000000</td>\n",
       "      <td>12.115013</td>\n",
       "      <td>527.049732</td>\n",
       "      <td>90.308734</td>\n",
       "    </tr>\n",
       "  </tbody>\n",
       "</table>\n",
       "</div>"
      ],
      "text/plain": [
       "                 id  android_sensor_gyroscope_mean  \\\n",
       "count   5893.000000                    5173.000000   \n",
       "mean   10685.407263                       0.312536   \n",
       "std     6921.229833                       0.554585   \n",
       "min        0.000000                       0.000000   \n",
       "25%     4502.000000                       0.015824   \n",
       "50%    10959.000000                       0.053366   \n",
       "75%    17049.000000                       0.256315   \n",
       "max    22045.000000                       5.662153   \n",
       "\n",
       "       android_sensor_accelerometer_std  android_sensor_gyroscope_std  \\\n",
       "count                       5893.000000                   5172.000000   \n",
       "mean                           0.982987                      0.189903   \n",
       "std                            1.505615                      0.342901   \n",
       "min                            0.001286                      0.000000   \n",
       "25%                            0.078055                      0.007552   \n",
       "50%                            0.369163                      0.028408   \n",
       "75%                            1.058376                      0.177164   \n",
       "max                           12.879851                      4.980892   \n",
       "\n",
       "       android_sensor_gyroscope_uncalibrated_mean  \\\n",
       "count                                 5094.000000   \n",
       "mean                                     0.312807   \n",
       "std                                      0.537925   \n",
       "min                                      0.001157   \n",
       "25%                                      0.038873   \n",
       "50%                                      0.060895   \n",
       "75%                                      0.256838   \n",
       "max                                      3.863194   \n",
       "\n",
       "       android_sensor_accelerometer_max  \\\n",
       "count                       5893.000000   \n",
       "mean                          12.247691   \n",
       "std                            5.178436   \n",
       "min                            8.801019   \n",
       "25%                           10.015566   \n",
       "50%                           10.602081   \n",
       "75%                           12.291575   \n",
       "max                           66.886376   \n",
       "\n",
       "       android_sensor_linear_acceleration_mean   speed_mean  \\\n",
       "count                              5399.000000  5893.000000   \n",
       "mean                                  1.315971    11.219236   \n",
       "std                                   2.065444    12.827053   \n",
       "min                                   0.000825     0.180379   \n",
       "25%                                   0.101898     1.120206   \n",
       "50%                                   0.471370     5.368554   \n",
       "75%                                   1.388990    14.679876   \n",
       "max                                  23.110842    34.722137   \n",
       "\n",
       "       android_sensor_rotation_vector_mean  \\\n",
       "count                          5172.000000   \n",
       "mean                              0.765932   \n",
       "std                               0.263393   \n",
       "min                               0.020350   \n",
       "25%                               0.651735   \n",
       "50%                               0.880361   \n",
       "75%                               0.972333   \n",
       "max                               1.000000   \n",
       "\n",
       "       android_sensor_rotation_vector_max  android_sensor_accelerometer_min  \\\n",
       "count                         5172.000000                       5893.000000   \n",
       "mean                             0.779000                          8.426262   \n",
       "std                              0.262881                          1.783007   \n",
       "min                              0.031072                          0.337166   \n",
       "25%                              0.666105                          7.805295   \n",
       "50%                              0.904736                          9.123124   \n",
       "75%                              0.982342                          9.691731   \n",
       "max                              1.000000                         12.115013   \n",
       "\n",
       "       android_sensor_magnetic_field_uncalibrated_min    sound_min  \n",
       "count                                     5094.000000  4899.000000  \n",
       "mean                                       136.955896    78.451658  \n",
       "std                                         70.764992    14.262912  \n",
       "min                                         16.222824     0.000000  \n",
       "25%                                         86.491724    72.233399  \n",
       "50%                                        134.198130    83.859708  \n",
       "75%                                        160.169231    89.743333  \n",
       "max                                        527.049732    90.308734  "
      ]
     },
     "execution_count": 5,
     "metadata": {},
     "output_type": "execute_result"
    }
   ],
   "source": [
    "#General overview of the statistical distribution of our data\n",
    "df.describe()"
   ]
  },
  {
   "cell_type": "code",
   "execution_count": 6,
   "metadata": {
    "ExecuteTime": {
     "end_time": "2021-05-19T15:24:16.715694Z",
     "start_time": "2021-05-19T15:24:16.705722Z"
    },
    "cell_id": "00004-bf0a5597-e808-46bf-ab85-55b1cc701e09",
    "deepnote_cell_type": "code",
    "deepnote_to_be_reexecuted": false,
    "execution_millis": 15,
    "execution_start": 1621419395913,
    "source_hash": "835893fd",
    "tags": []
   },
   "outputs": [
    {
     "data": {
      "text/plain": [
       "Index(['id', 'user', 'android_sensor_gyroscope_mean',\n",
       "       'android_sensor_accelerometer_std', 'android_sensor_gyroscope_std',\n",
       "       'android_sensor_gyroscope_uncalibrated_mean',\n",
       "       'android_sensor_accelerometer_max',\n",
       "       'android_sensor_linear_acceleration_mean', 'speed_mean',\n",
       "       'android_sensor_rotation_vector_mean',\n",
       "       'android_sensor_rotation_vector_max',\n",
       "       'android_sensor_accelerometer_min',\n",
       "       'android_sensor_magnetic_field_uncalibrated_min', 'sound_min',\n",
       "       'target'],\n",
       "      dtype='object')"
      ]
     },
     "execution_count": 6,
     "metadata": {},
     "output_type": "execute_result"
    }
   ],
   "source": [
    "#what features do we have?\n",
    "df.columns"
   ]
  },
  {
   "cell_type": "code",
   "execution_count": 7,
   "metadata": {
    "ExecuteTime": {
     "end_time": "2021-05-19T15:24:19.404160Z",
     "start_time": "2021-05-19T15:24:19.392728Z"
    },
    "cell_id": "00002-06499f19-3201-4f6e-8cbe-121231b36979",
    "deepnote_cell_type": "code",
    "deepnote_to_be_reexecuted": false,
    "execution_millis": 72,
    "execution_start": 1621419398125,
    "source_hash": "3106afbb",
    "tags": []
   },
   "outputs": [
    {
     "data": {
      "text/html": [
       "<div>\n",
       "<style scoped>\n",
       "    .dataframe tbody tr th:only-of-type {\n",
       "        vertical-align: middle;\n",
       "    }\n",
       "\n",
       "    .dataframe tbody tr th {\n",
       "        vertical-align: top;\n",
       "    }\n",
       "\n",
       "    .dataframe thead th {\n",
       "        text-align: right;\n",
       "    }\n",
       "</style>\n",
       "<table border=\"1\" class=\"dataframe\">\n",
       "  <thead>\n",
       "    <tr style=\"text-align: right;\">\n",
       "      <th></th>\n",
       "      <th>3875</th>\n",
       "      <th>1298</th>\n",
       "      <th>914</th>\n",
       "    </tr>\n",
       "  </thead>\n",
       "  <tbody>\n",
       "    <tr>\n",
       "      <th>id</th>\n",
       "      <td>6674</td>\n",
       "      <td>19824</td>\n",
       "      <td>6125</td>\n",
       "    </tr>\n",
       "    <tr>\n",
       "      <th>user</th>\n",
       "      <td>andrea</td>\n",
       "      <td>Pierpaolo</td>\n",
       "      <td>andrea</td>\n",
       "    </tr>\n",
       "    <tr>\n",
       "      <th>android_sensor_gyroscope_mean</th>\n",
       "      <td>1.486513</td>\n",
       "      <td>2.327241</td>\n",
       "      <td>0.009441</td>\n",
       "    </tr>\n",
       "    <tr>\n",
       "      <th>android_sensor_accelerometer_std</th>\n",
       "      <td>3.869806</td>\n",
       "      <td>3.59802</td>\n",
       "      <td>0.03219</td>\n",
       "    </tr>\n",
       "    <tr>\n",
       "      <th>android_sensor_gyroscope_std</th>\n",
       "      <td>0.945813</td>\n",
       "      <td>0.899752</td>\n",
       "      <td>0.005287</td>\n",
       "    </tr>\n",
       "    <tr>\n",
       "      <th>android_sensor_gyroscope_uncalibrated_mean</th>\n",
       "      <td>1.68113</td>\n",
       "      <td>1.600019</td>\n",
       "      <td>0.035546</td>\n",
       "    </tr>\n",
       "    <tr>\n",
       "      <th>android_sensor_accelerometer_max</th>\n",
       "      <td>18.675186</td>\n",
       "      <td>18.74356</td>\n",
       "      <td>10.053045</td>\n",
       "    </tr>\n",
       "    <tr>\n",
       "      <th>android_sensor_linear_acceleration_mean</th>\n",
       "      <td>9.607641</td>\n",
       "      <td>6.502147</td>\n",
       "      <td>0.077036</td>\n",
       "    </tr>\n",
       "    <tr>\n",
       "      <th>speed_mean</th>\n",
       "      <td>1.120206</td>\n",
       "      <td>1.120206</td>\n",
       "      <td>34.722137</td>\n",
       "    </tr>\n",
       "    <tr>\n",
       "      <th>android_sensor_rotation_vector_mean</th>\n",
       "      <td>0.743743</td>\n",
       "      <td>0.806834</td>\n",
       "      <td>0.975806</td>\n",
       "    </tr>\n",
       "    <tr>\n",
       "      <th>android_sensor_rotation_vector_max</th>\n",
       "      <td>0.827887</td>\n",
       "      <td>0.841124</td>\n",
       "      <td>0.976707</td>\n",
       "    </tr>\n",
       "    <tr>\n",
       "      <th>android_sensor_accelerometer_min</th>\n",
       "      <td>5.888569</td>\n",
       "      <td>7.17413</td>\n",
       "      <td>9.957937</td>\n",
       "    </tr>\n",
       "    <tr>\n",
       "      <th>android_sensor_magnetic_field_uncalibrated_min</th>\n",
       "      <td>88.8039</td>\n",
       "      <td>78.90362</td>\n",
       "      <td>125.617279</td>\n",
       "    </tr>\n",
       "    <tr>\n",
       "      <th>sound_min</th>\n",
       "      <td>89.859117</td>\n",
       "      <td>73.705876</td>\n",
       "      <td>87.992436</td>\n",
       "    </tr>\n",
       "    <tr>\n",
       "      <th>target</th>\n",
       "      <td>Walking</td>\n",
       "      <td>Walking</td>\n",
       "      <td>Train</td>\n",
       "    </tr>\n",
       "  </tbody>\n",
       "</table>\n",
       "</div>"
      ],
      "text/plain": [
       "                                                     3875       1298  \\\n",
       "id                                                   6674      19824   \n",
       "user                                               andrea  Pierpaolo   \n",
       "android_sensor_gyroscope_mean                    1.486513   2.327241   \n",
       "android_sensor_accelerometer_std                 3.869806    3.59802   \n",
       "android_sensor_gyroscope_std                     0.945813   0.899752   \n",
       "android_sensor_gyroscope_uncalibrated_mean        1.68113   1.600019   \n",
       "android_sensor_accelerometer_max                18.675186   18.74356   \n",
       "android_sensor_linear_acceleration_mean          9.607641   6.502147   \n",
       "speed_mean                                       1.120206   1.120206   \n",
       "android_sensor_rotation_vector_mean              0.743743   0.806834   \n",
       "android_sensor_rotation_vector_max               0.827887   0.841124   \n",
       "android_sensor_accelerometer_min                 5.888569    7.17413   \n",
       "android_sensor_magnetic_field_uncalibrated_min    88.8039   78.90362   \n",
       "sound_min                                       89.859117  73.705876   \n",
       "target                                            Walking    Walking   \n",
       "\n",
       "                                                      914   \n",
       "id                                                    6125  \n",
       "user                                                andrea  \n",
       "android_sensor_gyroscope_mean                     0.009441  \n",
       "android_sensor_accelerometer_std                   0.03219  \n",
       "android_sensor_gyroscope_std                      0.005287  \n",
       "android_sensor_gyroscope_uncalibrated_mean        0.035546  \n",
       "android_sensor_accelerometer_max                 10.053045  \n",
       "android_sensor_linear_acceleration_mean           0.077036  \n",
       "speed_mean                                       34.722137  \n",
       "android_sensor_rotation_vector_mean               0.975806  \n",
       "android_sensor_rotation_vector_max                0.976707  \n",
       "android_sensor_accelerometer_min                  9.957937  \n",
       "android_sensor_magnetic_field_uncalibrated_min  125.617279  \n",
       "sound_min                                        87.992436  \n",
       "target                                               Train  "
      ]
     },
     "execution_count": 7,
     "metadata": {},
     "output_type": "execute_result"
    }
   ],
   "source": [
    "#preview of what the fitness data looks like for each user \n",
    "df.sample(3).T"
   ]
  },
  {
   "cell_type": "code",
   "execution_count": 8,
   "metadata": {
    "ExecuteTime": {
     "end_time": "2021-05-19T15:24:22.466930Z",
     "start_time": "2021-05-19T15:24:22.441002Z"
    },
    "cell_id": "00003-ccc0bc16-4c53-4246-ac9f-23f6c446c4e1",
    "deepnote_cell_type": "code",
    "deepnote_to_be_reexecuted": false,
    "execution_millis": 24,
    "execution_start": 1621419400181,
    "source_hash": "1793bd7a",
    "tags": []
   },
   "outputs": [
    {
     "data": {
      "text/plain": [
       "sound_min                                         994\n",
       "android_sensor_gyroscope_uncalibrated_mean        799\n",
       "android_sensor_magnetic_field_uncalibrated_min    799\n",
       "android_sensor_gyroscope_std                      721\n",
       "android_sensor_rotation_vector_mean               721\n",
       "android_sensor_rotation_vector_max                721\n",
       "android_sensor_gyroscope_mean                     720\n",
       "android_sensor_linear_acceleration_mean           494\n",
       "id                                                  0\n",
       "user                                                0\n",
       "android_sensor_accelerometer_std                    0\n",
       "android_sensor_accelerometer_max                    0\n",
       "speed_mean                                          0\n",
       "android_sensor_accelerometer_min                    0\n",
       "target                                              0\n",
       "dtype: int64"
      ]
     },
     "execution_count": 8,
     "metadata": {},
     "output_type": "execute_result"
    }
   ],
   "source": [
    "# How much of your data is missing?\n",
    "df.isnull().sum().sort_values(ascending = False)"
   ]
  },
  {
   "cell_type": "code",
   "execution_count": 9,
   "metadata": {
    "ExecuteTime": {
     "end_time": "2021-05-19T15:24:24.766271Z",
     "start_time": "2021-05-19T15:24:24.746327Z"
    },
    "cell_id": "00009-3de4e229-d780-4a46-8af6-44f5e129baf6",
    "deepnote_cell_type": "code",
    "deepnote_to_be_reexecuted": false,
    "execution_millis": 21,
    "execution_start": 1621435121329,
    "source_hash": "4cd2d052",
    "tags": []
   },
   "outputs": [
    {
     "data": {
      "text/plain": [
       "0        0.180379\n",
       "1       14.679876\n",
       "2        0.180379\n",
       "3       14.679876\n",
       "4       14.679876\n",
       "          ...    \n",
       "5888     1.120206\n",
       "5889    34.722137\n",
       "5890     0.180379\n",
       "5891     0.180379\n",
       "5892     1.120206\n",
       "Name: speed_mean, Length: 5893, dtype: float64"
      ]
     },
     "execution_count": 9,
     "metadata": {},
     "output_type": "execute_result"
    }
   ],
   "source": [
    "df.speed_mean"
   ]
  },
  {
   "cell_type": "code",
   "execution_count": 10,
   "metadata": {
    "ExecuteTime": {
     "end_time": "2021-05-19T15:24:27.487178Z",
     "start_time": "2021-05-19T15:24:27.465267Z"
    },
    "cell_id": "00007-377070ff-7b33-49b6-a81e-a893c30a9e66",
    "deepnote_cell_type": "code",
    "deepnote_to_be_reexecuted": false,
    "execution_millis": 43,
    "execution_start": 1621419403124,
    "source_hash": "f6dff865",
    "tags": []
   },
   "outputs": [
    {
     "data": {
      "text/plain": [
       "sound_min                                         16.867470\n",
       "android_sensor_gyroscope_uncalibrated_mean        13.558459\n",
       "android_sensor_magnetic_field_uncalibrated_min    13.558459\n",
       "android_sensor_gyroscope_std                      12.234855\n",
       "android_sensor_rotation_vector_mean               12.234855\n",
       "android_sensor_rotation_vector_max                12.234855\n",
       "android_sensor_gyroscope_mean                     12.217886\n",
       "android_sensor_linear_acceleration_mean            8.382827\n",
       "id                                                 0.000000\n",
       "user                                               0.000000\n",
       "android_sensor_accelerometer_std                   0.000000\n",
       "android_sensor_accelerometer_max                   0.000000\n",
       "speed_mean                                         0.000000\n",
       "android_sensor_accelerometer_min                   0.000000\n",
       "target                                             0.000000\n",
       "dtype: float64"
      ]
     },
     "execution_count": 10,
     "metadata": {},
     "output_type": "execute_result"
    }
   ],
   "source": [
    "#missing data in percentages\n",
    "per_miss = ((df.isnull().sum() * 100) / len(df))\n",
    "per_miss.sort_values(ascending = False)"
   ]
  },
  {
   "cell_type": "code",
   "execution_count": 11,
   "metadata": {
    "ExecuteTime": {
     "end_time": "2021-05-19T15:24:30.958570Z",
     "start_time": "2021-05-19T15:24:30.858314Z"
    },
    "cell_id": "00009-7af10ab3-c13d-4fce-b2bb-cca7ac161684",
    "deepnote_cell_type": "code",
    "deepnote_to_be_reexecuted": false,
    "execution_millis": 161,
    "execution_start": 1621420294338,
    "source_hash": "f13d1e97",
    "tags": []
   },
   "outputs": [
    {
     "data": {
      "text/plain": [
       "array([[16170, 'Luca', 0.00165077522136, ..., 9.75889547269,\n",
       "        51.1997072531, 89.759161852],\n",
       "       [15871, 'Luca', 0.0363257142488, ..., 7.70743742161,\n",
       "        82.4098901832, 89.06514335],\n",
       "       [16811, 'Luca', 0.00152461653211, ..., 9.80481712742,\n",
       "        55.5018017726, 89.759161852],\n",
       "       ...,\n",
       "       [16178, 'Luca', 0.0018033469041, ..., 9.77288063757,\n",
       "        51.1294435722, 89.759161852],\n",
       "       [10973, 'Damiano', 0.00365158473917, ..., 9.80734672534,\n",
       "        270.328539987, 89.759161852],\n",
       "       [8278, 'andrea', 1.45440841261, ..., 5.20328476548, 149.048368913,\n",
       "        89.7124413341]], dtype=object)"
      ]
     },
     "execution_count": 11,
     "metadata": {},
     "output_type": "execute_result"
    }
   ],
   "source": [
    "#Handling missing data \n",
    "# Impute missing values using Imputer in sklearn.preprocessing\n",
    "X = df.drop('target', 1)\n",
    "y = df.target\n",
    "\n",
    "imp = SimpleImputer(missing_values = np.nan, strategy='most_frequent')\n",
    "imp.fit(X)\n",
    "imp.fit_transform(X)"
   ]
  },
  {
   "cell_type": "markdown",
   "metadata": {
    "cell_id": "00011-2dc1c0c6-3b31-4955-89a8-6537cb855089",
    "deepnote_cell_type": "markdown",
    "tags": []
   },
   "source": [
    "Feature analysis"
   ]
  },
  {
   "cell_type": "code",
   "execution_count": 10,
   "metadata": {
    "cell_id": "00011-00028ba3-2d11-43f7-98f0-d3c02311c831",
    "deepnote_cell_type": "code",
    "deepnote_to_be_reexecuted": false,
    "execution_millis": 2458,
    "execution_start": 1621419408092,
    "source_hash": "3a45b1f2",
    "tags": []
   },
   "outputs": [
    {
     "data": {
      "text/plain": [
       "<AxesSubplot:>"
      ]
     },
     "execution_count": 10,
     "metadata": {},
     "output_type": "execute_result"
    },
    {
     "data": {
      "image/png": "[encoded data removed]",
      "text/plain": [
       "<Figure size 1080x720 with 2 Axes>"
      ]
     },
     "metadata": {
      "image/png": {
       "height": 712,
       "width": 1007
      }
     },
     "output_type": "display_data"
    }
   ],
   "source": [
    "#how does these features correlate?\n",
    "#Plot heatmap of feature correlation\n",
    "plt.figure(figsize = (15,10))\n",
    "sns.heatmap(df.corr())"
   ]
  },
  {
   "cell_type": "markdown",
   "metadata": {
    "cell_id": "00013-0b3565d0-2147-4d96-b6a7-27d3fe31dc5b",
    "deepnote_cell_type": "markdown",
    "tags": []
   },
   "source": [
    "Mutual information (MI) describes relationships in terms of uncertainty. \n",
    "The mutual information (MI) between two quantities is a measure of the extent to which knowledge of one quantity reduces uncertainty about the other.\n",
    "\n",
    "Because of our little domain knowledge on this project segement, \n",
    "we applied MI to deduce which the relevancy of each feature to target."
   ]
  },
  {
   "cell_type": "markdown",
   "metadata": {
    "cell_id": "00009-b7744b7a-c895-4ddc-8b89-c209962dfcc6",
    "deepnote_cell_type": "markdown",
    "tags": []
   },
   "source": [
    "To compute the mutual information scores for our features"
   ]
  },
  {
   "cell_type": "code",
   "execution_count": 12,
   "metadata": {
    "ExecuteTime": {
     "end_time": "2021-05-19T15:24:48.646921Z",
     "start_time": "2021-05-19T15:24:48.587524Z"
    },
    "cell_id": "00013-0db05906-5a67-4ac9-9b2d-c54492042e8c",
    "deepnote_cell_type": "code",
    "deepnote_to_be_reexecuted": false,
    "execution_millis": 74,
    "execution_start": 1621420301290,
    "source_hash": "15ad6e14",
    "tags": []
   },
   "outputs": [
    {
     "data": {
      "text/plain": [
       "id                                                category\n",
       "user                                              category\n",
       "android_sensor_gyroscope_mean                     category\n",
       "android_sensor_accelerometer_std                  category\n",
       "android_sensor_gyroscope_std                      category\n",
       "android_sensor_gyroscope_uncalibrated_mean        category\n",
       "android_sensor_accelerometer_max                  category\n",
       "android_sensor_linear_acceleration_mean           category\n",
       "speed_mean                                        category\n",
       "android_sensor_rotation_vector_mean               category\n",
       "android_sensor_rotation_vector_max                category\n",
       "android_sensor_accelerometer_min                  category\n",
       "android_sensor_magnetic_field_uncalibrated_min    category\n",
       "sound_min                                         category\n",
       "dtype: object"
      ]
     },
     "execution_count": 12,
     "metadata": {},
     "output_type": "execute_result"
    }
   ],
   "source": [
    "#Mutual information from sklearn only works with object and categorical data\n",
    "#converting from the float and int data type into categorical\n",
    "X = X.astype('category')\n",
    "X.dtypes"
   ]
  },
  {
   "cell_type": "code",
   "execution_count": 13,
   "metadata": {
    "ExecuteTime": {
     "end_time": "2021-05-19T15:24:55.581893Z",
     "start_time": "2021-05-19T15:24:55.442534Z"
    },
    "cell_id": "00007-eaeb7ae8-9e2e-4bce-945f-66212def1e82",
    "deepnote_cell_type": "code",
    "deepnote_to_be_reexecuted": false,
    "execution_millis": 463,
    "execution_start": 1621420740013,
    "source_hash": "67cf0c13",
    "tags": []
   },
   "outputs": [],
   "source": [
    "#import mutual_info_classif to prob the categorical features\n",
    "from sklearn.feature_selection import mutual_info_classif\n",
    "\n",
    "# Utility functions to rank the features\n",
    "def make_mi_scores(x1, y):\n",
    "    x1 = x1.copy()\n",
    "    # Label encoding for categoricals\n",
    "    for colname in x1.select_dtypes([\"category\"]):\n",
    "        x1[colname], _ = x1[colname].factorize()\n",
    "    # All discrete features should now have integer dtypes\n",
    "    discrete_features = [pd.api.types.is_integer_dtype(t) for t in x1.dtypes]\n",
    "    mi_scores = mutual_info_classif(x1, y, discrete_features=discrete_features, random_state=0)\n",
    "    mi_scores = pd.Series(mi_scores, name=\"MI Scores\", index=x1.columns)\n",
    "    mi_scores = mi_scores.sort_values(ascending=False)\n",
    "    return mi_scores\n",
    "\n",
    "#function to display the ranking in barplot\n",
    "def plot_mi_scores(scores):\n",
    "    scores = scores.sort_values(ascending=True)\n",
    "    width = np.arange(len(scores))\n",
    "    ticks = list(scores.index)\n",
    "    plt.barh(width, scores)\n",
    "    plt.yticks(width, ticks)\n",
    "    plt.title(\"Mutual Information Scores\")\n",
    "\n",
    "x1 = X.copy()\n",
    "y = df.target\n",
    "\n",
    "mi_scores = make_mi_scores(x1, y)"
   ]
  },
  {
   "cell_type": "code",
   "execution_count": 14,
   "metadata": {
    "ExecuteTime": {
     "end_time": "2021-05-19T15:25:00.440409Z",
     "start_time": "2021-05-19T15:25:00.084512Z"
    },
    "cell_id": "00014-54a9194b-6b79-4271-8026-123b018e61d9",
    "deepnote_cell_type": "code",
    "deepnote_to_be_reexecuted": false,
    "execution_millis": 986,
    "execution_start": 1621420750577,
    "source_hash": "1d1aa325",
    "tags": []
   },
   "outputs": [
    {
     "name": "stdout",
     "output_type": "stream",
     "text": [
      "id                                                1.609438\n",
      "android_sensor_accelerometer_std                  1.609438\n",
      "android_sensor_accelerometer_max                  1.609438\n",
      "speed_mean                                        1.609438\n",
      "android_sensor_accelerometer_min                  1.609202\n",
      "android_sensor_linear_acceleration_mean           1.497159\n",
      "android_sensor_rotation_vector_mean               1.426675\n",
      "android_sensor_rotation_vector_max                1.426204\n",
      "android_sensor_gyroscope_std                      1.422606\n",
      "android_sensor_gyroscope_mean                     1.420106\n",
      "android_sensor_magnetic_field_uncalibrated_min    1.403483\n",
      "android_sensor_gyroscope_uncalibrated_mean        1.403248\n",
      "sound_min                                         1.152705\n",
      "user                                              0.413110\n",
      "Name: MI Scores, dtype: float64\n"
     ]
    },
    {
     "data": {
      "image/png": "[encoded data removed]",
      "text/plain": [
       "<Figure size 800x500 with 1 Axes>"
      ]
     },
     "metadata": {},
     "output_type": "display_data"
    }
   ],
   "source": [
    "#display MI score...least possible is 0.0, above 2.0 is rare.\n",
    "print(mi_scores)\n",
    "\n",
    "#plot to make comparisions easy\n",
    "plt.figure(dpi=100, figsize=(8, 5))\n",
    "plot_mi_scores(mi_scores)"
   ]
  },
  {
   "cell_type": "code",
   "execution_count": 15,
   "metadata": {
    "ExecuteTime": {
     "end_time": "2021-05-19T15:25:21.250487Z",
     "start_time": "2021-05-19T15:25:21.012026Z"
    },
    "cell_id": "00011-af181b81-b08b-43d4-aad6-478b0cc2110e",
    "deepnote_cell_type": "code",
    "deepnote_to_be_reexecuted": false,
    "execution_millis": 467,
    "execution_start": 1621333939832,
    "source_hash": "aaf86bd8",
    "tags": []
   },
   "outputs": [
    {
     "data": {
      "image/png": "[encoded data removed]",
      "text/plain": [
       "<Figure size 360x360 with 1 Axes>"
      ]
     },
     "metadata": {},
     "output_type": "display_data"
    }
   ],
   "source": [
    "#Visualizing the strongest feature  with respect to the target\n",
    "sns.relplot(x = 'android_sensor_accelerometer_max', y = 'target', data = df);"
   ]
  },
  {
   "cell_type": "markdown",
   "metadata": {
    "cell_id": "00019-ea4f1f9a-9db1-4b5f-a0e9-24a928c1c28f",
    "deepnote_cell_type": "markdown",
    "tags": []
   },
   "source": [
    "Feature tweaking based on Mutual Information scores"
   ]
  },
  {
   "cell_type": "code",
   "execution_count": 19,
   "metadata": {
    "cell_id": "00017-caa614c9-ec8c-4ad0-8451-a94bd73ca323",
    "deepnote_cell_type": "code",
    "deepnote_to_be_reexecuted": false,
    "execution_millis": 135,
    "execution_start": 1621423311273,
    "source_hash": "79c9dc12",
    "tags": []
   },
   "outputs": [
    {
     "data": {
      "application/vnd.deepnote.dataframe.v2+json": {
       "column_count": 7,
       "columns": [
        {
         "dtype": "float64",
         "name": "android_sensor_rotation_vector_mean",
         "stats": {
          "histogram": [
           {
            "bin_end": 0.14536994911599999,
            "bin_start": 0.050413140269,
            "count": 1
           },
           {
            "bin_end": 0.24032675796300002,
            "bin_start": 0.14536994911599999,
            "count": 0
           },
           {
            "bin_end": 0.33528356681000004,
            "bin_start": 0.24032675796300002,
            "count": 1
           },
           {
            "bin_end": 0.430240375657,
            "bin_start": 0.33528356681000004,
            "count": 0
           },
           {
            "bin_end": 0.525197184504,
            "bin_start": 0.430240375657,
            "count": 0
           },
           {
            "bin_end": 0.6201539933510001,
            "bin_start": 0.525197184504,
            "count": 1
           },
           {
            "bin_end": 0.715110802198,
            "bin_start": 0.6201539933510001,
            "count": 0
           },
           {
            "bin_end": 0.810067611045,
            "bin_start": 0.715110802198,
            "count": 0
           },
           {
            "bin_end": 0.905024419892,
            "bin_start": 0.810067611045,
            "count": 0
           },
           {
            "bin_end": 0.999981228739,
            "bin_start": 0.905024419892,
            "count": 2
           }
          ],
          "max": "0.999981228739",
          "min": "0.050413140269",
          "nan_count": 0,
          "unique_count": 5
         }
        },
        {
         "dtype": "float64",
         "name": "android_sensor_gyroscope_mean",
         "stats": {
          "histogram": [
           {
            "bin_end": 0.019692364659799,
            "bin_start": 0.00152461653211,
            "count": 2
           },
           {
            "bin_end": 0.037860112787488,
            "bin_start": 0.019692364659799,
            "count": 2
           },
           {
            "bin_end": 0.056027860915177,
            "bin_start": 0.037860112787488,
            "count": 0
           },
           {
            "bin_end": 0.074195609042866,
            "bin_start": 0.056027860915177,
            "count": 0
           },
           {
            "bin_end": 0.092363357170555,
            "bin_start": 0.074195609042866,
            "count": 0
           },
           {
            "bin_end": 0.110531105298244,
            "bin_start": 0.092363357170555,
            "count": 0
           },
           {
            "bin_end": 0.12869885342593299,
            "bin_start": 0.110531105298244,
            "count": 0
           },
           {
            "bin_end": 0.146866601553622,
            "bin_start": 0.12869885342593299,
            "count": 0
           },
           {
            "bin_end": 0.165034349681311,
            "bin_start": 0.146866601553622,
            "count": 0
           },
           {
            "bin_end": 0.183202097809,
            "bin_start": 0.165034349681311,
            "count": 1
           }
          ],
          "max": "0.183202097809",
          "min": "0.00152461653211",
          "nan_count": 0,
          "unique_count": 5
         }
        },
        {
         "dtype": "float64",
         "name": "acc_gyro",
         "stats": {
          "histogram": [
           {
            "bin_end": 0.005978438169580537,
            "bin_start": 8.32207627870112e-05,
            "count": 2
           },
           {
            "bin_end": 0.011873655576374063,
            "bin_start": 0.005978438169580537,
            "count": 0
           },
           {
            "bin_end": 0.01776887298316759,
            "bin_start": 0.011873655576374063,
            "count": 0
           },
           {
            "bin_end": 0.023664090389961118,
            "bin_start": 0.01776887298316759,
            "count": 0
           },
           {
            "bin_end": 0.029559307796754645,
            "bin_start": 0.023664090389961118,
            "count": 0
           },
           {
            "bin_end": 0.035454525203548165,
            "bin_start": 0.029559307796754645,
            "count": 0
           },
           {
            "bin_end": 0.041349742610341696,
            "bin_start": 0.035454525203548165,
            "count": 2
           },
           {
            "bin_end": 0.04724496001713522,
            "bin_start": 0.041349742610341696,
            "count": 0
           },
           {
            "bin_end": 0.05314017742392874,
            "bin_start": 0.04724496001713522,
            "count": 0
           },
           {
            "bin_end": 0.059035394830722274,
            "bin_start": 0.05314017742392874,
            "count": 1
           }
          ],
          "max": "0.059035394830722274",
          "min": "8.32207627870112e-05",
          "nan_count": 0,
          "unique_count": 5
         }
        },
        {
         "dtype": "float64",
         "name": "speed_mean",
         "stats": {
          "histogram": [
           {
            "bin_end": 1.6303283250975626,
            "bin_start": 0.1803785331903315,
            "count": 2
           },
           {
            "bin_end": 3.0802781170047937,
            "bin_start": 1.6303283250975626,
            "count": 0
           },
           {
            "bin_end": 4.530227908912024,
            "bin_start": 3.0802781170047937,
            "count": 0
           },
           {
            "bin_end": 5.980177700819255,
            "bin_start": 4.530227908912024,
            "count": 0
           },
           {
            "bin_end": 7.430127492726487,
            "bin_start": 5.980177700819255,
            "count": 0
           },
           {
            "bin_end": 8.880077284633717,
            "bin_start": 7.430127492726487,
            "count": 0
           },
           {
            "bin_end": 10.330027076540949,
            "bin_start": 8.880077284633717,
            "count": 0
           },
           {
            "bin_end": 11.77997686844818,
            "bin_start": 10.330027076540949,
            "count": 0
           },
           {
            "bin_end": 13.229926660355412,
            "bin_start": 11.77997686844818,
            "count": 0
           },
           {
            "bin_end": 14.679876452262643,
            "bin_start": 13.229926660355412,
            "count": 3
           }
          ],
          "max": "14.679876452262643",
          "min": "0.1803785331903315",
          "nan_count": 0,
          "unique_count": 2
         }
        },
        {
         "dtype": "float64",
         "name": "android_sensor_linear_acceleration_mean",
         "stats": {
          "histogram": [
           {
            "bin_end": 0.18471080473561002,
            "bin_start": 0.0209778383629,
            "count": 2
           },
           {
            "bin_end": 0.34844377110832003,
            "bin_start": 0.18471080473561002,
            "count": 0
           },
           {
            "bin_end": 0.51217673748103,
            "bin_start": 0.34844377110832003,
            "count": 0
           },
           {
            "bin_end": 0.67590970385374,
            "bin_start": 0.51217673748103,
            "count": 0
           },
           {
            "bin_end": 0.8396426702264501,
            "bin_start": 0.67590970385374,
            "count": 0
           },
           {
            "bin_end": 1.00337563659916,
            "bin_start": 0.8396426702264501,
            "count": 1
           },
           {
            "bin_end": 1.16710860297187,
            "bin_start": 1.00337563659916,
            "count": 0
           },
           {
            "bin_end": 1.33084156934458,
            "bin_start": 1.16710860297187,
            "count": 0
           },
           {
            "bin_end": 1.4945745357172902,
            "bin_start": 1.33084156934458,
            "count": 1
           },
           {
            "bin_end": 1.65830750209,
            "bin_start": 1.4945745357172902,
            "count": 1
           }
          ],
          "max": "1.65830750209",
          "min": "0.0209778383629",
          "nan_count": 0,
          "unique_count": 5
         }
        },
        {
         "dtype": "float64",
         "name": "Lin_speed",
         "stats": {
          "histogram": [
           {
            "bin_end": 2.437780481596211,
            "bin_start": 0.0037839517134037673,
            "count": 2
           },
           {
            "bin_end": 4.8717770114790175,
            "bin_start": 2.437780481596211,
            "count": 0
           },
           {
            "bin_end": 7.305773541361825,
            "bin_start": 4.8717770114790175,
            "count": 0
           },
           {
            "bin_end": 9.739770071244632,
            "bin_start": 7.305773541361825,
            "count": 0
           },
           {
            "bin_end": 12.173766601127438,
            "bin_start": 9.739770071244632,
            "count": 0
           },
           {
            "bin_end": 14.607763131010246,
            "bin_start": 12.173766601127438,
            "count": 1
           },
           {
            "bin_end": 17.041759660893053,
            "bin_start": 14.607763131010246,
            "count": 0
           },
           {
            "bin_end": 19.47575619077586,
            "bin_start": 17.041759660893053,
            "count": 0
           },
           {
            "bin_end": 21.90975272065867,
            "bin_start": 19.47575619077586,
            "count": 1
           },
           {
            "bin_end": 24.343749250541475,
            "bin_start": 21.90975272065867,
            "count": 1
           }
          ],
          "max": "24.343749250541475",
          "min": "0.0037839517134037673",
          "nan_count": 0,
          "unique_count": 5
         }
        },
        {
         "dtype": "float64",
         "name": "still_sensor",
         "stats": {
          "histogram": [
           {
            "bin_end": 4.821478681736601,
            "bin_start": 0.29548152192993726,
            "count": 2
           },
           {
            "bin_end": 9.347475841543266,
            "bin_start": 4.821478681736601,
            "count": 0
           },
           {
            "bin_end": 13.87347300134993,
            "bin_start": 9.347475841543266,
            "count": 0
           },
           {
            "bin_end": 18.399470161156593,
            "bin_start": 13.87347300134993,
            "count": 2
           },
           {
            "bin_end": 22.925467320963257,
            "bin_start": 18.399470161156593,
            "count": 0
           },
           {
            "bin_end": 27.45146448076992,
            "bin_start": 22.925467320963257,
            "count": 0
           },
           {
            "bin_end": 31.977461640576585,
            "bin_start": 27.45146448076992,
            "count": 0
           },
           {
            "bin_end": 36.50345880038325,
            "bin_start": 31.977461640576585,
            "count": 0
           },
           {
            "bin_end": 41.029455960189914,
            "bin_start": 36.50345880038325,
            "count": 0
           },
           {
            "bin_end": 45.55545311999658,
            "bin_start": 41.029455960189914,
            "count": 1
           }
          ],
          "max": "45.55545311999658",
          "min": "0.29548152192993726",
          "nan_count": 0,
          "unique_count": 5
         }
        },
        {
         "dtype": "int64",
         "name": "_deepnote_index_column"
        }
       ],
       "row_count": 5,
       "rows_bottom": null,
       "rows_top": [
        {
         "Lin_speed": 0.0037839517134037673,
         "_deepnote_index_column": 0,
         "acc_gyro": 8.32207627870112e-05,
         "android_sensor_gyroscope_mean": 0.00165077522136,
         "android_sensor_linear_acceleration_mean": 0.0209778383629,
         "android_sensor_rotation_vector_mean": 0.050413140269,
         "speed_mean": 0.1803785331903315,
         "still_sensor": 3.578006294149657
        },
        {
         "Lin_speed": 12.906843654228528,
         "_deepnote_index_column": 1,
         "acc_gyro": 0.036325032369336825,
         "android_sensor_gyroscope_mean": 0.0363257142488,
         "android_sensor_linear_acceleration_mean": 0.879220182554,
         "android_sensor_rotation_vector_mean": 0.999981228739,
         "speed_mean": 14.679876452262643,
         "still_sensor": 14.680152017227678
        },
        {
         "Lin_speed": 0.006152753460790414,
         "_deepnote_index_column": 2,
         "acc_gyro": 0.0009307116463443016,
         "android_sensor_gyroscope_mean": 0.00152461653211,
         "android_sensor_linear_acceleration_mean": 0.0341102311454,
         "android_sensor_rotation_vector_mean": 0.610456220789,
         "speed_mean": 0.1803785331903315,
         "still_sensor": 0.29548152192993726
        },
        {
         "Lin_speed": 21.848949429203184,
         "_deepnote_index_column": 3,
         "acc_gyro": 0.03637152730105143,
         "android_sensor_gyroscope_mean": 0.0364403150565,
         "android_sensor_linear_acceleration_mean": 1.48836057989,
         "android_sensor_rotation_vector_mean": 0.998112317214,
         "speed_mean": 14.679876452262643,
         "still_sensor": 14.707639810756097
        },
        {
         "Lin_speed": 24.343749250541475,
         "_deepnote_index_column": 4,
         "acc_gyro": 0.059035394830722274,
         "android_sensor_gyroscope_mean": 0.183202097809,
         "android_sensor_linear_acceleration_mean": 1.65830750209,
         "android_sensor_rotation_vector_mean": 0.322241915004,
         "speed_mean": 14.679876452262643,
         "still_sensor": 45.55545311999658
        }
       ]
      },
      "text/html": [
       "<div>\n",
       "<style scoped>\n",
       "    .dataframe tbody tr th:only-of-type {\n",
       "        vertical-align: middle;\n",
       "    }\n",
       "\n",
       "    .dataframe tbody tr th {\n",
       "        vertical-align: top;\n",
       "    }\n",
       "\n",
       "    .dataframe thead th {\n",
       "        text-align: right;\n",
       "    }\n",
       "</style>\n",
       "<table border=\"1\" class=\"dataframe\">\n",
       "  <thead>\n",
       "    <tr style=\"text-align: right;\">\n",
       "      <th></th>\n",
       "      <th>android_sensor_rotation_vector_mean</th>\n",
       "      <th>android_sensor_gyroscope_mean</th>\n",
       "      <th>acc_gyro</th>\n",
       "      <th>speed_mean</th>\n",
       "      <th>android_sensor_linear_acceleration_mean</th>\n",
       "      <th>Lin_speed</th>\n",
       "      <th>still_sensor</th>\n",
       "    </tr>\n",
       "  </thead>\n",
       "  <tbody>\n",
       "    <tr>\n",
       "      <th>0</th>\n",
       "      <td>0.050413</td>\n",
       "      <td>0.001651</td>\n",
       "      <td>0.000083</td>\n",
       "      <td>0.180379</td>\n",
       "      <td>0.020978</td>\n",
       "      <td>0.003784</td>\n",
       "      <td>3.578006</td>\n",
       "    </tr>\n",
       "    <tr>\n",
       "      <th>1</th>\n",
       "      <td>0.999981</td>\n",
       "      <td>0.036326</td>\n",
       "      <td>0.036325</td>\n",
       "      <td>14.679876</td>\n",
       "      <td>0.879220</td>\n",
       "      <td>12.906844</td>\n",
       "      <td>14.680152</td>\n",
       "    </tr>\n",
       "    <tr>\n",
       "      <th>2</th>\n",
       "      <td>0.610456</td>\n",
       "      <td>0.001525</td>\n",
       "      <td>0.000931</td>\n",
       "      <td>0.180379</td>\n",
       "      <td>0.034110</td>\n",
       "      <td>0.006153</td>\n",
       "      <td>0.295482</td>\n",
       "    </tr>\n",
       "    <tr>\n",
       "      <th>3</th>\n",
       "      <td>0.998112</td>\n",
       "      <td>0.036440</td>\n",
       "      <td>0.036372</td>\n",
       "      <td>14.679876</td>\n",
       "      <td>1.488361</td>\n",
       "      <td>21.848949</td>\n",
       "      <td>14.707640</td>\n",
       "    </tr>\n",
       "    <tr>\n",
       "      <th>4</th>\n",
       "      <td>0.322242</td>\n",
       "      <td>0.183202</td>\n",
       "      <td>0.059035</td>\n",
       "      <td>14.679876</td>\n",
       "      <td>1.658308</td>\n",
       "      <td>24.343749</td>\n",
       "      <td>45.555453</td>\n",
       "    </tr>\n",
       "  </tbody>\n",
       "</table>\n",
       "</div>"
      ],
      "text/plain": [
       "   android_sensor_rotation_vector_mean  android_sensor_gyroscope_mean  \\\n",
       "0                             0.050413                       0.001651   \n",
       "1                             0.999981                       0.036326   \n",
       "2                             0.610456                       0.001525   \n",
       "3                             0.998112                       0.036440   \n",
       "4                             0.322242                       0.183202   \n",
       "\n",
       "   acc_gyro  speed_mean  android_sensor_linear_acceleration_mean  Lin_speed  \\\n",
       "0  0.000083    0.180379                                 0.020978   0.003784   \n",
       "1  0.036325   14.679876                                 0.879220  12.906844   \n",
       "2  0.000931    0.180379                                 0.034110   0.006153   \n",
       "3  0.036372   14.679876                                 1.488361  21.848949   \n",
       "4  0.059035   14.679876                                 1.658308  24.343749   \n",
       "\n",
       "   still_sensor  \n",
       "0      3.578006  \n",
       "1     14.680152  \n",
       "2      0.295482  \n",
       "3     14.707640  \n",
       "4     45.555453  "
      ]
     },
     "execution_count": 19,
     "metadata": {},
     "output_type": "execute_result"
    }
   ],
   "source": [
    "#literature suggests that this two features are better when paired\n",
    "#source: https://www.news-medical.net/health/Types-of-sensors-in-wearable-fitness-trackers.aspx\n",
    "df[\"acc_gyro\"] = df.android_sensor_rotation_vector_mean * df.android_sensor_gyroscope_mean\n",
    "\n",
    "#also linear speed would be speed of movement on a straight linear\n",
    "df[\"Lin_speed\"] = df.speed_mean * df.android_sensor_linear_acceleration_mean\n",
    "\n",
    "#feature to track change in motion in around direction\n",
    "df[\"still_sensor\"] = df.speed_mean / df.android_sensor_rotation_vector_mean\n",
    "\n",
    "df[[\"android_sensor_rotation_vector_mean\", \"android_sensor_gyroscope_mean\", \"acc_gyro\", \"speed_mean\", \"android_sensor_linear_acceleration_mean\", \"Lin_speed\", \"still_sensor\"]].head()\n",
    "\n"
   ]
  },
  {
   "cell_type": "code",
   "execution_count": 20,
   "metadata": {
    "cell_id": "00018-1fabe4b5-9e27-4051-a916-185a7b91b654",
    "deepnote_cell_type": "code",
    "deepnote_to_be_reexecuted": false,
    "execution_millis": 24,
    "execution_start": 1621423469015,
    "source_hash": "14f60b8f",
    "tags": []
   },
   "outputs": [
    {
     "data": {
      "text/plain": [
       "(5893, 18)"
      ]
     },
     "execution_count": 20,
     "metadata": {},
     "output_type": "execute_result"
    }
   ],
   "source": [
    "df.shape"
   ]
  },
  {
   "cell_type": "code",
   "execution_count": 21,
   "metadata": {
    "cell_id": "00019-02fa1411-64e9-49bb-9961-9f5de6ec376e",
    "deepnote_cell_type": "code",
    "deepnote_to_be_reexecuted": false,
    "execution_millis": 364,
    "execution_start": 1621423941329,
    "source_hash": "8c484bcc",
    "tags": []
   },
   "outputs": [],
   "source": [
    "df.to_csv(\"fe_still.csv\", index = False)"
   ]
  },
  {
   "cell_type": "markdown",
   "metadata": {
    "cell_id": "00017-15423151-5c07-48c0-a9f1-c52f04f7dc40",
    "deepnote_cell_type": "text-cell-h1",
    "tags": []
   },
   "source": [
    "# Preprocessing"
   ]
  },
  {
   "cell_type": "code",
   "execution_count": null,
   "metadata": {
    "cell_id": "00018-460c5937-3bb5-4287-b63c-b91931f2e4f8",
    "deepnote_cell_type": "code",
    "deepnote_to_be_reexecuted": false,
    "execution_millis": 5,
    "execution_start": 1621333940303,
    "source_hash": "765b4c0f",
    "tags": []
   },
   "outputs": [],
   "source": [
    "# change name of columns \n",
    "def change_name(df):\n",
    "    column_names=[]\n",
    "    for i in df.columns:\n",
    "        k=i.replace('.','_').replace(\"#\",'_')\n",
    "        df.rename(columns = {i:k}, inplace = True)\n",
    "    return df"
   ]
  }
 ],
 "metadata": {
  "deepnote": {
   "is_reactive": false
  },
  "deepnote_execution_queue": [],
  "deepnote_notebook_id": "97223c96-d7fe-4041-9a4c-9dd684251abc",
  "kernelspec": {
   "display_name": "Python 3",
   "language": "python",
   "name": "python3"
  },
  "language_info": {
   "codemirror_mode": {
    "name": "ipython",
    "version": 3
   },
   "file_extension": ".py",
   "mimetype": "text/x-python",
   "name": "python",
   "nbconvert_exporter": "python",
   "pygments_lexer": "ipython3",
   "version": "3.8.8"
  }
 },
 "nbformat": 4,
 "nbformat_minor": 2
}
