{
 "cells": [
  {
   "cell_type": "code",
   "metadata": {
    "tags": [],
    "cell_id": "00000-c505d962-3d0c-4d77-9e02-796c1ff63938",
    "deepnote_to_be_reexecuted": false,
    "source_hash": "215ec665",
    "execution_start": 1621334165515,
    "execution_millis": 1315,
    "deepnote_cell_type": "code"
   },
   "source": "import time\nfrom IPython.display import clear_output\nimport numpy    as np\nimport pandas   as pd\nimport matplotlib.pyplot as plt\nimport seaborn as sns\nimport plotly.express as px",
   "execution_count": 1,
   "outputs": []
  },
  {
   "cell_type": "code",
   "source": "data = pd.read_csv('dataset_5secondWindow.csv')",
   "metadata": {
    "tags": [],
    "cell_id": "00001-193c93b6-dde8-443f-820b-130330d6d450",
    "deepnote_to_be_reexecuted": false,
    "source_hash": "c27bf9b0",
    "execution_start": 1621334180961,
    "execution_millis": 134,
    "deepnote_cell_type": "code"
   },
   "outputs": [],
   "execution_count": 2
  },
  {
   "cell_type": "code",
   "source": "data.head()",
   "metadata": {
    "tags": [],
    "cell_id": "00002-0fd4760d-bfa8-4ee0-b0d9-0b8d94c0563e",
    "deepnote_to_be_reexecuted": false,
    "source_hash": "41313cfa",
    "execution_start": 1621334188188,
    "execution_millis": 409,
    "deepnote_cell_type": "code"
   },
   "outputs": [
    {
     "output_type": "execute_result",
     "execution_count": 3,
     "data": {
      "application/vnd.deepnote.dataframe.v2+json": {
       "row_count": 5,
       "column_count": 70,
       "columns": [
        {
         "name": "id",
         "dtype": "int64",
         "stats": {
          "unique_count": 5,
          "nan_count": 0,
          "min": "876",
          "max": "16811",
          "histogram": [
           {
            "bin_start": 876,
            "bin_end": 2469.5,
            "count": 1
           },
           {
            "bin_start": 2469.5,
            "bin_end": 4063,
            "count": 0
           },
           {
            "bin_start": 4063,
            "bin_end": 5656.5,
            "count": 0
           },
           {
            "bin_start": 5656.5,
            "bin_end": 7250,
            "count": 0
           },
           {
            "bin_start": 7250,
            "bin_end": 8843.5,
            "count": 0
           },
           {
            "bin_start": 8843.5,
            "bin_end": 10437,
            "count": 0
           },
           {
            "bin_start": 10437,
            "bin_end": 12030.5,
            "count": 0
           },
           {
            "bin_start": 12030.5,
            "bin_end": 13624,
            "count": 0
           },
           {
            "bin_start": 13624,
            "bin_end": 15217.5,
            "count": 0
           },
           {
            "bin_start": 15217.5,
            "bin_end": 16811,
            "count": 4
           }
          ]
         }
        },
        {
         "name": "time",
         "dtype": "float64",
         "stats": {
          "unique_count": 5,
          "nan_count": 0,
          "min": "77.0",
          "max": "150.0",
          "histogram": [
           {
            "bin_start": 77,
            "bin_end": 84.3,
            "count": 2
           },
           {
            "bin_start": 84.3,
            "bin_end": 91.6,
            "count": 0
           },
           {
            "bin_start": 91.6,
            "bin_end": 98.9,
            "count": 0
           },
           {
            "bin_start": 98.9,
            "bin_end": 106.2,
            "count": 1
           },
           {
            "bin_start": 106.2,
            "bin_end": 113.5,
            "count": 0
           },
           {
            "bin_start": 113.5,
            "bin_end": 120.8,
            "count": 0
           },
           {
            "bin_start": 120.8,
            "bin_end": 128.1,
            "count": 0
           },
           {
            "bin_start": 128.1,
            "bin_end": 135.4,
            "count": 0
           },
           {
            "bin_start": 135.4,
            "bin_end": 142.7,
            "count": 0
           },
           {
            "bin_start": 142.7,
            "bin_end": 150,
            "count": 2
           }
          ]
         }
        },
        {
         "name": "activityrecognition#0",
         "dtype": "float64",
         "stats": {
          "unique_count": 0,
          "nan_count": 5,
          "min": null,
          "max": null,
          "histogram": [
           {
            "bin_start": 0,
            "bin_end": 0.1,
            "count": 0
           },
           {
            "bin_start": 0.1,
            "bin_end": 0.2,
            "count": 0
           },
           {
            "bin_start": 0.2,
            "bin_end": 0.30000000000000004,
            "count": 0
           },
           {
            "bin_start": 0.30000000000000004,
            "bin_end": 0.4,
            "count": 0
           },
           {
            "bin_start": 0.4,
            "bin_end": 0.5,
            "count": 0
           },
           {
            "bin_start": 0.5,
            "bin_end": 0.6000000000000001,
            "count": 0
           },
           {
            "bin_start": 0.6000000000000001,
            "bin_end": 0.7000000000000001,
            "count": 0
           },
           {
            "bin_start": 0.7000000000000001,
            "bin_end": 0.8,
            "count": 0
           },
           {
            "bin_start": 0.8,
            "bin_end": 0.9,
            "count": 0
           },
           {
            "bin_start": 0.9,
            "bin_end": 1,
            "count": 0
           }
          ]
         }
        },
        {
         "name": "activityrecognition#1",
         "dtype": "float64",
         "stats": {
          "unique_count": 2,
          "nan_count": 0,
          "min": "77.0",
          "max": "100.0",
          "histogram": [
           {
            "bin_start": 77,
            "bin_end": 79.3,
            "count": 1
           },
           {
            "bin_start": 79.3,
            "bin_end": 81.6,
            "count": 0
           },
           {
            "bin_start": 81.6,
            "bin_end": 83.9,
            "count": 0
           },
           {
            "bin_start": 83.9,
            "bin_end": 86.2,
            "count": 0
           },
           {
            "bin_start": 86.2,
            "bin_end": 88.5,
            "count": 0
           },
           {
            "bin_start": 88.5,
            "bin_end": 90.8,
            "count": 0
           },
           {
            "bin_start": 90.8,
            "bin_end": 93.1,
            "count": 0
           },
           {
            "bin_start": 93.1,
            "bin_end": 95.4,
            "count": 0
           },
           {
            "bin_start": 95.4,
            "bin_end": 97.7,
            "count": 0
           },
           {
            "bin_start": 97.7,
            "bin_end": 100,
            "count": 4
           }
          ]
         }
        },
        {
         "name": "android.sensor.accelerometer#mean",
         "dtype": "float64",
         "stats": {
          "unique_count": 5,
          "nan_count": 0,
          "min": "9.67303911332",
          "max": "9.99346632118",
          "histogram": [
           {
            "bin_start": 9.67303911332,
            "bin_end": 9.705081834106,
            "count": 1
           },
           {
            "bin_start": 9.705081834106,
            "bin_end": 9.737124554892,
            "count": 0
           },
           {
            "bin_start": 9.737124554892,
            "bin_end": 9.769167275677999,
            "count": 0
           },
           {
            "bin_start": 9.769167275677999,
            "bin_end": 9.801209996464,
            "count": 0
           },
           {
            "bin_start": 9.801209996464,
            "bin_end": 9.83325271725,
            "count": 2
           },
           {
            "bin_start": 9.83325271725,
            "bin_end": 9.865295438036,
            "count": 0
           },
           {
            "bin_start": 9.865295438036,
            "bin_end": 9.897338158822,
            "count": 0
           },
           {
            "bin_start": 9.897338158822,
            "bin_end": 9.929380879607999,
            "count": 0
           },
           {
            "bin_start": 9.929380879607999,
            "bin_end": 9.961423600394,
            "count": 1
           },
           {
            "bin_start": 9.961423600394,
            "bin_end": 9.99346632118,
            "count": 1
           }
          ]
         }
        },
        {
         "name": "android.sensor.accelerometer#min",
         "dtype": "float64",
         "stats": {
          "unique_count": 5,
          "nan_count": 0,
          "min": "7.65967372861",
          "max": "9.80481712742",
          "histogram": [
           {
            "bin_start": 7.65967372861,
            "bin_end": 7.874188068491,
            "count": 2
           },
           {
            "bin_start": 7.874188068491,
            "bin_end": 8.088702408371999,
            "count": 0
           },
           {
            "bin_start": 8.088702408371999,
            "bin_end": 8.303216748253,
            "count": 0
           },
           {
            "bin_start": 8.303216748253,
            "bin_end": 8.517731088134,
            "count": 0
           },
           {
            "bin_start": 8.517731088134,
            "bin_end": 8.732245428015,
            "count": 0
           },
           {
            "bin_start": 8.732245428015,
            "bin_end": 8.946759767896,
            "count": 0
           },
           {
            "bin_start": 8.946759767896,
            "bin_end": 9.161274107777,
            "count": 1
           },
           {
            "bin_start": 9.161274107777,
            "bin_end": 9.375788447658,
            "count": 0
           },
           {
            "bin_start": 9.375788447658,
            "bin_end": 9.590302787539,
            "count": 0
           },
           {
            "bin_start": 9.590302787539,
            "bin_end": 9.80481712742,
            "count": 2
           }
          ]
         }
        },
        {
         "name": "android.sensor.accelerometer#max",
         "dtype": "float64",
         "stats": {
          "unique_count": 5,
          "nan_count": 0,
          "min": "9.84926211274",
          "max": "17.1466311902",
          "histogram": [
           {
            "bin_start": 9.84926211274,
            "bin_end": 10.578999020486,
            "count": 2
           },
           {
            "bin_start": 10.578999020486,
            "bin_end": 11.308735928232,
            "count": 1
           },
           {
            "bin_start": 11.308735928232,
            "bin_end": 12.038472835978,
            "count": 0
           },
           {
            "bin_start": 12.038472835978,
            "bin_end": 12.768209743724,
            "count": 1
           },
           {
            "bin_start": 12.768209743724,
            "bin_end": 13.49794665147,
            "count": 0
           },
           {
            "bin_start": 13.49794665147,
            "bin_end": 14.227683559216,
            "count": 0
           },
           {
            "bin_start": 14.227683559216,
            "bin_end": 14.957420466962,
            "count": 0
           },
           {
            "bin_start": 14.957420466962,
            "bin_end": 15.687157374708,
            "count": 0
           },
           {
            "bin_start": 15.687157374708,
            "bin_end": 16.416894282454003,
            "count": 0
           },
           {
            "bin_start": 16.416894282454003,
            "bin_end": 17.1466311902,
            "count": 1
           }
          ]
         }
        },
        {
         "name": "android.sensor.accelerometer#std",
         "dtype": "float64",
         "stats": {
          "unique_count": 5,
          "nan_count": 0,
          "min": "0.0111991059917",
          "max": "1.7759442967",
          "histogram": [
           {
            "bin_start": 0.0111991059917,
            "bin_end": 0.18767362506253,
            "count": 2
           },
           {
            "bin_start": 0.18767362506253,
            "bin_end": 0.36414814413336,
            "count": 0
           },
           {
            "bin_start": 0.36414814413336,
            "bin_end": 0.5406226632041901,
            "count": 1
           },
           {
            "bin_start": 0.5406226632041901,
            "bin_end": 0.7170971822750201,
            "count": 0
           },
           {
            "bin_start": 0.7170971822750201,
            "bin_end": 0.8935717013458501,
            "count": 1
           },
           {
            "bin_start": 0.8935717013458501,
            "bin_end": 1.07004622041668,
            "count": 0
           },
           {
            "bin_start": 1.07004622041668,
            "bin_end": 1.24652073948751,
            "count": 0
           },
           {
            "bin_start": 1.24652073948751,
            "bin_end": 1.42299525855834,
            "count": 0
           },
           {
            "bin_start": 1.42299525855834,
            "bin_end": 1.5994697776291702,
            "count": 0
           },
           {
            "bin_start": 1.5994697776291702,
            "bin_end": 1.7759442967,
            "count": 1
           }
          ]
         }
        },
        {
         "name": "android.sensor.game_rotation_vector#mean",
         "dtype": "float64",
         "stats": {
          "unique_count": 5,
          "nan_count": 0,
          "min": "0.0293404701347",
          "max": "0.999924605824",
          "histogram": [
           {
            "bin_start": 0.0293404701347,
            "bin_end": 0.12639888370363,
            "count": 1
           },
           {
            "bin_start": 0.12639888370363,
            "bin_end": 0.22345729727256,
            "count": 0
           },
           {
            "bin_start": 0.22345729727256,
            "bin_end": 0.32051571084149,
            "count": 0
           },
           {
            "bin_start": 0.32051571084149,
            "bin_end": 0.41757412441041997,
            "count": 0
           },
           {
            "bin_start": 0.41757412441041997,
            "bin_end": 0.5146325379793499,
            "count": 0
           },
           {
            "bin_start": 0.5146325379793499,
            "bin_end": 0.61169095154828,
            "count": 1
           },
           {
            "bin_start": 0.61169095154828,
            "bin_end": 0.70874936511721,
            "count": 1
           },
           {
            "bin_start": 0.70874936511721,
            "bin_end": 0.80580777868614,
            "count": 0
           },
           {
            "bin_start": 0.80580777868614,
            "bin_end": 0.9028661922550699,
            "count": 0
           },
           {
            "bin_start": 0.9028661922550699,
            "bin_end": 0.999924605824,
            "count": 2
           }
          ]
         }
        },
        {
         "name": "android.sensor.game_rotation_vector#min",
         "dtype": "float64",
         "stats": {
          "unique_count": 5,
          "nan_count": 0,
          "min": "0.0290141820322",
          "max": "0.99990333472",
          "histogram": [
           {
            "bin_start": 0.0290141820322,
            "bin_end": 0.12610309730098002,
            "count": 1
           },
           {
            "bin_start": 0.12610309730098002,
            "bin_end": 0.22319201256976,
            "count": 0
           },
           {
            "bin_start": 0.22319201256976,
            "bin_end": 0.32028092783854006,
            "count": 0
           },
           {
            "bin_start": 0.32028092783854006,
            "bin_end": 0.41736984310732006,
            "count": 0
           },
           {
            "bin_start": 0.41736984310732006,
            "bin_end": 0.5144587583761,
            "count": 0
           },
           {
            "bin_start": 0.5144587583761,
            "bin_end": 0.61154767364488,
            "count": 1
           },
           {
            "bin_start": 0.61154767364488,
            "bin_end": 0.70863658891366,
            "count": 1
           },
           {
            "bin_start": 0.70863658891366,
            "bin_end": 0.80572550418244,
            "count": 0
           },
           {
            "bin_start": 0.80572550418244,
            "bin_end": 0.9028144194512201,
            "count": 0
           },
           {
            "bin_start": 0.9028144194512201,
            "bin_end": 0.99990333472,
            "count": 2
           }
          ]
         }
        },
        {
         "name": "android.sensor.game_rotation_vector#max",
         "dtype": "float64",
         "stats": {
          "unique_count": 5,
          "nan_count": 0,
          "min": "0.0295264272136",
          "max": "0.999945876927",
          "histogram": [
           {
            "bin_start": 0.0295264272136,
            "bin_end": 0.12656837218494,
            "count": 1
           },
           {
            "bin_start": 0.12656837218494,
            "bin_end": 0.22361031715628,
            "count": 0
           },
           {
            "bin_start": 0.22361031715628,
            "bin_end": 0.32065226212762,
            "count": 0
           },
           {
            "bin_start": 0.32065226212762,
            "bin_end": 0.41769420709896,
            "count": 0
           },
           {
            "bin_start": 0.41769420709896,
            "bin_end": 0.5147361520703,
            "count": 0
           },
           {
            "bin_start": 0.5147361520703,
            "bin_end": 0.61177809704164,
            "count": 0
           },
           {
            "bin_start": 0.61177809704164,
            "bin_end": 0.70882004201298,
            "count": 2
           },
           {
            "bin_start": 0.70882004201298,
            "bin_end": 0.80586198698432,
            "count": 0
           },
           {
            "bin_start": 0.80586198698432,
            "bin_end": 0.90290393195566,
            "count": 0
           },
           {
            "bin_start": 0.90290393195566,
            "bin_end": 0.999945876927,
            "count": 2
           }
          ]
         }
        },
        {
         "name": "android.sensor.game_rotation_vector#std",
         "dtype": "float64",
         "stats": {
          "unique_count": 5,
          "nan_count": 0,
          "min": "3.96835608801e-06",
          "max": "0.0647921318639",
          "histogram": [
           {
            "bin_start": 0.00000396835608801,
            "bin_end": 0.006482784706869208,
            "count": 4
           },
           {
            "bin_start": 0.006482784706869208,
            "bin_end": 0.012961601057650407,
            "count": 0
           },
           {
            "bin_start": 0.012961601057650407,
            "bin_end": 0.019440417408431606,
            "count": 0
           },
           {
            "bin_start": 0.019440417408431606,
            "bin_end": 0.025919233759212804,
            "count": 0
           },
           {
            "bin_start": 0.025919233759212804,
            "bin_end": 0.032398050109994005,
            "count": 0
           },
           {
            "bin_start": 0.032398050109994005,
            "bin_end": 0.038876866460775206,
            "count": 0
           },
           {
            "bin_start": 0.038876866460775206,
            "bin_end": 0.0453556828115564,
            "count": 0
           },
           {
            "bin_start": 0.0453556828115564,
            "bin_end": 0.0518344991623376,
            "count": 0
           },
           {
            "bin_start": 0.0518344991623376,
            "bin_end": 0.0583133155131188,
            "count": 0
           },
           {
            "bin_start": 0.0583133155131188,
            "bin_end": 0.0647921318639,
            "count": 1
           }
          ]
         }
        },
        {
         "name": "android.sensor.gravity#mean",
         "dtype": "float64",
         "stats": {
          "unique_count": 5,
          "nan_count": 0,
          "min": "9.80662395218",
          "max": "9.80665022401",
          "histogram": [
           {
            "bin_start": 9.80662395218,
            "bin_end": 9.806626579363,
            "count": 1
           },
           {
            "bin_start": 9.806626579363,
            "bin_end": 9.806629206546,
            "count": 0
           },
           {
            "bin_start": 9.806629206546,
            "bin_end": 9.806631833729,
            "count": 0
           },
           {
            "bin_start": 9.806631833729,
            "bin_end": 9.806634460912,
            "count": 0
           },
           {
            "bin_start": 9.806634460912,
            "bin_end": 9.806637088095,
            "count": 0
           },
           {
            "bin_start": 9.806637088095,
            "bin_end": 9.806639715278,
            "count": 1
           },
           {
            "bin_start": 9.806639715278,
            "bin_end": 9.806642342461,
            "count": 0
           },
           {
            "bin_start": 9.806642342461,
            "bin_end": 9.806644969644,
            "count": 0
           },
           {
            "bin_start": 9.806644969644,
            "bin_end": 9.806647596827,
            "count": 0
           },
           {
            "bin_start": 9.806647596827,
            "bin_end": 9.80665022401,
            "count": 3
           }
          ]
         }
        },
        {
         "name": "android.sensor.gravity#min",
         "dtype": "float64",
         "stats": {
          "unique_count": 5,
          "nan_count": 0,
          "min": "9.80662395218",
          "max": "9.80665002449",
          "histogram": [
           {
            "bin_start": 9.80662395218,
            "bin_end": 9.806626559411,
            "count": 1
           },
           {
            "bin_start": 9.806626559411,
            "bin_end": 9.806629166642,
            "count": 0
           },
           {
            "bin_start": 9.806629166642,
            "bin_end": 9.806631773873,
            "count": 0
           },
           {
            "bin_start": 9.806631773873,
            "bin_end": 9.806634381104,
            "count": 0
           },
           {
            "bin_start": 9.806634381104,
            "bin_end": 9.806636988335,
            "count": 0
           },
           {
            "bin_start": 9.806636988335,
            "bin_end": 9.806639595566,
            "count": 1
           },
           {
            "bin_start": 9.806639595566,
            "bin_end": 9.806642202797,
            "count": 0
           },
           {
            "bin_start": 9.806642202797,
            "bin_end": 9.806644810028,
            "count": 0
           },
           {
            "bin_start": 9.806644810028,
            "bin_end": 9.806647417259,
            "count": 0
           },
           {
            "bin_start": 9.806647417259,
            "bin_end": 9.80665002449,
            "count": 3
           }
          ]
         }
        },
        {
         "name": "android.sensor.gravity#max",
         "dtype": "float64",
         "stats": {
          "unique_count": 5,
          "nan_count": 0,
          "min": "9.80662395218",
          "max": "9.80665101272",
          "histogram": [
           {
            "bin_start": 9.80662395218,
            "bin_end": 9.806626658234,
            "count": 1
           },
           {
            "bin_start": 9.806626658234,
            "bin_end": 9.806629364288,
            "count": 0
           },
           {
            "bin_start": 9.806629364288,
            "bin_end": 9.806632070342001,
            "count": 0
           },
           {
            "bin_start": 9.806632070342001,
            "bin_end": 9.806634776396,
            "count": 0
           },
           {
            "bin_start": 9.806634776396,
            "bin_end": 9.80663748245,
            "count": 0
           },
           {
            "bin_start": 9.80663748245,
            "bin_end": 9.806640188504,
            "count": 1
           },
           {
            "bin_start": 9.806640188504,
            "bin_end": 9.806642894558,
            "count": 0
           },
           {
            "bin_start": 9.806642894558,
            "bin_end": 9.806645600612,
            "count": 0
           },
           {
            "bin_start": 9.806645600612,
            "bin_end": 9.806648306666,
            "count": 0
           },
           {
            "bin_start": 9.806648306666,
            "bin_end": 9.80665101272,
            "count": 3
           }
          ]
         }
        },
        {
         "name": "android.sensor.gravity#std",
         "dtype": "float64",
         "stats": {
          "unique_count": 5,
          "nan_count": 0,
          "min": "2.64443011405e-07",
          "max": "2.12056373828e-06",
          "histogram": [
           {
            "bin_start": 2.64443011405e-7,
            "bin_end": 4.5005508409249997e-7,
            "count": 2
           },
           {
            "bin_start": 4.5005508409249997e-7,
            "bin_end": 6.3566715678e-7,
            "count": 1
           },
           {
            "bin_start": 6.3566715678e-7,
            "bin_end": 8.212792294674999e-7,
            "count": 1
           },
           {
            "bin_start": 8.212792294674999e-7,
            "bin_end": 0.0000010068913021549999,
            "count": 0
           },
           {
            "bin_start": 0.0000010068913021549999,
            "bin_end": 0.0000011925033748424998,
            "count": 0
           },
           {
            "bin_start": 0.0000011925033748424998,
            "bin_end": 0.00000137811544753,
            "count": 0
           },
           {
            "bin_start": 0.00000137811544753,
            "bin_end": 0.0000015637275202174999,
            "count": 0
           },
           {
            "bin_start": 0.0000015637275202174999,
            "bin_end": 0.0000017493395929049998,
            "count": 0
           },
           {
            "bin_start": 0.0000017493395929049998,
            "bin_end": 0.0000019349516655925,
            "count": 0
           },
           {
            "bin_start": 0.0000019349516655925,
            "bin_end": 0.00000212056373828,
            "count": 1
           }
          ]
         }
        },
        {
         "name": "android.sensor.gyroscope#mean",
         "dtype": "float64",
         "stats": {
          "unique_count": 5,
          "nan_count": 0,
          "min": "0.00152461653211",
          "max": "0.183202097809",
          "histogram": [
           {
            "bin_start": 0.00152461653211,
            "bin_end": 0.019692364659799,
            "count": 2
           },
           {
            "bin_start": 0.019692364659799,
            "bin_end": 0.037860112787488,
            "count": 2
           },
           {
            "bin_start": 0.037860112787488,
            "bin_end": 0.056027860915177,
            "count": 0
           },
           {
            "bin_start": 0.056027860915177,
            "bin_end": 0.074195609042866,
            "count": 0
           },
           {
            "bin_start": 0.074195609042866,
            "bin_end": 0.092363357170555,
            "count": 0
           },
           {
            "bin_start": 0.092363357170555,
            "bin_end": 0.110531105298244,
            "count": 0
           },
           {
            "bin_start": 0.110531105298244,
            "bin_end": 0.12869885342593299,
            "count": 0
           },
           {
            "bin_start": 0.12869885342593299,
            "bin_end": 0.146866601553622,
            "count": 0
           },
           {
            "bin_start": 0.146866601553622,
            "bin_end": 0.165034349681311,
            "count": 0
           },
           {
            "bin_start": 0.165034349681311,
            "bin_end": 0.183202097809,
            "count": 1
           }
          ]
         }
        },
        {
         "name": "android.sensor.gyroscope#min",
         "dtype": "float64",
         "stats": {
          "unique_count": 4,
          "nan_count": 0,
          "min": "0.0",
          "max": "0.0206668572373",
          "histogram": [
           {
            "bin_start": 0,
            "bin_end": 0.00206668572373,
            "count": 2
           },
           {
            "bin_start": 0.00206668572373,
            "bin_end": 0.00413337144746,
            "count": 0
           },
           {
            "bin_start": 0.00413337144746,
            "bin_end": 0.00620005717119,
            "count": 0
           },
           {
            "bin_start": 0.00620005717119,
            "bin_end": 0.00826674289492,
            "count": 0
           },
           {
            "bin_start": 0.00826674289492,
            "bin_end": 0.01033342861865,
            "count": 0
           },
           {
            "bin_start": 0.01033342861865,
            "bin_end": 0.01240011434238,
            "count": 1
           },
           {
            "bin_start": 0.01240011434238,
            "bin_end": 0.01446680006611,
            "count": 0
           },
           {
            "bin_start": 0.01446680006611,
            "bin_end": 0.01653348578984,
            "count": 0
           },
           {
            "bin_start": 0.01653348578984,
            "bin_end": 0.018600171513569998,
            "count": 0
           },
           {
            "bin_start": 0.018600171513569998,
            "bin_end": 0.0206668572373,
            "count": 2
           }
          ]
         }
        },
        {
         "name": "android.sensor.gyroscope#max",
         "dtype": "float64",
         "stats": {
          "unique_count": 5,
          "nan_count": 0,
          "min": "0.0026093544661",
          "max": "0.380875066732",
          "histogram": [
           {
            "bin_start": 0.0026093544661,
            "bin_end": 0.04043592569269,
            "count": 2
           },
           {
            "bin_start": 0.04043592569269,
            "bin_end": 0.07826249691928,
            "count": 2
           },
           {
            "bin_start": 0.07826249691928,
            "bin_end": 0.11608906814587,
            "count": 0
           },
           {
            "bin_start": 0.11608906814587,
            "bin_end": 0.15391563937246,
            "count": 0
           },
           {
            "bin_start": 0.15391563937246,
            "bin_end": 0.19174221059905,
            "count": 0
           },
           {
            "bin_start": 0.19174221059905,
            "bin_end": 0.22956878182564,
            "count": 0
           },
           {
            "bin_start": 0.22956878182564,
            "bin_end": 0.26739535305223,
            "count": 0
           },
           {
            "bin_start": 0.26739535305223,
            "bin_end": 0.30522192427882,
            "count": 0
           },
           {
            "bin_start": 0.30522192427882,
            "bin_end": 0.34304849550541,
            "count": 0
           },
           {
            "bin_start": 0.34304849550541,
            "bin_end": 0.380875066732,
            "count": 1
           }
          ]
         }
        },
        {
         "name": "android.sensor.gyroscope#std",
         "dtype": "float64",
         "stats": {
          "unique_count": 5,
          "nan_count": 0,
          "min": "0.000712700740663",
          "max": "0.0988191384778",
          "histogram": [
           {
            "bin_start": 0.000712700740663,
            "bin_end": 0.0105233445143767,
            "count": 2
           },
           {
            "bin_start": 0.0105233445143767,
            "bin_end": 0.0203339882880904,
            "count": 2
           },
           {
            "bin_start": 0.0203339882880904,
            "bin_end": 0.0301446320618041,
            "count": 0
           },
           {
            "bin_start": 0.0301446320618041,
            "bin_end": 0.0399552758355178,
            "count": 0
           },
           {
            "bin_start": 0.0399552758355178,
            "bin_end": 0.0497659196092315,
            "count": 0
           },
           {
            "bin_start": 0.0497659196092315,
            "bin_end": 0.0595765633829452,
            "count": 0
           },
           {
            "bin_start": 0.0595765633829452,
            "bin_end": 0.0693872071566589,
            "count": 0
           },
           {
            "bin_start": 0.0693872071566589,
            "bin_end": 0.0791978509303726,
            "count": 0
           },
           {
            "bin_start": 0.0791978509303726,
            "bin_end": 0.0890084947040863,
            "count": 0
           },
           {
            "bin_start": 0.0890084947040863,
            "bin_end": 0.0988191384778,
            "count": 1
           }
          ]
         }
        },
        {
         "name": "android.sensor.gyroscope_uncalibrated#mean",
         "dtype": "float64",
         "stats": {
          "unique_count": 5,
          "nan_count": 0,
          "min": "0.0162213599906",
          "max": "0.265652184888",
          "histogram": [
           {
            "bin_start": 0.0162213599906,
            "bin_end": 0.04116444248034,
            "count": 3
           },
           {
            "bin_start": 0.04116444248034,
            "bin_end": 0.06610752497008,
            "count": 1
           },
           {
            "bin_start": 0.06610752497008,
            "bin_end": 0.09105060745982,
            "count": 0
           },
           {
            "bin_start": 0.09105060745982,
            "bin_end": 0.11599368994956,
            "count": 0
           },
           {
            "bin_start": 0.11599368994956,
            "bin_end": 0.1409367724393,
            "count": 0
           },
           {
            "bin_start": 0.1409367724393,
            "bin_end": 0.16587985492904,
            "count": 0
           },
           {
            "bin_start": 0.16587985492904,
            "bin_end": 0.19082293741878,
            "count": 0
           },
           {
            "bin_start": 0.19082293741878,
            "bin_end": 0.21576601990852,
            "count": 0
           },
           {
            "bin_start": 0.21576601990852,
            "bin_end": 0.24070910239826002,
            "count": 0
           },
           {
            "bin_start": 0.24070910239826002,
            "bin_end": 0.265652184888,
            "count": 1
           }
          ]
         }
        },
        {
         "name": "android.sensor.gyroscope_uncalibrated#min",
         "dtype": "float64",
         "stats": {
          "unique_count": 5,
          "nan_count": 0,
          "min": "0.0141323301437",
          "max": "0.141208498859",
          "histogram": [
           {
            "bin_start": 0.0141323301437,
            "bin_end": 0.02683994701523,
            "count": 4
           },
           {
            "bin_start": 0.02683994701523,
            "bin_end": 0.03954756388676,
            "count": 0
           },
           {
            "bin_start": 0.03954756388676,
            "bin_end": 0.052255180758290005,
            "count": 0
           },
           {
            "bin_start": 0.052255180758290005,
            "bin_end": 0.06496279762982,
            "count": 0
           },
           {
            "bin_start": 0.06496279762982,
            "bin_end": 0.07767041450135,
            "count": 0
           },
           {
            "bin_start": 0.07767041450135,
            "bin_end": 0.09037803137288,
            "count": 0
           },
           {
            "bin_start": 0.09037803137288,
            "bin_end": 0.10308564824441,
            "count": 0
           },
           {
            "bin_start": 0.10308564824441,
            "bin_end": 0.11579326511594,
            "count": 0
           },
           {
            "bin_start": 0.11579326511594,
            "bin_end": 0.12850088198747,
            "count": 0
           },
           {
            "bin_start": 0.12850088198747,
            "bin_end": 0.141208498859,
            "count": 1
           }
          ]
         }
        },
        {
         "name": "android.sensor.gyroscope_uncalibrated#max",
         "dtype": "float64",
         "stats": {
          "unique_count": 5,
          "nan_count": 0,
          "min": "0.0173739375996",
          "max": "0.313019733394",
          "histogram": [
           {
            "bin_start": 0.0173739375996,
            "bin_end": 0.046938517179040004,
            "count": 2
           },
           {
            "bin_start": 0.046938517179040004,
            "bin_end": 0.07650309675848001,
            "count": 0
           },
           {
            "bin_start": 0.07650309675848001,
            "bin_end": 0.10606767633792001,
            "count": 2
           },
           {
            "bin_start": 0.10606767633792001,
            "bin_end": 0.13563225591736,
            "count": 0
           },
           {
            "bin_start": 0.13563225591736,
            "bin_end": 0.16519683549680003,
            "count": 0
           },
           {
            "bin_start": 0.16519683549680003,
            "bin_end": 0.19476141507624,
            "count": 0
           },
           {
            "bin_start": 0.19476141507624,
            "bin_end": 0.22432599465568004,
            "count": 0
           },
           {
            "bin_start": 0.22432599465568004,
            "bin_end": 0.25389057423512,
            "count": 0
           },
           {
            "bin_start": 0.25389057423512,
            "bin_end": 0.28345515381456005,
            "count": 0
           },
           {
            "bin_start": 0.28345515381456005,
            "bin_end": 0.313019733394,
            "count": 1
           }
          ]
         }
        },
        {
         "name": "android.sensor.gyroscope_uncalibrated#std",
         "dtype": "float64",
         "stats": {
          "unique_count": 5,
          "nan_count": 0,
          "min": "0.000875953734805",
          "max": "0.0831748152281",
          "histogram": [
           {
            "bin_start": 0.000875953734805,
            "bin_end": 0.009105839884134501,
            "count": 2
           },
           {
            "bin_start": 0.009105839884134501,
            "bin_end": 0.017335726033464,
            "count": 0
           },
           {
            "bin_start": 0.017335726033464,
            "bin_end": 0.025565612182793504,
            "count": 2
           },
           {
            "bin_start": 0.025565612182793504,
            "bin_end": 0.033795498332123,
            "count": 0
           },
           {
            "bin_start": 0.033795498332123,
            "bin_end": 0.0420253844814525,
            "count": 0
           },
           {
            "bin_start": 0.0420253844814525,
            "bin_end": 0.05025527063078201,
            "count": 0
           },
           {
            "bin_start": 0.05025527063078201,
            "bin_end": 0.05848515678011151,
            "count": 0
           },
           {
            "bin_start": 0.05848515678011151,
            "bin_end": 0.066715042929441,
            "count": 0
           },
           {
            "bin_start": 0.066715042929441,
            "bin_end": 0.0749449290787705,
            "count": 0
           },
           {
            "bin_start": 0.0749449290787705,
            "bin_end": 0.0831748152281,
            "count": 1
           }
          ]
         }
        },
        {
         "name": "android.sensor.light#mean",
         "dtype": "float64",
         "stats": {
          "unique_count": 3,
          "nan_count": 0,
          "min": "0.0",
          "max": "30.0",
          "histogram": [
           {
            "bin_start": 0,
            "bin_end": 3,
            "count": 4
           },
           {
            "bin_start": 3,
            "bin_end": 6,
            "count": 0
           },
           {
            "bin_start": 6,
            "bin_end": 9,
            "count": 0
           },
           {
            "bin_start": 9,
            "bin_end": 12,
            "count": 0
           },
           {
            "bin_start": 12,
            "bin_end": 15,
            "count": 0
           },
           {
            "bin_start": 15,
            "bin_end": 18,
            "count": 0
           },
           {
            "bin_start": 18,
            "bin_end": 21,
            "count": 0
           },
           {
            "bin_start": 21,
            "bin_end": 24,
            "count": 0
           },
           {
            "bin_start": 24,
            "bin_end": 27,
            "count": 0
           },
           {
            "bin_start": 27,
            "bin_end": 30,
            "count": 1
           }
          ]
         }
        },
        {
         "name": "android.sensor.light#min",
         "dtype": "float64",
         "stats": {
          "unique_count": 3,
          "nan_count": 0,
          "min": "0.0",
          "max": "30.0",
          "histogram": [
           {
            "bin_start": 0,
            "bin_end": 3,
            "count": 4
           },
           {
            "bin_start": 3,
            "bin_end": 6,
            "count": 0
           },
           {
            "bin_start": 6,
            "bin_end": 9,
            "count": 0
           },
           {
            "bin_start": 9,
            "bin_end": 12,
            "count": 0
           },
           {
            "bin_start": 12,
            "bin_end": 15,
            "count": 0
           },
           {
            "bin_start": 15,
            "bin_end": 18,
            "count": 0
           },
           {
            "bin_start": 18,
            "bin_end": 21,
            "count": 0
           },
           {
            "bin_start": 21,
            "bin_end": 24,
            "count": 0
           },
           {
            "bin_start": 24,
            "bin_end": 27,
            "count": 0
           },
           {
            "bin_start": 27,
            "bin_end": 30,
            "count": 1
           }
          ]
         }
        },
        {
         "name": "android.sensor.light#max",
         "dtype": "float64",
         "stats": {
          "unique_count": 3,
          "nan_count": 0,
          "min": "0.0",
          "max": "30.0",
          "histogram": [
           {
            "bin_start": 0,
            "bin_end": 3,
            "count": 4
           },
           {
            "bin_start": 3,
            "bin_end": 6,
            "count": 0
           },
           {
            "bin_start": 6,
            "bin_end": 9,
            "count": 0
           },
           {
            "bin_start": 9,
            "bin_end": 12,
            "count": 0
           },
           {
            "bin_start": 12,
            "bin_end": 15,
            "count": 0
           },
           {
            "bin_start": 15,
            "bin_end": 18,
            "count": 0
           },
           {
            "bin_start": 18,
            "bin_end": 21,
            "count": 0
           },
           {
            "bin_start": 21,
            "bin_end": 24,
            "count": 0
           },
           {
            "bin_start": 24,
            "bin_end": 27,
            "count": 0
           },
           {
            "bin_start": 27,
            "bin_end": 30,
            "count": 1
           }
          ]
         }
        },
        {
         "name": "android.sensor.light#std",
         "dtype": "float64",
         "stats": {
          "unique_count": 3,
          "nan_count": 2,
          "min": "0.0",
          "max": "39.5979797464",
          "histogram": [
           {
            "bin_start": 0,
            "bin_end": 3.95979797464,
            "count": 2
           },
           {
            "bin_start": 3.95979797464,
            "bin_end": 7.91959594928,
            "count": 0
           },
           {
            "bin_start": 7.91959594928,
            "bin_end": 11.879393923919999,
            "count": 0
           },
           {
            "bin_start": 11.879393923919999,
            "bin_end": 15.83919189856,
            "count": 0
           },
           {
            "bin_start": 15.83919189856,
            "bin_end": 19.7989898732,
            "count": 0
           },
           {
            "bin_start": 19.7989898732,
            "bin_end": 23.758787847839997,
            "count": 0
           },
           {
            "bin_start": 23.758787847839997,
            "bin_end": 27.718585822479998,
            "count": 0
           },
           {
            "bin_start": 27.718585822479998,
            "bin_end": 31.67838379712,
            "count": 0
           },
           {
            "bin_start": 31.67838379712,
            "bin_end": 35.638181771759996,
            "count": 0
           },
           {
            "bin_start": 35.638181771759996,
            "bin_end": 39.5979797464,
            "count": 1
           }
          ]
         }
        },
        {
         "name": "android.sensor.linear_acceleration#mean",
         "dtype": "float64",
         "stats": {
          "unique_count": 5,
          "nan_count": 0,
          "min": "0.0209778383629",
          "max": "1.65830750209",
          "histogram": [
           {
            "bin_start": 0.0209778383629,
            "bin_end": 0.18471080473561002,
            "count": 2
           },
           {
            "bin_start": 0.18471080473561002,
            "bin_end": 0.34844377110832003,
            "count": 0
           },
           {
            "bin_start": 0.34844377110832003,
            "bin_end": 0.51217673748103,
            "count": 0
           },
           {
            "bin_start": 0.51217673748103,
            "bin_end": 0.67590970385374,
            "count": 0
           },
           {
            "bin_start": 0.67590970385374,
            "bin_end": 0.8396426702264501,
            "count": 0
           },
           {
            "bin_start": 0.8396426702264501,
            "bin_end": 1.00337563659916,
            "count": 1
           },
           {
            "bin_start": 1.00337563659916,
            "bin_end": 1.16710860297187,
            "count": 0
           },
           {
            "bin_start": 1.16710860297187,
            "bin_end": 1.33084156934458,
            "count": 0
           },
           {
            "bin_start": 1.33084156934458,
            "bin_end": 1.4945745357172902,
            "count": 1
           },
           {
            "bin_start": 1.4945745357172902,
            "bin_end": 1.65830750209,
            "count": 1
           }
          ]
         }
        },
        {
         "name": "android.sensor.linear_acceleration#min",
         "dtype": "float64",
         "stats": {
          "unique_count": 5,
          "nan_count": 0,
          "min": "0.00249536633909",
          "max": "0.641116952922",
          "histogram": [
           {
            "bin_start": 0.00249536633909,
            "bin_end": 0.06635752499738101,
            "count": 2
           },
           {
            "bin_start": 0.06635752499738101,
            "bin_end": 0.13021968365567202,
            "count": 0
           },
           {
            "bin_start": 0.13021968365567202,
            "bin_end": 0.19408184231396303,
            "count": 0
           },
           {
            "bin_start": 0.19408184231396303,
            "bin_end": 0.257944000972254,
            "count": 0
           },
           {
            "bin_start": 0.257944000972254,
            "bin_end": 0.32180615963054504,
            "count": 0
           },
           {
            "bin_start": 0.32180615963054504,
            "bin_end": 0.385668318288836,
            "count": 1
           },
           {
            "bin_start": 0.385668318288836,
            "bin_end": 0.449530476947127,
            "count": 0
           },
           {
            "bin_start": 0.449530476947127,
            "bin_end": 0.513392635605418,
            "count": 0
           },
           {
            "bin_start": 0.513392635605418,
            "bin_end": 0.5772547942637091,
            "count": 1
           },
           {
            "bin_start": 0.5772547942637091,
            "bin_end": 0.641116952922,
            "count": 1
           }
          ]
         }
        },
        {
         "name": "android.sensor.linear_acceleration#max",
         "dtype": "float64",
         "stats": {
          "unique_count": 5,
          "nan_count": 0,
          "min": "0.0425113257492",
          "max": "2.7959953197",
          "histogram": [
           {
            "bin_start": 0.0425113257492,
            "bin_end": 0.31785972514428,
            "count": 2
           },
           {
            "bin_start": 0.31785972514428,
            "bin_end": 0.59320812453936,
            "count": 0
           },
           {
            "bin_start": 0.59320812453936,
            "bin_end": 0.8685565239344399,
            "count": 0
           },
           {
            "bin_start": 0.8685565239344399,
            "bin_end": 1.14390492332952,
            "count": 0
           },
           {
            "bin_start": 1.14390492332952,
            "bin_end": 1.4192533227246,
            "count": 1
           },
           {
            "bin_start": 1.4192533227246,
            "bin_end": 1.6946017221196799,
            "count": 0
           },
           {
            "bin_start": 1.6946017221196799,
            "bin_end": 1.96995012151476,
            "count": 0
           },
           {
            "bin_start": 1.96995012151476,
            "bin_end": 2.2452985209098397,
            "count": 0
           },
           {
            "bin_start": 2.2452985209098397,
            "bin_end": 2.5206469203049195,
            "count": 1
           },
           {
            "bin_start": 2.5206469203049195,
            "bin_end": 2.7959953197,
            "count": 1
           }
          ]
         }
        },
        {
         "name": "android.sensor.linear_acceleration#std",
         "dtype": "float64",
         "stats": {
          "unique_count": 5,
          "nan_count": 0,
          "min": "0.0110446872158",
          "max": "1.1222254603",
          "histogram": [
           {
            "bin_start": 0.0110446872158,
            "bin_end": 0.12216276452421998,
            "count": 2
           },
           {
            "bin_start": 0.12216276452421998,
            "bin_end": 0.23328084183263997,
            "count": 0
           },
           {
            "bin_start": 0.23328084183263997,
            "bin_end": 0.3443989191410599,
            "count": 1
           },
           {
            "bin_start": 0.3443989191410599,
            "bin_end": 0.4555169964494799,
            "count": 0
           },
           {
            "bin_start": 0.4555169964494799,
            "bin_end": 0.5666350737578999,
            "count": 0
           },
           {
            "bin_start": 0.5666350737578999,
            "bin_end": 0.6777531510663198,
            "count": 0
           },
           {
            "bin_start": 0.6777531510663198,
            "bin_end": 0.7888712283747399,
            "count": 0
           },
           {
            "bin_start": 0.7888712283747399,
            "bin_end": 0.8999893056831598,
            "count": 0
           },
           {
            "bin_start": 0.8999893056831598,
            "bin_end": 1.01110738299158,
            "count": 1
           },
           {
            "bin_start": 1.01110738299158,
            "bin_end": 1.1222254603,
            "count": 1
           }
          ]
         }
        },
        {
         "name": "android.sensor.magnetic_field#mean",
         "dtype": "float64",
         "stats": {
          "unique_count": 5,
          "nan_count": 0,
          "min": "29.3512875433",
          "max": "78.37571835",
          "histogram": [
           {
            "bin_start": 29.3512875433,
            "bin_end": 34.25373062397,
            "count": 2
           },
           {
            "bin_start": 34.25373062397,
            "bin_end": 39.15617370464,
            "count": 1
           },
           {
            "bin_start": 39.15617370464,
            "bin_end": 44.058616785309994,
            "count": 0
           },
           {
            "bin_start": 44.058616785309994,
            "bin_end": 48.96105986598,
            "count": 0
           },
           {
            "bin_start": 48.96105986598,
            "bin_end": 53.86350294665,
            "count": 0
           },
           {
            "bin_start": 53.86350294665,
            "bin_end": 58.76594602732,
            "count": 1
           },
           {
            "bin_start": 58.76594602732,
            "bin_end": 63.668389107989995,
            "count": 0
           },
           {
            "bin_start": 63.668389107989995,
            "bin_end": 68.57083218865999,
            "count": 0
           },
           {
            "bin_start": 68.57083218865999,
            "bin_end": 73.47327526932999,
            "count": 0
           },
           {
            "bin_start": 73.47327526932999,
            "bin_end": 78.37571835,
            "count": 1
           }
          ]
         }
        },
        {
         "name": "android.sensor.magnetic_field#min",
         "dtype": "float64",
         "stats": {
          "unique_count": 5,
          "nan_count": 0,
          "min": "28.1725051708",
          "max": "76.5432606086",
          "histogram": [
           {
            "bin_start": 28.1725051708,
            "bin_end": 33.00958071458,
            "count": 2
           },
           {
            "bin_start": 33.00958071458,
            "bin_end": 37.84665625836,
            "count": 1
           },
           {
            "bin_start": 37.84665625836,
            "bin_end": 42.68373180214,
            "count": 0
           },
           {
            "bin_start": 42.68373180214,
            "bin_end": 47.52080734592,
            "count": 0
           },
           {
            "bin_start": 47.52080734592,
            "bin_end": 52.357882889699994,
            "count": 0
           },
           {
            "bin_start": 52.357882889699994,
            "bin_end": 57.19495843348,
            "count": 1
           },
           {
            "bin_start": 57.19495843348,
            "bin_end": 62.03203397725999,
            "count": 0
           },
           {
            "bin_start": 62.03203397725999,
            "bin_end": 66.86910952104,
            "count": 0
           },
           {
            "bin_start": 66.86910952104,
            "bin_end": 71.70618506482,
            "count": 0
           },
           {
            "bin_start": 71.70618506482,
            "bin_end": 76.5432606086,
            "count": 1
           }
          ]
         }
        },
        {
         "name": "android.sensor.magnetic_field#max",
         "dtype": "float64",
         "stats": {
          "unique_count": 5,
          "nan_count": 0,
          "min": "30.0383088738",
          "max": "79.2737394335",
          "histogram": [
           {
            "bin_start": 30.0383088738,
            "bin_end": 34.96185192977,
            "count": 2
           },
           {
            "bin_start": 34.96185192977,
            "bin_end": 39.88539498574,
            "count": 1
           },
           {
            "bin_start": 39.88539498574,
            "bin_end": 44.80893804170999,
            "count": 0
           },
           {
            "bin_start": 44.80893804170999,
            "bin_end": 49.732481097679994,
            "count": 0
           },
           {
            "bin_start": 49.732481097679994,
            "bin_end": 54.656024153649994,
            "count": 0
           },
           {
            "bin_start": 54.656024153649994,
            "bin_end": 59.579567209619995,
            "count": 1
           },
           {
            "bin_start": 59.579567209619995,
            "bin_end": 64.50311026559,
            "count": 0
           },
           {
            "bin_start": 64.50311026559,
            "bin_end": 69.42665332156,
            "count": 0
           },
           {
            "bin_start": 69.42665332156,
            "bin_end": 74.35019637753,
            "count": 0
           },
           {
            "bin_start": 74.35019637753,
            "bin_end": 79.2737394335,
            "count": 1
           }
          ]
         }
        },
        {
         "name": "android.sensor.magnetic_field#std",
         "dtype": "float64",
         "stats": {
          "unique_count": 5,
          "nan_count": 0,
          "min": "0.130851298779",
          "max": "1.10436115049",
          "histogram": [
           {
            "bin_start": 0.130851298779,
            "bin_end": 0.2282022839501,
            "count": 2
           },
           {
            "bin_start": 0.2282022839501,
            "bin_end": 0.3255532691212,
            "count": 0
           },
           {
            "bin_start": 0.3255532691212,
            "bin_end": 0.42290425429230005,
            "count": 0
           },
           {
            "bin_start": 0.42290425429230005,
            "bin_end": 0.5202552394634,
            "count": 1
           },
           {
            "bin_start": 0.5202552394634,
            "bin_end": 0.6176062246345,
            "count": 0
           },
           {
            "bin_start": 0.6176062246345,
            "bin_end": 0.7149572098056001,
            "count": 0
           },
           {
            "bin_start": 0.7149572098056001,
            "bin_end": 0.8123081949767,
            "count": 0
           },
           {
            "bin_start": 0.8123081949767,
            "bin_end": 0.9096591801478,
            "count": 0
           },
           {
            "bin_start": 0.9096591801478,
            "bin_end": 1.0070101653188999,
            "count": 1
           },
           {
            "bin_start": 1.0070101653188999,
            "bin_end": 1.10436115049,
            "count": 1
           }
          ]
         }
        },
        {
         "name": "android.sensor.magnetic_field_uncalibrated#mean",
         "dtype": "float64",
         "stats": {
          "unique_count": 5,
          "nan_count": 0,
          "min": "51.3635659024",
          "max": "157.42921752",
          "histogram": [
           {
            "bin_start": 51.3635659024,
            "bin_end": 61.97013106416,
            "count": 2
           },
           {
            "bin_start": 61.97013106416,
            "bin_end": 72.57669622592,
            "count": 0
           },
           {
            "bin_start": 72.57669622592,
            "bin_end": 83.18326138768,
            "count": 1
           },
           {
            "bin_start": 83.18326138768,
            "bin_end": 93.78982654944,
            "count": 0
           },
           {
            "bin_start": 93.78982654944,
            "bin_end": 104.39639171120001,
            "count": 1
           },
           {
            "bin_start": 104.39639171120001,
            "bin_end": 115.00295687296,
            "count": 0
           },
           {
            "bin_start": 115.00295687296,
            "bin_end": 125.60952203472,
            "count": 0
           },
           {
            "bin_start": 125.60952203472,
            "bin_end": 136.21608719648,
            "count": 0
           },
           {
            "bin_start": 136.21608719648,
            "bin_end": 146.82265235824002,
            "count": 0
           },
           {
            "bin_start": 146.82265235824002,
            "bin_end": 157.42921752,
            "count": 1
           }
          ]
         }
        },
        {
         "name": "android.sensor.magnetic_field_uncalibrated#min",
         "dtype": "float64",
         "stats": {
          "unique_count": 5,
          "nan_count": 0,
          "min": "51.1997072531",
          "max": "156.79590908",
          "histogram": [
           {
            "bin_start": 51.1997072531,
            "bin_end": 61.75932743579,
            "count": 2
           },
           {
            "bin_start": 61.75932743579,
            "bin_end": 72.31894761848,
            "count": 0
           },
           {
            "bin_start": 72.31894761848,
            "bin_end": 82.87856780117,
            "count": 1
           },
           {
            "bin_start": 82.87856780117,
            "bin_end": 93.43818798386,
            "count": 0
           },
           {
            "bin_start": 93.43818798386,
            "bin_end": 103.99780816655,
            "count": 1
           },
           {
            "bin_start": 103.99780816655,
            "bin_end": 114.55742834924001,
            "count": 0
           },
           {
            "bin_start": 114.55742834924001,
            "bin_end": 125.11704853193001,
            "count": 0
           },
           {
            "bin_start": 125.11704853193001,
            "bin_end": 135.67666871462,
            "count": 0
           },
           {
            "bin_start": 135.67666871462,
            "bin_end": 146.23628889731,
            "count": 0
           },
           {
            "bin_start": 146.23628889731,
            "bin_end": 156.79590908,
            "count": 1
           }
          ]
         }
        },
        {
         "name": "android.sensor.magnetic_field_uncalibrated#max",
         "dtype": "float64",
         "stats": {
          "unique_count": 5,
          "nan_count": 0,
          "min": "51.5392083783",
          "max": "158.06252596",
          "histogram": [
           {
            "bin_start": 51.5392083783,
            "bin_end": 62.19154013647,
            "count": 2
           },
           {
            "bin_start": 62.19154013647,
            "bin_end": 72.84387189464,
            "count": 0
           },
           {
            "bin_start": 72.84387189464,
            "bin_end": 83.49620365281,
            "count": 1
           },
           {
            "bin_start": 83.49620365281,
            "bin_end": 94.14853541098,
            "count": 0
           },
           {
            "bin_start": 94.14853541098,
            "bin_end": 104.80086716915,
            "count": 1
           },
           {
            "bin_start": 104.80086716915,
            "bin_end": 115.45319892731999,
            "count": 0
           },
           {
            "bin_start": 115.45319892731999,
            "bin_end": 126.10553068549,
            "count": 0
           },
           {
            "bin_start": 126.10553068549,
            "bin_end": 136.75786244365997,
            "count": 0
           },
           {
            "bin_start": 136.75786244365997,
            "bin_end": 147.41019420183,
            "count": 0
           },
           {
            "bin_start": 147.41019420183,
            "bin_end": 158.06252596,
            "count": 1
           }
          ]
         }
        },
        {
         "name": "android.sensor.magnetic_field_uncalibrated#std",
         "dtype": "float64",
         "stats": {
          "unique_count": 5,
          "nan_count": 0,
          "min": "0.08089925898",
          "max": "0.895633385013",
          "histogram": [
           {
            "bin_start": 0.08089925898,
            "bin_end": 0.16237267158330002,
            "count": 3
           },
           {
            "bin_start": 0.16237267158330002,
            "bin_end": 0.24384608418660003,
            "count": 0
           },
           {
            "bin_start": 0.24384608418660003,
            "bin_end": 0.3253194967899,
            "count": 0
           },
           {
            "bin_start": 0.3253194967899,
            "bin_end": 0.40679290939320006,
            "count": 0
           },
           {
            "bin_start": 0.40679290939320006,
            "bin_end": 0.48826632199650005,
            "count": 0
           },
           {
            "bin_start": 0.48826632199650005,
            "bin_end": 0.5697397345998001,
            "count": 1
           },
           {
            "bin_start": 0.5697397345998001,
            "bin_end": 0.6512131472031002,
            "count": 0
           },
           {
            "bin_start": 0.6512131472031002,
            "bin_end": 0.7326865598064001,
            "count": 0
           },
           {
            "bin_start": 0.7326865598064001,
            "bin_end": 0.8141599724097002,
            "count": 0
           },
           {
            "bin_start": 0.8141599724097002,
            "bin_end": 0.895633385013,
            "count": 1
           }
          ]
         }
        },
        {
         "name": "android.sensor.orientation#mean",
         "dtype": "float64",
         "stats": {
          "unique_count": 5,
          "nan_count": 0,
          "min": "74.7526531434",
          "max": "373.556039427",
          "histogram": [
           {
            "bin_start": 74.7526531434,
            "bin_end": 104.63299177176,
            "count": 1
           },
           {
            "bin_start": 104.63299177176,
            "bin_end": 134.51333040012,
            "count": 0
           },
           {
            "bin_start": 134.51333040012,
            "bin_end": 164.39366902848002,
            "count": 0
           },
           {
            "bin_start": 164.39366902848002,
            "bin_end": 194.27400765684,
            "count": 1
           },
           {
            "bin_start": 194.27400765684,
            "bin_end": 224.1543462852,
            "count": 0
           },
           {
            "bin_start": 224.1543462852,
            "bin_end": 254.03468491356,
            "count": 0
           },
           {
            "bin_start": 254.03468491356,
            "bin_end": 283.91502354192,
            "count": 0
           },
           {
            "bin_start": 283.91502354192,
            "bin_end": 313.79536217028,
            "count": 0
           },
           {
            "bin_start": 313.79536217028,
            "bin_end": 343.67570079864,
            "count": 1
           },
           {
            "bin_start": 343.67570079864,
            "bin_end": 373.556039427,
            "count": 2
           }
          ]
         }
        },
        {
         "name": "android.sensor.orientation#min",
         "dtype": "float64",
         "stats": {
          "unique_count": 5,
          "nan_count": 0,
          "min": "35.864971592",
          "max": "359.897249748",
          "histogram": [
           {
            "bin_start": 35.864971592,
            "bin_end": 68.26819940760001,
            "count": 1
           },
           {
            "bin_start": 68.26819940760001,
            "bin_end": 100.6714272232,
            "count": 1
           },
           {
            "bin_start": 100.6714272232,
            "bin_end": 133.07465503880002,
            "count": 0
           },
           {
            "bin_start": 133.07465503880002,
            "bin_end": 165.47788285439998,
            "count": 0
           },
           {
            "bin_start": 165.47788285439998,
            "bin_end": 197.88111067,
            "count": 0
           },
           {
            "bin_start": 197.88111067,
            "bin_end": 230.28433848560002,
            "count": 0
           },
           {
            "bin_start": 230.28433848560002,
            "bin_end": 262.6875663012,
            "count": 0
           },
           {
            "bin_start": 262.6875663012,
            "bin_end": 295.0907941168,
            "count": 0
           },
           {
            "bin_start": 295.0907941168,
            "bin_end": 327.4940219324,
            "count": 0
           },
           {
            "bin_start": 327.4940219324,
            "bin_end": 359.897249748,
            "count": 3
           }
          ]
         }
        },
        {
         "name": "android.sensor.orientation#max",
         "dtype": "float64",
         "stats": {
          "unique_count": 5,
          "nan_count": 0,
          "min": "75.2685742895",
          "max": "397.071741295",
          "histogram": [
           {
            "bin_start": 75.2685742895,
            "bin_end": 107.44889099004999,
            "count": 1
           },
           {
            "bin_start": 107.44889099004999,
            "bin_end": 139.62920769059997,
            "count": 0
           },
           {
            "bin_start": 139.62920769059997,
            "bin_end": 171.80952439114998,
            "count": 0
           },
           {
            "bin_start": 171.80952439114998,
            "bin_end": 203.9898410917,
            "count": 0
           },
           {
            "bin_start": 203.9898410917,
            "bin_end": 236.17015779225,
            "count": 0
           },
           {
            "bin_start": 236.17015779225,
            "bin_end": 268.35047449279995,
            "count": 0
           },
           {
            "bin_start": 268.35047449279995,
            "bin_end": 300.53079119334996,
            "count": 0
           },
           {
            "bin_start": 300.53079119334996,
            "bin_end": 332.71110789389996,
            "count": 0
           },
           {
            "bin_start": 332.71110789389996,
            "bin_end": 364.89142459445,
            "count": 3
           },
           {
            "bin_start": 364.89142459445,
            "bin_end": 397.071741295,
            "count": 1
           }
          ]
         }
        },
        {
         "name": "android.sensor.orientation#std",
         "dtype": "float64",
         "stats": {
          "unique_count": 5,
          "nan_count": 0,
          "min": "0.2456763287",
          "max": "181.729454699",
          "histogram": [
           {
            "bin_start": 0.2456763287,
            "bin_end": 18.39405416573,
            "count": 4
           },
           {
            "bin_start": 18.39405416573,
            "bin_end": 36.54243200276,
            "count": 0
           },
           {
            "bin_start": 36.54243200276,
            "bin_end": 54.690809839790006,
            "count": 0
           },
           {
            "bin_start": 54.690809839790006,
            "bin_end": 72.83918767682,
            "count": 0
           },
           {
            "bin_start": 72.83918767682,
            "bin_end": 90.98756551385,
            "count": 0
           },
           {
            "bin_start": 90.98756551385,
            "bin_end": 109.13594335088001,
            "count": 0
           },
           {
            "bin_start": 109.13594335088001,
            "bin_end": 127.28432118791001,
            "count": 0
           },
           {
            "bin_start": 127.28432118791001,
            "bin_end": 145.43269902494,
            "count": 0
           },
           {
            "bin_start": 145.43269902494,
            "bin_end": 163.58107686197002,
            "count": 0
           },
           {
            "bin_start": 163.58107686197002,
            "bin_end": 181.729454699,
            "count": 1
           }
          ]
         }
        },
        {
         "name": "android.sensor.pressure#mean",
         "dtype": "float64",
         "stats": {
          "unique_count": 4,
          "nan_count": 1,
          "min": "1004.09026074",
          "max": "1008.27466",
          "histogram": [
           {
            "bin_start": 1004.09026074,
            "bin_end": 1004.508700666,
            "count": 1
           },
           {
            "bin_start": 1004.508700666,
            "bin_end": 1004.927140592,
            "count": 0
           },
           {
            "bin_start": 1004.927140592,
            "bin_end": 1005.345580518,
            "count": 0
           },
           {
            "bin_start": 1005.345580518,
            "bin_end": 1005.764020444,
            "count": 0
           },
           {
            "bin_start": 1005.764020444,
            "bin_end": 1006.18246037,
            "count": 1
           },
           {
            "bin_start": 1006.18246037,
            "bin_end": 1006.600900296,
            "count": 0
           },
           {
            "bin_start": 1006.600900296,
            "bin_end": 1007.019340222,
            "count": 1
           },
           {
            "bin_start": 1007.019340222,
            "bin_end": 1007.437780148,
            "count": 0
           },
           {
            "bin_start": 1007.437780148,
            "bin_end": 1007.856220074,
            "count": 0
           },
           {
            "bin_start": 1007.856220074,
            "bin_end": 1008.27466,
            "count": 1
           }
          ]
         }
        },
        {
         "name": "android.sensor.pressure#min",
         "dtype": "float64",
         "stats": {
          "unique_count": 4,
          "nan_count": 1,
          "min": "1004.0554",
          "max": "1008.27466",
          "histogram": [
           {
            "bin_start": 1004.0554,
            "bin_end": 1004.477326,
            "count": 1
           },
           {
            "bin_start": 1004.477326,
            "bin_end": 1004.8992519999999,
            "count": 0
           },
           {
            "bin_start": 1004.8992519999999,
            "bin_end": 1005.321178,
            "count": 0
           },
           {
            "bin_start": 1005.321178,
            "bin_end": 1005.743104,
            "count": 0
           },
           {
            "bin_start": 1005.743104,
            "bin_end": 1006.16503,
            "count": 1
           },
           {
            "bin_start": 1006.16503,
            "bin_end": 1006.586956,
            "count": 0
           },
           {
            "bin_start": 1006.586956,
            "bin_end": 1007.008882,
            "count": 1
           },
           {
            "bin_start": 1007.008882,
            "bin_end": 1007.4308080000001,
            "count": 0
           },
           {
            "bin_start": 1007.4308080000001,
            "bin_end": 1007.852734,
            "count": 0
           },
           {
            "bin_start": 1007.852734,
            "bin_end": 1008.27466,
            "count": 1
           }
          ]
         }
        },
        {
         "name": "android.sensor.pressure#max",
         "dtype": "float64",
         "stats": {
          "unique_count": 4,
          "nan_count": 1,
          "min": "1004.1279",
          "max": "1008.27466",
          "histogram": [
           {
            "bin_start": 1004.1279,
            "bin_end": 1004.5425759999999,
            "count": 1
           },
           {
            "bin_start": 1004.5425759999999,
            "bin_end": 1004.9572519999999,
            "count": 0
           },
           {
            "bin_start": 1004.9572519999999,
            "bin_end": 1005.371928,
            "count": 0
           },
           {
            "bin_start": 1005.371928,
            "bin_end": 1005.786604,
            "count": 0
           },
           {
            "bin_start": 1005.786604,
            "bin_end": 1006.20128,
            "count": 1
           },
           {
            "bin_start": 1006.20128,
            "bin_end": 1006.615956,
            "count": 0
           },
           {
            "bin_start": 1006.615956,
            "bin_end": 1007.030632,
            "count": 1
           },
           {
            "bin_start": 1007.030632,
            "bin_end": 1007.4453080000001,
            "count": 0
           },
           {
            "bin_start": 1007.4453080000001,
            "bin_end": 1007.859984,
            "count": 0
           },
           {
            "bin_start": 1007.859984,
            "bin_end": 1008.27466,
            "count": 1
           }
          ]
         }
        },
        {
         "name": "android.sensor.pressure#std",
         "dtype": "float64",
         "stats": {
          "unique_count": 1,
          "nan_count": 4,
          "min": "0.0174157640628",
          "max": "0.0174157640628",
          "histogram": [
           {
            "bin_start": -0.4825842359372,
            "bin_end": -0.38258423593720003,
            "count": 0
           },
           {
            "bin_start": -0.38258423593720003,
            "bin_end": -0.2825842359372,
            "count": 0
           },
           {
            "bin_start": -0.2825842359372,
            "bin_end": -0.18258423593719997,
            "count": 0
           },
           {
            "bin_start": -0.18258423593719997,
            "bin_end": -0.08258423593719999,
            "count": 0
           },
           {
            "bin_start": -0.08258423593719999,
            "bin_end": 0.017415764062799988,
            "count": 0
           },
           {
            "bin_start": 0.017415764062799988,
            "bin_end": 0.11741576406280008,
            "count": 1
           },
           {
            "bin_start": 0.11741576406280008,
            "bin_end": 0.21741576406280005,
            "count": 0
           },
           {
            "bin_start": 0.21741576406280005,
            "bin_end": 0.31741576406280003,
            "count": 0
           },
           {
            "bin_start": 0.31741576406280003,
            "bin_end": 0.4174157640628,
            "count": 0
           },
           {
            "bin_start": 0.4174157640628,
            "bin_end": 0.5174157640628,
            "count": 0
           }
          ]
         }
        },
        {
         "name": "android.sensor.proximity#mean",
         "dtype": "float64",
         "stats": {
          "unique_count": 1,
          "nan_count": 3,
          "min": "8.0",
          "max": "8.0",
          "histogram": [
           {
            "bin_start": 7.5,
            "bin_end": 7.6,
            "count": 0
           },
           {
            "bin_start": 7.6,
            "bin_end": 7.7,
            "count": 0
           },
           {
            "bin_start": 7.7,
            "bin_end": 7.8,
            "count": 0
           },
           {
            "bin_start": 7.8,
            "bin_end": 7.9,
            "count": 0
           },
           {
            "bin_start": 7.9,
            "bin_end": 8,
            "count": 0
           },
           {
            "bin_start": 8,
            "bin_end": 8.1,
            "count": 2
           },
           {
            "bin_start": 8.1,
            "bin_end": 8.2,
            "count": 0
           },
           {
            "bin_start": 8.2,
            "bin_end": 8.3,
            "count": 0
           },
           {
            "bin_start": 8.3,
            "bin_end": 8.4,
            "count": 0
           },
           {
            "bin_start": 8.4,
            "bin_end": 8.5,
            "count": 0
           }
          ]
         }
        },
        {
         "name": "android.sensor.proximity#min",
         "dtype": "float64",
         "stats": {
          "unique_count": 1,
          "nan_count": 3,
          "min": "8.0",
          "max": "8.0",
          "histogram": [
           {
            "bin_start": 7.5,
            "bin_end": 7.6,
            "count": 0
           },
           {
            "bin_start": 7.6,
            "bin_end": 7.7,
            "count": 0
           },
           {
            "bin_start": 7.7,
            "bin_end": 7.8,
            "count": 0
           },
           {
            "bin_start": 7.8,
            "bin_end": 7.9,
            "count": 0
           },
           {
            "bin_start": 7.9,
            "bin_end": 8,
            "count": 0
           },
           {
            "bin_start": 8,
            "bin_end": 8.1,
            "count": 2
           },
           {
            "bin_start": 8.1,
            "bin_end": 8.2,
            "count": 0
           },
           {
            "bin_start": 8.2,
            "bin_end": 8.3,
            "count": 0
           },
           {
            "bin_start": 8.3,
            "bin_end": 8.4,
            "count": 0
           },
           {
            "bin_start": 8.4,
            "bin_end": 8.5,
            "count": 0
           }
          ]
         }
        },
        {
         "name": "android.sensor.proximity#max",
         "dtype": "float64",
         "stats": {
          "unique_count": 1,
          "nan_count": 3,
          "min": "8.0",
          "max": "8.0",
          "histogram": [
           {
            "bin_start": 7.5,
            "bin_end": 7.6,
            "count": 0
           },
           {
            "bin_start": 7.6,
            "bin_end": 7.7,
            "count": 0
           },
           {
            "bin_start": 7.7,
            "bin_end": 7.8,
            "count": 0
           },
           {
            "bin_start": 7.8,
            "bin_end": 7.9,
            "count": 0
           },
           {
            "bin_start": 7.9,
            "bin_end": 8,
            "count": 0
           },
           {
            "bin_start": 8,
            "bin_end": 8.1,
            "count": 2
           },
           {
            "bin_start": 8.1,
            "bin_end": 8.2,
            "count": 0
           },
           {
            "bin_start": 8.2,
            "bin_end": 8.3,
            "count": 0
           },
           {
            "bin_start": 8.3,
            "bin_end": 8.4,
            "count": 0
           },
           {
            "bin_start": 8.4,
            "bin_end": 8.5,
            "count": 0
           }
          ]
         }
        },
        {
         "name": "android.sensor.proximity#std",
         "dtype": "float64",
         "stats": {
          "unique_count": 0,
          "nan_count": 5,
          "min": null,
          "max": null,
          "histogram": [
           {
            "bin_start": 0,
            "bin_end": 0.1,
            "count": 0
           },
           {
            "bin_start": 0.1,
            "bin_end": 0.2,
            "count": 0
           },
           {
            "bin_start": 0.2,
            "bin_end": 0.30000000000000004,
            "count": 0
           },
           {
            "bin_start": 0.30000000000000004,
            "bin_end": 0.4,
            "count": 0
           },
           {
            "bin_start": 0.4,
            "bin_end": 0.5,
            "count": 0
           },
           {
            "bin_start": 0.5,
            "bin_end": 0.6000000000000001,
            "count": 0
           },
           {
            "bin_start": 0.6000000000000001,
            "bin_end": 0.7000000000000001,
            "count": 0
           },
           {
            "bin_start": 0.7000000000000001,
            "bin_end": 0.8,
            "count": 0
           },
           {
            "bin_start": 0.8,
            "bin_end": 0.9,
            "count": 0
           },
           {
            "bin_start": 0.9,
            "bin_end": 1,
            "count": 0
           }
          ]
         }
        },
        {
         "name": "android.sensor.rotation_vector#mean",
         "dtype": "float64",
         "stats": {
          "unique_count": 5,
          "nan_count": 0,
          "min": "0.050413140269",
          "max": "0.999981228739",
          "histogram": [
           {
            "bin_start": 0.050413140269,
            "bin_end": 0.14536994911599999,
            "count": 1
           },
           {
            "bin_start": 0.14536994911599999,
            "bin_end": 0.24032675796300002,
            "count": 0
           },
           {
            "bin_start": 0.24032675796300002,
            "bin_end": 0.33528356681000004,
            "count": 1
           },
           {
            "bin_start": 0.33528356681000004,
            "bin_end": 0.430240375657,
            "count": 0
           },
           {
            "bin_start": 0.430240375657,
            "bin_end": 0.525197184504,
            "count": 0
           },
           {
            "bin_start": 0.525197184504,
            "bin_end": 0.6201539933510001,
            "count": 1
           },
           {
            "bin_start": 0.6201539933510001,
            "bin_end": 0.715110802198,
            "count": 0
           },
           {
            "bin_start": 0.715110802198,
            "bin_end": 0.810067611045,
            "count": 0
           },
           {
            "bin_start": 0.810067611045,
            "bin_end": 0.905024419892,
            "count": 0
           },
           {
            "bin_start": 0.905024419892,
            "bin_end": 0.999981228739,
            "count": 2
           }
          ]
         }
        },
        {
         "name": "android.sensor.rotation_vector#min",
         "dtype": "float64",
         "stats": {
          "unique_count": 5,
          "nan_count": 0,
          "min": "0.0447771592556",
          "max": "0.999963053709",
          "histogram": [
           {
            "bin_start": 0.0447771592556,
            "bin_end": 0.14029574870094,
            "count": 1
           },
           {
            "bin_start": 0.14029574870094,
            "bin_end": 0.23581433814628,
            "count": 0
           },
           {
            "bin_start": 0.23581433814628,
            "bin_end": 0.33133292759162003,
            "count": 1
           },
           {
            "bin_start": 0.33133292759162003,
            "bin_end": 0.42685151703696,
            "count": 0
           },
           {
            "bin_start": 0.42685151703696,
            "bin_end": 0.5223701064823,
            "count": 0
           },
           {
            "bin_start": 0.5223701064823,
            "bin_end": 0.6178886959276401,
            "count": 1
           },
           {
            "bin_start": 0.6178886959276401,
            "bin_end": 0.71340728537298,
            "count": 0
           },
           {
            "bin_start": 0.71340728537298,
            "bin_end": 0.80892587481832,
            "count": 0
           },
           {
            "bin_start": 0.80892587481832,
            "bin_end": 0.90444446426366,
            "count": 0
           },
           {
            "bin_start": 0.90444446426366,
            "bin_end": 0.999963053709,
            "count": 2
           }
          ]
         }
        },
        {
         "name": "android.sensor.rotation_vector#max",
         "dtype": "float64",
         "stats": {
          "unique_count": 5,
          "nan_count": 0,
          "min": "0.0563513538347",
          "max": "0.999999403768",
          "histogram": [
           {
            "bin_start": 0.0563513538347,
            "bin_end": 0.15071615882803,
            "count": 1
           },
           {
            "bin_start": 0.15071615882803,
            "bin_end": 0.24508096382136,
            "count": 0
           },
           {
            "bin_start": 0.24508096382136,
            "bin_end": 0.33944576881469,
            "count": 0
           },
           {
            "bin_start": 0.33944576881469,
            "bin_end": 0.43381057380802,
            "count": 1
           },
           {
            "bin_start": 0.43381057380802,
            "bin_end": 0.52817537880135,
            "count": 0
           },
           {
            "bin_start": 0.52817537880135,
            "bin_end": 0.62254018379468,
            "count": 1
           },
           {
            "bin_start": 0.62254018379468,
            "bin_end": 0.71690498878801,
            "count": 0
           },
           {
            "bin_start": 0.71690498878801,
            "bin_end": 0.81126979378134,
            "count": 0
           },
           {
            "bin_start": 0.81126979378134,
            "bin_end": 0.90563459877467,
            "count": 0
           },
           {
            "bin_start": 0.90563459877467,
            "bin_end": 0.999999403768,
            "count": 2
           }
          ]
         }
        },
        {
         "name": "android.sensor.rotation_vector#std",
         "dtype": "float64",
         "stats": {
          "unique_count": 5,
          "nan_count": 0,
          "min": "2.57033732154e-05",
          "max": "0.0256078524026",
          "histogram": [
           {
            "bin_start": 0.0000257033732154,
            "bin_end": 0.00258391827615386,
            "count": 2
           },
           {
            "bin_start": 0.00258391827615386,
            "bin_end": 0.005142133179092319,
            "count": 1
           },
           {
            "bin_start": 0.005142133179092319,
            "bin_end": 0.007700348082030779,
            "count": 0
           },
           {
            "bin_start": 0.007700348082030779,
            "bin_end": 0.010258562984969239,
            "count": 0
           },
           {
            "bin_start": 0.010258562984969239,
            "bin_end": 0.012816777887907698,
            "count": 1
           },
           {
            "bin_start": 0.012816777887907698,
            "bin_end": 0.015374992790846158,
            "count": 0
           },
           {
            "bin_start": 0.015374992790846158,
            "bin_end": 0.01793320769378462,
            "count": 0
           },
           {
            "bin_start": 0.01793320769378462,
            "bin_end": 0.02049142259672308,
            "count": 0
           },
           {
            "bin_start": 0.02049142259672308,
            "bin_end": 0.02304963749966154,
            "count": 0
           },
           {
            "bin_start": 0.02304963749966154,
            "bin_end": 0.0256078524026,
            "count": 1
           }
          ]
         }
        },
        {
         "name": "android.sensor.step_counter#mean",
         "dtype": "float64",
         "stats": {
          "unique_count": 1,
          "nan_count": 4,
          "min": "28966.0",
          "max": "28966.0",
          "histogram": [
           {
            "bin_start": 28965.5,
            "bin_end": 28965.6,
            "count": 0
           },
           {
            "bin_start": 28965.6,
            "bin_end": 28965.7,
            "count": 0
           },
           {
            "bin_start": 28965.7,
            "bin_end": 28965.8,
            "count": 0
           },
           {
            "bin_start": 28965.8,
            "bin_end": 28965.9,
            "count": 0
           },
           {
            "bin_start": 28965.9,
            "bin_end": 28966,
            "count": 0
           },
           {
            "bin_start": 28966,
            "bin_end": 28966.1,
            "count": 1
           },
           {
            "bin_start": 28966.1,
            "bin_end": 28966.2,
            "count": 0
           },
           {
            "bin_start": 28966.2,
            "bin_end": 28966.3,
            "count": 0
           },
           {
            "bin_start": 28966.3,
            "bin_end": 28966.4,
            "count": 0
           },
           {
            "bin_start": 28966.4,
            "bin_end": 28966.5,
            "count": 0
           }
          ]
         }
        },
        {
         "name": "android.sensor.step_counter#min",
         "dtype": "float64",
         "stats": {
          "unique_count": 1,
          "nan_count": 4,
          "min": "28966.0",
          "max": "28966.0",
          "histogram": [
           {
            "bin_start": 28965.5,
            "bin_end": 28965.6,
            "count": 0
           },
           {
            "bin_start": 28965.6,
            "bin_end": 28965.7,
            "count": 0
           },
           {
            "bin_start": 28965.7,
            "bin_end": 28965.8,
            "count": 0
           },
           {
            "bin_start": 28965.8,
            "bin_end": 28965.9,
            "count": 0
           },
           {
            "bin_start": 28965.9,
            "bin_end": 28966,
            "count": 0
           },
           {
            "bin_start": 28966,
            "bin_end": 28966.1,
            "count": 1
           },
           {
            "bin_start": 28966.1,
            "bin_end": 28966.2,
            "count": 0
           },
           {
            "bin_start": 28966.2,
            "bin_end": 28966.3,
            "count": 0
           },
           {
            "bin_start": 28966.3,
            "bin_end": 28966.4,
            "count": 0
           },
           {
            "bin_start": 28966.4,
            "bin_end": 28966.5,
            "count": 0
           }
          ]
         }
        },
        {
         "name": "android.sensor.step_counter#max",
         "dtype": "float64",
         "stats": {
          "unique_count": 1,
          "nan_count": 4,
          "min": "28966.0",
          "max": "28966.0",
          "histogram": [
           {
            "bin_start": 28965.5,
            "bin_end": 28965.6,
            "count": 0
           },
           {
            "bin_start": 28965.6,
            "bin_end": 28965.7,
            "count": 0
           },
           {
            "bin_start": 28965.7,
            "bin_end": 28965.8,
            "count": 0
           },
           {
            "bin_start": 28965.8,
            "bin_end": 28965.9,
            "count": 0
           },
           {
            "bin_start": 28965.9,
            "bin_end": 28966,
            "count": 0
           },
           {
            "bin_start": 28966,
            "bin_end": 28966.1,
            "count": 1
           },
           {
            "bin_start": 28966.1,
            "bin_end": 28966.2,
            "count": 0
           },
           {
            "bin_start": 28966.2,
            "bin_end": 28966.3,
            "count": 0
           },
           {
            "bin_start": 28966.3,
            "bin_end": 28966.4,
            "count": 0
           },
           {
            "bin_start": 28966.4,
            "bin_end": 28966.5,
            "count": 0
           }
          ]
         }
        },
        {
         "name": "android.sensor.step_counter#std",
         "dtype": "float64",
         "stats": {
          "unique_count": 0,
          "nan_count": 5,
          "min": null,
          "max": null,
          "histogram": [
           {
            "bin_start": 0,
            "bin_end": 0.1,
            "count": 0
           },
           {
            "bin_start": 0.1,
            "bin_end": 0.2,
            "count": 0
           },
           {
            "bin_start": 0.2,
            "bin_end": 0.30000000000000004,
            "count": 0
           },
           {
            "bin_start": 0.30000000000000004,
            "bin_end": 0.4,
            "count": 0
           },
           {
            "bin_start": 0.4,
            "bin_end": 0.5,
            "count": 0
           },
           {
            "bin_start": 0.5,
            "bin_end": 0.6000000000000001,
            "count": 0
           },
           {
            "bin_start": 0.6000000000000001,
            "bin_end": 0.7000000000000001,
            "count": 0
           },
           {
            "bin_start": 0.7000000000000001,
            "bin_end": 0.8,
            "count": 0
           },
           {
            "bin_start": 0.8,
            "bin_end": 0.9,
            "count": 0
           },
           {
            "bin_start": 0.9,
            "bin_end": 1,
            "count": 0
           }
          ]
         }
        },
        {
         "name": "sound#mean",
         "dtype": "float64",
         "stats": {
          "unique_count": 3,
          "nan_count": 2,
          "min": "87.4703770994",
          "max": "89.770732316",
          "histogram": [
           {
            "bin_start": 87.4703770994,
            "bin_end": 87.70041262106,
            "count": 1
           },
           {
            "bin_start": 87.70041262106,
            "bin_end": 87.93044814272,
            "count": 0
           },
           {
            "bin_start": 87.93044814272,
            "bin_end": 88.16048366438,
            "count": 0
           },
           {
            "bin_start": 88.16048366438,
            "bin_end": 88.39051918604,
            "count": 0
           },
           {
            "bin_start": 88.39051918604,
            "bin_end": 88.6205547077,
            "count": 0
           },
           {
            "bin_start": 88.6205547077,
            "bin_end": 88.85059022936,
            "count": 0
           },
           {
            "bin_start": 88.85059022936,
            "bin_end": 89.08062575102,
            "count": 0
           },
           {
            "bin_start": 89.08062575102,
            "bin_end": 89.31066127268,
            "count": 1
           },
           {
            "bin_start": 89.31066127268,
            "bin_end": 89.54069679434,
            "count": 0
           },
           {
            "bin_start": 89.54069679434,
            "bin_end": 89.770732316,
            "count": 1
           }
          ]
         }
        },
        {
         "name": "sound#min",
         "dtype": "float64",
         "stats": {
          "unique_count": 3,
          "nan_count": 2,
          "min": "87.4703770994",
          "max": "89.770732316",
          "histogram": [
           {
            "bin_start": 87.4703770994,
            "bin_end": 87.70041262106,
            "count": 1
           },
           {
            "bin_start": 87.70041262106,
            "bin_end": 87.93044814272,
            "count": 0
           },
           {
            "bin_start": 87.93044814272,
            "bin_end": 88.16048366438,
            "count": 0
           },
           {
            "bin_start": 88.16048366438,
            "bin_end": 88.39051918604,
            "count": 0
           },
           {
            "bin_start": 88.39051918604,
            "bin_end": 88.6205547077,
            "count": 0
           },
           {
            "bin_start": 88.6205547077,
            "bin_end": 88.85059022936,
            "count": 0
           },
           {
            "bin_start": 88.85059022936,
            "bin_end": 89.08062575102,
            "count": 1
           },
           {
            "bin_start": 89.08062575102,
            "bin_end": 89.31066127268,
            "count": 0
           },
           {
            "bin_start": 89.31066127268,
            "bin_end": 89.54069679434,
            "count": 0
           },
           {
            "bin_start": 89.54069679434,
            "bin_end": 89.770732316,
            "count": 1
           }
          ]
         }
        },
        {
         "name": "sound#max",
         "dtype": "float64",
         "stats": {
          "unique_count": 3,
          "nan_count": 2,
          "min": "87.4703770994",
          "max": "89.770732316",
          "histogram": [
           {
            "bin_start": 87.4703770994,
            "bin_end": 87.70041262106,
            "count": 1
           },
           {
            "bin_start": 87.70041262106,
            "bin_end": 87.93044814272,
            "count": 0
           },
           {
            "bin_start": 87.93044814272,
            "bin_end": 88.16048366438,
            "count": 0
           },
           {
            "bin_start": 88.16048366438,
            "bin_end": 88.39051918604,
            "count": 0
           },
           {
            "bin_start": 88.39051918604,
            "bin_end": 88.6205547077,
            "count": 0
           },
           {
            "bin_start": 88.6205547077,
            "bin_end": 88.85059022936,
            "count": 0
           },
           {
            "bin_start": 88.85059022936,
            "bin_end": 89.08062575102,
            "count": 0
           },
           {
            "bin_start": 89.08062575102,
            "bin_end": 89.31066127268,
            "count": 0
           },
           {
            "bin_start": 89.31066127268,
            "bin_end": 89.54069679434,
            "count": 1
           },
           {
            "bin_start": 89.54069679434,
            "bin_end": 89.770732316,
            "count": 1
           }
          ]
         }
        },
        {
         "name": "sound#std",
         "dtype": "float64",
         "stats": {
          "unique_count": 3,
          "nan_count": 2,
          "min": "0.00638923521873",
          "max": "2.28418636125",
          "histogram": [
           {
            "bin_start": 0.00638923521873,
            "bin_end": 0.23416894782185704,
            "count": 2
           },
           {
            "bin_start": 0.23416894782185704,
            "bin_end": 0.4619486604249841,
            "count": 0
           },
           {
            "bin_start": 0.4619486604249841,
            "bin_end": 0.6897283730281112,
            "count": 0
           },
           {
            "bin_start": 0.6897283730281112,
            "bin_end": 0.9175080856312382,
            "count": 0
           },
           {
            "bin_start": 0.9175080856312382,
            "bin_end": 1.1452877982343652,
            "count": 0
           },
           {
            "bin_start": 1.1452877982343652,
            "bin_end": 1.3730675108374923,
            "count": 0
           },
           {
            "bin_start": 1.3730675108374923,
            "bin_end": 1.6008472234406192,
            "count": 0
           },
           {
            "bin_start": 1.6008472234406192,
            "bin_end": 1.8286269360437464,
            "count": 0
           },
           {
            "bin_start": 1.8286269360437464,
            "bin_end": 2.056406648646873,
            "count": 0
           },
           {
            "bin_start": 2.056406648646873,
            "bin_end": 2.28418636125,
            "count": 1
           }
          ]
         }
        },
        {
         "name": "speed#mean",
         "dtype": "float64",
         "stats": {
          "unique_count": 4,
          "nan_count": 0,
          "min": "0.0",
          "max": "17.739895",
          "histogram": [
           {
            "bin_start": 0,
            "bin_end": 1.7739895,
            "count": 2
           },
           {
            "bin_start": 1.7739895,
            "bin_end": 3.547979,
            "count": 0
           },
           {
            "bin_start": 3.547979,
            "bin_end": 5.3219685000000005,
            "count": 0
           },
           {
            "bin_start": 5.3219685000000005,
            "bin_end": 7.095958,
            "count": 0
           },
           {
            "bin_start": 7.095958,
            "bin_end": 8.8699475,
            "count": 0
           },
           {
            "bin_start": 8.8699475,
            "bin_end": 10.643937000000001,
            "count": 1
           },
           {
            "bin_start": 10.643937000000001,
            "bin_end": 12.4179265,
            "count": 0
           },
           {
            "bin_start": 12.4179265,
            "bin_end": 14.191916,
            "count": 0
           },
           {
            "bin_start": 14.191916,
            "bin_end": 15.965905500000002,
            "count": 0
           },
           {
            "bin_start": 15.965905500000002,
            "bin_end": 17.739895,
            "count": 2
           }
          ]
         }
        },
        {
         "name": "speed#min",
         "dtype": "float64",
         "stats": {
          "unique_count": 4,
          "nan_count": 0,
          "min": "0.0",
          "max": "17.739895",
          "histogram": [
           {
            "bin_start": 0,
            "bin_end": 1.7739895,
            "count": 2
           },
           {
            "bin_start": 1.7739895,
            "bin_end": 3.547979,
            "count": 0
           },
           {
            "bin_start": 3.547979,
            "bin_end": 5.3219685000000005,
            "count": 0
           },
           {
            "bin_start": 5.3219685000000005,
            "bin_end": 7.095958,
            "count": 0
           },
           {
            "bin_start": 7.095958,
            "bin_end": 8.8699475,
            "count": 0
           },
           {
            "bin_start": 8.8699475,
            "bin_end": 10.643937000000001,
            "count": 1
           },
           {
            "bin_start": 10.643937000000001,
            "bin_end": 12.4179265,
            "count": 0
           },
           {
            "bin_start": 12.4179265,
            "bin_end": 14.191916,
            "count": 0
           },
           {
            "bin_start": 14.191916,
            "bin_end": 15.965905500000002,
            "count": 0
           },
           {
            "bin_start": 15.965905500000002,
            "bin_end": 17.739895,
            "count": 2
           }
          ]
         }
        },
        {
         "name": "speed#max",
         "dtype": "float64",
         "stats": {
          "unique_count": 4,
          "nan_count": 0,
          "min": "0.0",
          "max": "17.739895",
          "histogram": [
           {
            "bin_start": 0,
            "bin_end": 1.7739895,
            "count": 2
           },
           {
            "bin_start": 1.7739895,
            "bin_end": 3.547979,
            "count": 0
           },
           {
            "bin_start": 3.547979,
            "bin_end": 5.3219685000000005,
            "count": 0
           },
           {
            "bin_start": 5.3219685000000005,
            "bin_end": 7.095958,
            "count": 0
           },
           {
            "bin_start": 7.095958,
            "bin_end": 8.8699475,
            "count": 0
           },
           {
            "bin_start": 8.8699475,
            "bin_end": 10.643937000000001,
            "count": 1
           },
           {
            "bin_start": 10.643937000000001,
            "bin_end": 12.4179265,
            "count": 0
           },
           {
            "bin_start": 12.4179265,
            "bin_end": 14.191916,
            "count": 0
           },
           {
            "bin_start": 14.191916,
            "bin_end": 15.965905500000002,
            "count": 0
           },
           {
            "bin_start": 15.965905500000002,
            "bin_end": 17.739895,
            "count": 2
           }
          ]
         }
        },
        {
         "name": "speed#std",
         "dtype": "float64",
         "stats": {
          "unique_count": 2,
          "nan_count": 1,
          "min": "0.0",
          "max": "0.628594593951",
          "histogram": [
           {
            "bin_start": 0,
            "bin_end": 0.0628594593951,
            "count": 2
           },
           {
            "bin_start": 0.0628594593951,
            "bin_end": 0.1257189187902,
            "count": 0
           },
           {
            "bin_start": 0.1257189187902,
            "bin_end": 0.1885783781853,
            "count": 0
           },
           {
            "bin_start": 0.1885783781853,
            "bin_end": 0.2514378375804,
            "count": 0
           },
           {
            "bin_start": 0.2514378375804,
            "bin_end": 0.3142972969755,
            "count": 0
           },
           {
            "bin_start": 0.3142972969755,
            "bin_end": 0.3771567563706,
            "count": 0
           },
           {
            "bin_start": 0.3771567563706,
            "bin_end": 0.4400162157657,
            "count": 0
           },
           {
            "bin_start": 0.4400162157657,
            "bin_end": 0.5028756751608,
            "count": 0
           },
           {
            "bin_start": 0.5028756751608,
            "bin_end": 0.5657351345559,
            "count": 0
           },
           {
            "bin_start": 0.5657351345559,
            "bin_end": 0.628594593951,
            "count": 2
           }
          ]
         }
        },
        {
         "name": "target",
         "dtype": "object",
         "stats": {
          "unique_count": 2,
          "nan_count": 0,
          "categories": [
           {
            "name": "Car",
            "count": 3
           },
           {
            "name": "Still",
            "count": 2
           }
          ]
         }
        },
        {
         "name": "user",
         "dtype": "object",
         "stats": {
          "unique_count": 2,
          "nan_count": 0,
          "categories": [
           {
            "name": "Luca",
            "count": 4
           },
           {
            "name": "andrea",
            "count": 1
           }
          ]
         }
        },
        {
         "name": "_deepnote_index_column",
         "dtype": "int64"
        }
       ],
       "rows_top": [
        {
         "id": 16170,
         "time": 78,
         "activityrecognition#0": "nan",
         "activityrecognition#1": 100,
         "android.sensor.accelerometer#mean": 9.81147629156,
         "android.sensor.accelerometer#min": 9.75889547269,
         "android.sensor.accelerometer#max": 9.84941095639,
         "android.sensor.accelerometer#std": 0.0146255073331,
         "android.sensor.game_rotation_vector#mean": 0.0293404701347,
         "android.sensor.game_rotation_vector#min": 0.0290141820322,
         "android.sensor.game_rotation_vector#max": 0.0295264272136,
         "android.sensor.game_rotation_vector#std": 0.00011870091454,
         "android.sensor.gravity#mean": 9.80665014968,
         "android.sensor.gravity#min": 9.80664908184,
         "android.sensor.gravity#max": 9.80665101272,
         "android.sensor.gravity#std": 4.78069230071e-7,
         "android.sensor.gyroscope#mean": 0.00165077522136,
         "android.sensor.gyroscope#min": 0,
         "android.sensor.gyroscope#max": 0.00353308255853,
         "android.sensor.gyroscope#std": 0.000736963641413,
         "android.sensor.gyroscope_uncalibrated#mean": 0.0162213599906,
         "android.sensor.gyroscope_uncalibrated#min": 0.0141724221314,
         "android.sensor.gyroscope_uncalibrated#max": 0.0186953157594,
         "android.sensor.gyroscope_uncalibrated#std": 0.000981864545925,
         "android.sensor.light#mean": 0,
         "android.sensor.light#min": 0,
         "android.sensor.light#max": 0,
         "android.sensor.light#std": "0.0",
         "android.sensor.linear_acceleration#mean": 0.0209778383629,
         "android.sensor.linear_acceleration#min": 0.00249536633909,
         "android.sensor.linear_acceleration#max": 0.0524095823954,
         "android.sensor.linear_acceleration#std": 0.0110446872158,
         "android.sensor.magnetic_field#mean": 57.0996378983,
         "android.sensor.magnetic_field#min": 56.6903871922,
         "android.sensor.magnetic_field#max": 57.5759501429,
         "android.sensor.magnetic_field#std": 0.177548772376,
         "android.sensor.magnetic_field_uncalibrated#mean": 51.3635659024,
         "android.sensor.magnetic_field_uncalibrated#min": 51.1997072531,
         "android.sensor.magnetic_field_uncalibrated#max": 51.5392083783,
         "android.sensor.magnetic_field_uncalibrated#std": 0.08089925898,
         "android.sensor.orientation#mean": 354.286933099,
         "android.sensor.orientation#min": 353.598334711,
         "android.sensor.orientation#max": 354.942707018,
         "android.sensor.orientation#std": 0.2456763287,
         "android.sensor.pressure#mean": "1004.09026074",
         "android.sensor.pressure#min": "1004.0554",
         "android.sensor.pressure#max": "1004.1279",
         "android.sensor.pressure#std": "0.0174157640628",
         "android.sensor.proximity#mean": "8.0",
         "android.sensor.proximity#min": "8.0",
         "android.sensor.proximity#max": "8.0",
         "android.sensor.proximity#std": "nan",
         "android.sensor.rotation_vector#mean": 0.050413140269,
         "android.sensor.rotation_vector#min": 0.0447771592556,
         "android.sensor.rotation_vector#max": 0.0563513538347,
         "android.sensor.rotation_vector#std": 0.00210922613983,
         "android.sensor.step_counter#mean": "28966.0",
         "android.sensor.step_counter#min": "28966.0",
         "android.sensor.step_counter#max": "28966.0",
         "android.sensor.step_counter#std": "nan",
         "sound#mean": "nan",
         "sound#min": "nan",
         "sound#max": "nan",
         "sound#std": "nan",
         "speed#mean": 0,
         "speed#min": 0,
         "speed#max": 0,
         "speed#std": "0.0",
         "target": "Still",
         "user": "Luca",
         "_deepnote_index_column": 0
        },
        {
         "id": 15871,
         "time": 145,
         "activityrecognition#0": "nan",
         "activityrecognition#1": 100,
         "android.sensor.accelerometer#mean": 9.93920678262,
         "android.sensor.accelerometer#min": 7.70743742161,
         "android.sensor.accelerometer#max": 17.1466311902,
         "android.sensor.accelerometer#std": 1.7759442967,
         "android.sensor.game_rotation_vector#mean": 0.999924605824,
         "android.sensor.game_rotation_vector#min": 0.99990333472,
         "android.sensor.game_rotation_vector#max": 0.999945876927,
         "android.sensor.game_rotation_vector#std": 0.0000300818830563,
         "android.sensor.gravity#mean": 9.80662395218,
         "android.sensor.gravity#min": 9.80662395218,
         "android.sensor.gravity#max": 9.80662395218,
         "android.sensor.gravity#std": 6.47497680352e-7,
         "android.sensor.gyroscope#mean": 0.0363257142488,
         "android.sensor.gyroscope#min": 0.0116693879272,
         "android.sensor.gyroscope#max": 0.0593878960242,
         "android.sensor.gyroscope#std": 0.0202897002181,
         "android.sensor.gyroscope_uncalibrated#mean": 0.0390225389502,
         "android.sensor.gyroscope_uncalibrated#min": 0.0141323301437,
         "android.sensor.gyroscope_uncalibrated#max": 0.0854936945061,
         "android.sensor.gyroscope_uncalibrated#std": 0.01862939992,
         "android.sensor.light#mean": 0,
         "android.sensor.light#min": 0,
         "android.sensor.light#max": 0,
         "android.sensor.light#std": "nan",
         "android.sensor.linear_acceleration#mean": 0.879220182554,
         "android.sensor.linear_acceleration#min": 0.641116952922,
         "android.sensor.linear_acceleration#max": 1.18580992175,
         "android.sensor.linear_acceleration#std": 0.278729993124,
         "android.sensor.magnetic_field#mean": 29.3512875433,
         "android.sensor.magnetic_field#min": 28.1725051708,
         "android.sensor.magnetic_field#max": 30.3860165208,
         "android.sensor.magnetic_field#std": 0.921547089535,
         "android.sensor.magnetic_field_uncalibrated#mean": 82.7677601815,
         "android.sensor.magnetic_field_uncalibrated#min": 82.4098901832,
         "android.sensor.magnetic_field_uncalibrated#max": 83.1256301799,
         "android.sensor.magnetic_field_uncalibrated#std": 0.506104605233,
         "android.sensor.orientation#mean": 332.695576665,
         "android.sensor.orientation#min": 330.461053684,
         "android.sensor.orientation#max": 339.108607447,
         "android.sensor.orientation#std": 1.70581619737,
         "android.sensor.pressure#mean": "1008.27466",
         "android.sensor.pressure#min": "1008.27466",
         "android.sensor.pressure#max": "1008.27466",
         "android.sensor.pressure#std": "nan",
         "android.sensor.proximity#mean": "nan",
         "android.sensor.proximity#min": "nan",
         "android.sensor.proximity#max": "nan",
         "android.sensor.proximity#std": "nan",
         "android.sensor.rotation_vector#mean": 0.999981228739,
         "android.sensor.rotation_vector#min": 0.999963053709,
         "android.sensor.rotation_vector#max": 0.999999403768,
         "android.sensor.rotation_vector#std": 0.0000257033732154,
         "android.sensor.step_counter#mean": "nan",
         "android.sensor.step_counter#min": "nan",
         "android.sensor.step_counter#max": "nan",
         "android.sensor.step_counter#std": "nan",
         "sound#mean": "89.200210191",
         "sound#min": "89.06514335",
         "sound#max": "89.3352770319",
         "sound#std": "0.191013358299",
         "speed#mean": 16.539349,
         "speed#min": 16.539349,
         "speed#max": 16.539349,
         "speed#std": "0.628594593951",
         "target": "Car",
         "user": "Luca",
         "_deepnote_index_column": 1
        },
        {
         "id": 16811,
         "time": 150,
         "activityrecognition#0": "nan",
         "activityrecognition#1": 100,
         "android.sensor.accelerometer#mean": 9.82717783631,
         "android.sensor.accelerometer#min": 9.80481712742,
         "android.sensor.accelerometer#max": 9.84926211274,
         "android.sensor.accelerometer#std": 0.0111991059917,
         "android.sensor.game_rotation_vector#mean": 0.665215406868,
         "android.sensor.game_rotation_vector#min": 0.665212600816,
         "android.sensor.game_rotation_vector#max": 0.665218212919,
         "android.sensor.game_rotation_vector#std": 0.00000396835608801,
         "android.sensor.gravity#mean": 9.80665022401,
         "android.sensor.gravity#min": 9.80665002449,
         "android.sensor.gravity#max": 9.80665042352,
         "android.sensor.gravity#std": 2.82156820261e-7,
         "android.sensor.gyroscope#mean": 0.00152461653211,
         "android.sensor.gyroscope#min": 0,
         "android.sensor.gyroscope#max": 0.0026093544661,
         "android.sensor.gyroscope#std": 0.000712700740663,
         "android.sensor.gyroscope_uncalibrated#mean": 0.016301566129,
         "android.sensor.gyroscope_uncalibrated#min": 0.0146449655465,
         "android.sensor.gyroscope_uncalibrated#max": 0.0173739375996,
         "android.sensor.gyroscope_uncalibrated#std": 0.000875953734805,
         "android.sensor.light#mean": 2,
         "android.sensor.light#min": 2,
         "android.sensor.light#max": 2,
         "android.sensor.light#std": "0.707106781187",
         "android.sensor.linear_acceleration#mean": 0.0341102311454,
         "android.sensor.linear_acceleration#min": 0.0257091365417,
         "android.sensor.linear_acceleration#max": 0.0425113257492,
         "android.sensor.linear_acceleration#std": 0.0118809419274,
         "android.sensor.magnetic_field#mean": 29.904926993,
         "android.sensor.magnetic_field#min": 29.7417215373,
         "android.sensor.magnetic_field#max": 30.0383088738,
         "android.sensor.magnetic_field#std": 0.130851298779,
         "android.sensor.magnetic_field_uncalibrated#mean": 55.6957163835,
         "android.sensor.magnetic_field_uncalibrated#min": 55.5018017726,
         "android.sensor.magnetic_field_uncalibrated#max": 55.8685063341,
         "android.sensor.magnetic_field_uncalibrated#std": 0.128945251661,
         "android.sensor.orientation#mean": 74.7526531434,
         "android.sensor.orientation#min": 73.2234934719,
         "android.sensor.orientation#max": 75.2685742895,
         "android.sensor.orientation#std": 0.413704157311,
         "android.sensor.pressure#mean": "1005.97754",
         "android.sensor.pressure#min": "1005.97754",
         "android.sensor.pressure#max": "1005.97754",
         "android.sensor.pressure#std": "nan",
         "android.sensor.proximity#mean": "8.0",
         "android.sensor.proximity#min": "8.0",
         "android.sensor.proximity#max": "8.0",
         "android.sensor.proximity#std": "nan",
         "android.sensor.rotation_vector#mean": 0.610456220789,
         "android.sensor.rotation_vector#min": 0.610456220789,
         "android.sensor.rotation_vector#max": 0.610456220789,
         "android.sensor.rotation_vector#std": 0.0113123358202,
         "android.sensor.step_counter#mean": "nan",
         "android.sensor.step_counter#min": "nan",
         "android.sensor.step_counter#max": "nan",
         "android.sensor.step_counter#std": "nan",
         "sound#mean": "nan",
         "sound#min": "nan",
         "sound#max": "nan",
         "sound#std": "nan",
         "speed#mean": 0,
         "speed#min": 0,
         "speed#max": 0,
         "speed#std": "0.0",
         "target": "Still",
         "user": "Luca",
         "_deepnote_index_column": 2
        },
        {
         "id": 15831,
         "time": 105,
         "activityrecognition#0": "nan",
         "activityrecognition#1": 77,
         "android.sensor.accelerometer#mean": 9.67303911332,
         "android.sensor.accelerometer#min": 7.65967372861,
         "android.sensor.accelerometer#max": 12.3042975935,
         "android.sensor.accelerometer#std": 0.862553258429,
         "android.sensor.game_rotation_vector#mean": 0.996220934012,
         "android.sensor.game_rotation_vector#min": 0.993780916194,
         "android.sensor.game_rotation_vector#max": 0.99866095183,
         "android.sensor.game_rotation_vector#std": 0.00345070629065,
         "android.sensor.gravity#mean": 9.80663764374,
         "android.sensor.gravity#min": 9.80663764374,
         "android.sensor.gravity#max": 9.80663764374,
         "android.sensor.gravity#std": 0.00000212056373828,
         "android.sensor.gyroscope#mean": 0.0364403150565,
         "android.sensor.gyroscope#min": 0.0204630617713,
         "android.sensor.gyroscope#max": 0.0525122451551,
         "android.sensor.gyroscope#std": 0.0105527726211,
         "android.sensor.gyroscope_uncalibrated#mean": 0.0507587448203,
         "android.sensor.gyroscope_uncalibrated#min": 0.0247315778968,
         "android.sensor.gyroscope_uncalibrated#max": 0.0818868991653,
         "android.sensor.gyroscope_uncalibrated#std": 0.018036503333,
         "android.sensor.light#mean": 0,
         "android.sensor.light#min": 0,
         "android.sensor.light#max": 0,
         "android.sensor.light#std": "nan",
         "android.sensor.linear_acceleration#mean": 1.48836057989,
         "android.sensor.linear_acceleration#min": 0.575910313171,
         "android.sensor.linear_acceleration#max": 2.41587896373,
         "android.sensor.linear_acceleration#std": 0.920076869003,
         "android.sensor.magnetic_field#mean": 37.8364706079,
         "android.sensor.magnetic_field#min": 37.52572451,
         "android.sensor.magnetic_field#max": 38.1472167058,
         "android.sensor.magnetic_field#std": 0.439461346105,
         "android.sensor.magnetic_field_uncalibrated#mean": 95.7438206305,
         "android.sensor.magnetic_field_uncalibrated#min": 95.6643091367,
         "android.sensor.magnetic_field_uncalibrated#max": 95.8233321243,
         "android.sensor.magnetic_field_uncalibrated#std": 0.112446232897,
         "android.sensor.orientation#mean": 373.556039427,
         "android.sensor.orientation#min": 359.897249748,
         "android.sensor.orientation#max": 397.071741295,
         "android.sensor.orientation#std": 8.87001056741,
         "android.sensor.pressure#mean": "1006.95044",
         "android.sensor.pressure#min": "1006.95044",
         "android.sensor.pressure#max": "1006.95044",
         "android.sensor.pressure#std": "nan",
         "android.sensor.proximity#mean": "nan",
         "android.sensor.proximity#min": "nan",
         "android.sensor.proximity#max": "nan",
         "android.sensor.proximity#std": "nan",
         "android.sensor.rotation_vector#mean": 0.998112317214,
         "android.sensor.rotation_vector#min": 0.998112317214,
         "android.sensor.rotation_vector#max": 0.998112317214,
         "android.sensor.rotation_vector#std": 0.00278751762314,
         "android.sensor.step_counter#mean": "nan",
         "android.sensor.step_counter#min": "nan",
         "android.sensor.step_counter#max": "nan",
         "android.sensor.step_counter#std": "nan",
         "sound#mean": "87.4703770994",
         "sound#min": "87.4703770994",
         "sound#max": "87.4703770994",
         "sound#std": "2.28418636125",
         "speed#mean": 17.739895,
         "speed#min": 17.739895,
         "speed#max": 17.739895,
         "speed#std": "0.628594593951",
         "target": "Car",
         "user": "Luca",
         "_deepnote_index_column": 3
        },
        {
         "id": 876,
         "time": 77,
         "activityrecognition#0": "nan",
         "activityrecognition#1": 100,
         "android.sensor.accelerometer#mean": 9.99346632118,
         "android.sensor.accelerometer#min": 8.96562096134,
         "android.sensor.accelerometer#max": 10.8916451194,
         "android.sensor.accelerometer#std": 0.504117059576,
         "android.sensor.game_rotation_vector#mean": 0.563791884308,
         "android.sensor.game_rotation_vector#min": 0.521799103987,
         "android.sensor.game_rotation_vector#max": 0.672663744621,
         "android.sensor.game_rotation_vector#std": 0.0647921318639,
         "android.sensor.gravity#mean": 9.8066501563,
         "android.sensor.gravity#min": 9.80664966214,
         "android.sensor.gravity#max": 9.80665053121,
         "android.sensor.gravity#std": 2.64443011405e-7,
         "android.sensor.gyroscope#mean": 0.183202097809,
         "android.sensor.gyroscope#min": 0.0206668572373,
         "android.sensor.gyroscope#max": 0.380875066732,
         "android.sensor.gyroscope#std": 0.0988191384778,
         "android.sensor.gyroscope_uncalibrated#mean": 0.265652184888,
         "android.sensor.gyroscope_uncalibrated#min": 0.141208498859,
         "android.sensor.gyroscope_uncalibrated#max": 0.313019733394,
         "android.sensor.gyroscope_uncalibrated#std": 0.0831748152281,
         "android.sensor.light#mean": 30,
         "android.sensor.light#min": 30,
         "android.sensor.light#max": 30,
         "android.sensor.light#std": "39.5979797464",
         "android.sensor.linear_acceleration#mean": 1.65830750209,
         "android.sensor.linear_acceleration#min": 0.379803005713,
         "android.sensor.linear_acceleration#max": 2.7959953197,
         "android.sensor.linear_acceleration#std": 1.1222254603,
         "android.sensor.magnetic_field#mean": 78.37571835,
         "android.sensor.magnetic_field#min": 76.5432606086,
         "android.sensor.magnetic_field#max": 79.2737394335,
         "android.sensor.magnetic_field#std": 1.10436115049,
         "android.sensor.magnetic_field_uncalibrated#mean": 157.42921752,
         "android.sensor.magnetic_field_uncalibrated#min": 156.79590908,
         "android.sensor.magnetic_field_uncalibrated#max": 158.06252596,
         "android.sensor.magnetic_field_uncalibrated#std": 0.895633385013,
         "android.sensor.orientation#mean": 193.201458416,
         "android.sensor.orientation#min": 35.864971592,
         "android.sensor.orientation#max": 360.560467727,
         "android.sensor.orientation#std": 181.729454699,
         "android.sensor.pressure#mean": "nan",
         "android.sensor.pressure#min": "nan",
         "android.sensor.pressure#max": "nan",
         "android.sensor.pressure#std": "nan",
         "android.sensor.proximity#mean": "nan",
         "android.sensor.proximity#min": "nan",
         "android.sensor.proximity#max": "nan",
         "android.sensor.proximity#std": "nan",
         "android.sensor.rotation_vector#mean": 0.322241915004,
         "android.sensor.rotation_vector#min": 0.308054844036,
         "android.sensor.rotation_vector#max": 0.378193174062,
         "android.sensor.rotation_vector#std": 0.0256078524026,
         "android.sensor.step_counter#mean": "nan",
         "android.sensor.step_counter#min": "nan",
         "android.sensor.step_counter#max": "nan",
         "android.sensor.step_counter#std": "nan",
         "sound#mean": "89.770732316",
         "sound#min": "89.770732316",
         "sound#max": "89.770732316",
         "sound#std": "0.00638923521873",
         "speed#mean": 9,
         "speed#min": 9,
         "speed#max": 9,
         "speed#std": "nan",
         "target": "Car",
         "user": "andrea",
         "_deepnote_index_column": 4
        }
       ],
       "rows_bottom": null
      },
      "text/plain": "      id   time  activityrecognition#0  activityrecognition#1  \\\n0  16170   78.0                    NaN                  100.0   \n1  15871  145.0                    NaN                  100.0   \n2  16811  150.0                    NaN                  100.0   \n3  15831  105.0                    NaN                   77.0   \n4    876   77.0                    NaN                  100.0   \n\n   android.sensor.accelerometer#mean  android.sensor.accelerometer#min  \\\n0                           9.811476                          9.758895   \n1                           9.939207                          7.707437   \n2                           9.827178                          9.804817   \n3                           9.673039                          7.659674   \n4                           9.993466                          8.965621   \n\n   android.sensor.accelerometer#max  android.sensor.accelerometer#std  \\\n0                          9.849411                          0.014626   \n1                         17.146631                          1.775944   \n2                          9.849262                          0.011199   \n3                         12.304298                          0.862553   \n4                         10.891645                          0.504117   \n\n   android.sensor.game_rotation_vector#mean  \\\n0                                  0.029340   \n1                                  0.999925   \n2                                  0.665215   \n3                                  0.996221   \n4                                  0.563792   \n\n   android.sensor.game_rotation_vector#min  ...  sound#mean  sound#min  \\\n0                                 0.029014  ...         NaN        NaN   \n1                                 0.999903  ...   89.200210  89.065143   \n2                                 0.665213  ...         NaN        NaN   \n3                                 0.993781  ...   87.470377  87.470377   \n4                                 0.521799  ...   89.770732  89.770732   \n\n   sound#max  sound#std  speed#mean  speed#min  speed#max  speed#std  target  \\\n0        NaN        NaN    0.000000   0.000000   0.000000   0.000000   Still   \n1  89.335277   0.191013   16.539349  16.539349  16.539349   0.628595     Car   \n2        NaN        NaN    0.000000   0.000000   0.000000   0.000000   Still   \n3  87.470377   2.284186   17.739895  17.739895  17.739895   0.628595     Car   \n4  89.770732   0.006389    9.000000   9.000000   9.000000        NaN     Car   \n\n     user  \n0    Luca  \n1    Luca  \n2    Luca  \n3    Luca  \n4  andrea  \n\n[5 rows x 70 columns]",
      "text/html": "<div>\n<style scoped>\n    .dataframe tbody tr th:only-of-type {\n        vertical-align: middle;\n    }\n\n    .dataframe tbody tr th {\n        vertical-align: top;\n    }\n\n    .dataframe thead th {\n        text-align: right;\n    }\n</style>\n<table border=\"1\" class=\"dataframe\">\n  <thead>\n    <tr style=\"text-align: right;\">\n      <th></th>\n      <th>id</th>\n      <th>time</th>\n      <th>activityrecognition#0</th>\n      <th>activityrecognition#1</th>\n      <th>android.sensor.accelerometer#mean</th>\n      <th>android.sensor.accelerometer#min</th>\n      <th>android.sensor.accelerometer#max</th>\n      <th>android.sensor.accelerometer#std</th>\n      <th>android.sensor.game_rotation_vector#mean</th>\n      <th>android.sensor.game_rotation_vector#min</th>\n      <th>...</th>\n      <th>sound#mean</th>\n      <th>sound#min</th>\n      <th>sound#max</th>\n      <th>sound#std</th>\n      <th>speed#mean</th>\n      <th>speed#min</th>\n      <th>speed#max</th>\n      <th>speed#std</th>\n      <th>target</th>\n      <th>user</th>\n    </tr>\n  </thead>\n  <tbody>\n    <tr>\n      <th>0</th>\n      <td>16170</td>\n      <td>78.0</td>\n      <td>NaN</td>\n      <td>100.0</td>\n      <td>9.811476</td>\n      <td>9.758895</td>\n      <td>9.849411</td>\n      <td>0.014626</td>\n      <td>0.029340</td>\n      <td>0.029014</td>\n      <td>...</td>\n      <td>NaN</td>\n      <td>NaN</td>\n      <td>NaN</td>\n      <td>NaN</td>\n      <td>0.000000</td>\n      <td>0.000000</td>\n      <td>0.000000</td>\n      <td>0.000000</td>\n      <td>Still</td>\n      <td>Luca</td>\n    </tr>\n    <tr>\n      <th>1</th>\n      <td>15871</td>\n      <td>145.0</td>\n      <td>NaN</td>\n      <td>100.0</td>\n      <td>9.939207</td>\n      <td>7.707437</td>\n      <td>17.146631</td>\n      <td>1.775944</td>\n      <td>0.999925</td>\n      <td>0.999903</td>\n      <td>...</td>\n      <td>89.200210</td>\n      <td>89.065143</td>\n      <td>89.335277</td>\n      <td>0.191013</td>\n      <td>16.539349</td>\n      <td>16.539349</td>\n      <td>16.539349</td>\n      <td>0.628595</td>\n      <td>Car</td>\n      <td>Luca</td>\n    </tr>\n    <tr>\n      <th>2</th>\n      <td>16811</td>\n      <td>150.0</td>\n      <td>NaN</td>\n      <td>100.0</td>\n      <td>9.827178</td>\n      <td>9.804817</td>\n      <td>9.849262</td>\n      <td>0.011199</td>\n      <td>0.665215</td>\n      <td>0.665213</td>\n      <td>...</td>\n      <td>NaN</td>\n      <td>NaN</td>\n      <td>NaN</td>\n      <td>NaN</td>\n      <td>0.000000</td>\n      <td>0.000000</td>\n      <td>0.000000</td>\n      <td>0.000000</td>\n      <td>Still</td>\n      <td>Luca</td>\n    </tr>\n    <tr>\n      <th>3</th>\n      <td>15831</td>\n      <td>105.0</td>\n      <td>NaN</td>\n      <td>77.0</td>\n      <td>9.673039</td>\n      <td>7.659674</td>\n      <td>12.304298</td>\n      <td>0.862553</td>\n      <td>0.996221</td>\n      <td>0.993781</td>\n      <td>...</td>\n      <td>87.470377</td>\n      <td>87.470377</td>\n      <td>87.470377</td>\n      <td>2.284186</td>\n      <td>17.739895</td>\n      <td>17.739895</td>\n      <td>17.739895</td>\n      <td>0.628595</td>\n      <td>Car</td>\n      <td>Luca</td>\n    </tr>\n    <tr>\n      <th>4</th>\n      <td>876</td>\n      <td>77.0</td>\n      <td>NaN</td>\n      <td>100.0</td>\n      <td>9.993466</td>\n      <td>8.965621</td>\n      <td>10.891645</td>\n      <td>0.504117</td>\n      <td>0.563792</td>\n      <td>0.521799</td>\n      <td>...</td>\n      <td>89.770732</td>\n      <td>89.770732</td>\n      <td>89.770732</td>\n      <td>0.006389</td>\n      <td>9.000000</td>\n      <td>9.000000</td>\n      <td>9.000000</td>\n      <td>NaN</td>\n      <td>Car</td>\n      <td>andrea</td>\n    </tr>\n  </tbody>\n</table>\n<p>5 rows × 70 columns</p>\n</div>"
     },
     "metadata": {}
    }
   ],
   "execution_count": 3
  },
  {
   "cell_type": "code",
   "source": "def change_name(df):\n    column_names=[]\n    for i in df.columns:\n        k=i.replace('.','_').replace(\"#\",'_')\n        df.rename(columns = {i:k}, inplace = True)\n    return df\n",
   "metadata": {
    "tags": [],
    "cell_id": "00003-6f24949c-1840-4669-9b8e-c53cb2b1a6bd",
    "deepnote_to_be_reexecuted": false,
    "source_hash": "cc3033fa",
    "execution_start": 1621334348809,
    "execution_millis": 3,
    "deepnote_cell_type": "code"
   },
   "outputs": [],
   "execution_count": 5
  },
  {
   "cell_type": "code",
   "source": "df=change_name(data)\ndf.head()",
   "metadata": {
    "tags": [],
    "cell_id": "00004-e33cedb0-4a9e-472f-8fa5-b65e2f684b03",
    "deepnote_to_be_reexecuted": false,
    "source_hash": "d687e919",
    "execution_start": 1621334351706,
    "execution_millis": 397,
    "deepnote_cell_type": "code"
   },
   "outputs": [
    {
     "output_type": "execute_result",
     "execution_count": 6,
     "data": {
      "application/vnd.deepnote.dataframe.v2+json": {
       "row_count": 5,
       "column_count": 70,
       "columns": [
        {
         "name": "id",
         "dtype": "int64",
         "stats": {
          "unique_count": 5,
          "nan_count": 0,
          "min": "876",
          "max": "16811",
          "histogram": [
           {
            "bin_start": 876,
            "bin_end": 2469.5,
            "count": 1
           },
           {
            "bin_start": 2469.5,
            "bin_end": 4063,
            "count": 0
           },
           {
            "bin_start": 4063,
            "bin_end": 5656.5,
            "count": 0
           },
           {
            "bin_start": 5656.5,
            "bin_end": 7250,
            "count": 0
           },
           {
            "bin_start": 7250,
            "bin_end": 8843.5,
            "count": 0
           },
           {
            "bin_start": 8843.5,
            "bin_end": 10437,
            "count": 0
           },
           {
            "bin_start": 10437,
            "bin_end": 12030.5,
            "count": 0
           },
           {
            "bin_start": 12030.5,
            "bin_end": 13624,
            "count": 0
           },
           {
            "bin_start": 13624,
            "bin_end": 15217.5,
            "count": 0
           },
           {
            "bin_start": 15217.5,
            "bin_end": 16811,
            "count": 4
           }
          ]
         }
        },
        {
         "name": "time",
         "dtype": "float64",
         "stats": {
          "unique_count": 5,
          "nan_count": 0,
          "min": "77.0",
          "max": "150.0",
          "histogram": [
           {
            "bin_start": 77,
            "bin_end": 84.3,
            "count": 2
           },
           {
            "bin_start": 84.3,
            "bin_end": 91.6,
            "count": 0
           },
           {
            "bin_start": 91.6,
            "bin_end": 98.9,
            "count": 0
           },
           {
            "bin_start": 98.9,
            "bin_end": 106.2,
            "count": 1
           },
           {
            "bin_start": 106.2,
            "bin_end": 113.5,
            "count": 0
           },
           {
            "bin_start": 113.5,
            "bin_end": 120.8,
            "count": 0
           },
           {
            "bin_start": 120.8,
            "bin_end": 128.1,
            "count": 0
           },
           {
            "bin_start": 128.1,
            "bin_end": 135.4,
            "count": 0
           },
           {
            "bin_start": 135.4,
            "bin_end": 142.7,
            "count": 0
           },
           {
            "bin_start": 142.7,
            "bin_end": 150,
            "count": 2
           }
          ]
         }
        },
        {
         "name": "activityrecognition_0",
         "dtype": "float64",
         "stats": {
          "unique_count": 0,
          "nan_count": 5,
          "min": null,
          "max": null,
          "histogram": [
           {
            "bin_start": 0,
            "bin_end": 0.1,
            "count": 0
           },
           {
            "bin_start": 0.1,
            "bin_end": 0.2,
            "count": 0
           },
           {
            "bin_start": 0.2,
            "bin_end": 0.30000000000000004,
            "count": 0
           },
           {
            "bin_start": 0.30000000000000004,
            "bin_end": 0.4,
            "count": 0
           },
           {
            "bin_start": 0.4,
            "bin_end": 0.5,
            "count": 0
           },
           {
            "bin_start": 0.5,
            "bin_end": 0.6000000000000001,
            "count": 0
           },
           {
            "bin_start": 0.6000000000000001,
            "bin_end": 0.7000000000000001,
            "count": 0
           },
           {
            "bin_start": 0.7000000000000001,
            "bin_end": 0.8,
            "count": 0
           },
           {
            "bin_start": 0.8,
            "bin_end": 0.9,
            "count": 0
           },
           {
            "bin_start": 0.9,
            "bin_end": 1,
            "count": 0
           }
          ]
         }
        },
        {
         "name": "activityrecognition_1",
         "dtype": "float64",
         "stats": {
          "unique_count": 2,
          "nan_count": 0,
          "min": "77.0",
          "max": "100.0",
          "histogram": [
           {
            "bin_start": 77,
            "bin_end": 79.3,
            "count": 1
           },
           {
            "bin_start": 79.3,
            "bin_end": 81.6,
            "count": 0
           },
           {
            "bin_start": 81.6,
            "bin_end": 83.9,
            "count": 0
           },
           {
            "bin_start": 83.9,
            "bin_end": 86.2,
            "count": 0
           },
           {
            "bin_start": 86.2,
            "bin_end": 88.5,
            "count": 0
           },
           {
            "bin_start": 88.5,
            "bin_end": 90.8,
            "count": 0
           },
           {
            "bin_start": 90.8,
            "bin_end": 93.1,
            "count": 0
           },
           {
            "bin_start": 93.1,
            "bin_end": 95.4,
            "count": 0
           },
           {
            "bin_start": 95.4,
            "bin_end": 97.7,
            "count": 0
           },
           {
            "bin_start": 97.7,
            "bin_end": 100,
            "count": 4
           }
          ]
         }
        },
        {
         "name": "android_sensor_accelerometer_mean",
         "dtype": "float64",
         "stats": {
          "unique_count": 5,
          "nan_count": 0,
          "min": "9.67303911332",
          "max": "9.99346632118",
          "histogram": [
           {
            "bin_start": 9.67303911332,
            "bin_end": 9.705081834106,
            "count": 1
           },
           {
            "bin_start": 9.705081834106,
            "bin_end": 9.737124554892,
            "count": 0
           },
           {
            "bin_start": 9.737124554892,
            "bin_end": 9.769167275677999,
            "count": 0
           },
           {
            "bin_start": 9.769167275677999,
            "bin_end": 9.801209996464,
            "count": 0
           },
           {
            "bin_start": 9.801209996464,
            "bin_end": 9.83325271725,
            "count": 2
           },
           {
            "bin_start": 9.83325271725,
            "bin_end": 9.865295438036,
            "count": 0
           },
           {
            "bin_start": 9.865295438036,
            "bin_end": 9.897338158822,
            "count": 0
           },
           {
            "bin_start": 9.897338158822,
            "bin_end": 9.929380879607999,
            "count": 0
           },
           {
            "bin_start": 9.929380879607999,
            "bin_end": 9.961423600394,
            "count": 1
           },
           {
            "bin_start": 9.961423600394,
            "bin_end": 9.99346632118,
            "count": 1
           }
          ]
         }
        },
        {
         "name": "android_sensor_accelerometer_min",
         "dtype": "float64",
         "stats": {
          "unique_count": 5,
          "nan_count": 0,
          "min": "7.65967372861",
          "max": "9.80481712742",
          "histogram": [
           {
            "bin_start": 7.65967372861,
            "bin_end": 7.874188068491,
            "count": 2
           },
           {
            "bin_start": 7.874188068491,
            "bin_end": 8.088702408371999,
            "count": 0
           },
           {
            "bin_start": 8.088702408371999,
            "bin_end": 8.303216748253,
            "count": 0
           },
           {
            "bin_start": 8.303216748253,
            "bin_end": 8.517731088134,
            "count": 0
           },
           {
            "bin_start": 8.517731088134,
            "bin_end": 8.732245428015,
            "count": 0
           },
           {
            "bin_start": 8.732245428015,
            "bin_end": 8.946759767896,
            "count": 0
           },
           {
            "bin_start": 8.946759767896,
            "bin_end": 9.161274107777,
            "count": 1
           },
           {
            "bin_start": 9.161274107777,
            "bin_end": 9.375788447658,
            "count": 0
           },
           {
            "bin_start": 9.375788447658,
            "bin_end": 9.590302787539,
            "count": 0
           },
           {
            "bin_start": 9.590302787539,
            "bin_end": 9.80481712742,
            "count": 2
           }
          ]
         }
        },
        {
         "name": "android_sensor_accelerometer_max",
         "dtype": "float64",
         "stats": {
          "unique_count": 5,
          "nan_count": 0,
          "min": "9.84926211274",
          "max": "17.1466311902",
          "histogram": [
           {
            "bin_start": 9.84926211274,
            "bin_end": 10.578999020486,
            "count": 2
           },
           {
            "bin_start": 10.578999020486,
            "bin_end": 11.308735928232,
            "count": 1
           },
           {
            "bin_start": 11.308735928232,
            "bin_end": 12.038472835978,
            "count": 0
           },
           {
            "bin_start": 12.038472835978,
            "bin_end": 12.768209743724,
            "count": 1
           },
           {
            "bin_start": 12.768209743724,
            "bin_end": 13.49794665147,
            "count": 0
           },
           {
            "bin_start": 13.49794665147,
            "bin_end": 14.227683559216,
            "count": 0
           },
           {
            "bin_start": 14.227683559216,
            "bin_end": 14.957420466962,
            "count": 0
           },
           {
            "bin_start": 14.957420466962,
            "bin_end": 15.687157374708,
            "count": 0
           },
           {
            "bin_start": 15.687157374708,
            "bin_end": 16.416894282454003,
            "count": 0
           },
           {
            "bin_start": 16.416894282454003,
            "bin_end": 17.1466311902,
            "count": 1
           }
          ]
         }
        },
        {
         "name": "android_sensor_accelerometer_std",
         "dtype": "float64",
         "stats": {
          "unique_count": 5,
          "nan_count": 0,
          "min": "0.0111991059917",
          "max": "1.7759442967",
          "histogram": [
           {
            "bin_start": 0.0111991059917,
            "bin_end": 0.18767362506253,
            "count": 2
           },
           {
            "bin_start": 0.18767362506253,
            "bin_end": 0.36414814413336,
            "count": 0
           },
           {
            "bin_start": 0.36414814413336,
            "bin_end": 0.5406226632041901,
            "count": 1
           },
           {
            "bin_start": 0.5406226632041901,
            "bin_end": 0.7170971822750201,
            "count": 0
           },
           {
            "bin_start": 0.7170971822750201,
            "bin_end": 0.8935717013458501,
            "count": 1
           },
           {
            "bin_start": 0.8935717013458501,
            "bin_end": 1.07004622041668,
            "count": 0
           },
           {
            "bin_start": 1.07004622041668,
            "bin_end": 1.24652073948751,
            "count": 0
           },
           {
            "bin_start": 1.24652073948751,
            "bin_end": 1.42299525855834,
            "count": 0
           },
           {
            "bin_start": 1.42299525855834,
            "bin_end": 1.5994697776291702,
            "count": 0
           },
           {
            "bin_start": 1.5994697776291702,
            "bin_end": 1.7759442967,
            "count": 1
           }
          ]
         }
        },
        {
         "name": "android_sensor_game_rotation_vector_mean",
         "dtype": "float64",
         "stats": {
          "unique_count": 5,
          "nan_count": 0,
          "min": "0.0293404701347",
          "max": "0.999924605824",
          "histogram": [
           {
            "bin_start": 0.0293404701347,
            "bin_end": 0.12639888370363,
            "count": 1
           },
           {
            "bin_start": 0.12639888370363,
            "bin_end": 0.22345729727256,
            "count": 0
           },
           {
            "bin_start": 0.22345729727256,
            "bin_end": 0.32051571084149,
            "count": 0
           },
           {
            "bin_start": 0.32051571084149,
            "bin_end": 0.41757412441041997,
            "count": 0
           },
           {
            "bin_start": 0.41757412441041997,
            "bin_end": 0.5146325379793499,
            "count": 0
           },
           {
            "bin_start": 0.5146325379793499,
            "bin_end": 0.61169095154828,
            "count": 1
           },
           {
            "bin_start": 0.61169095154828,
            "bin_end": 0.70874936511721,
            "count": 1
           },
           {
            "bin_start": 0.70874936511721,
            "bin_end": 0.80580777868614,
            "count": 0
           },
           {
            "bin_start": 0.80580777868614,
            "bin_end": 0.9028661922550699,
            "count": 0
           },
           {
            "bin_start": 0.9028661922550699,
            "bin_end": 0.999924605824,
            "count": 2
           }
          ]
         }
        },
        {
         "name": "android_sensor_game_rotation_vector_min",
         "dtype": "float64",
         "stats": {
          "unique_count": 5,
          "nan_count": 0,
          "min": "0.0290141820322",
          "max": "0.99990333472",
          "histogram": [
           {
            "bin_start": 0.0290141820322,
            "bin_end": 0.12610309730098002,
            "count": 1
           },
           {
            "bin_start": 0.12610309730098002,
            "bin_end": 0.22319201256976,
            "count": 0
           },
           {
            "bin_start": 0.22319201256976,
            "bin_end": 0.32028092783854006,
            "count": 0
           },
           {
            "bin_start": 0.32028092783854006,
            "bin_end": 0.41736984310732006,
            "count": 0
           },
           {
            "bin_start": 0.41736984310732006,
            "bin_end": 0.5144587583761,
            "count": 0
           },
           {
            "bin_start": 0.5144587583761,
            "bin_end": 0.61154767364488,
            "count": 1
           },
           {
            "bin_start": 0.61154767364488,
            "bin_end": 0.70863658891366,
            "count": 1
           },
           {
            "bin_start": 0.70863658891366,
            "bin_end": 0.80572550418244,
            "count": 0
           },
           {
            "bin_start": 0.80572550418244,
            "bin_end": 0.9028144194512201,
            "count": 0
           },
           {
            "bin_start": 0.9028144194512201,
            "bin_end": 0.99990333472,
            "count": 2
           }
          ]
         }
        },
        {
         "name": "android_sensor_game_rotation_vector_max",
         "dtype": "float64",
         "stats": {
          "unique_count": 5,
          "nan_count": 0,
          "min": "0.0295264272136",
          "max": "0.999945876927",
          "histogram": [
           {
            "bin_start": 0.0295264272136,
            "bin_end": 0.12656837218494,
            "count": 1
           },
           {
            "bin_start": 0.12656837218494,
            "bin_end": 0.22361031715628,
            "count": 0
           },
           {
            "bin_start": 0.22361031715628,
            "bin_end": 0.32065226212762,
            "count": 0
           },
           {
            "bin_start": 0.32065226212762,
            "bin_end": 0.41769420709896,
            "count": 0
           },
           {
            "bin_start": 0.41769420709896,
            "bin_end": 0.5147361520703,
            "count": 0
           },
           {
            "bin_start": 0.5147361520703,
            "bin_end": 0.61177809704164,
            "count": 0
           },
           {
            "bin_start": 0.61177809704164,
            "bin_end": 0.70882004201298,
            "count": 2
           },
           {
            "bin_start": 0.70882004201298,
            "bin_end": 0.80586198698432,
            "count": 0
           },
           {
            "bin_start": 0.80586198698432,
            "bin_end": 0.90290393195566,
            "count": 0
           },
           {
            "bin_start": 0.90290393195566,
            "bin_end": 0.999945876927,
            "count": 2
           }
          ]
         }
        },
        {
         "name": "android_sensor_game_rotation_vector_std",
         "dtype": "float64",
         "stats": {
          "unique_count": 5,
          "nan_count": 0,
          "min": "3.96835608801e-06",
          "max": "0.0647921318639",
          "histogram": [
           {
            "bin_start": 0.00000396835608801,
            "bin_end": 0.006482784706869208,
            "count": 4
           },
           {
            "bin_start": 0.006482784706869208,
            "bin_end": 0.012961601057650407,
            "count": 0
           },
           {
            "bin_start": 0.012961601057650407,
            "bin_end": 0.019440417408431606,
            "count": 0
           },
           {
            "bin_start": 0.019440417408431606,
            "bin_end": 0.025919233759212804,
            "count": 0
           },
           {
            "bin_start": 0.025919233759212804,
            "bin_end": 0.032398050109994005,
            "count": 0
           },
           {
            "bin_start": 0.032398050109994005,
            "bin_end": 0.038876866460775206,
            "count": 0
           },
           {
            "bin_start": 0.038876866460775206,
            "bin_end": 0.0453556828115564,
            "count": 0
           },
           {
            "bin_start": 0.0453556828115564,
            "bin_end": 0.0518344991623376,
            "count": 0
           },
           {
            "bin_start": 0.0518344991623376,
            "bin_end": 0.0583133155131188,
            "count": 0
           },
           {
            "bin_start": 0.0583133155131188,
            "bin_end": 0.0647921318639,
            "count": 1
           }
          ]
         }
        },
        {
         "name": "android_sensor_gravity_mean",
         "dtype": "float64",
         "stats": {
          "unique_count": 5,
          "nan_count": 0,
          "min": "9.80662395218",
          "max": "9.80665022401",
          "histogram": [
           {
            "bin_start": 9.80662395218,
            "bin_end": 9.806626579363,
            "count": 1
           },
           {
            "bin_start": 9.806626579363,
            "bin_end": 9.806629206546,
            "count": 0
           },
           {
            "bin_start": 9.806629206546,
            "bin_end": 9.806631833729,
            "count": 0
           },
           {
            "bin_start": 9.806631833729,
            "bin_end": 9.806634460912,
            "count": 0
           },
           {
            "bin_start": 9.806634460912,
            "bin_end": 9.806637088095,
            "count": 0
           },
           {
            "bin_start": 9.806637088095,
            "bin_end": 9.806639715278,
            "count": 1
           },
           {
            "bin_start": 9.806639715278,
            "bin_end": 9.806642342461,
            "count": 0
           },
           {
            "bin_start": 9.806642342461,
            "bin_end": 9.806644969644,
            "count": 0
           },
           {
            "bin_start": 9.806644969644,
            "bin_end": 9.806647596827,
            "count": 0
           },
           {
            "bin_start": 9.806647596827,
            "bin_end": 9.80665022401,
            "count": 3
           }
          ]
         }
        },
        {
         "name": "android_sensor_gravity_min",
         "dtype": "float64",
         "stats": {
          "unique_count": 5,
          "nan_count": 0,
          "min": "9.80662395218",
          "max": "9.80665002449",
          "histogram": [
           {
            "bin_start": 9.80662395218,
            "bin_end": 9.806626559411,
            "count": 1
           },
           {
            "bin_start": 9.806626559411,
            "bin_end": 9.806629166642,
            "count": 0
           },
           {
            "bin_start": 9.806629166642,
            "bin_end": 9.806631773873,
            "count": 0
           },
           {
            "bin_start": 9.806631773873,
            "bin_end": 9.806634381104,
            "count": 0
           },
           {
            "bin_start": 9.806634381104,
            "bin_end": 9.806636988335,
            "count": 0
           },
           {
            "bin_start": 9.806636988335,
            "bin_end": 9.806639595566,
            "count": 1
           },
           {
            "bin_start": 9.806639595566,
            "bin_end": 9.806642202797,
            "count": 0
           },
           {
            "bin_start": 9.806642202797,
            "bin_end": 9.806644810028,
            "count": 0
           },
           {
            "bin_start": 9.806644810028,
            "bin_end": 9.806647417259,
            "count": 0
           },
           {
            "bin_start": 9.806647417259,
            "bin_end": 9.80665002449,
            "count": 3
           }
          ]
         }
        },
        {
         "name": "android_sensor_gravity_max",
         "dtype": "float64",
         "stats": {
          "unique_count": 5,
          "nan_count": 0,
          "min": "9.80662395218",
          "max": "9.80665101272",
          "histogram": [
           {
            "bin_start": 9.80662395218,
            "bin_end": 9.806626658234,
            "count": 1
           },
           {
            "bin_start": 9.806626658234,
            "bin_end": 9.806629364288,
            "count": 0
           },
           {
            "bin_start": 9.806629364288,
            "bin_end": 9.806632070342001,
            "count": 0
           },
           {
            "bin_start": 9.806632070342001,
            "bin_end": 9.806634776396,
            "count": 0
           },
           {
            "bin_start": 9.806634776396,
            "bin_end": 9.80663748245,
            "count": 0
           },
           {
            "bin_start": 9.80663748245,
            "bin_end": 9.806640188504,
            "count": 1
           },
           {
            "bin_start": 9.806640188504,
            "bin_end": 9.806642894558,
            "count": 0
           },
           {
            "bin_start": 9.806642894558,
            "bin_end": 9.806645600612,
            "count": 0
           },
           {
            "bin_start": 9.806645600612,
            "bin_end": 9.806648306666,
            "count": 0
           },
           {
            "bin_start": 9.806648306666,
            "bin_end": 9.80665101272,
            "count": 3
           }
          ]
         }
        },
        {
         "name": "android_sensor_gravity_std",
         "dtype": "float64",
         "stats": {
          "unique_count": 5,
          "nan_count": 0,
          "min": "2.64443011405e-07",
          "max": "2.12056373828e-06",
          "histogram": [
           {
            "bin_start": 2.64443011405e-7,
            "bin_end": 4.5005508409249997e-7,
            "count": 2
           },
           {
            "bin_start": 4.5005508409249997e-7,
            "bin_end": 6.3566715678e-7,
            "count": 1
           },
           {
            "bin_start": 6.3566715678e-7,
            "bin_end": 8.212792294674999e-7,
            "count": 1
           },
           {
            "bin_start": 8.212792294674999e-7,
            "bin_end": 0.0000010068913021549999,
            "count": 0
           },
           {
            "bin_start": 0.0000010068913021549999,
            "bin_end": 0.0000011925033748424998,
            "count": 0
           },
           {
            "bin_start": 0.0000011925033748424998,
            "bin_end": 0.00000137811544753,
            "count": 0
           },
           {
            "bin_start": 0.00000137811544753,
            "bin_end": 0.0000015637275202174999,
            "count": 0
           },
           {
            "bin_start": 0.0000015637275202174999,
            "bin_end": 0.0000017493395929049998,
            "count": 0
           },
           {
            "bin_start": 0.0000017493395929049998,
            "bin_end": 0.0000019349516655925,
            "count": 0
           },
           {
            "bin_start": 0.0000019349516655925,
            "bin_end": 0.00000212056373828,
            "count": 1
           }
          ]
         }
        },
        {
         "name": "android_sensor_gyroscope_mean",
         "dtype": "float64",
         "stats": {
          "unique_count": 5,
          "nan_count": 0,
          "min": "0.00152461653211",
          "max": "0.183202097809",
          "histogram": [
           {
            "bin_start": 0.00152461653211,
            "bin_end": 0.019692364659799,
            "count": 2
           },
           {
            "bin_start": 0.019692364659799,
            "bin_end": 0.037860112787488,
            "count": 2
           },
           {
            "bin_start": 0.037860112787488,
            "bin_end": 0.056027860915177,
            "count": 0
           },
           {
            "bin_start": 0.056027860915177,
            "bin_end": 0.074195609042866,
            "count": 0
           },
           {
            "bin_start": 0.074195609042866,
            "bin_end": 0.092363357170555,
            "count": 0
           },
           {
            "bin_start": 0.092363357170555,
            "bin_end": 0.110531105298244,
            "count": 0
           },
           {
            "bin_start": 0.110531105298244,
            "bin_end": 0.12869885342593299,
            "count": 0
           },
           {
            "bin_start": 0.12869885342593299,
            "bin_end": 0.146866601553622,
            "count": 0
           },
           {
            "bin_start": 0.146866601553622,
            "bin_end": 0.165034349681311,
            "count": 0
           },
           {
            "bin_start": 0.165034349681311,
            "bin_end": 0.183202097809,
            "count": 1
           }
          ]
         }
        },
        {
         "name": "android_sensor_gyroscope_min",
         "dtype": "float64",
         "stats": {
          "unique_count": 4,
          "nan_count": 0,
          "min": "0.0",
          "max": "0.0206668572373",
          "histogram": [
           {
            "bin_start": 0,
            "bin_end": 0.00206668572373,
            "count": 2
           },
           {
            "bin_start": 0.00206668572373,
            "bin_end": 0.00413337144746,
            "count": 0
           },
           {
            "bin_start": 0.00413337144746,
            "bin_end": 0.00620005717119,
            "count": 0
           },
           {
            "bin_start": 0.00620005717119,
            "bin_end": 0.00826674289492,
            "count": 0
           },
           {
            "bin_start": 0.00826674289492,
            "bin_end": 0.01033342861865,
            "count": 0
           },
           {
            "bin_start": 0.01033342861865,
            "bin_end": 0.01240011434238,
            "count": 1
           },
           {
            "bin_start": 0.01240011434238,
            "bin_end": 0.01446680006611,
            "count": 0
           },
           {
            "bin_start": 0.01446680006611,
            "bin_end": 0.01653348578984,
            "count": 0
           },
           {
            "bin_start": 0.01653348578984,
            "bin_end": 0.018600171513569998,
            "count": 0
           },
           {
            "bin_start": 0.018600171513569998,
            "bin_end": 0.0206668572373,
            "count": 2
           }
          ]
         }
        },
        {
         "name": "android_sensor_gyroscope_max",
         "dtype": "float64",
         "stats": {
          "unique_count": 5,
          "nan_count": 0,
          "min": "0.0026093544661",
          "max": "0.380875066732",
          "histogram": [
           {
            "bin_start": 0.0026093544661,
            "bin_end": 0.04043592569269,
            "count": 2
           },
           {
            "bin_start": 0.04043592569269,
            "bin_end": 0.07826249691928,
            "count": 2
           },
           {
            "bin_start": 0.07826249691928,
            "bin_end": 0.11608906814587,
            "count": 0
           },
           {
            "bin_start": 0.11608906814587,
            "bin_end": 0.15391563937246,
            "count": 0
           },
           {
            "bin_start": 0.15391563937246,
            "bin_end": 0.19174221059905,
            "count": 0
           },
           {
            "bin_start": 0.19174221059905,
            "bin_end": 0.22956878182564,
            "count": 0
           },
           {
            "bin_start": 0.22956878182564,
            "bin_end": 0.26739535305223,
            "count": 0
           },
           {
            "bin_start": 0.26739535305223,
            "bin_end": 0.30522192427882,
            "count": 0
           },
           {
            "bin_start": 0.30522192427882,
            "bin_end": 0.34304849550541,
            "count": 0
           },
           {
            "bin_start": 0.34304849550541,
            "bin_end": 0.380875066732,
            "count": 1
           }
          ]
         }
        },
        {
         "name": "android_sensor_gyroscope_std",
         "dtype": "float64",
         "stats": {
          "unique_count": 5,
          "nan_count": 0,
          "min": "0.000712700740663",
          "max": "0.0988191384778",
          "histogram": [
           {
            "bin_start": 0.000712700740663,
            "bin_end": 0.0105233445143767,
            "count": 2
           },
           {
            "bin_start": 0.0105233445143767,
            "bin_end": 0.0203339882880904,
            "count": 2
           },
           {
            "bin_start": 0.0203339882880904,
            "bin_end": 0.0301446320618041,
            "count": 0
           },
           {
            "bin_start": 0.0301446320618041,
            "bin_end": 0.0399552758355178,
            "count": 0
           },
           {
            "bin_start": 0.0399552758355178,
            "bin_end": 0.0497659196092315,
            "count": 0
           },
           {
            "bin_start": 0.0497659196092315,
            "bin_end": 0.0595765633829452,
            "count": 0
           },
           {
            "bin_start": 0.0595765633829452,
            "bin_end": 0.0693872071566589,
            "count": 0
           },
           {
            "bin_start": 0.0693872071566589,
            "bin_end": 0.0791978509303726,
            "count": 0
           },
           {
            "bin_start": 0.0791978509303726,
            "bin_end": 0.0890084947040863,
            "count": 0
           },
           {
            "bin_start": 0.0890084947040863,
            "bin_end": 0.0988191384778,
            "count": 1
           }
          ]
         }
        },
        {
         "name": "android_sensor_gyroscope_uncalibrated_mean",
         "dtype": "float64",
         "stats": {
          "unique_count": 5,
          "nan_count": 0,
          "min": "0.0162213599906",
          "max": "0.265652184888",
          "histogram": [
           {
            "bin_start": 0.0162213599906,
            "bin_end": 0.04116444248034,
            "count": 3
           },
           {
            "bin_start": 0.04116444248034,
            "bin_end": 0.06610752497008,
            "count": 1
           },
           {
            "bin_start": 0.06610752497008,
            "bin_end": 0.09105060745982,
            "count": 0
           },
           {
            "bin_start": 0.09105060745982,
            "bin_end": 0.11599368994956,
            "count": 0
           },
           {
            "bin_start": 0.11599368994956,
            "bin_end": 0.1409367724393,
            "count": 0
           },
           {
            "bin_start": 0.1409367724393,
            "bin_end": 0.16587985492904,
            "count": 0
           },
           {
            "bin_start": 0.16587985492904,
            "bin_end": 0.19082293741878,
            "count": 0
           },
           {
            "bin_start": 0.19082293741878,
            "bin_end": 0.21576601990852,
            "count": 0
           },
           {
            "bin_start": 0.21576601990852,
            "bin_end": 0.24070910239826002,
            "count": 0
           },
           {
            "bin_start": 0.24070910239826002,
            "bin_end": 0.265652184888,
            "count": 1
           }
          ]
         }
        },
        {
         "name": "android_sensor_gyroscope_uncalibrated_min",
         "dtype": "float64",
         "stats": {
          "unique_count": 5,
          "nan_count": 0,
          "min": "0.0141323301437",
          "max": "0.141208498859",
          "histogram": [
           {
            "bin_start": 0.0141323301437,
            "bin_end": 0.02683994701523,
            "count": 4
           },
           {
            "bin_start": 0.02683994701523,
            "bin_end": 0.03954756388676,
            "count": 0
           },
           {
            "bin_start": 0.03954756388676,
            "bin_end": 0.052255180758290005,
            "count": 0
           },
           {
            "bin_start": 0.052255180758290005,
            "bin_end": 0.06496279762982,
            "count": 0
           },
           {
            "bin_start": 0.06496279762982,
            "bin_end": 0.07767041450135,
            "count": 0
           },
           {
            "bin_start": 0.07767041450135,
            "bin_end": 0.09037803137288,
            "count": 0
           },
           {
            "bin_start": 0.09037803137288,
            "bin_end": 0.10308564824441,
            "count": 0
           },
           {
            "bin_start": 0.10308564824441,
            "bin_end": 0.11579326511594,
            "count": 0
           },
           {
            "bin_start": 0.11579326511594,
            "bin_end": 0.12850088198747,
            "count": 0
           },
           {
            "bin_start": 0.12850088198747,
            "bin_end": 0.141208498859,
            "count": 1
           }
          ]
         }
        },
        {
         "name": "android_sensor_gyroscope_uncalibrated_max",
         "dtype": "float64",
         "stats": {
          "unique_count": 5,
          "nan_count": 0,
          "min": "0.0173739375996",
          "max": "0.313019733394",
          "histogram": [
           {
            "bin_start": 0.0173739375996,
            "bin_end": 0.046938517179040004,
            "count": 2
           },
           {
            "bin_start": 0.046938517179040004,
            "bin_end": 0.07650309675848001,
            "count": 0
           },
           {
            "bin_start": 0.07650309675848001,
            "bin_end": 0.10606767633792001,
            "count": 2
           },
           {
            "bin_start": 0.10606767633792001,
            "bin_end": 0.13563225591736,
            "count": 0
           },
           {
            "bin_start": 0.13563225591736,
            "bin_end": 0.16519683549680003,
            "count": 0
           },
           {
            "bin_start": 0.16519683549680003,
            "bin_end": 0.19476141507624,
            "count": 0
           },
           {
            "bin_start": 0.19476141507624,
            "bin_end": 0.22432599465568004,
            "count": 0
           },
           {
            "bin_start": 0.22432599465568004,
            "bin_end": 0.25389057423512,
            "count": 0
           },
           {
            "bin_start": 0.25389057423512,
            "bin_end": 0.28345515381456005,
            "count": 0
           },
           {
            "bin_start": 0.28345515381456005,
            "bin_end": 0.313019733394,
            "count": 1
           }
          ]
         }
        },
        {
         "name": "android_sensor_gyroscope_uncalibrated_std",
         "dtype": "float64",
         "stats": {
          "unique_count": 5,
          "nan_count": 0,
          "min": "0.000875953734805",
          "max": "0.0831748152281",
          "histogram": [
           {
            "bin_start": 0.000875953734805,
            "bin_end": 0.009105839884134501,
            "count": 2
           },
           {
            "bin_start": 0.009105839884134501,
            "bin_end": 0.017335726033464,
            "count": 0
           },
           {
            "bin_start": 0.017335726033464,
            "bin_end": 0.025565612182793504,
            "count": 2
           },
           {
            "bin_start": 0.025565612182793504,
            "bin_end": 0.033795498332123,
            "count": 0
           },
           {
            "bin_start": 0.033795498332123,
            "bin_end": 0.0420253844814525,
            "count": 0
           },
           {
            "bin_start": 0.0420253844814525,
            "bin_end": 0.05025527063078201,
            "count": 0
           },
           {
            "bin_start": 0.05025527063078201,
            "bin_end": 0.05848515678011151,
            "count": 0
           },
           {
            "bin_start": 0.05848515678011151,
            "bin_end": 0.066715042929441,
            "count": 0
           },
           {
            "bin_start": 0.066715042929441,
            "bin_end": 0.0749449290787705,
            "count": 0
           },
           {
            "bin_start": 0.0749449290787705,
            "bin_end": 0.0831748152281,
            "count": 1
           }
          ]
         }
        },
        {
         "name": "android_sensor_light_mean",
         "dtype": "float64",
         "stats": {
          "unique_count": 3,
          "nan_count": 0,
          "min": "0.0",
          "max": "30.0",
          "histogram": [
           {
            "bin_start": 0,
            "bin_end": 3,
            "count": 4
           },
           {
            "bin_start": 3,
            "bin_end": 6,
            "count": 0
           },
           {
            "bin_start": 6,
            "bin_end": 9,
            "count": 0
           },
           {
            "bin_start": 9,
            "bin_end": 12,
            "count": 0
           },
           {
            "bin_start": 12,
            "bin_end": 15,
            "count": 0
           },
           {
            "bin_start": 15,
            "bin_end": 18,
            "count": 0
           },
           {
            "bin_start": 18,
            "bin_end": 21,
            "count": 0
           },
           {
            "bin_start": 21,
            "bin_end": 24,
            "count": 0
           },
           {
            "bin_start": 24,
            "bin_end": 27,
            "count": 0
           },
           {
            "bin_start": 27,
            "bin_end": 30,
            "count": 1
           }
          ]
         }
        },
        {
         "name": "android_sensor_light_min",
         "dtype": "float64",
         "stats": {
          "unique_count": 3,
          "nan_count": 0,
          "min": "0.0",
          "max": "30.0",
          "histogram": [
           {
            "bin_start": 0,
            "bin_end": 3,
            "count": 4
           },
           {
            "bin_start": 3,
            "bin_end": 6,
            "count": 0
           },
           {
            "bin_start": 6,
            "bin_end": 9,
            "count": 0
           },
           {
            "bin_start": 9,
            "bin_end": 12,
            "count": 0
           },
           {
            "bin_start": 12,
            "bin_end": 15,
            "count": 0
           },
           {
            "bin_start": 15,
            "bin_end": 18,
            "count": 0
           },
           {
            "bin_start": 18,
            "bin_end": 21,
            "count": 0
           },
           {
            "bin_start": 21,
            "bin_end": 24,
            "count": 0
           },
           {
            "bin_start": 24,
            "bin_end": 27,
            "count": 0
           },
           {
            "bin_start": 27,
            "bin_end": 30,
            "count": 1
           }
          ]
         }
        },
        {
         "name": "android_sensor_light_max",
         "dtype": "float64",
         "stats": {
          "unique_count": 3,
          "nan_count": 0,
          "min": "0.0",
          "max": "30.0",
          "histogram": [
           {
            "bin_start": 0,
            "bin_end": 3,
            "count": 4
           },
           {
            "bin_start": 3,
            "bin_end": 6,
            "count": 0
           },
           {
            "bin_start": 6,
            "bin_end": 9,
            "count": 0
           },
           {
            "bin_start": 9,
            "bin_end": 12,
            "count": 0
           },
           {
            "bin_start": 12,
            "bin_end": 15,
            "count": 0
           },
           {
            "bin_start": 15,
            "bin_end": 18,
            "count": 0
           },
           {
            "bin_start": 18,
            "bin_end": 21,
            "count": 0
           },
           {
            "bin_start": 21,
            "bin_end": 24,
            "count": 0
           },
           {
            "bin_start": 24,
            "bin_end": 27,
            "count": 0
           },
           {
            "bin_start": 27,
            "bin_end": 30,
            "count": 1
           }
          ]
         }
        },
        {
         "name": "android_sensor_light_std",
         "dtype": "float64",
         "stats": {
          "unique_count": 3,
          "nan_count": 2,
          "min": "0.0",
          "max": "39.5979797464",
          "histogram": [
           {
            "bin_start": 0,
            "bin_end": 3.95979797464,
            "count": 2
           },
           {
            "bin_start": 3.95979797464,
            "bin_end": 7.91959594928,
            "count": 0
           },
           {
            "bin_start": 7.91959594928,
            "bin_end": 11.879393923919999,
            "count": 0
           },
           {
            "bin_start": 11.879393923919999,
            "bin_end": 15.83919189856,
            "count": 0
           },
           {
            "bin_start": 15.83919189856,
            "bin_end": 19.7989898732,
            "count": 0
           },
           {
            "bin_start": 19.7989898732,
            "bin_end": 23.758787847839997,
            "count": 0
           },
           {
            "bin_start": 23.758787847839997,
            "bin_end": 27.718585822479998,
            "count": 0
           },
           {
            "bin_start": 27.718585822479998,
            "bin_end": 31.67838379712,
            "count": 0
           },
           {
            "bin_start": 31.67838379712,
            "bin_end": 35.638181771759996,
            "count": 0
           },
           {
            "bin_start": 35.638181771759996,
            "bin_end": 39.5979797464,
            "count": 1
           }
          ]
         }
        },
        {
         "name": "android_sensor_linear_acceleration_mean",
         "dtype": "float64",
         "stats": {
          "unique_count": 5,
          "nan_count": 0,
          "min": "0.0209778383629",
          "max": "1.65830750209",
          "histogram": [
           {
            "bin_start": 0.0209778383629,
            "bin_end": 0.18471080473561002,
            "count": 2
           },
           {
            "bin_start": 0.18471080473561002,
            "bin_end": 0.34844377110832003,
            "count": 0
           },
           {
            "bin_start": 0.34844377110832003,
            "bin_end": 0.51217673748103,
            "count": 0
           },
           {
            "bin_start": 0.51217673748103,
            "bin_end": 0.67590970385374,
            "count": 0
           },
           {
            "bin_start": 0.67590970385374,
            "bin_end": 0.8396426702264501,
            "count": 0
           },
           {
            "bin_start": 0.8396426702264501,
            "bin_end": 1.00337563659916,
            "count": 1
           },
           {
            "bin_start": 1.00337563659916,
            "bin_end": 1.16710860297187,
            "count": 0
           },
           {
            "bin_start": 1.16710860297187,
            "bin_end": 1.33084156934458,
            "count": 0
           },
           {
            "bin_start": 1.33084156934458,
            "bin_end": 1.4945745357172902,
            "count": 1
           },
           {
            "bin_start": 1.4945745357172902,
            "bin_end": 1.65830750209,
            "count": 1
           }
          ]
         }
        },
        {
         "name": "android_sensor_linear_acceleration_min",
         "dtype": "float64",
         "stats": {
          "unique_count": 5,
          "nan_count": 0,
          "min": "0.00249536633909",
          "max": "0.641116952922",
          "histogram": [
           {
            "bin_start": 0.00249536633909,
            "bin_end": 0.06635752499738101,
            "count": 2
           },
           {
            "bin_start": 0.06635752499738101,
            "bin_end": 0.13021968365567202,
            "count": 0
           },
           {
            "bin_start": 0.13021968365567202,
            "bin_end": 0.19408184231396303,
            "count": 0
           },
           {
            "bin_start": 0.19408184231396303,
            "bin_end": 0.257944000972254,
            "count": 0
           },
           {
            "bin_start": 0.257944000972254,
            "bin_end": 0.32180615963054504,
            "count": 0
           },
           {
            "bin_start": 0.32180615963054504,
            "bin_end": 0.385668318288836,
            "count": 1
           },
           {
            "bin_start": 0.385668318288836,
            "bin_end": 0.449530476947127,
            "count": 0
           },
           {
            "bin_start": 0.449530476947127,
            "bin_end": 0.513392635605418,
            "count": 0
           },
           {
            "bin_start": 0.513392635605418,
            "bin_end": 0.5772547942637091,
            "count": 1
           },
           {
            "bin_start": 0.5772547942637091,
            "bin_end": 0.641116952922,
            "count": 1
           }
          ]
         }
        },
        {
         "name": "android_sensor_linear_acceleration_max",
         "dtype": "float64",
         "stats": {
          "unique_count": 5,
          "nan_count": 0,
          "min": "0.0425113257492",
          "max": "2.7959953197",
          "histogram": [
           {
            "bin_start": 0.0425113257492,
            "bin_end": 0.31785972514428,
            "count": 2
           },
           {
            "bin_start": 0.31785972514428,
            "bin_end": 0.59320812453936,
            "count": 0
           },
           {
            "bin_start": 0.59320812453936,
            "bin_end": 0.8685565239344399,
            "count": 0
           },
           {
            "bin_start": 0.8685565239344399,
            "bin_end": 1.14390492332952,
            "count": 0
           },
           {
            "bin_start": 1.14390492332952,
            "bin_end": 1.4192533227246,
            "count": 1
           },
           {
            "bin_start": 1.4192533227246,
            "bin_end": 1.6946017221196799,
            "count": 0
           },
           {
            "bin_start": 1.6946017221196799,
            "bin_end": 1.96995012151476,
            "count": 0
           },
           {
            "bin_start": 1.96995012151476,
            "bin_end": 2.2452985209098397,
            "count": 0
           },
           {
            "bin_start": 2.2452985209098397,
            "bin_end": 2.5206469203049195,
            "count": 1
           },
           {
            "bin_start": 2.5206469203049195,
            "bin_end": 2.7959953197,
            "count": 1
           }
          ]
         }
        },
        {
         "name": "android_sensor_linear_acceleration_std",
         "dtype": "float64",
         "stats": {
          "unique_count": 5,
          "nan_count": 0,
          "min": "0.0110446872158",
          "max": "1.1222254603",
          "histogram": [
           {
            "bin_start": 0.0110446872158,
            "bin_end": 0.12216276452421998,
            "count": 2
           },
           {
            "bin_start": 0.12216276452421998,
            "bin_end": 0.23328084183263997,
            "count": 0
           },
           {
            "bin_start": 0.23328084183263997,
            "bin_end": 0.3443989191410599,
            "count": 1
           },
           {
            "bin_start": 0.3443989191410599,
            "bin_end": 0.4555169964494799,
            "count": 0
           },
           {
            "bin_start": 0.4555169964494799,
            "bin_end": 0.5666350737578999,
            "count": 0
           },
           {
            "bin_start": 0.5666350737578999,
            "bin_end": 0.6777531510663198,
            "count": 0
           },
           {
            "bin_start": 0.6777531510663198,
            "bin_end": 0.7888712283747399,
            "count": 0
           },
           {
            "bin_start": 0.7888712283747399,
            "bin_end": 0.8999893056831598,
            "count": 0
           },
           {
            "bin_start": 0.8999893056831598,
            "bin_end": 1.01110738299158,
            "count": 1
           },
           {
            "bin_start": 1.01110738299158,
            "bin_end": 1.1222254603,
            "count": 1
           }
          ]
         }
        },
        {
         "name": "android_sensor_magnetic_field_mean",
         "dtype": "float64",
         "stats": {
          "unique_count": 5,
          "nan_count": 0,
          "min": "29.3512875433",
          "max": "78.37571835",
          "histogram": [
           {
            "bin_start": 29.3512875433,
            "bin_end": 34.25373062397,
            "count": 2
           },
           {
            "bin_start": 34.25373062397,
            "bin_end": 39.15617370464,
            "count": 1
           },
           {
            "bin_start": 39.15617370464,
            "bin_end": 44.058616785309994,
            "count": 0
           },
           {
            "bin_start": 44.058616785309994,
            "bin_end": 48.96105986598,
            "count": 0
           },
           {
            "bin_start": 48.96105986598,
            "bin_end": 53.86350294665,
            "count": 0
           },
           {
            "bin_start": 53.86350294665,
            "bin_end": 58.76594602732,
            "count": 1
           },
           {
            "bin_start": 58.76594602732,
            "bin_end": 63.668389107989995,
            "count": 0
           },
           {
            "bin_start": 63.668389107989995,
            "bin_end": 68.57083218865999,
            "count": 0
           },
           {
            "bin_start": 68.57083218865999,
            "bin_end": 73.47327526932999,
            "count": 0
           },
           {
            "bin_start": 73.47327526932999,
            "bin_end": 78.37571835,
            "count": 1
           }
          ]
         }
        },
        {
         "name": "android_sensor_magnetic_field_min",
         "dtype": "float64",
         "stats": {
          "unique_count": 5,
          "nan_count": 0,
          "min": "28.1725051708",
          "max": "76.5432606086",
          "histogram": [
           {
            "bin_start": 28.1725051708,
            "bin_end": 33.00958071458,
            "count": 2
           },
           {
            "bin_start": 33.00958071458,
            "bin_end": 37.84665625836,
            "count": 1
           },
           {
            "bin_start": 37.84665625836,
            "bin_end": 42.68373180214,
            "count": 0
           },
           {
            "bin_start": 42.68373180214,
            "bin_end": 47.52080734592,
            "count": 0
           },
           {
            "bin_start": 47.52080734592,
            "bin_end": 52.357882889699994,
            "count": 0
           },
           {
            "bin_start": 52.357882889699994,
            "bin_end": 57.19495843348,
            "count": 1
           },
           {
            "bin_start": 57.19495843348,
            "bin_end": 62.03203397725999,
            "count": 0
           },
           {
            "bin_start": 62.03203397725999,
            "bin_end": 66.86910952104,
            "count": 0
           },
           {
            "bin_start": 66.86910952104,
            "bin_end": 71.70618506482,
            "count": 0
           },
           {
            "bin_start": 71.70618506482,
            "bin_end": 76.5432606086,
            "count": 1
           }
          ]
         }
        },
        {
         "name": "android_sensor_magnetic_field_max",
         "dtype": "float64",
         "stats": {
          "unique_count": 5,
          "nan_count": 0,
          "min": "30.0383088738",
          "max": "79.2737394335",
          "histogram": [
           {
            "bin_start": 30.0383088738,
            "bin_end": 34.96185192977,
            "count": 2
           },
           {
            "bin_start": 34.96185192977,
            "bin_end": 39.88539498574,
            "count": 1
           },
           {
            "bin_start": 39.88539498574,
            "bin_end": 44.80893804170999,
            "count": 0
           },
           {
            "bin_start": 44.80893804170999,
            "bin_end": 49.732481097679994,
            "count": 0
           },
           {
            "bin_start": 49.732481097679994,
            "bin_end": 54.656024153649994,
            "count": 0
           },
           {
            "bin_start": 54.656024153649994,
            "bin_end": 59.579567209619995,
            "count": 1
           },
           {
            "bin_start": 59.579567209619995,
            "bin_end": 64.50311026559,
            "count": 0
           },
           {
            "bin_start": 64.50311026559,
            "bin_end": 69.42665332156,
            "count": 0
           },
           {
            "bin_start": 69.42665332156,
            "bin_end": 74.35019637753,
            "count": 0
           },
           {
            "bin_start": 74.35019637753,
            "bin_end": 79.2737394335,
            "count": 1
           }
          ]
         }
        },
        {
         "name": "android_sensor_magnetic_field_std",
         "dtype": "float64",
         "stats": {
          "unique_count": 5,
          "nan_count": 0,
          "min": "0.130851298779",
          "max": "1.10436115049",
          "histogram": [
           {
            "bin_start": 0.130851298779,
            "bin_end": 0.2282022839501,
            "count": 2
           },
           {
            "bin_start": 0.2282022839501,
            "bin_end": 0.3255532691212,
            "count": 0
           },
           {
            "bin_start": 0.3255532691212,
            "bin_end": 0.42290425429230005,
            "count": 0
           },
           {
            "bin_start": 0.42290425429230005,
            "bin_end": 0.5202552394634,
            "count": 1
           },
           {
            "bin_start": 0.5202552394634,
            "bin_end": 0.6176062246345,
            "count": 0
           },
           {
            "bin_start": 0.6176062246345,
            "bin_end": 0.7149572098056001,
            "count": 0
           },
           {
            "bin_start": 0.7149572098056001,
            "bin_end": 0.8123081949767,
            "count": 0
           },
           {
            "bin_start": 0.8123081949767,
            "bin_end": 0.9096591801478,
            "count": 0
           },
           {
            "bin_start": 0.9096591801478,
            "bin_end": 1.0070101653188999,
            "count": 1
           },
           {
            "bin_start": 1.0070101653188999,
            "bin_end": 1.10436115049,
            "count": 1
           }
          ]
         }
        },
        {
         "name": "android_sensor_magnetic_field_uncalibrated_mean",
         "dtype": "float64",
         "stats": {
          "unique_count": 5,
          "nan_count": 0,
          "min": "51.3635659024",
          "max": "157.42921752",
          "histogram": [
           {
            "bin_start": 51.3635659024,
            "bin_end": 61.97013106416,
            "count": 2
           },
           {
            "bin_start": 61.97013106416,
            "bin_end": 72.57669622592,
            "count": 0
           },
           {
            "bin_start": 72.57669622592,
            "bin_end": 83.18326138768,
            "count": 1
           },
           {
            "bin_start": 83.18326138768,
            "bin_end": 93.78982654944,
            "count": 0
           },
           {
            "bin_start": 93.78982654944,
            "bin_end": 104.39639171120001,
            "count": 1
           },
           {
            "bin_start": 104.39639171120001,
            "bin_end": 115.00295687296,
            "count": 0
           },
           {
            "bin_start": 115.00295687296,
            "bin_end": 125.60952203472,
            "count": 0
           },
           {
            "bin_start": 125.60952203472,
            "bin_end": 136.21608719648,
            "count": 0
           },
           {
            "bin_start": 136.21608719648,
            "bin_end": 146.82265235824002,
            "count": 0
           },
           {
            "bin_start": 146.82265235824002,
            "bin_end": 157.42921752,
            "count": 1
           }
          ]
         }
        },
        {
         "name": "android_sensor_magnetic_field_uncalibrated_min",
         "dtype": "float64",
         "stats": {
          "unique_count": 5,
          "nan_count": 0,
          "min": "51.1997072531",
          "max": "156.79590908",
          "histogram": [
           {
            "bin_start": 51.1997072531,
            "bin_end": 61.75932743579,
            "count": 2
           },
           {
            "bin_start": 61.75932743579,
            "bin_end": 72.31894761848,
            "count": 0
           },
           {
            "bin_start": 72.31894761848,
            "bin_end": 82.87856780117,
            "count": 1
           },
           {
            "bin_start": 82.87856780117,
            "bin_end": 93.43818798386,
            "count": 0
           },
           {
            "bin_start": 93.43818798386,
            "bin_end": 103.99780816655,
            "count": 1
           },
           {
            "bin_start": 103.99780816655,
            "bin_end": 114.55742834924001,
            "count": 0
           },
           {
            "bin_start": 114.55742834924001,
            "bin_end": 125.11704853193001,
            "count": 0
           },
           {
            "bin_start": 125.11704853193001,
            "bin_end": 135.67666871462,
            "count": 0
           },
           {
            "bin_start": 135.67666871462,
            "bin_end": 146.23628889731,
            "count": 0
           },
           {
            "bin_start": 146.23628889731,
            "bin_end": 156.79590908,
            "count": 1
           }
          ]
         }
        },
        {
         "name": "android_sensor_magnetic_field_uncalibrated_max",
         "dtype": "float64",
         "stats": {
          "unique_count": 5,
          "nan_count": 0,
          "min": "51.5392083783",
          "max": "158.06252596",
          "histogram": [
           {
            "bin_start": 51.5392083783,
            "bin_end": 62.19154013647,
            "count": 2
           },
           {
            "bin_start": 62.19154013647,
            "bin_end": 72.84387189464,
            "count": 0
           },
           {
            "bin_start": 72.84387189464,
            "bin_end": 83.49620365281,
            "count": 1
           },
           {
            "bin_start": 83.49620365281,
            "bin_end": 94.14853541098,
            "count": 0
           },
           {
            "bin_start": 94.14853541098,
            "bin_end": 104.80086716915,
            "count": 1
           },
           {
            "bin_start": 104.80086716915,
            "bin_end": 115.45319892731999,
            "count": 0
           },
           {
            "bin_start": 115.45319892731999,
            "bin_end": 126.10553068549,
            "count": 0
           },
           {
            "bin_start": 126.10553068549,
            "bin_end": 136.75786244365997,
            "count": 0
           },
           {
            "bin_start": 136.75786244365997,
            "bin_end": 147.41019420183,
            "count": 0
           },
           {
            "bin_start": 147.41019420183,
            "bin_end": 158.06252596,
            "count": 1
           }
          ]
         }
        },
        {
         "name": "android_sensor_magnetic_field_uncalibrated_std",
         "dtype": "float64",
         "stats": {
          "unique_count": 5,
          "nan_count": 0,
          "min": "0.08089925898",
          "max": "0.895633385013",
          "histogram": [
           {
            "bin_start": 0.08089925898,
            "bin_end": 0.16237267158330002,
            "count": 3
           },
           {
            "bin_start": 0.16237267158330002,
            "bin_end": 0.24384608418660003,
            "count": 0
           },
           {
            "bin_start": 0.24384608418660003,
            "bin_end": 0.3253194967899,
            "count": 0
           },
           {
            "bin_start": 0.3253194967899,
            "bin_end": 0.40679290939320006,
            "count": 0
           },
           {
            "bin_start": 0.40679290939320006,
            "bin_end": 0.48826632199650005,
            "count": 0
           },
           {
            "bin_start": 0.48826632199650005,
            "bin_end": 0.5697397345998001,
            "count": 1
           },
           {
            "bin_start": 0.5697397345998001,
            "bin_end": 0.6512131472031002,
            "count": 0
           },
           {
            "bin_start": 0.6512131472031002,
            "bin_end": 0.7326865598064001,
            "count": 0
           },
           {
            "bin_start": 0.7326865598064001,
            "bin_end": 0.8141599724097002,
            "count": 0
           },
           {
            "bin_start": 0.8141599724097002,
            "bin_end": 0.895633385013,
            "count": 1
           }
          ]
         }
        },
        {
         "name": "android_sensor_orientation_mean",
         "dtype": "float64",
         "stats": {
          "unique_count": 5,
          "nan_count": 0,
          "min": "74.7526531434",
          "max": "373.556039427",
          "histogram": [
           {
            "bin_start": 74.7526531434,
            "bin_end": 104.63299177176,
            "count": 1
           },
           {
            "bin_start": 104.63299177176,
            "bin_end": 134.51333040012,
            "count": 0
           },
           {
            "bin_start": 134.51333040012,
            "bin_end": 164.39366902848002,
            "count": 0
           },
           {
            "bin_start": 164.39366902848002,
            "bin_end": 194.27400765684,
            "count": 1
           },
           {
            "bin_start": 194.27400765684,
            "bin_end": 224.1543462852,
            "count": 0
           },
           {
            "bin_start": 224.1543462852,
            "bin_end": 254.03468491356,
            "count": 0
           },
           {
            "bin_start": 254.03468491356,
            "bin_end": 283.91502354192,
            "count": 0
           },
           {
            "bin_start": 283.91502354192,
            "bin_end": 313.79536217028,
            "count": 0
           },
           {
            "bin_start": 313.79536217028,
            "bin_end": 343.67570079864,
            "count": 1
           },
           {
            "bin_start": 343.67570079864,
            "bin_end": 373.556039427,
            "count": 2
           }
          ]
         }
        },
        {
         "name": "android_sensor_orientation_min",
         "dtype": "float64",
         "stats": {
          "unique_count": 5,
          "nan_count": 0,
          "min": "35.864971592",
          "max": "359.897249748",
          "histogram": [
           {
            "bin_start": 35.864971592,
            "bin_end": 68.26819940760001,
            "count": 1
           },
           {
            "bin_start": 68.26819940760001,
            "bin_end": 100.6714272232,
            "count": 1
           },
           {
            "bin_start": 100.6714272232,
            "bin_end": 133.07465503880002,
            "count": 0
           },
           {
            "bin_start": 133.07465503880002,
            "bin_end": 165.47788285439998,
            "count": 0
           },
           {
            "bin_start": 165.47788285439998,
            "bin_end": 197.88111067,
            "count": 0
           },
           {
            "bin_start": 197.88111067,
            "bin_end": 230.28433848560002,
            "count": 0
           },
           {
            "bin_start": 230.28433848560002,
            "bin_end": 262.6875663012,
            "count": 0
           },
           {
            "bin_start": 262.6875663012,
            "bin_end": 295.0907941168,
            "count": 0
           },
           {
            "bin_start": 295.0907941168,
            "bin_end": 327.4940219324,
            "count": 0
           },
           {
            "bin_start": 327.4940219324,
            "bin_end": 359.897249748,
            "count": 3
           }
          ]
         }
        },
        {
         "name": "android_sensor_orientation_max",
         "dtype": "float64",
         "stats": {
          "unique_count": 5,
          "nan_count": 0,
          "min": "75.2685742895",
          "max": "397.071741295",
          "histogram": [
           {
            "bin_start": 75.2685742895,
            "bin_end": 107.44889099004999,
            "count": 1
           },
           {
            "bin_start": 107.44889099004999,
            "bin_end": 139.62920769059997,
            "count": 0
           },
           {
            "bin_start": 139.62920769059997,
            "bin_end": 171.80952439114998,
            "count": 0
           },
           {
            "bin_start": 171.80952439114998,
            "bin_end": 203.9898410917,
            "count": 0
           },
           {
            "bin_start": 203.9898410917,
            "bin_end": 236.17015779225,
            "count": 0
           },
           {
            "bin_start": 236.17015779225,
            "bin_end": 268.35047449279995,
            "count": 0
           },
           {
            "bin_start": 268.35047449279995,
            "bin_end": 300.53079119334996,
            "count": 0
           },
           {
            "bin_start": 300.53079119334996,
            "bin_end": 332.71110789389996,
            "count": 0
           },
           {
            "bin_start": 332.71110789389996,
            "bin_end": 364.89142459445,
            "count": 3
           },
           {
            "bin_start": 364.89142459445,
            "bin_end": 397.071741295,
            "count": 1
           }
          ]
         }
        },
        {
         "name": "android_sensor_orientation_std",
         "dtype": "float64",
         "stats": {
          "unique_count": 5,
          "nan_count": 0,
          "min": "0.2456763287",
          "max": "181.729454699",
          "histogram": [
           {
            "bin_start": 0.2456763287,
            "bin_end": 18.39405416573,
            "count": 4
           },
           {
            "bin_start": 18.39405416573,
            "bin_end": 36.54243200276,
            "count": 0
           },
           {
            "bin_start": 36.54243200276,
            "bin_end": 54.690809839790006,
            "count": 0
           },
           {
            "bin_start": 54.690809839790006,
            "bin_end": 72.83918767682,
            "count": 0
           },
           {
            "bin_start": 72.83918767682,
            "bin_end": 90.98756551385,
            "count": 0
           },
           {
            "bin_start": 90.98756551385,
            "bin_end": 109.13594335088001,
            "count": 0
           },
           {
            "bin_start": 109.13594335088001,
            "bin_end": 127.28432118791001,
            "count": 0
           },
           {
            "bin_start": 127.28432118791001,
            "bin_end": 145.43269902494,
            "count": 0
           },
           {
            "bin_start": 145.43269902494,
            "bin_end": 163.58107686197002,
            "count": 0
           },
           {
            "bin_start": 163.58107686197002,
            "bin_end": 181.729454699,
            "count": 1
           }
          ]
         }
        },
        {
         "name": "android_sensor_pressure_mean",
         "dtype": "float64",
         "stats": {
          "unique_count": 4,
          "nan_count": 1,
          "min": "1004.09026074",
          "max": "1008.27466",
          "histogram": [
           {
            "bin_start": 1004.09026074,
            "bin_end": 1004.508700666,
            "count": 1
           },
           {
            "bin_start": 1004.508700666,
            "bin_end": 1004.927140592,
            "count": 0
           },
           {
            "bin_start": 1004.927140592,
            "bin_end": 1005.345580518,
            "count": 0
           },
           {
            "bin_start": 1005.345580518,
            "bin_end": 1005.764020444,
            "count": 0
           },
           {
            "bin_start": 1005.764020444,
            "bin_end": 1006.18246037,
            "count": 1
           },
           {
            "bin_start": 1006.18246037,
            "bin_end": 1006.600900296,
            "count": 0
           },
           {
            "bin_start": 1006.600900296,
            "bin_end": 1007.019340222,
            "count": 1
           },
           {
            "bin_start": 1007.019340222,
            "bin_end": 1007.437780148,
            "count": 0
           },
           {
            "bin_start": 1007.437780148,
            "bin_end": 1007.856220074,
            "count": 0
           },
           {
            "bin_start": 1007.856220074,
            "bin_end": 1008.27466,
            "count": 1
           }
          ]
         }
        },
        {
         "name": "android_sensor_pressure_min",
         "dtype": "float64",
         "stats": {
          "unique_count": 4,
          "nan_count": 1,
          "min": "1004.0554",
          "max": "1008.27466",
          "histogram": [
           {
            "bin_start": 1004.0554,
            "bin_end": 1004.477326,
            "count": 1
           },
           {
            "bin_start": 1004.477326,
            "bin_end": 1004.8992519999999,
            "count": 0
           },
           {
            "bin_start": 1004.8992519999999,
            "bin_end": 1005.321178,
            "count": 0
           },
           {
            "bin_start": 1005.321178,
            "bin_end": 1005.743104,
            "count": 0
           },
           {
            "bin_start": 1005.743104,
            "bin_end": 1006.16503,
            "count": 1
           },
           {
            "bin_start": 1006.16503,
            "bin_end": 1006.586956,
            "count": 0
           },
           {
            "bin_start": 1006.586956,
            "bin_end": 1007.008882,
            "count": 1
           },
           {
            "bin_start": 1007.008882,
            "bin_end": 1007.4308080000001,
            "count": 0
           },
           {
            "bin_start": 1007.4308080000001,
            "bin_end": 1007.852734,
            "count": 0
           },
           {
            "bin_start": 1007.852734,
            "bin_end": 1008.27466,
            "count": 1
           }
          ]
         }
        },
        {
         "name": "android_sensor_pressure_max",
         "dtype": "float64",
         "stats": {
          "unique_count": 4,
          "nan_count": 1,
          "min": "1004.1279",
          "max": "1008.27466",
          "histogram": [
           {
            "bin_start": 1004.1279,
            "bin_end": 1004.5425759999999,
            "count": 1
           },
           {
            "bin_start": 1004.5425759999999,
            "bin_end": 1004.9572519999999,
            "count": 0
           },
           {
            "bin_start": 1004.9572519999999,
            "bin_end": 1005.371928,
            "count": 0
           },
           {
            "bin_start": 1005.371928,
            "bin_end": 1005.786604,
            "count": 0
           },
           {
            "bin_start": 1005.786604,
            "bin_end": 1006.20128,
            "count": 1
           },
           {
            "bin_start": 1006.20128,
            "bin_end": 1006.615956,
            "count": 0
           },
           {
            "bin_start": 1006.615956,
            "bin_end": 1007.030632,
            "count": 1
           },
           {
            "bin_start": 1007.030632,
            "bin_end": 1007.4453080000001,
            "count": 0
           },
           {
            "bin_start": 1007.4453080000001,
            "bin_end": 1007.859984,
            "count": 0
           },
           {
            "bin_start": 1007.859984,
            "bin_end": 1008.27466,
            "count": 1
           }
          ]
         }
        },
        {
         "name": "android_sensor_pressure_std",
         "dtype": "float64",
         "stats": {
          "unique_count": 1,
          "nan_count": 4,
          "min": "0.0174157640628",
          "max": "0.0174157640628",
          "histogram": [
           {
            "bin_start": -0.4825842359372,
            "bin_end": -0.38258423593720003,
            "count": 0
           },
           {
            "bin_start": -0.38258423593720003,
            "bin_end": -0.2825842359372,
            "count": 0
           },
           {
            "bin_start": -0.2825842359372,
            "bin_end": -0.18258423593719997,
            "count": 0
           },
           {
            "bin_start": -0.18258423593719997,
            "bin_end": -0.08258423593719999,
            "count": 0
           },
           {
            "bin_start": -0.08258423593719999,
            "bin_end": 0.017415764062799988,
            "count": 0
           },
           {
            "bin_start": 0.017415764062799988,
            "bin_end": 0.11741576406280008,
            "count": 1
           },
           {
            "bin_start": 0.11741576406280008,
            "bin_end": 0.21741576406280005,
            "count": 0
           },
           {
            "bin_start": 0.21741576406280005,
            "bin_end": 0.31741576406280003,
            "count": 0
           },
           {
            "bin_start": 0.31741576406280003,
            "bin_end": 0.4174157640628,
            "count": 0
           },
           {
            "bin_start": 0.4174157640628,
            "bin_end": 0.5174157640628,
            "count": 0
           }
          ]
         }
        },
        {
         "name": "android_sensor_proximity_mean",
         "dtype": "float64",
         "stats": {
          "unique_count": 1,
          "nan_count": 3,
          "min": "8.0",
          "max": "8.0",
          "histogram": [
           {
            "bin_start": 7.5,
            "bin_end": 7.6,
            "count": 0
           },
           {
            "bin_start": 7.6,
            "bin_end": 7.7,
            "count": 0
           },
           {
            "bin_start": 7.7,
            "bin_end": 7.8,
            "count": 0
           },
           {
            "bin_start": 7.8,
            "bin_end": 7.9,
            "count": 0
           },
           {
            "bin_start": 7.9,
            "bin_end": 8,
            "count": 0
           },
           {
            "bin_start": 8,
            "bin_end": 8.1,
            "count": 2
           },
           {
            "bin_start": 8.1,
            "bin_end": 8.2,
            "count": 0
           },
           {
            "bin_start": 8.2,
            "bin_end": 8.3,
            "count": 0
           },
           {
            "bin_start": 8.3,
            "bin_end": 8.4,
            "count": 0
           },
           {
            "bin_start": 8.4,
            "bin_end": 8.5,
            "count": 0
           }
          ]
         }
        },
        {
         "name": "android_sensor_proximity_min",
         "dtype": "float64",
         "stats": {
          "unique_count": 1,
          "nan_count": 3,
          "min": "8.0",
          "max": "8.0",
          "histogram": [
           {
            "bin_start": 7.5,
            "bin_end": 7.6,
            "count": 0
           },
           {
            "bin_start": 7.6,
            "bin_end": 7.7,
            "count": 0
           },
           {
            "bin_start": 7.7,
            "bin_end": 7.8,
            "count": 0
           },
           {
            "bin_start": 7.8,
            "bin_end": 7.9,
            "count": 0
           },
           {
            "bin_start": 7.9,
            "bin_end": 8,
            "count": 0
           },
           {
            "bin_start": 8,
            "bin_end": 8.1,
            "count": 2
           },
           {
            "bin_start": 8.1,
            "bin_end": 8.2,
            "count": 0
           },
           {
            "bin_start": 8.2,
            "bin_end": 8.3,
            "count": 0
           },
           {
            "bin_start": 8.3,
            "bin_end": 8.4,
            "count": 0
           },
           {
            "bin_start": 8.4,
            "bin_end": 8.5,
            "count": 0
           }
          ]
         }
        },
        {
         "name": "android_sensor_proximity_max",
         "dtype": "float64",
         "stats": {
          "unique_count": 1,
          "nan_count": 3,
          "min": "8.0",
          "max": "8.0",
          "histogram": [
           {
            "bin_start": 7.5,
            "bin_end": 7.6,
            "count": 0
           },
           {
            "bin_start": 7.6,
            "bin_end": 7.7,
            "count": 0
           },
           {
            "bin_start": 7.7,
            "bin_end": 7.8,
            "count": 0
           },
           {
            "bin_start": 7.8,
            "bin_end": 7.9,
            "count": 0
           },
           {
            "bin_start": 7.9,
            "bin_end": 8,
            "count": 0
           },
           {
            "bin_start": 8,
            "bin_end": 8.1,
            "count": 2
           },
           {
            "bin_start": 8.1,
            "bin_end": 8.2,
            "count": 0
           },
           {
            "bin_start": 8.2,
            "bin_end": 8.3,
            "count": 0
           },
           {
            "bin_start": 8.3,
            "bin_end": 8.4,
            "count": 0
           },
           {
            "bin_start": 8.4,
            "bin_end": 8.5,
            "count": 0
           }
          ]
         }
        },
        {
         "name": "android_sensor_proximity_std",
         "dtype": "float64",
         "stats": {
          "unique_count": 0,
          "nan_count": 5,
          "min": null,
          "max": null,
          "histogram": [
           {
            "bin_start": 0,
            "bin_end": 0.1,
            "count": 0
           },
           {
            "bin_start": 0.1,
            "bin_end": 0.2,
            "count": 0
           },
           {
            "bin_start": 0.2,
            "bin_end": 0.30000000000000004,
            "count": 0
           },
           {
            "bin_start": 0.30000000000000004,
            "bin_end": 0.4,
            "count": 0
           },
           {
            "bin_start": 0.4,
            "bin_end": 0.5,
            "count": 0
           },
           {
            "bin_start": 0.5,
            "bin_end": 0.6000000000000001,
            "count": 0
           },
           {
            "bin_start": 0.6000000000000001,
            "bin_end": 0.7000000000000001,
            "count": 0
           },
           {
            "bin_start": 0.7000000000000001,
            "bin_end": 0.8,
            "count": 0
           },
           {
            "bin_start": 0.8,
            "bin_end": 0.9,
            "count": 0
           },
           {
            "bin_start": 0.9,
            "bin_end": 1,
            "count": 0
           }
          ]
         }
        },
        {
         "name": "android_sensor_rotation_vector_mean",
         "dtype": "float64",
         "stats": {
          "unique_count": 5,
          "nan_count": 0,
          "min": "0.050413140269",
          "max": "0.999981228739",
          "histogram": [
           {
            "bin_start": 0.050413140269,
            "bin_end": 0.14536994911599999,
            "count": 1
           },
           {
            "bin_start": 0.14536994911599999,
            "bin_end": 0.24032675796300002,
            "count": 0
           },
           {
            "bin_start": 0.24032675796300002,
            "bin_end": 0.33528356681000004,
            "count": 1
           },
           {
            "bin_start": 0.33528356681000004,
            "bin_end": 0.430240375657,
            "count": 0
           },
           {
            "bin_start": 0.430240375657,
            "bin_end": 0.525197184504,
            "count": 0
           },
           {
            "bin_start": 0.525197184504,
            "bin_end": 0.6201539933510001,
            "count": 1
           },
           {
            "bin_start": 0.6201539933510001,
            "bin_end": 0.715110802198,
            "count": 0
           },
           {
            "bin_start": 0.715110802198,
            "bin_end": 0.810067611045,
            "count": 0
           },
           {
            "bin_start": 0.810067611045,
            "bin_end": 0.905024419892,
            "count": 0
           },
           {
            "bin_start": 0.905024419892,
            "bin_end": 0.999981228739,
            "count": 2
           }
          ]
         }
        },
        {
         "name": "android_sensor_rotation_vector_min",
         "dtype": "float64",
         "stats": {
          "unique_count": 5,
          "nan_count": 0,
          "min": "0.0447771592556",
          "max": "0.999963053709",
          "histogram": [
           {
            "bin_start": 0.0447771592556,
            "bin_end": 0.14029574870094,
            "count": 1
           },
           {
            "bin_start": 0.14029574870094,
            "bin_end": 0.23581433814628,
            "count": 0
           },
           {
            "bin_start": 0.23581433814628,
            "bin_end": 0.33133292759162003,
            "count": 1
           },
           {
            "bin_start": 0.33133292759162003,
            "bin_end": 0.42685151703696,
            "count": 0
           },
           {
            "bin_start": 0.42685151703696,
            "bin_end": 0.5223701064823,
            "count": 0
           },
           {
            "bin_start": 0.5223701064823,
            "bin_end": 0.6178886959276401,
            "count": 1
           },
           {
            "bin_start": 0.6178886959276401,
            "bin_end": 0.71340728537298,
            "count": 0
           },
           {
            "bin_start": 0.71340728537298,
            "bin_end": 0.80892587481832,
            "count": 0
           },
           {
            "bin_start": 0.80892587481832,
            "bin_end": 0.90444446426366,
            "count": 0
           },
           {
            "bin_start": 0.90444446426366,
            "bin_end": 0.999963053709,
            "count": 2
           }
          ]
         }
        },
        {
         "name": "android_sensor_rotation_vector_max",
         "dtype": "float64",
         "stats": {
          "unique_count": 5,
          "nan_count": 0,
          "min": "0.0563513538347",
          "max": "0.999999403768",
          "histogram": [
           {
            "bin_start": 0.0563513538347,
            "bin_end": 0.15071615882803,
            "count": 1
           },
           {
            "bin_start": 0.15071615882803,
            "bin_end": 0.24508096382136,
            "count": 0
           },
           {
            "bin_start": 0.24508096382136,
            "bin_end": 0.33944576881469,
            "count": 0
           },
           {
            "bin_start": 0.33944576881469,
            "bin_end": 0.43381057380802,
            "count": 1
           },
           {
            "bin_start": 0.43381057380802,
            "bin_end": 0.52817537880135,
            "count": 0
           },
           {
            "bin_start": 0.52817537880135,
            "bin_end": 0.62254018379468,
            "count": 1
           },
           {
            "bin_start": 0.62254018379468,
            "bin_end": 0.71690498878801,
            "count": 0
           },
           {
            "bin_start": 0.71690498878801,
            "bin_end": 0.81126979378134,
            "count": 0
           },
           {
            "bin_start": 0.81126979378134,
            "bin_end": 0.90563459877467,
            "count": 0
           },
           {
            "bin_start": 0.90563459877467,
            "bin_end": 0.999999403768,
            "count": 2
           }
          ]
         }
        },
        {
         "name": "android_sensor_rotation_vector_std",
         "dtype": "float64",
         "stats": {
          "unique_count": 5,
          "nan_count": 0,
          "min": "2.57033732154e-05",
          "max": "0.0256078524026",
          "histogram": [
           {
            "bin_start": 0.0000257033732154,
            "bin_end": 0.00258391827615386,
            "count": 2
           },
           {
            "bin_start": 0.00258391827615386,
            "bin_end": 0.005142133179092319,
            "count": 1
           },
           {
            "bin_start": 0.005142133179092319,
            "bin_end": 0.007700348082030779,
            "count": 0
           },
           {
            "bin_start": 0.007700348082030779,
            "bin_end": 0.010258562984969239,
            "count": 0
           },
           {
            "bin_start": 0.010258562984969239,
            "bin_end": 0.012816777887907698,
            "count": 1
           },
           {
            "bin_start": 0.012816777887907698,
            "bin_end": 0.015374992790846158,
            "count": 0
           },
           {
            "bin_start": 0.015374992790846158,
            "bin_end": 0.01793320769378462,
            "count": 0
           },
           {
            "bin_start": 0.01793320769378462,
            "bin_end": 0.02049142259672308,
            "count": 0
           },
           {
            "bin_start": 0.02049142259672308,
            "bin_end": 0.02304963749966154,
            "count": 0
           },
           {
            "bin_start": 0.02304963749966154,
            "bin_end": 0.0256078524026,
            "count": 1
           }
          ]
         }
        },
        {
         "name": "android_sensor_step_counter_mean",
         "dtype": "float64",
         "stats": {
          "unique_count": 1,
          "nan_count": 4,
          "min": "28966.0",
          "max": "28966.0",
          "histogram": [
           {
            "bin_start": 28965.5,
            "bin_end": 28965.6,
            "count": 0
           },
           {
            "bin_start": 28965.6,
            "bin_end": 28965.7,
            "count": 0
           },
           {
            "bin_start": 28965.7,
            "bin_end": 28965.8,
            "count": 0
           },
           {
            "bin_start": 28965.8,
            "bin_end": 28965.9,
            "count": 0
           },
           {
            "bin_start": 28965.9,
            "bin_end": 28966,
            "count": 0
           },
           {
            "bin_start": 28966,
            "bin_end": 28966.1,
            "count": 1
           },
           {
            "bin_start": 28966.1,
            "bin_end": 28966.2,
            "count": 0
           },
           {
            "bin_start": 28966.2,
            "bin_end": 28966.3,
            "count": 0
           },
           {
            "bin_start": 28966.3,
            "bin_end": 28966.4,
            "count": 0
           },
           {
            "bin_start": 28966.4,
            "bin_end": 28966.5,
            "count": 0
           }
          ]
         }
        },
        {
         "name": "android_sensor_step_counter_min",
         "dtype": "float64",
         "stats": {
          "unique_count": 1,
          "nan_count": 4,
          "min": "28966.0",
          "max": "28966.0",
          "histogram": [
           {
            "bin_start": 28965.5,
            "bin_end": 28965.6,
            "count": 0
           },
           {
            "bin_start": 28965.6,
            "bin_end": 28965.7,
            "count": 0
           },
           {
            "bin_start": 28965.7,
            "bin_end": 28965.8,
            "count": 0
           },
           {
            "bin_start": 28965.8,
            "bin_end": 28965.9,
            "count": 0
           },
           {
            "bin_start": 28965.9,
            "bin_end": 28966,
            "count": 0
           },
           {
            "bin_start": 28966,
            "bin_end": 28966.1,
            "count": 1
           },
           {
            "bin_start": 28966.1,
            "bin_end": 28966.2,
            "count": 0
           },
           {
            "bin_start": 28966.2,
            "bin_end": 28966.3,
            "count": 0
           },
           {
            "bin_start": 28966.3,
            "bin_end": 28966.4,
            "count": 0
           },
           {
            "bin_start": 28966.4,
            "bin_end": 28966.5,
            "count": 0
           }
          ]
         }
        },
        {
         "name": "android_sensor_step_counter_max",
         "dtype": "float64",
         "stats": {
          "unique_count": 1,
          "nan_count": 4,
          "min": "28966.0",
          "max": "28966.0",
          "histogram": [
           {
            "bin_start": 28965.5,
            "bin_end": 28965.6,
            "count": 0
           },
           {
            "bin_start": 28965.6,
            "bin_end": 28965.7,
            "count": 0
           },
           {
            "bin_start": 28965.7,
            "bin_end": 28965.8,
            "count": 0
           },
           {
            "bin_start": 28965.8,
            "bin_end": 28965.9,
            "count": 0
           },
           {
            "bin_start": 28965.9,
            "bin_end": 28966,
            "count": 0
           },
           {
            "bin_start": 28966,
            "bin_end": 28966.1,
            "count": 1
           },
           {
            "bin_start": 28966.1,
            "bin_end": 28966.2,
            "count": 0
           },
           {
            "bin_start": 28966.2,
            "bin_end": 28966.3,
            "count": 0
           },
           {
            "bin_start": 28966.3,
            "bin_end": 28966.4,
            "count": 0
           },
           {
            "bin_start": 28966.4,
            "bin_end": 28966.5,
            "count": 0
           }
          ]
         }
        },
        {
         "name": "android_sensor_step_counter_std",
         "dtype": "float64",
         "stats": {
          "unique_count": 0,
          "nan_count": 5,
          "min": null,
          "max": null,
          "histogram": [
           {
            "bin_start": 0,
            "bin_end": 0.1,
            "count": 0
           },
           {
            "bin_start": 0.1,
            "bin_end": 0.2,
            "count": 0
           },
           {
            "bin_start": 0.2,
            "bin_end": 0.30000000000000004,
            "count": 0
           },
           {
            "bin_start": 0.30000000000000004,
            "bin_end": 0.4,
            "count": 0
           },
           {
            "bin_start": 0.4,
            "bin_end": 0.5,
            "count": 0
           },
           {
            "bin_start": 0.5,
            "bin_end": 0.6000000000000001,
            "count": 0
           },
           {
            "bin_start": 0.6000000000000001,
            "bin_end": 0.7000000000000001,
            "count": 0
           },
           {
            "bin_start": 0.7000000000000001,
            "bin_end": 0.8,
            "count": 0
           },
           {
            "bin_start": 0.8,
            "bin_end": 0.9,
            "count": 0
           },
           {
            "bin_start": 0.9,
            "bin_end": 1,
            "count": 0
           }
          ]
         }
        },
        {
         "name": "sound_mean",
         "dtype": "float64",
         "stats": {
          "unique_count": 3,
          "nan_count": 2,
          "min": "87.4703770994",
          "max": "89.770732316",
          "histogram": [
           {
            "bin_start": 87.4703770994,
            "bin_end": 87.70041262106,
            "count": 1
           },
           {
            "bin_start": 87.70041262106,
            "bin_end": 87.93044814272,
            "count": 0
           },
           {
            "bin_start": 87.93044814272,
            "bin_end": 88.16048366438,
            "count": 0
           },
           {
            "bin_start": 88.16048366438,
            "bin_end": 88.39051918604,
            "count": 0
           },
           {
            "bin_start": 88.39051918604,
            "bin_end": 88.6205547077,
            "count": 0
           },
           {
            "bin_start": 88.6205547077,
            "bin_end": 88.85059022936,
            "count": 0
           },
           {
            "bin_start": 88.85059022936,
            "bin_end": 89.08062575102,
            "count": 0
           },
           {
            "bin_start": 89.08062575102,
            "bin_end": 89.31066127268,
            "count": 1
           },
           {
            "bin_start": 89.31066127268,
            "bin_end": 89.54069679434,
            "count": 0
           },
           {
            "bin_start": 89.54069679434,
            "bin_end": 89.770732316,
            "count": 1
           }
          ]
         }
        },
        {
         "name": "sound_min",
         "dtype": "float64",
         "stats": {
          "unique_count": 3,
          "nan_count": 2,
          "min": "87.4703770994",
          "max": "89.770732316",
          "histogram": [
           {
            "bin_start": 87.4703770994,
            "bin_end": 87.70041262106,
            "count": 1
           },
           {
            "bin_start": 87.70041262106,
            "bin_end": 87.93044814272,
            "count": 0
           },
           {
            "bin_start": 87.93044814272,
            "bin_end": 88.16048366438,
            "count": 0
           },
           {
            "bin_start": 88.16048366438,
            "bin_end": 88.39051918604,
            "count": 0
           },
           {
            "bin_start": 88.39051918604,
            "bin_end": 88.6205547077,
            "count": 0
           },
           {
            "bin_start": 88.6205547077,
            "bin_end": 88.85059022936,
            "count": 0
           },
           {
            "bin_start": 88.85059022936,
            "bin_end": 89.08062575102,
            "count": 1
           },
           {
            "bin_start": 89.08062575102,
            "bin_end": 89.31066127268,
            "count": 0
           },
           {
            "bin_start": 89.31066127268,
            "bin_end": 89.54069679434,
            "count": 0
           },
           {
            "bin_start": 89.54069679434,
            "bin_end": 89.770732316,
            "count": 1
           }
          ]
         }
        },
        {
         "name": "sound_max",
         "dtype": "float64",
         "stats": {
          "unique_count": 3,
          "nan_count": 2,
          "min": "87.4703770994",
          "max": "89.770732316",
          "histogram": [
           {
            "bin_start": 87.4703770994,
            "bin_end": 87.70041262106,
            "count": 1
           },
           {
            "bin_start": 87.70041262106,
            "bin_end": 87.93044814272,
            "count": 0
           },
           {
            "bin_start": 87.93044814272,
            "bin_end": 88.16048366438,
            "count": 0
           },
           {
            "bin_start": 88.16048366438,
            "bin_end": 88.39051918604,
            "count": 0
           },
           {
            "bin_start": 88.39051918604,
            "bin_end": 88.6205547077,
            "count": 0
           },
           {
            "bin_start": 88.6205547077,
            "bin_end": 88.85059022936,
            "count": 0
           },
           {
            "bin_start": 88.85059022936,
            "bin_end": 89.08062575102,
            "count": 0
           },
           {
            "bin_start": 89.08062575102,
            "bin_end": 89.31066127268,
            "count": 0
           },
           {
            "bin_start": 89.31066127268,
            "bin_end": 89.54069679434,
            "count": 1
           },
           {
            "bin_start": 89.54069679434,
            "bin_end": 89.770732316,
            "count": 1
           }
          ]
         }
        },
        {
         "name": "sound_std",
         "dtype": "float64",
         "stats": {
          "unique_count": 3,
          "nan_count": 2,
          "min": "0.00638923521873",
          "max": "2.28418636125",
          "histogram": [
           {
            "bin_start": 0.00638923521873,
            "bin_end": 0.23416894782185704,
            "count": 2
           },
           {
            "bin_start": 0.23416894782185704,
            "bin_end": 0.4619486604249841,
            "count": 0
           },
           {
            "bin_start": 0.4619486604249841,
            "bin_end": 0.6897283730281112,
            "count": 0
           },
           {
            "bin_start": 0.6897283730281112,
            "bin_end": 0.9175080856312382,
            "count": 0
           },
           {
            "bin_start": 0.9175080856312382,
            "bin_end": 1.1452877982343652,
            "count": 0
           },
           {
            "bin_start": 1.1452877982343652,
            "bin_end": 1.3730675108374923,
            "count": 0
           },
           {
            "bin_start": 1.3730675108374923,
            "bin_end": 1.6008472234406192,
            "count": 0
           },
           {
            "bin_start": 1.6008472234406192,
            "bin_end": 1.8286269360437464,
            "count": 0
           },
           {
            "bin_start": 1.8286269360437464,
            "bin_end": 2.056406648646873,
            "count": 0
           },
           {
            "bin_start": 2.056406648646873,
            "bin_end": 2.28418636125,
            "count": 1
           }
          ]
         }
        },
        {
         "name": "speed_mean",
         "dtype": "float64",
         "stats": {
          "unique_count": 4,
          "nan_count": 0,
          "min": "0.0",
          "max": "17.739895",
          "histogram": [
           {
            "bin_start": 0,
            "bin_end": 1.7739895,
            "count": 2
           },
           {
            "bin_start": 1.7739895,
            "bin_end": 3.547979,
            "count": 0
           },
           {
            "bin_start": 3.547979,
            "bin_end": 5.3219685000000005,
            "count": 0
           },
           {
            "bin_start": 5.3219685000000005,
            "bin_end": 7.095958,
            "count": 0
           },
           {
            "bin_start": 7.095958,
            "bin_end": 8.8699475,
            "count": 0
           },
           {
            "bin_start": 8.8699475,
            "bin_end": 10.643937000000001,
            "count": 1
           },
           {
            "bin_start": 10.643937000000001,
            "bin_end": 12.4179265,
            "count": 0
           },
           {
            "bin_start": 12.4179265,
            "bin_end": 14.191916,
            "count": 0
           },
           {
            "bin_start": 14.191916,
            "bin_end": 15.965905500000002,
            "count": 0
           },
           {
            "bin_start": 15.965905500000002,
            "bin_end": 17.739895,
            "count": 2
           }
          ]
         }
        },
        {
         "name": "speed_min",
         "dtype": "float64",
         "stats": {
          "unique_count": 4,
          "nan_count": 0,
          "min": "0.0",
          "max": "17.739895",
          "histogram": [
           {
            "bin_start": 0,
            "bin_end": 1.7739895,
            "count": 2
           },
           {
            "bin_start": 1.7739895,
            "bin_end": 3.547979,
            "count": 0
           },
           {
            "bin_start": 3.547979,
            "bin_end": 5.3219685000000005,
            "count": 0
           },
           {
            "bin_start": 5.3219685000000005,
            "bin_end": 7.095958,
            "count": 0
           },
           {
            "bin_start": 7.095958,
            "bin_end": 8.8699475,
            "count": 0
           },
           {
            "bin_start": 8.8699475,
            "bin_end": 10.643937000000001,
            "count": 1
           },
           {
            "bin_start": 10.643937000000001,
            "bin_end": 12.4179265,
            "count": 0
           },
           {
            "bin_start": 12.4179265,
            "bin_end": 14.191916,
            "count": 0
           },
           {
            "bin_start": 14.191916,
            "bin_end": 15.965905500000002,
            "count": 0
           },
           {
            "bin_start": 15.965905500000002,
            "bin_end": 17.739895,
            "count": 2
           }
          ]
         }
        },
        {
         "name": "speed_max",
         "dtype": "float64",
         "stats": {
          "unique_count": 4,
          "nan_count": 0,
          "min": "0.0",
          "max": "17.739895",
          "histogram": [
           {
            "bin_start": 0,
            "bin_end": 1.7739895,
            "count": 2
           },
           {
            "bin_start": 1.7739895,
            "bin_end": 3.547979,
            "count": 0
           },
           {
            "bin_start": 3.547979,
            "bin_end": 5.3219685000000005,
            "count": 0
           },
           {
            "bin_start": 5.3219685000000005,
            "bin_end": 7.095958,
            "count": 0
           },
           {
            "bin_start": 7.095958,
            "bin_end": 8.8699475,
            "count": 0
           },
           {
            "bin_start": 8.8699475,
            "bin_end": 10.643937000000001,
            "count": 1
           },
           {
            "bin_start": 10.643937000000001,
            "bin_end": 12.4179265,
            "count": 0
           },
           {
            "bin_start": 12.4179265,
            "bin_end": 14.191916,
            "count": 0
           },
           {
            "bin_start": 14.191916,
            "bin_end": 15.965905500000002,
            "count": 0
           },
           {
            "bin_start": 15.965905500000002,
            "bin_end": 17.739895,
            "count": 2
           }
          ]
         }
        },
        {
         "name": "speed_std",
         "dtype": "float64",
         "stats": {
          "unique_count": 2,
          "nan_count": 1,
          "min": "0.0",
          "max": "0.628594593951",
          "histogram": [
           {
            "bin_start": 0,
            "bin_end": 0.0628594593951,
            "count": 2
           },
           {
            "bin_start": 0.0628594593951,
            "bin_end": 0.1257189187902,
            "count": 0
           },
           {
            "bin_start": 0.1257189187902,
            "bin_end": 0.1885783781853,
            "count": 0
           },
           {
            "bin_start": 0.1885783781853,
            "bin_end": 0.2514378375804,
            "count": 0
           },
           {
            "bin_start": 0.2514378375804,
            "bin_end": 0.3142972969755,
            "count": 0
           },
           {
            "bin_start": 0.3142972969755,
            "bin_end": 0.3771567563706,
            "count": 0
           },
           {
            "bin_start": 0.3771567563706,
            "bin_end": 0.4400162157657,
            "count": 0
           },
           {
            "bin_start": 0.4400162157657,
            "bin_end": 0.5028756751608,
            "count": 0
           },
           {
            "bin_start": 0.5028756751608,
            "bin_end": 0.5657351345559,
            "count": 0
           },
           {
            "bin_start": 0.5657351345559,
            "bin_end": 0.628594593951,
            "count": 2
           }
          ]
         }
        },
        {
         "name": "target",
         "dtype": "object",
         "stats": {
          "unique_count": 2,
          "nan_count": 0,
          "categories": [
           {
            "name": "Car",
            "count": 3
           },
           {
            "name": "Still",
            "count": 2
           }
          ]
         }
        },
        {
         "name": "user",
         "dtype": "object",
         "stats": {
          "unique_count": 2,
          "nan_count": 0,
          "categories": [
           {
            "name": "Luca",
            "count": 4
           },
           {
            "name": "andrea",
            "count": 1
           }
          ]
         }
        },
        {
         "name": "_deepnote_index_column",
         "dtype": "int64"
        }
       ],
       "rows_top": [
        {
         "id": 16170,
         "time": 78,
         "activityrecognition_0": "nan",
         "activityrecognition_1": 100,
         "android_sensor_accelerometer_mean": 9.81147629156,
         "android_sensor_accelerometer_min": 9.75889547269,
         "android_sensor_accelerometer_max": 9.84941095639,
         "android_sensor_accelerometer_std": 0.0146255073331,
         "android_sensor_game_rotation_vector_mean": 0.0293404701347,
         "android_sensor_game_rotation_vector_min": 0.0290141820322,
         "android_sensor_game_rotation_vector_max": 0.0295264272136,
         "android_sensor_game_rotation_vector_std": 0.00011870091454,
         "android_sensor_gravity_mean": 9.80665014968,
         "android_sensor_gravity_min": 9.80664908184,
         "android_sensor_gravity_max": 9.80665101272,
         "android_sensor_gravity_std": 4.78069230071e-7,
         "android_sensor_gyroscope_mean": 0.00165077522136,
         "android_sensor_gyroscope_min": 0,
         "android_sensor_gyroscope_max": 0.00353308255853,
         "android_sensor_gyroscope_std": 0.000736963641413,
         "android_sensor_gyroscope_uncalibrated_mean": 0.0162213599906,
         "android_sensor_gyroscope_uncalibrated_min": 0.0141724221314,
         "android_sensor_gyroscope_uncalibrated_max": 0.0186953157594,
         "android_sensor_gyroscope_uncalibrated_std": 0.000981864545925,
         "android_sensor_light_mean": 0,
         "android_sensor_light_min": 0,
         "android_sensor_light_max": 0,
         "android_sensor_light_std": "0.0",
         "android_sensor_linear_acceleration_mean": 0.0209778383629,
         "android_sensor_linear_acceleration_min": 0.00249536633909,
         "android_sensor_linear_acceleration_max": 0.0524095823954,
         "android_sensor_linear_acceleration_std": 0.0110446872158,
         "android_sensor_magnetic_field_mean": 57.0996378983,
         "android_sensor_magnetic_field_min": 56.6903871922,
         "android_sensor_magnetic_field_max": 57.5759501429,
         "android_sensor_magnetic_field_std": 0.177548772376,
         "android_sensor_magnetic_field_uncalibrated_mean": 51.3635659024,
         "android_sensor_magnetic_field_uncalibrated_min": 51.1997072531,
         "android_sensor_magnetic_field_uncalibrated_max": 51.5392083783,
         "android_sensor_magnetic_field_uncalibrated_std": 0.08089925898,
         "android_sensor_orientation_mean": 354.286933099,
         "android_sensor_orientation_min": 353.598334711,
         "android_sensor_orientation_max": 354.942707018,
         "android_sensor_orientation_std": 0.2456763287,
         "android_sensor_pressure_mean": "1004.09026074",
         "android_sensor_pressure_min": "1004.0554",
         "android_sensor_pressure_max": "1004.1279",
         "android_sensor_pressure_std": "0.0174157640628",
         "android_sensor_proximity_mean": "8.0",
         "android_sensor_proximity_min": "8.0",
         "android_sensor_proximity_max": "8.0",
         "android_sensor_proximity_std": "nan",
         "android_sensor_rotation_vector_mean": 0.050413140269,
         "android_sensor_rotation_vector_min": 0.0447771592556,
         "android_sensor_rotation_vector_max": 0.0563513538347,
         "android_sensor_rotation_vector_std": 0.00210922613983,
         "android_sensor_step_counter_mean": "28966.0",
         "android_sensor_step_counter_min": "28966.0",
         "android_sensor_step_counter_max": "28966.0",
         "android_sensor_step_counter_std": "nan",
         "sound_mean": "nan",
         "sound_min": "nan",
         "sound_max": "nan",
         "sound_std": "nan",
         "speed_mean": 0,
         "speed_min": 0,
         "speed_max": 0,
         "speed_std": "0.0",
         "target": "Still",
         "user": "Luca",
         "_deepnote_index_column": 0
        },
        {
         "id": 15871,
         "time": 145,
         "activityrecognition_0": "nan",
         "activityrecognition_1": 100,
         "android_sensor_accelerometer_mean": 9.93920678262,
         "android_sensor_accelerometer_min": 7.70743742161,
         "android_sensor_accelerometer_max": 17.1466311902,
         "android_sensor_accelerometer_std": 1.7759442967,
         "android_sensor_game_rotation_vector_mean": 0.999924605824,
         "android_sensor_game_rotation_vector_min": 0.99990333472,
         "android_sensor_game_rotation_vector_max": 0.999945876927,
         "android_sensor_game_rotation_vector_std": 0.0000300818830563,
         "android_sensor_gravity_mean": 9.80662395218,
         "android_sensor_gravity_min": 9.80662395218,
         "android_sensor_gravity_max": 9.80662395218,
         "android_sensor_gravity_std": 6.47497680352e-7,
         "android_sensor_gyroscope_mean": 0.0363257142488,
         "android_sensor_gyroscope_min": 0.0116693879272,
         "android_sensor_gyroscope_max": 0.0593878960242,
         "android_sensor_gyroscope_std": 0.0202897002181,
         "android_sensor_gyroscope_uncalibrated_mean": 0.0390225389502,
         "android_sensor_gyroscope_uncalibrated_min": 0.0141323301437,
         "android_sensor_gyroscope_uncalibrated_max": 0.0854936945061,
         "android_sensor_gyroscope_uncalibrated_std": 0.01862939992,
         "android_sensor_light_mean": 0,
         "android_sensor_light_min": 0,
         "android_sensor_light_max": 0,
         "android_sensor_light_std": "nan",
         "android_sensor_linear_acceleration_mean": 0.879220182554,
         "android_sensor_linear_acceleration_min": 0.641116952922,
         "android_sensor_linear_acceleration_max": 1.18580992175,
         "android_sensor_linear_acceleration_std": 0.278729993124,
         "android_sensor_magnetic_field_mean": 29.3512875433,
         "android_sensor_magnetic_field_min": 28.1725051708,
         "android_sensor_magnetic_field_max": 30.3860165208,
         "android_sensor_magnetic_field_std": 0.921547089535,
         "android_sensor_magnetic_field_uncalibrated_mean": 82.7677601815,
         "android_sensor_magnetic_field_uncalibrated_min": 82.4098901832,
         "android_sensor_magnetic_field_uncalibrated_max": 83.1256301799,
         "android_sensor_magnetic_field_uncalibrated_std": 0.506104605233,
         "android_sensor_orientation_mean": 332.695576665,
         "android_sensor_orientation_min": 330.461053684,
         "android_sensor_orientation_max": 339.108607447,
         "android_sensor_orientation_std": 1.70581619737,
         "android_sensor_pressure_mean": "1008.27466",
         "android_sensor_pressure_min": "1008.27466",
         "android_sensor_pressure_max": "1008.27466",
         "android_sensor_pressure_std": "nan",
         "android_sensor_proximity_mean": "nan",
         "android_sensor_proximity_min": "nan",
         "android_sensor_proximity_max": "nan",
         "android_sensor_proximity_std": "nan",
         "android_sensor_rotation_vector_mean": 0.999981228739,
         "android_sensor_rotation_vector_min": 0.999963053709,
         "android_sensor_rotation_vector_max": 0.999999403768,
         "android_sensor_rotation_vector_std": 0.0000257033732154,
         "android_sensor_step_counter_mean": "nan",
         "android_sensor_step_counter_min": "nan",
         "android_sensor_step_counter_max": "nan",
         "android_sensor_step_counter_std": "nan",
         "sound_mean": "89.200210191",
         "sound_min": "89.06514335",
         "sound_max": "89.3352770319",
         "sound_std": "0.191013358299",
         "speed_mean": 16.539349,
         "speed_min": 16.539349,
         "speed_max": 16.539349,
         "speed_std": "0.628594593951",
         "target": "Car",
         "user": "Luca",
         "_deepnote_index_column": 1
        },
        {
         "id": 16811,
         "time": 150,
         "activityrecognition_0": "nan",
         "activityrecognition_1": 100,
         "android_sensor_accelerometer_mean": 9.82717783631,
         "android_sensor_accelerometer_min": 9.80481712742,
         "android_sensor_accelerometer_max": 9.84926211274,
         "android_sensor_accelerometer_std": 0.0111991059917,
         "android_sensor_game_rotation_vector_mean": 0.665215406868,
         "android_sensor_game_rotation_vector_min": 0.665212600816,
         "android_sensor_game_rotation_vector_max": 0.665218212919,
         "android_sensor_game_rotation_vector_std": 0.00000396835608801,
         "android_sensor_gravity_mean": 9.80665022401,
         "android_sensor_gravity_min": 9.80665002449,
         "android_sensor_gravity_max": 9.80665042352,
         "android_sensor_gravity_std": 2.82156820261e-7,
         "android_sensor_gyroscope_mean": 0.00152461653211,
         "android_sensor_gyroscope_min": 0,
         "android_sensor_gyroscope_max": 0.0026093544661,
         "android_sensor_gyroscope_std": 0.000712700740663,
         "android_sensor_gyroscope_uncalibrated_mean": 0.016301566129,
         "android_sensor_gyroscope_uncalibrated_min": 0.0146449655465,
         "android_sensor_gyroscope_uncalibrated_max": 0.0173739375996,
         "android_sensor_gyroscope_uncalibrated_std": 0.000875953734805,
         "android_sensor_light_mean": 2,
         "android_sensor_light_min": 2,
         "android_sensor_light_max": 2,
         "android_sensor_light_std": "0.707106781187",
         "android_sensor_linear_acceleration_mean": 0.0341102311454,
         "android_sensor_linear_acceleration_min": 0.0257091365417,
         "android_sensor_linear_acceleration_max": 0.0425113257492,
         "android_sensor_linear_acceleration_std": 0.0118809419274,
         "android_sensor_magnetic_field_mean": 29.904926993,
         "android_sensor_magnetic_field_min": 29.7417215373,
         "android_sensor_magnetic_field_max": 30.0383088738,
         "android_sensor_magnetic_field_std": 0.130851298779,
         "android_sensor_magnetic_field_uncalibrated_mean": 55.6957163835,
         "android_sensor_magnetic_field_uncalibrated_min": 55.5018017726,
         "android_sensor_magnetic_field_uncalibrated_max": 55.8685063341,
         "android_sensor_magnetic_field_uncalibrated_std": 0.128945251661,
         "android_sensor_orientation_mean": 74.7526531434,
         "android_sensor_orientation_min": 73.2234934719,
         "android_sensor_orientation_max": 75.2685742895,
         "android_sensor_orientation_std": 0.413704157311,
         "android_sensor_pressure_mean": "1005.97754",
         "android_sensor_pressure_min": "1005.97754",
         "android_sensor_pressure_max": "1005.97754",
         "android_sensor_pressure_std": "nan",
         "android_sensor_proximity_mean": "8.0",
         "android_sensor_proximity_min": "8.0",
         "android_sensor_proximity_max": "8.0",
         "android_sensor_proximity_std": "nan",
         "android_sensor_rotation_vector_mean": 0.610456220789,
         "android_sensor_rotation_vector_min": 0.610456220789,
         "android_sensor_rotation_vector_max": 0.610456220789,
         "android_sensor_rotation_vector_std": 0.0113123358202,
         "android_sensor_step_counter_mean": "nan",
         "android_sensor_step_counter_min": "nan",
         "android_sensor_step_counter_max": "nan",
         "android_sensor_step_counter_std": "nan",
         "sound_mean": "nan",
         "sound_min": "nan",
         "sound_max": "nan",
         "sound_std": "nan",
         "speed_mean": 0,
         "speed_min": 0,
         "speed_max": 0,
         "speed_std": "0.0",
         "target": "Still",
         "user": "Luca",
         "_deepnote_index_column": 2
        },
        {
         "id": 15831,
         "time": 105,
         "activityrecognition_0": "nan",
         "activityrecognition_1": 77,
         "android_sensor_accelerometer_mean": 9.67303911332,
         "android_sensor_accelerometer_min": 7.65967372861,
         "android_sensor_accelerometer_max": 12.3042975935,
         "android_sensor_accelerometer_std": 0.862553258429,
         "android_sensor_game_rotation_vector_mean": 0.996220934012,
         "android_sensor_game_rotation_vector_min": 0.993780916194,
         "android_sensor_game_rotation_vector_max": 0.99866095183,
         "android_sensor_game_rotation_vector_std": 0.00345070629065,
         "android_sensor_gravity_mean": 9.80663764374,
         "android_sensor_gravity_min": 9.80663764374,
         "android_sensor_gravity_max": 9.80663764374,
         "android_sensor_gravity_std": 0.00000212056373828,
         "android_sensor_gyroscope_mean": 0.0364403150565,
         "android_sensor_gyroscope_min": 0.0204630617713,
         "android_sensor_gyroscope_max": 0.0525122451551,
         "android_sensor_gyroscope_std": 0.0105527726211,
         "android_sensor_gyroscope_uncalibrated_mean": 0.0507587448203,
         "android_sensor_gyroscope_uncalibrated_min": 0.0247315778968,
         "android_sensor_gyroscope_uncalibrated_max": 0.0818868991653,
         "android_sensor_gyroscope_uncalibrated_std": 0.018036503333,
         "android_sensor_light_mean": 0,
         "android_sensor_light_min": 0,
         "android_sensor_light_max": 0,
         "android_sensor_light_std": "nan",
         "android_sensor_linear_acceleration_mean": 1.48836057989,
         "android_sensor_linear_acceleration_min": 0.575910313171,
         "android_sensor_linear_acceleration_max": 2.41587896373,
         "android_sensor_linear_acceleration_std": 0.920076869003,
         "android_sensor_magnetic_field_mean": 37.8364706079,
         "android_sensor_magnetic_field_min": 37.52572451,
         "android_sensor_magnetic_field_max": 38.1472167058,
         "android_sensor_magnetic_field_std": 0.439461346105,
         "android_sensor_magnetic_field_uncalibrated_mean": 95.7438206305,
         "android_sensor_magnetic_field_uncalibrated_min": 95.6643091367,
         "android_sensor_magnetic_field_uncalibrated_max": 95.8233321243,
         "android_sensor_magnetic_field_uncalibrated_std": 0.112446232897,
         "android_sensor_orientation_mean": 373.556039427,
         "android_sensor_orientation_min": 359.897249748,
         "android_sensor_orientation_max": 397.071741295,
         "android_sensor_orientation_std": 8.87001056741,
         "android_sensor_pressure_mean": "1006.95044",
         "android_sensor_pressure_min": "1006.95044",
         "android_sensor_pressure_max": "1006.95044",
         "android_sensor_pressure_std": "nan",
         "android_sensor_proximity_mean": "nan",
         "android_sensor_proximity_min": "nan",
         "android_sensor_proximity_max": "nan",
         "android_sensor_proximity_std": "nan",
         "android_sensor_rotation_vector_mean": 0.998112317214,
         "android_sensor_rotation_vector_min": 0.998112317214,
         "android_sensor_rotation_vector_max": 0.998112317214,
         "android_sensor_rotation_vector_std": 0.00278751762314,
         "android_sensor_step_counter_mean": "nan",
         "android_sensor_step_counter_min": "nan",
         "android_sensor_step_counter_max": "nan",
         "android_sensor_step_counter_std": "nan",
         "sound_mean": "87.4703770994",
         "sound_min": "87.4703770994",
         "sound_max": "87.4703770994",
         "sound_std": "2.28418636125",
         "speed_mean": 17.739895,
         "speed_min": 17.739895,
         "speed_max": 17.739895,
         "speed_std": "0.628594593951",
         "target": "Car",
         "user": "Luca",
         "_deepnote_index_column": 3
        },
        {
         "id": 876,
         "time": 77,
         "activityrecognition_0": "nan",
         "activityrecognition_1": 100,
         "android_sensor_accelerometer_mean": 9.99346632118,
         "android_sensor_accelerometer_min": 8.96562096134,
         "android_sensor_accelerometer_max": 10.8916451194,
         "android_sensor_accelerometer_std": 0.504117059576,
         "android_sensor_game_rotation_vector_mean": 0.563791884308,
         "android_sensor_game_rotation_vector_min": 0.521799103987,
         "android_sensor_game_rotation_vector_max": 0.672663744621,
         "android_sensor_game_rotation_vector_std": 0.0647921318639,
         "android_sensor_gravity_mean": 9.8066501563,
         "android_sensor_gravity_min": 9.80664966214,
         "android_sensor_gravity_max": 9.80665053121,
         "android_sensor_gravity_std": 2.64443011405e-7,
         "android_sensor_gyroscope_mean": 0.183202097809,
         "android_sensor_gyroscope_min": 0.0206668572373,
         "android_sensor_gyroscope_max": 0.380875066732,
         "android_sensor_gyroscope_std": 0.0988191384778,
         "android_sensor_gyroscope_uncalibrated_mean": 0.265652184888,
         "android_sensor_gyroscope_uncalibrated_min": 0.141208498859,
         "android_sensor_gyroscope_uncalibrated_max": 0.313019733394,
         "android_sensor_gyroscope_uncalibrated_std": 0.0831748152281,
         "android_sensor_light_mean": 30,
         "android_sensor_light_min": 30,
         "android_sensor_light_max": 30,
         "android_sensor_light_std": "39.5979797464",
         "android_sensor_linear_acceleration_mean": 1.65830750209,
         "android_sensor_linear_acceleration_min": 0.379803005713,
         "android_sensor_linear_acceleration_max": 2.7959953197,
         "android_sensor_linear_acceleration_std": 1.1222254603,
         "android_sensor_magnetic_field_mean": 78.37571835,
         "android_sensor_magnetic_field_min": 76.5432606086,
         "android_sensor_magnetic_field_max": 79.2737394335,
         "android_sensor_magnetic_field_std": 1.10436115049,
         "android_sensor_magnetic_field_uncalibrated_mean": 157.42921752,
         "android_sensor_magnetic_field_uncalibrated_min": 156.79590908,
         "android_sensor_magnetic_field_uncalibrated_max": 158.06252596,
         "android_sensor_magnetic_field_uncalibrated_std": 0.895633385013,
         "android_sensor_orientation_mean": 193.201458416,
         "android_sensor_orientation_min": 35.864971592,
         "android_sensor_orientation_max": 360.560467727,
         "android_sensor_orientation_std": 181.729454699,
         "android_sensor_pressure_mean": "nan",
         "android_sensor_pressure_min": "nan",
         "android_sensor_pressure_max": "nan",
         "android_sensor_pressure_std": "nan",
         "android_sensor_proximity_mean": "nan",
         "android_sensor_proximity_min": "nan",
         "android_sensor_proximity_max": "nan",
         "android_sensor_proximity_std": "nan",
         "android_sensor_rotation_vector_mean": 0.322241915004,
         "android_sensor_rotation_vector_min": 0.308054844036,
         "android_sensor_rotation_vector_max": 0.378193174062,
         "android_sensor_rotation_vector_std": 0.0256078524026,
         "android_sensor_step_counter_mean": "nan",
         "android_sensor_step_counter_min": "nan",
         "android_sensor_step_counter_max": "nan",
         "android_sensor_step_counter_std": "nan",
         "sound_mean": "89.770732316",
         "sound_min": "89.770732316",
         "sound_max": "89.770732316",
         "sound_std": "0.00638923521873",
         "speed_mean": 9,
         "speed_min": 9,
         "speed_max": 9,
         "speed_std": "nan",
         "target": "Car",
         "user": "andrea",
         "_deepnote_index_column": 4
        }
       ],
       "rows_bottom": null
      },
      "text/plain": "      id   time  activityrecognition_0  activityrecognition_1  \\\n0  16170   78.0                    NaN                  100.0   \n1  15871  145.0                    NaN                  100.0   \n2  16811  150.0                    NaN                  100.0   \n3  15831  105.0                    NaN                   77.0   \n4    876   77.0                    NaN                  100.0   \n\n   android_sensor_accelerometer_mean  android_sensor_accelerometer_min  \\\n0                           9.811476                          9.758895   \n1                           9.939207                          7.707437   \n2                           9.827178                          9.804817   \n3                           9.673039                          7.659674   \n4                           9.993466                          8.965621   \n\n   android_sensor_accelerometer_max  android_sensor_accelerometer_std  \\\n0                          9.849411                          0.014626   \n1                         17.146631                          1.775944   \n2                          9.849262                          0.011199   \n3                         12.304298                          0.862553   \n4                         10.891645                          0.504117   \n\n   android_sensor_game_rotation_vector_mean  \\\n0                                  0.029340   \n1                                  0.999925   \n2                                  0.665215   \n3                                  0.996221   \n4                                  0.563792   \n\n   android_sensor_game_rotation_vector_min  ...  sound_mean  sound_min  \\\n0                                 0.029014  ...         NaN        NaN   \n1                                 0.999903  ...   89.200210  89.065143   \n2                                 0.665213  ...         NaN        NaN   \n3                                 0.993781  ...   87.470377  87.470377   \n4                                 0.521799  ...   89.770732  89.770732   \n\n   sound_max  sound_std  speed_mean  speed_min  speed_max  speed_std  target  \\\n0        NaN        NaN    0.000000   0.000000   0.000000   0.000000   Still   \n1  89.335277   0.191013   16.539349  16.539349  16.539349   0.628595     Car   \n2        NaN        NaN    0.000000   0.000000   0.000000   0.000000   Still   \n3  87.470377   2.284186   17.739895  17.739895  17.739895   0.628595     Car   \n4  89.770732   0.006389    9.000000   9.000000   9.000000        NaN     Car   \n\n     user  \n0    Luca  \n1    Luca  \n2    Luca  \n3    Luca  \n4  andrea  \n\n[5 rows x 70 columns]",
      "text/html": "<div>\n<style scoped>\n    .dataframe tbody tr th:only-of-type {\n        vertical-align: middle;\n    }\n\n    .dataframe tbody tr th {\n        vertical-align: top;\n    }\n\n    .dataframe thead th {\n        text-align: right;\n    }\n</style>\n<table border=\"1\" class=\"dataframe\">\n  <thead>\n    <tr style=\"text-align: right;\">\n      <th></th>\n      <th>id</th>\n      <th>time</th>\n      <th>activityrecognition_0</th>\n      <th>activityrecognition_1</th>\n      <th>android_sensor_accelerometer_mean</th>\n      <th>android_sensor_accelerometer_min</th>\n      <th>android_sensor_accelerometer_max</th>\n      <th>android_sensor_accelerometer_std</th>\n      <th>android_sensor_game_rotation_vector_mean</th>\n      <th>android_sensor_game_rotation_vector_min</th>\n      <th>...</th>\n      <th>sound_mean</th>\n      <th>sound_min</th>\n      <th>sound_max</th>\n      <th>sound_std</th>\n      <th>speed_mean</th>\n      <th>speed_min</th>\n      <th>speed_max</th>\n      <th>speed_std</th>\n      <th>target</th>\n      <th>user</th>\n    </tr>\n  </thead>\n  <tbody>\n    <tr>\n      <th>0</th>\n      <td>16170</td>\n      <td>78.0</td>\n      <td>NaN</td>\n      <td>100.0</td>\n      <td>9.811476</td>\n      <td>9.758895</td>\n      <td>9.849411</td>\n      <td>0.014626</td>\n      <td>0.029340</td>\n      <td>0.029014</td>\n      <td>...</td>\n      <td>NaN</td>\n      <td>NaN</td>\n      <td>NaN</td>\n      <td>NaN</td>\n      <td>0.000000</td>\n      <td>0.000000</td>\n      <td>0.000000</td>\n      <td>0.000000</td>\n      <td>Still</td>\n      <td>Luca</td>\n    </tr>\n    <tr>\n      <th>1</th>\n      <td>15871</td>\n      <td>145.0</td>\n      <td>NaN</td>\n      <td>100.0</td>\n      <td>9.939207</td>\n      <td>7.707437</td>\n      <td>17.146631</td>\n      <td>1.775944</td>\n      <td>0.999925</td>\n      <td>0.999903</td>\n      <td>...</td>\n      <td>89.200210</td>\n      <td>89.065143</td>\n      <td>89.335277</td>\n      <td>0.191013</td>\n      <td>16.539349</td>\n      <td>16.539349</td>\n      <td>16.539349</td>\n      <td>0.628595</td>\n      <td>Car</td>\n      <td>Luca</td>\n    </tr>\n    <tr>\n      <th>2</th>\n      <td>16811</td>\n      <td>150.0</td>\n      <td>NaN</td>\n      <td>100.0</td>\n      <td>9.827178</td>\n      <td>9.804817</td>\n      <td>9.849262</td>\n      <td>0.011199</td>\n      <td>0.665215</td>\n      <td>0.665213</td>\n      <td>...</td>\n      <td>NaN</td>\n      <td>NaN</td>\n      <td>NaN</td>\n      <td>NaN</td>\n      <td>0.000000</td>\n      <td>0.000000</td>\n      <td>0.000000</td>\n      <td>0.000000</td>\n      <td>Still</td>\n      <td>Luca</td>\n    </tr>\n    <tr>\n      <th>3</th>\n      <td>15831</td>\n      <td>105.0</td>\n      <td>NaN</td>\n      <td>77.0</td>\n      <td>9.673039</td>\n      <td>7.659674</td>\n      <td>12.304298</td>\n      <td>0.862553</td>\n      <td>0.996221</td>\n      <td>0.993781</td>\n      <td>...</td>\n      <td>87.470377</td>\n      <td>87.470377</td>\n      <td>87.470377</td>\n      <td>2.284186</td>\n      <td>17.739895</td>\n      <td>17.739895</td>\n      <td>17.739895</td>\n      <td>0.628595</td>\n      <td>Car</td>\n      <td>Luca</td>\n    </tr>\n    <tr>\n      <th>4</th>\n      <td>876</td>\n      <td>77.0</td>\n      <td>NaN</td>\n      <td>100.0</td>\n      <td>9.993466</td>\n      <td>8.965621</td>\n      <td>10.891645</td>\n      <td>0.504117</td>\n      <td>0.563792</td>\n      <td>0.521799</td>\n      <td>...</td>\n      <td>89.770732</td>\n      <td>89.770732</td>\n      <td>89.770732</td>\n      <td>0.006389</td>\n      <td>9.000000</td>\n      <td>9.000000</td>\n      <td>9.000000</td>\n      <td>NaN</td>\n      <td>Car</td>\n      <td>andrea</td>\n    </tr>\n  </tbody>\n</table>\n<p>5 rows × 70 columns</p>\n</div>"
     },
     "metadata": {}
    }
   ],
   "execution_count": 6
  },
  {
   "cell_type": "code",
   "source": "features=[\n'id',\n'user',\n'android_sensor_gyroscope_mean',\n'android_sensor_accelerometer_std',\n'android_sensor_gyroscope_std',\n'android_sensor_gyroscope_uncalibrated_mean',\n'android_sensor_accelerometer_max',\n'android_sensor_linear_acceleration_mean',\n'speed_mean',\n'android_sensor_rotation_vector_mean',\n'android_sensor_rotation_vector_max',\n'android_sensor_accelerometer_min',\n'android_sensor_magnetic_field_uncalibrated_min',\n'sound_min',\n'target'\n]",
   "metadata": {
    "tags": [],
    "cell_id": "00005-8791c18e-7099-42d9-a8ba-607345546fe6",
    "deepnote_to_be_reexecuted": false,
    "source_hash": "b3321964",
    "execution_start": 1621334983866,
    "execution_millis": 1,
    "deepnote_cell_type": "code"
   },
   "outputs": [],
   "execution_count": 10
  },
  {
   "cell_type": "code",
   "source": "new_df = df[features]",
   "metadata": {
    "tags": [],
    "cell_id": "00006-f42101fd-6832-4317-9794-729d365f1cb9",
    "deepnote_to_be_reexecuted": false,
    "source_hash": "41aa3bbe",
    "execution_start": 1621334986543,
    "execution_millis": 1,
    "deepnote_cell_type": "code"
   },
   "outputs": [],
   "execution_count": 11
  },
  {
   "cell_type": "code",
   "source": "new_df.head()",
   "metadata": {
    "tags": [],
    "cell_id": "00007-5c018e5b-1645-4d9c-8a5c-a2299b5cd774",
    "deepnote_to_be_reexecuted": false,
    "source_hash": "e0dec228",
    "execution_start": 1621334988340,
    "execution_millis": 119,
    "deepnote_cell_type": "code"
   },
   "outputs": [
    {
     "output_type": "execute_result",
     "execution_count": 12,
     "data": {
      "application/vnd.deepnote.dataframe.v2+json": {
       "row_count": 5,
       "column_count": 15,
       "columns": [
        {
         "name": "id",
         "dtype": "int64",
         "stats": {
          "unique_count": 5,
          "nan_count": 0,
          "min": "876",
          "max": "16811",
          "histogram": [
           {
            "bin_start": 876,
            "bin_end": 2469.5,
            "count": 1
           },
           {
            "bin_start": 2469.5,
            "bin_end": 4063,
            "count": 0
           },
           {
            "bin_start": 4063,
            "bin_end": 5656.5,
            "count": 0
           },
           {
            "bin_start": 5656.5,
            "bin_end": 7250,
            "count": 0
           },
           {
            "bin_start": 7250,
            "bin_end": 8843.5,
            "count": 0
           },
           {
            "bin_start": 8843.5,
            "bin_end": 10437,
            "count": 0
           },
           {
            "bin_start": 10437,
            "bin_end": 12030.5,
            "count": 0
           },
           {
            "bin_start": 12030.5,
            "bin_end": 13624,
            "count": 0
           },
           {
            "bin_start": 13624,
            "bin_end": 15217.5,
            "count": 0
           },
           {
            "bin_start": 15217.5,
            "bin_end": 16811,
            "count": 4
           }
          ]
         }
        },
        {
         "name": "user",
         "dtype": "object",
         "stats": {
          "unique_count": 2,
          "nan_count": 0,
          "categories": [
           {
            "name": "Luca",
            "count": 4
           },
           {
            "name": "andrea",
            "count": 1
           }
          ]
         }
        },
        {
         "name": "android_sensor_gyroscope_mean",
         "dtype": "float64",
         "stats": {
          "unique_count": 5,
          "nan_count": 0,
          "min": "0.00152461653211",
          "max": "0.183202097809",
          "histogram": [
           {
            "bin_start": 0.00152461653211,
            "bin_end": 0.019692364659799,
            "count": 2
           },
           {
            "bin_start": 0.019692364659799,
            "bin_end": 0.037860112787488,
            "count": 2
           },
           {
            "bin_start": 0.037860112787488,
            "bin_end": 0.056027860915177,
            "count": 0
           },
           {
            "bin_start": 0.056027860915177,
            "bin_end": 0.074195609042866,
            "count": 0
           },
           {
            "bin_start": 0.074195609042866,
            "bin_end": 0.092363357170555,
            "count": 0
           },
           {
            "bin_start": 0.092363357170555,
            "bin_end": 0.110531105298244,
            "count": 0
           },
           {
            "bin_start": 0.110531105298244,
            "bin_end": 0.12869885342593299,
            "count": 0
           },
           {
            "bin_start": 0.12869885342593299,
            "bin_end": 0.146866601553622,
            "count": 0
           },
           {
            "bin_start": 0.146866601553622,
            "bin_end": 0.165034349681311,
            "count": 0
           },
           {
            "bin_start": 0.165034349681311,
            "bin_end": 0.183202097809,
            "count": 1
           }
          ]
         }
        },
        {
         "name": "android_sensor_accelerometer_std",
         "dtype": "float64",
         "stats": {
          "unique_count": 5,
          "nan_count": 0,
          "min": "0.0111991059917",
          "max": "1.7759442967",
          "histogram": [
           {
            "bin_start": 0.0111991059917,
            "bin_end": 0.18767362506253,
            "count": 2
           },
           {
            "bin_start": 0.18767362506253,
            "bin_end": 0.36414814413336,
            "count": 0
           },
           {
            "bin_start": 0.36414814413336,
            "bin_end": 0.5406226632041901,
            "count": 1
           },
           {
            "bin_start": 0.5406226632041901,
            "bin_end": 0.7170971822750201,
            "count": 0
           },
           {
            "bin_start": 0.7170971822750201,
            "bin_end": 0.8935717013458501,
            "count": 1
           },
           {
            "bin_start": 0.8935717013458501,
            "bin_end": 1.07004622041668,
            "count": 0
           },
           {
            "bin_start": 1.07004622041668,
            "bin_end": 1.24652073948751,
            "count": 0
           },
           {
            "bin_start": 1.24652073948751,
            "bin_end": 1.42299525855834,
            "count": 0
           },
           {
            "bin_start": 1.42299525855834,
            "bin_end": 1.5994697776291702,
            "count": 0
           },
           {
            "bin_start": 1.5994697776291702,
            "bin_end": 1.7759442967,
            "count": 1
           }
          ]
         }
        },
        {
         "name": "android_sensor_gyroscope_std",
         "dtype": "float64",
         "stats": {
          "unique_count": 5,
          "nan_count": 0,
          "min": "0.000712700740663",
          "max": "0.0988191384778",
          "histogram": [
           {
            "bin_start": 0.000712700740663,
            "bin_end": 0.0105233445143767,
            "count": 2
           },
           {
            "bin_start": 0.0105233445143767,
            "bin_end": 0.0203339882880904,
            "count": 2
           },
           {
            "bin_start": 0.0203339882880904,
            "bin_end": 0.0301446320618041,
            "count": 0
           },
           {
            "bin_start": 0.0301446320618041,
            "bin_end": 0.0399552758355178,
            "count": 0
           },
           {
            "bin_start": 0.0399552758355178,
            "bin_end": 0.0497659196092315,
            "count": 0
           },
           {
            "bin_start": 0.0497659196092315,
            "bin_end": 0.0595765633829452,
            "count": 0
           },
           {
            "bin_start": 0.0595765633829452,
            "bin_end": 0.0693872071566589,
            "count": 0
           },
           {
            "bin_start": 0.0693872071566589,
            "bin_end": 0.0791978509303726,
            "count": 0
           },
           {
            "bin_start": 0.0791978509303726,
            "bin_end": 0.0890084947040863,
            "count": 0
           },
           {
            "bin_start": 0.0890084947040863,
            "bin_end": 0.0988191384778,
            "count": 1
           }
          ]
         }
        },
        {
         "name": "android_sensor_gyroscope_uncalibrated_mean",
         "dtype": "float64",
         "stats": {
          "unique_count": 5,
          "nan_count": 0,
          "min": "0.0162213599906",
          "max": "0.265652184888",
          "histogram": [
           {
            "bin_start": 0.0162213599906,
            "bin_end": 0.04116444248034,
            "count": 3
           },
           {
            "bin_start": 0.04116444248034,
            "bin_end": 0.06610752497008,
            "count": 1
           },
           {
            "bin_start": 0.06610752497008,
            "bin_end": 0.09105060745982,
            "count": 0
           },
           {
            "bin_start": 0.09105060745982,
            "bin_end": 0.11599368994956,
            "count": 0
           },
           {
            "bin_start": 0.11599368994956,
            "bin_end": 0.1409367724393,
            "count": 0
           },
           {
            "bin_start": 0.1409367724393,
            "bin_end": 0.16587985492904,
            "count": 0
           },
           {
            "bin_start": 0.16587985492904,
            "bin_end": 0.19082293741878,
            "count": 0
           },
           {
            "bin_start": 0.19082293741878,
            "bin_end": 0.21576601990852,
            "count": 0
           },
           {
            "bin_start": 0.21576601990852,
            "bin_end": 0.24070910239826002,
            "count": 0
           },
           {
            "bin_start": 0.24070910239826002,
            "bin_end": 0.265652184888,
            "count": 1
           }
          ]
         }
        },
        {
         "name": "android_sensor_accelerometer_max",
         "dtype": "float64",
         "stats": {
          "unique_count": 5,
          "nan_count": 0,
          "min": "9.84926211274",
          "max": "17.1466311902",
          "histogram": [
           {
            "bin_start": 9.84926211274,
            "bin_end": 10.578999020486,
            "count": 2
           },
           {
            "bin_start": 10.578999020486,
            "bin_end": 11.308735928232,
            "count": 1
           },
           {
            "bin_start": 11.308735928232,
            "bin_end": 12.038472835978,
            "count": 0
           },
           {
            "bin_start": 12.038472835978,
            "bin_end": 12.768209743724,
            "count": 1
           },
           {
            "bin_start": 12.768209743724,
            "bin_end": 13.49794665147,
            "count": 0
           },
           {
            "bin_start": 13.49794665147,
            "bin_end": 14.227683559216,
            "count": 0
           },
           {
            "bin_start": 14.227683559216,
            "bin_end": 14.957420466962,
            "count": 0
           },
           {
            "bin_start": 14.957420466962,
            "bin_end": 15.687157374708,
            "count": 0
           },
           {
            "bin_start": 15.687157374708,
            "bin_end": 16.416894282454003,
            "count": 0
           },
           {
            "bin_start": 16.416894282454003,
            "bin_end": 17.1466311902,
            "count": 1
           }
          ]
         }
        },
        {
         "name": "android_sensor_linear_acceleration_mean",
         "dtype": "float64",
         "stats": {
          "unique_count": 5,
          "nan_count": 0,
          "min": "0.0209778383629",
          "max": "1.65830750209",
          "histogram": [
           {
            "bin_start": 0.0209778383629,
            "bin_end": 0.18471080473561002,
            "count": 2
           },
           {
            "bin_start": 0.18471080473561002,
            "bin_end": 0.34844377110832003,
            "count": 0
           },
           {
            "bin_start": 0.34844377110832003,
            "bin_end": 0.51217673748103,
            "count": 0
           },
           {
            "bin_start": 0.51217673748103,
            "bin_end": 0.67590970385374,
            "count": 0
           },
           {
            "bin_start": 0.67590970385374,
            "bin_end": 0.8396426702264501,
            "count": 0
           },
           {
            "bin_start": 0.8396426702264501,
            "bin_end": 1.00337563659916,
            "count": 1
           },
           {
            "bin_start": 1.00337563659916,
            "bin_end": 1.16710860297187,
            "count": 0
           },
           {
            "bin_start": 1.16710860297187,
            "bin_end": 1.33084156934458,
            "count": 0
           },
           {
            "bin_start": 1.33084156934458,
            "bin_end": 1.4945745357172902,
            "count": 1
           },
           {
            "bin_start": 1.4945745357172902,
            "bin_end": 1.65830750209,
            "count": 1
           }
          ]
         }
        },
        {
         "name": "speed_mean",
         "dtype": "float64",
         "stats": {
          "unique_count": 4,
          "nan_count": 0,
          "min": "0.0",
          "max": "17.739895",
          "histogram": [
           {
            "bin_start": 0,
            "bin_end": 1.7739895,
            "count": 2
           },
           {
            "bin_start": 1.7739895,
            "bin_end": 3.547979,
            "count": 0
           },
           {
            "bin_start": 3.547979,
            "bin_end": 5.3219685000000005,
            "count": 0
           },
           {
            "bin_start": 5.3219685000000005,
            "bin_end": 7.095958,
            "count": 0
           },
           {
            "bin_start": 7.095958,
            "bin_end": 8.8699475,
            "count": 0
           },
           {
            "bin_start": 8.8699475,
            "bin_end": 10.643937000000001,
            "count": 1
           },
           {
            "bin_start": 10.643937000000001,
            "bin_end": 12.4179265,
            "count": 0
           },
           {
            "bin_start": 12.4179265,
            "bin_end": 14.191916,
            "count": 0
           },
           {
            "bin_start": 14.191916,
            "bin_end": 15.965905500000002,
            "count": 0
           },
           {
            "bin_start": 15.965905500000002,
            "bin_end": 17.739895,
            "count": 2
           }
          ]
         }
        },
        {
         "name": "android_sensor_rotation_vector_mean",
         "dtype": "float64",
         "stats": {
          "unique_count": 5,
          "nan_count": 0,
          "min": "0.050413140269",
          "max": "0.999981228739",
          "histogram": [
           {
            "bin_start": 0.050413140269,
            "bin_end": 0.14536994911599999,
            "count": 1
           },
           {
            "bin_start": 0.14536994911599999,
            "bin_end": 0.24032675796300002,
            "count": 0
           },
           {
            "bin_start": 0.24032675796300002,
            "bin_end": 0.33528356681000004,
            "count": 1
           },
           {
            "bin_start": 0.33528356681000004,
            "bin_end": 0.430240375657,
            "count": 0
           },
           {
            "bin_start": 0.430240375657,
            "bin_end": 0.525197184504,
            "count": 0
           },
           {
            "bin_start": 0.525197184504,
            "bin_end": 0.6201539933510001,
            "count": 1
           },
           {
            "bin_start": 0.6201539933510001,
            "bin_end": 0.715110802198,
            "count": 0
           },
           {
            "bin_start": 0.715110802198,
            "bin_end": 0.810067611045,
            "count": 0
           },
           {
            "bin_start": 0.810067611045,
            "bin_end": 0.905024419892,
            "count": 0
           },
           {
            "bin_start": 0.905024419892,
            "bin_end": 0.999981228739,
            "count": 2
           }
          ]
         }
        },
        {
         "name": "android_sensor_rotation_vector_max",
         "dtype": "float64",
         "stats": {
          "unique_count": 5,
          "nan_count": 0,
          "min": "0.0563513538347",
          "max": "0.999999403768",
          "histogram": [
           {
            "bin_start": 0.0563513538347,
            "bin_end": 0.15071615882803,
            "count": 1
           },
           {
            "bin_start": 0.15071615882803,
            "bin_end": 0.24508096382136,
            "count": 0
           },
           {
            "bin_start": 0.24508096382136,
            "bin_end": 0.33944576881469,
            "count": 0
           },
           {
            "bin_start": 0.33944576881469,
            "bin_end": 0.43381057380802,
            "count": 1
           },
           {
            "bin_start": 0.43381057380802,
            "bin_end": 0.52817537880135,
            "count": 0
           },
           {
            "bin_start": 0.52817537880135,
            "bin_end": 0.62254018379468,
            "count": 1
           },
           {
            "bin_start": 0.62254018379468,
            "bin_end": 0.71690498878801,
            "count": 0
           },
           {
            "bin_start": 0.71690498878801,
            "bin_end": 0.81126979378134,
            "count": 0
           },
           {
            "bin_start": 0.81126979378134,
            "bin_end": 0.90563459877467,
            "count": 0
           },
           {
            "bin_start": 0.90563459877467,
            "bin_end": 0.999999403768,
            "count": 2
           }
          ]
         }
        },
        {
         "name": "android_sensor_accelerometer_min",
         "dtype": "float64",
         "stats": {
          "unique_count": 5,
          "nan_count": 0,
          "min": "7.65967372861",
          "max": "9.80481712742",
          "histogram": [
           {
            "bin_start": 7.65967372861,
            "bin_end": 7.874188068491,
            "count": 2
           },
           {
            "bin_start": 7.874188068491,
            "bin_end": 8.088702408371999,
            "count": 0
           },
           {
            "bin_start": 8.088702408371999,
            "bin_end": 8.303216748253,
            "count": 0
           },
           {
            "bin_start": 8.303216748253,
            "bin_end": 8.517731088134,
            "count": 0
           },
           {
            "bin_start": 8.517731088134,
            "bin_end": 8.732245428015,
            "count": 0
           },
           {
            "bin_start": 8.732245428015,
            "bin_end": 8.946759767896,
            "count": 0
           },
           {
            "bin_start": 8.946759767896,
            "bin_end": 9.161274107777,
            "count": 1
           },
           {
            "bin_start": 9.161274107777,
            "bin_end": 9.375788447658,
            "count": 0
           },
           {
            "bin_start": 9.375788447658,
            "bin_end": 9.590302787539,
            "count": 0
           },
           {
            "bin_start": 9.590302787539,
            "bin_end": 9.80481712742,
            "count": 2
           }
          ]
         }
        },
        {
         "name": "android_sensor_magnetic_field_uncalibrated_min",
         "dtype": "float64",
         "stats": {
          "unique_count": 5,
          "nan_count": 0,
          "min": "51.1997072531",
          "max": "156.79590908",
          "histogram": [
           {
            "bin_start": 51.1997072531,
            "bin_end": 61.75932743579,
            "count": 2
           },
           {
            "bin_start": 61.75932743579,
            "bin_end": 72.31894761848,
            "count": 0
           },
           {
            "bin_start": 72.31894761848,
            "bin_end": 82.87856780117,
            "count": 1
           },
           {
            "bin_start": 82.87856780117,
            "bin_end": 93.43818798386,
            "count": 0
           },
           {
            "bin_start": 93.43818798386,
            "bin_end": 103.99780816655,
            "count": 1
           },
           {
            "bin_start": 103.99780816655,
            "bin_end": 114.55742834924001,
            "count": 0
           },
           {
            "bin_start": 114.55742834924001,
            "bin_end": 125.11704853193001,
            "count": 0
           },
           {
            "bin_start": 125.11704853193001,
            "bin_end": 135.67666871462,
            "count": 0
           },
           {
            "bin_start": 135.67666871462,
            "bin_end": 146.23628889731,
            "count": 0
           },
           {
            "bin_start": 146.23628889731,
            "bin_end": 156.79590908,
            "count": 1
           }
          ]
         }
        },
        {
         "name": "sound_min",
         "dtype": "float64",
         "stats": {
          "unique_count": 3,
          "nan_count": 2,
          "min": "87.4703770994",
          "max": "89.770732316",
          "histogram": [
           {
            "bin_start": 87.4703770994,
            "bin_end": 87.70041262106,
            "count": 1
           },
           {
            "bin_start": 87.70041262106,
            "bin_end": 87.93044814272,
            "count": 0
           },
           {
            "bin_start": 87.93044814272,
            "bin_end": 88.16048366438,
            "count": 0
           },
           {
            "bin_start": 88.16048366438,
            "bin_end": 88.39051918604,
            "count": 0
           },
           {
            "bin_start": 88.39051918604,
            "bin_end": 88.6205547077,
            "count": 0
           },
           {
            "bin_start": 88.6205547077,
            "bin_end": 88.85059022936,
            "count": 0
           },
           {
            "bin_start": 88.85059022936,
            "bin_end": 89.08062575102,
            "count": 1
           },
           {
            "bin_start": 89.08062575102,
            "bin_end": 89.31066127268,
            "count": 0
           },
           {
            "bin_start": 89.31066127268,
            "bin_end": 89.54069679434,
            "count": 0
           },
           {
            "bin_start": 89.54069679434,
            "bin_end": 89.770732316,
            "count": 1
           }
          ]
         }
        },
        {
         "name": "target",
         "dtype": "object",
         "stats": {
          "unique_count": 2,
          "nan_count": 0,
          "categories": [
           {
            "name": "Car",
            "count": 3
           },
           {
            "name": "Still",
            "count": 2
           }
          ]
         }
        },
        {
         "name": "_deepnote_index_column",
         "dtype": "int64"
        }
       ],
       "rows_top": [
        {
         "id": 16170,
         "user": "Luca",
         "android_sensor_gyroscope_mean": 0.00165077522136,
         "android_sensor_accelerometer_std": 0.0146255073331,
         "android_sensor_gyroscope_std": 0.000736963641413,
         "android_sensor_gyroscope_uncalibrated_mean": 0.0162213599906,
         "android_sensor_accelerometer_max": 9.84941095639,
         "android_sensor_linear_acceleration_mean": 0.0209778383629,
         "speed_mean": 0,
         "android_sensor_rotation_vector_mean": 0.050413140269,
         "android_sensor_rotation_vector_max": 0.0563513538347,
         "android_sensor_accelerometer_min": 9.75889547269,
         "android_sensor_magnetic_field_uncalibrated_min": 51.1997072531,
         "sound_min": "nan",
         "target": "Still",
         "_deepnote_index_column": 0
        },
        {
         "id": 15871,
         "user": "Luca",
         "android_sensor_gyroscope_mean": 0.0363257142488,
         "android_sensor_accelerometer_std": 1.7759442967,
         "android_sensor_gyroscope_std": 0.0202897002181,
         "android_sensor_gyroscope_uncalibrated_mean": 0.0390225389502,
         "android_sensor_accelerometer_max": 17.1466311902,
         "android_sensor_linear_acceleration_mean": 0.879220182554,
         "speed_mean": 16.539349,
         "android_sensor_rotation_vector_mean": 0.999981228739,
         "android_sensor_rotation_vector_max": 0.999999403768,
         "android_sensor_accelerometer_min": 7.70743742161,
         "android_sensor_magnetic_field_uncalibrated_min": 82.4098901832,
         "sound_min": "89.06514335",
         "target": "Car",
         "_deepnote_index_column": 1
        },
        {
         "id": 16811,
         "user": "Luca",
         "android_sensor_gyroscope_mean": 0.00152461653211,
         "android_sensor_accelerometer_std": 0.0111991059917,
         "android_sensor_gyroscope_std": 0.000712700740663,
         "android_sensor_gyroscope_uncalibrated_mean": 0.016301566129,
         "android_sensor_accelerometer_max": 9.84926211274,
         "android_sensor_linear_acceleration_mean": 0.0341102311454,
         "speed_mean": 0,
         "android_sensor_rotation_vector_mean": 0.610456220789,
         "android_sensor_rotation_vector_max": 0.610456220789,
         "android_sensor_accelerometer_min": 9.80481712742,
         "android_sensor_magnetic_field_uncalibrated_min": 55.5018017726,
         "sound_min": "nan",
         "target": "Still",
         "_deepnote_index_column": 2
        },
        {
         "id": 15831,
         "user": "Luca",
         "android_sensor_gyroscope_mean": 0.0364403150565,
         "android_sensor_accelerometer_std": 0.862553258429,
         "android_sensor_gyroscope_std": 0.0105527726211,
         "android_sensor_gyroscope_uncalibrated_mean": 0.0507587448203,
         "android_sensor_accelerometer_max": 12.3042975935,
         "android_sensor_linear_acceleration_mean": 1.48836057989,
         "speed_mean": 17.739895,
         "android_sensor_rotation_vector_mean": 0.998112317214,
         "android_sensor_rotation_vector_max": 0.998112317214,
         "android_sensor_accelerometer_min": 7.65967372861,
         "android_sensor_magnetic_field_uncalibrated_min": 95.6643091367,
         "sound_min": "87.4703770994",
         "target": "Car",
         "_deepnote_index_column": 3
        },
        {
         "id": 876,
         "user": "andrea",
         "android_sensor_gyroscope_mean": 0.183202097809,
         "android_sensor_accelerometer_std": 0.504117059576,
         "android_sensor_gyroscope_std": 0.0988191384778,
         "android_sensor_gyroscope_uncalibrated_mean": 0.265652184888,
         "android_sensor_accelerometer_max": 10.8916451194,
         "android_sensor_linear_acceleration_mean": 1.65830750209,
         "speed_mean": 9,
         "android_sensor_rotation_vector_mean": 0.322241915004,
         "android_sensor_rotation_vector_max": 0.378193174062,
         "android_sensor_accelerometer_min": 8.96562096134,
         "android_sensor_magnetic_field_uncalibrated_min": 156.79590908,
         "sound_min": "89.770732316",
         "target": "Car",
         "_deepnote_index_column": 4
        }
       ],
       "rows_bottom": null
      },
      "text/plain": "      id    user  android_sensor_gyroscope_mean  \\\n0  16170    Luca                       0.001651   \n1  15871    Luca                       0.036326   \n2  16811    Luca                       0.001525   \n3  15831    Luca                       0.036440   \n4    876  andrea                       0.183202   \n\n   android_sensor_accelerometer_std  android_sensor_gyroscope_std  \\\n0                          0.014626                      0.000737   \n1                          1.775944                      0.020290   \n2                          0.011199                      0.000713   \n3                          0.862553                      0.010553   \n4                          0.504117                      0.098819   \n\n   android_sensor_gyroscope_uncalibrated_mean  \\\n0                                    0.016221   \n1                                    0.039023   \n2                                    0.016302   \n3                                    0.050759   \n4                                    0.265652   \n\n   android_sensor_accelerometer_max  android_sensor_linear_acceleration_mean  \\\n0                          9.849411                                 0.020978   \n1                         17.146631                                 0.879220   \n2                          9.849262                                 0.034110   \n3                         12.304298                                 1.488361   \n4                         10.891645                                 1.658308   \n\n   speed_mean  android_sensor_rotation_vector_mean  \\\n0    0.000000                             0.050413   \n1   16.539349                             0.999981   \n2    0.000000                             0.610456   \n3   17.739895                             0.998112   \n4    9.000000                             0.322242   \n\n   android_sensor_rotation_vector_max  android_sensor_accelerometer_min  \\\n0                            0.056351                          9.758895   \n1                            0.999999                          7.707437   \n2                            0.610456                          9.804817   \n3                            0.998112                          7.659674   \n4                            0.378193                          8.965621   \n\n   android_sensor_magnetic_field_uncalibrated_min  sound_min target  \n0                                       51.199707        NaN  Still  \n1                                       82.409890  89.065143    Car  \n2                                       55.501802        NaN  Still  \n3                                       95.664309  87.470377    Car  \n4                                      156.795909  89.770732    Car  ",
      "text/html": "<div>\n<style scoped>\n    .dataframe tbody tr th:only-of-type {\n        vertical-align: middle;\n    }\n\n    .dataframe tbody tr th {\n        vertical-align: top;\n    }\n\n    .dataframe thead th {\n        text-align: right;\n    }\n</style>\n<table border=\"1\" class=\"dataframe\">\n  <thead>\n    <tr style=\"text-align: right;\">\n      <th></th>\n      <th>id</th>\n      <th>user</th>\n      <th>android_sensor_gyroscope_mean</th>\n      <th>android_sensor_accelerometer_std</th>\n      <th>android_sensor_gyroscope_std</th>\n      <th>android_sensor_gyroscope_uncalibrated_mean</th>\n      <th>android_sensor_accelerometer_max</th>\n      <th>android_sensor_linear_acceleration_mean</th>\n      <th>speed_mean</th>\n      <th>android_sensor_rotation_vector_mean</th>\n      <th>android_sensor_rotation_vector_max</th>\n      <th>android_sensor_accelerometer_min</th>\n      <th>android_sensor_magnetic_field_uncalibrated_min</th>\n      <th>sound_min</th>\n      <th>target</th>\n    </tr>\n  </thead>\n  <tbody>\n    <tr>\n      <th>0</th>\n      <td>16170</td>\n      <td>Luca</td>\n      <td>0.001651</td>\n      <td>0.014626</td>\n      <td>0.000737</td>\n      <td>0.016221</td>\n      <td>9.849411</td>\n      <td>0.020978</td>\n      <td>0.000000</td>\n      <td>0.050413</td>\n      <td>0.056351</td>\n      <td>9.758895</td>\n      <td>51.199707</td>\n      <td>NaN</td>\n      <td>Still</td>\n    </tr>\n    <tr>\n      <th>1</th>\n      <td>15871</td>\n      <td>Luca</td>\n      <td>0.036326</td>\n      <td>1.775944</td>\n      <td>0.020290</td>\n      <td>0.039023</td>\n      <td>17.146631</td>\n      <td>0.879220</td>\n      <td>16.539349</td>\n      <td>0.999981</td>\n      <td>0.999999</td>\n      <td>7.707437</td>\n      <td>82.409890</td>\n      <td>89.065143</td>\n      <td>Car</td>\n    </tr>\n    <tr>\n      <th>2</th>\n      <td>16811</td>\n      <td>Luca</td>\n      <td>0.001525</td>\n      <td>0.011199</td>\n      <td>0.000713</td>\n      <td>0.016302</td>\n      <td>9.849262</td>\n      <td>0.034110</td>\n      <td>0.000000</td>\n      <td>0.610456</td>\n      <td>0.610456</td>\n      <td>9.804817</td>\n      <td>55.501802</td>\n      <td>NaN</td>\n      <td>Still</td>\n    </tr>\n    <tr>\n      <th>3</th>\n      <td>15831</td>\n      <td>Luca</td>\n      <td>0.036440</td>\n      <td>0.862553</td>\n      <td>0.010553</td>\n      <td>0.050759</td>\n      <td>12.304298</td>\n      <td>1.488361</td>\n      <td>17.739895</td>\n      <td>0.998112</td>\n      <td>0.998112</td>\n      <td>7.659674</td>\n      <td>95.664309</td>\n      <td>87.470377</td>\n      <td>Car</td>\n    </tr>\n    <tr>\n      <th>4</th>\n      <td>876</td>\n      <td>andrea</td>\n      <td>0.183202</td>\n      <td>0.504117</td>\n      <td>0.098819</td>\n      <td>0.265652</td>\n      <td>10.891645</td>\n      <td>1.658308</td>\n      <td>9.000000</td>\n      <td>0.322242</td>\n      <td>0.378193</td>\n      <td>8.965621</td>\n      <td>156.795909</td>\n      <td>89.770732</td>\n      <td>Car</td>\n    </tr>\n  </tbody>\n</table>\n</div>"
     },
     "metadata": {}
    }
   ],
   "execution_count": 12
  },
  {
   "cell_type": "code",
   "source": "new_df.to_csv('pathi_test.csv', index = False)",
   "metadata": {
    "tags": [],
    "cell_id": "00007-d14b114b-d6d5-42f7-937f-d5eece646d8c",
    "deepnote_to_be_reexecuted": false,
    "source_hash": "2619a7b0",
    "execution_start": 1621335180525,
    "execution_millis": 105,
    "deepnote_cell_type": "code"
   },
   "outputs": [],
   "execution_count": 13
  },
  {
   "cell_type": "markdown",
   "source": "<a style='text-decoration:none;line-height:16px;display:flex;color:#5B5B62;padding:10px;justify-content:end;' href='https://deepnote.com?utm_source=created-in-deepnote-cell&projectId=3e7089f3-11a5-48ad-89c4-39a166311a14' target=\"_blank\">\n<img alt='Created in deepnote.com' style='display:inline;max-height:16px;margin:0px;margin-right:7.5px;' src='data:image/svg+xml;base64,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' > </img>\nCreated in <span style='font-weight:600;margin-left:4px;'>Deepnote</span></a>",
   "metadata": {
    "tags": [],
    "created_in_deepnote_cell": true,
    "deepnote_cell_type": "markdown"
   }
  }
 ],
 "nbformat": 4,
 "nbformat_minor": 2,
 "metadata": {
  "orig_nbformat": 2,
  "deepnote": {
   "is_reactive": false
  },
  "deepnote_notebook_id": "e45d802f-e0ed-4991-a422-919f6c18720f",
  "deepnote_execution_queue": []
 }
}