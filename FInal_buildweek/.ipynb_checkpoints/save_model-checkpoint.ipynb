{
 "cells": [
  {
   "cell_type": "code",
   "execution_count": 10,
   "id": "5c3f0511",
   "metadata": {
    "ExecuteTime": {
     "end_time": "2021-05-20T16:58:28.032338Z",
     "start_time": "2021-05-20T16:58:28.013564Z"
    }
   },
   "outputs": [
    {
     "name": "stdout",
     "output_type": "stream",
     "text": [
      "setup complete\n"
     ]
    }
   ],
   "source": [
    "# Do the necessary imports\n",
    "\n",
    "import pickle\n",
    "import time\n",
    "import numpy    as np\n",
    "import pandas   as pd\n",
    "import seaborn  as sb\n",
    "import matplotlib.pyplot as plt\n",
    "\n",
    "\n",
    "from sklearn import preprocessing # OrdinalEncoder, LabelEncoder\n",
    "from sklearn.preprocessing import RobustScaler\n",
    "from sklearn.ensemble      import RandomForestClassifier\n",
    "from sklearn import model_selection # train_test_split\n",
    "from sklearn import metrics         # accuracy_score, balanced_accuracy_score, plot_confusion_matrix\n",
    "from sklearn import set_config\n",
    "\n",
    "set_config(display='diagram') # Useful for display the pipeline\n",
    "\n",
    "print('setup complete')"
   ]
  },
  {
   "cell_type": "code",
   "execution_count": 4,
   "id": "9e5b0d1d",
   "metadata": {
    "ExecuteTime": {
     "end_time": "2021-05-20T16:44:04.753094Z",
     "start_time": "2021-05-20T16:44:04.716153Z"
    }
   },
   "outputs": [],
   "source": [
    "df = pd.read_csv('model_train.csv')"
   ]
  },
  {
   "cell_type": "code",
   "execution_count": 5,
   "id": "eabd4389",
   "metadata": {
    "ExecuteTime": {
     "end_time": "2021-05-20T16:44:06.409014Z",
     "start_time": "2021-05-20T16:44:06.369877Z"
    }
   },
   "outputs": [
    {
     "data": {
      "text/html": [
       "<div>\n",
       "<style scoped>\n",
       "    .dataframe tbody tr th:only-of-type {\n",
       "        vertical-align: middle;\n",
       "    }\n",
       "\n",
       "    .dataframe tbody tr th {\n",
       "        vertical-align: top;\n",
       "    }\n",
       "\n",
       "    .dataframe thead th {\n",
       "        text-align: right;\n",
       "    }\n",
       "</style>\n",
       "<table border=\"1\" class=\"dataframe\">\n",
       "  <thead>\n",
       "    <tr style=\"text-align: right;\">\n",
       "      <th></th>\n",
       "      <th>android_sensor_gyroscope_mean</th>\n",
       "      <th>android_sensor_accelerometer_std</th>\n",
       "      <th>android_sensor_gyroscope_std</th>\n",
       "      <th>android_sensor_gyroscope_uncalibrated_mean</th>\n",
       "      <th>android_sensor_accelerometer_max</th>\n",
       "      <th>android_sensor_linear_acceleration_mean</th>\n",
       "      <th>android_sensor_rotation_vector_mean</th>\n",
       "      <th>android_sensor_rotation_vector_max</th>\n",
       "      <th>android_sensor_accelerometer_min</th>\n",
       "      <th>android_sensor_magnetic_field_uncalibrated_min</th>\n",
       "      <th>sound_min</th>\n",
       "      <th>target</th>\n",
       "      <th>user</th>\n",
       "    </tr>\n",
       "  </thead>\n",
       "  <tbody>\n",
       "    <tr>\n",
       "      <th>0</th>\n",
       "      <td>0.183202</td>\n",
       "      <td>0.504117</td>\n",
       "      <td>0.098819</td>\n",
       "      <td>0.265652</td>\n",
       "      <td>10.891645</td>\n",
       "      <td>1.658308</td>\n",
       "      <td>0.322242</td>\n",
       "      <td>0.378193</td>\n",
       "      <td>8.965621</td>\n",
       "      <td>156.795909</td>\n",
       "      <td>89.770732</td>\n",
       "      <td>2</td>\n",
       "      <td>andrea</td>\n",
       "    </tr>\n",
       "    <tr>\n",
       "      <th>1</th>\n",
       "      <td>0.053366</td>\n",
       "      <td>0.103857</td>\n",
       "      <td>0.028408</td>\n",
       "      <td>0.060895</td>\n",
       "      <td>9.520044</td>\n",
       "      <td>0.471370</td>\n",
       "      <td>0.880361</td>\n",
       "      <td>0.904736</td>\n",
       "      <td>9.149029</td>\n",
       "      <td>134.198130</td>\n",
       "      <td>57.361127</td>\n",
       "      <td>2</td>\n",
       "      <td>Federica</td>\n",
       "    </tr>\n",
       "    <tr>\n",
       "      <th>2</th>\n",
       "      <td>0.004100</td>\n",
       "      <td>0.013489</td>\n",
       "      <td>0.001801</td>\n",
       "      <td>0.042991</td>\n",
       "      <td>9.816197</td>\n",
       "      <td>0.027441</td>\n",
       "      <td>0.201198</td>\n",
       "      <td>0.201318</td>\n",
       "      <td>9.758751</td>\n",
       "      <td>170.521377</td>\n",
       "      <td>65.158369</td>\n",
       "      <td>3</td>\n",
       "      <td>michelangelo</td>\n",
       "    </tr>\n",
       "    <tr>\n",
       "      <th>3</th>\n",
       "      <td>0.041554</td>\n",
       "      <td>0.255053</td>\n",
       "      <td>0.030074</td>\n",
       "      <td>0.065754</td>\n",
       "      <td>10.027802</td>\n",
       "      <td>0.278997</td>\n",
       "      <td>0.780795</td>\n",
       "      <td>0.786845</td>\n",
       "      <td>8.996134</td>\n",
       "      <td>134.611517</td>\n",
       "      <td>89.808441</td>\n",
       "      <td>3</td>\n",
       "      <td>andrea</td>\n",
       "    </tr>\n",
       "    <tr>\n",
       "      <th>4</th>\n",
       "      <td>0.037451</td>\n",
       "      <td>0.267791</td>\n",
       "      <td>0.021391</td>\n",
       "      <td>0.030491</td>\n",
       "      <td>10.068528</td>\n",
       "      <td>0.255172</td>\n",
       "      <td>0.968082</td>\n",
       "      <td>0.968806</td>\n",
       "      <td>9.014786</td>\n",
       "      <td>140.174223</td>\n",
       "      <td>89.815738</td>\n",
       "      <td>3</td>\n",
       "      <td>andrea</td>\n",
       "    </tr>\n",
       "  </tbody>\n",
       "</table>\n",
       "</div>"
      ],
      "text/plain": [
       "   android_sensor_gyroscope_mean  android_sensor_accelerometer_std  \\\n",
       "0                       0.183202                          0.504117   \n",
       "1                       0.053366                          0.103857   \n",
       "2                       0.004100                          0.013489   \n",
       "3                       0.041554                          0.255053   \n",
       "4                       0.037451                          0.267791   \n",
       "\n",
       "   android_sensor_gyroscope_std  android_sensor_gyroscope_uncalibrated_mean  \\\n",
       "0                      0.098819                                    0.265652   \n",
       "1                      0.028408                                    0.060895   \n",
       "2                      0.001801                                    0.042991   \n",
       "3                      0.030074                                    0.065754   \n",
       "4                      0.021391                                    0.030491   \n",
       "\n",
       "   android_sensor_accelerometer_max  android_sensor_linear_acceleration_mean  \\\n",
       "0                         10.891645                                 1.658308   \n",
       "1                          9.520044                                 0.471370   \n",
       "2                          9.816197                                 0.027441   \n",
       "3                         10.027802                                 0.278997   \n",
       "4                         10.068528                                 0.255172   \n",
       "\n",
       "   android_sensor_rotation_vector_mean  android_sensor_rotation_vector_max  \\\n",
       "0                             0.322242                            0.378193   \n",
       "1                             0.880361                            0.904736   \n",
       "2                             0.201198                            0.201318   \n",
       "3                             0.780795                            0.786845   \n",
       "4                             0.968082                            0.968806   \n",
       "\n",
       "   android_sensor_accelerometer_min  \\\n",
       "0                          8.965621   \n",
       "1                          9.149029   \n",
       "2                          9.758751   \n",
       "3                          8.996134   \n",
       "4                          9.014786   \n",
       "\n",
       "   android_sensor_magnetic_field_uncalibrated_min  sound_min  target  \\\n",
       "0                                      156.795909  89.770732       2   \n",
       "1                                      134.198130  57.361127       2   \n",
       "2                                      170.521377  65.158369       3   \n",
       "3                                      134.611517  89.808441       3   \n",
       "4                                      140.174223  89.815738       3   \n",
       "\n",
       "           user  \n",
       "0        andrea  \n",
       "1      Federica  \n",
       "2  michelangelo  \n",
       "3        andrea  \n",
       "4        andrea  "
      ]
     },
     "execution_count": 5,
     "metadata": {},
     "output_type": "execute_result"
    }
   ],
   "source": [
    "df.head()"
   ]
  },
  {
   "cell_type": "code",
   "execution_count": 7,
   "id": "5f009af3",
   "metadata": {
    "ExecuteTime": {
     "end_time": "2021-05-20T16:45:38.038834Z",
     "start_time": "2021-05-20T16:45:38.020534Z"
    }
   },
   "outputs": [],
   "source": [
    "df = df.drop(['user'], axis = 1)"
   ]
  },
  {
   "cell_type": "code",
   "execution_count": 13,
   "id": "18d3c420",
   "metadata": {
    "ExecuteTime": {
     "end_time": "2021-05-20T16:58:59.535012Z",
     "start_time": "2021-05-20T16:58:59.522422Z"
    }
   },
   "outputs": [],
   "source": [
    "X = df.drop(['target'], axis = 1)\n",
    "Y = df.target"
   ]
  },
  {
   "cell_type": "code",
   "execution_count": 14,
   "id": "c332e348",
   "metadata": {
    "ExecuteTime": {
     "end_time": "2021-05-20T16:59:04.063953Z",
     "start_time": "2021-05-20T16:59:02.465235Z"
    }
   },
   "outputs": [],
   "source": [
    "X_train, X_test, Y_train, Y_test = model_selection.train_test_split(X, Y, train_size = 0.8, random_state = 42)\n",
    "\n",
    "scaler = RobustScaler()  \n",
    "\n",
    "a = scaler.fit(X_train)\n",
    "\n",
    "X_train = a.transform(X_train)\n",
    "X_test = scaler.transform(X_test)\n",
    "\n",
    "model = RandomForestClassifier()\n",
    "model.fit(X_train, Y_train)\n",
    "\n",
    "# save the model to disk\n",
    "filename = 'finalized_model.sav'\n",
    "pickle.dump(model, open(filename, 'wb'))\n",
    " "
   ]
  },
  {
   "cell_type": "code",
   "execution_count": 15,
   "id": "32a6a22f",
   "metadata": {
    "ExecuteTime": {
     "end_time": "2021-05-20T17:00:17.270210Z",
     "start_time": "2021-05-20T17:00:17.114129Z"
    }
   },
   "outputs": [
    {
     "name": "stdout",
     "output_type": "stream",
     "text": [
      "0.9248035914702581\n"
     ]
    }
   ],
   "source": [
    "# some time later...\n",
    " \n",
    "# load the model from disk\n",
    "loaded_model = pickle.load(open('finalized_model.sav', 'rb'))\n",
    "result = loaded_model.score(X_test, Y_test)\n",
    "print(result)"
   ]
  }
 ],
 "metadata": {
  "kernelspec": {
   "display_name": "Python 3",
   "language": "python",
   "name": "python3"
  },
  "language_info": {
   "codemirror_mode": {
    "name": "ipython",
    "version": 3
   },
   "file_extension": ".py",
   "mimetype": "text/x-python",
   "name": "python",
   "nbconvert_exporter": "python",
   "pygments_lexer": "ipython3",
   "version": "3.8.8"
  }
 },
 "nbformat": 4,
 "nbformat_minor": 5
}
