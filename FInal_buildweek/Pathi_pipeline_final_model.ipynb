{
 "cells": [
  {
   "cell_type": "code",
   "execution_count": 12,
   "metadata": {
    "ExecuteTime": {
     "end_time": "2021-05-20T17:01:03.445169Z",
     "start_time": "2021-05-20T17:01:03.428988Z"
    },
    "cell_id": "00000-ef2d781e-122e-41c7-be55-6dd3d3f4fd1b",
    "deepnote_cell_type": "code",
    "deepnote_to_be_reexecuted": false,
    "execution_millis": 1852,
    "execution_start": 1621363703293,
    "source_hash": "2af09878",
    "tags": []
   },
   "outputs": [
    {
     "name": "stdout",
     "output_type": "stream",
     "text": [
      "setup complete\n"
     ]
    }
   ],
   "source": [
    "# Do the necessary imports\n",
    "\n",
    "import pickle \n",
    "import time\n",
    "import numpy    as np\n",
    "import pandas   as pd\n",
    "import seaborn  as sb\n",
    "import matplotlib.pyplot as plt\n",
    "\n",
    "from sklearn import pipeline      # Pipeline\n",
    "from sklearn import preprocessing # OrdinalEncoder, LabelEncoder\n",
    "from sklearn.preprocessing import RobustScaler\n",
    "from sklearn import impute\n",
    "from sklearn import compose\n",
    "from sklearn import model_selection # train_test_split\n",
    "from sklearn import metrics         # accuracy_score, balanced_accuracy_score, plot_confusion_matrix\n",
    "from sklearn import set_config\n",
    "\n",
    "set_config(display='diagram') # Useful for display the pipeline\n",
    "\n",
    "print('setup complete')"
   ]
  },
  {
   "cell_type": "code",
   "execution_count": 2,
   "metadata": {
    "ExecuteTime": {
     "end_time": "2021-05-20T16:42:13.309440Z",
     "start_time": "2021-05-20T16:42:13.262165Z"
    },
    "cell_id": "00001-1047af00-e709-4c03-bbb5-744ca2e45748",
    "deepnote_cell_type": "code",
    "deepnote_to_be_reexecuted": false,
    "execution_millis": 47,
    "execution_start": 1621363705148,
    "source_hash": "55692710",
    "tags": []
   },
   "outputs": [],
   "source": [
    "df = pd.read_csv('clean_df.csv')"
   ]
  },
  {
   "cell_type": "code",
   "execution_count": 3,
   "metadata": {
    "ExecuteTime": {
     "end_time": "2021-05-20T16:42:13.329409Z",
     "start_time": "2021-05-20T16:42:13.316559Z"
    }
   },
   "outputs": [],
   "source": [
    "#droping target classes\n",
    "\n",
    "#df  = df[df['target']!='Bus']\n",
    "#df  = df[df['target']!='Train']\n",
    "#df  = df[df['target']!='Still']"
   ]
  },
  {
   "cell_type": "code",
   "execution_count": 4,
   "metadata": {
    "ExecuteTime": {
     "end_time": "2021-05-20T16:42:13.356056Z",
     "start_time": "2021-05-20T16:42:13.335953Z"
    }
   },
   "outputs": [],
   "source": [
    "df.target = df.target.replace({'Still':0, 'Walking':1, 'Car':2, 'Bus':3, 'Train':3})"
   ]
  },
  {
   "cell_type": "code",
   "execution_count": 5,
   "metadata": {
    "ExecuteTime": {
     "end_time": "2021-05-20T16:42:13.373770Z",
     "start_time": "2021-05-20T16:42:13.359145Z"
    }
   },
   "outputs": [],
   "source": [
    "df = df.drop([ 'speed_mean'], axis = 1)"
   ]
  },
  {
   "cell_type": "code",
   "execution_count": 6,
   "metadata": {
    "ExecuteTime": {
     "end_time": "2021-05-20T16:42:13.433841Z",
     "start_time": "2021-05-20T16:42:13.379199Z"
    },
    "cell_id": "00002-f091d80f-4fa7-42f7-bece-5c7c25dd8bb5",
    "deepnote_cell_type": "code",
    "deepnote_to_be_reexecuted": false,
    "execution_millis": 128,
    "execution_start": 1621363705199,
    "source_hash": "c085b6ba",
    "tags": []
   },
   "outputs": [
    {
     "data": {
      "text/html": [
       "<div>\n",
       "<style scoped>\n",
       "    .dataframe tbody tr th:only-of-type {\n",
       "        vertical-align: middle;\n",
       "    }\n",
       "\n",
       "    .dataframe tbody tr th {\n",
       "        vertical-align: top;\n",
       "    }\n",
       "\n",
       "    .dataframe thead th {\n",
       "        text-align: right;\n",
       "    }\n",
       "</style>\n",
       "<table border=\"1\" class=\"dataframe\">\n",
       "  <thead>\n",
       "    <tr style=\"text-align: right;\">\n",
       "      <th></th>\n",
       "      <th>android_sensor_gyroscope_mean</th>\n",
       "      <th>android_sensor_accelerometer_std</th>\n",
       "      <th>android_sensor_gyroscope_std</th>\n",
       "      <th>android_sensor_gyroscope_uncalibrated_mean</th>\n",
       "      <th>android_sensor_accelerometer_max</th>\n",
       "      <th>android_sensor_linear_acceleration_mean</th>\n",
       "      <th>android_sensor_rotation_vector_mean</th>\n",
       "      <th>android_sensor_rotation_vector_max</th>\n",
       "      <th>android_sensor_accelerometer_min</th>\n",
       "      <th>android_sensor_magnetic_field_uncalibrated_min</th>\n",
       "      <th>sound_min</th>\n",
       "      <th>target</th>\n",
       "      <th>user</th>\n",
       "    </tr>\n",
       "  </thead>\n",
       "  <tbody>\n",
       "    <tr>\n",
       "      <th>0</th>\n",
       "      <td>0.001651</td>\n",
       "      <td>0.014626</td>\n",
       "      <td>0.000737</td>\n",
       "      <td>0.016221</td>\n",
       "      <td>9.849411</td>\n",
       "      <td>0.020978</td>\n",
       "      <td>0.050413</td>\n",
       "      <td>0.056351</td>\n",
       "      <td>9.758895</td>\n",
       "      <td>51.199707</td>\n",
       "      <td>83.859708</td>\n",
       "      <td>0</td>\n",
       "      <td>Luca</td>\n",
       "    </tr>\n",
       "    <tr>\n",
       "      <th>1</th>\n",
       "      <td>0.036326</td>\n",
       "      <td>1.775944</td>\n",
       "      <td>0.020290</td>\n",
       "      <td>0.039023</td>\n",
       "      <td>17.146631</td>\n",
       "      <td>0.879220</td>\n",
       "      <td>0.999981</td>\n",
       "      <td>0.999999</td>\n",
       "      <td>7.707437</td>\n",
       "      <td>82.409890</td>\n",
       "      <td>89.065143</td>\n",
       "      <td>2</td>\n",
       "      <td>Luca</td>\n",
       "    </tr>\n",
       "    <tr>\n",
       "      <th>2</th>\n",
       "      <td>0.001525</td>\n",
       "      <td>0.011199</td>\n",
       "      <td>0.000713</td>\n",
       "      <td>0.016302</td>\n",
       "      <td>9.849262</td>\n",
       "      <td>0.034110</td>\n",
       "      <td>0.610456</td>\n",
       "      <td>0.610456</td>\n",
       "      <td>9.804817</td>\n",
       "      <td>55.501802</td>\n",
       "      <td>83.859708</td>\n",
       "      <td>0</td>\n",
       "      <td>Luca</td>\n",
       "    </tr>\n",
       "    <tr>\n",
       "      <th>3</th>\n",
       "      <td>0.036440</td>\n",
       "      <td>0.862553</td>\n",
       "      <td>0.010553</td>\n",
       "      <td>0.050759</td>\n",
       "      <td>12.304298</td>\n",
       "      <td>1.488361</td>\n",
       "      <td>0.998112</td>\n",
       "      <td>0.998112</td>\n",
       "      <td>7.659674</td>\n",
       "      <td>95.664309</td>\n",
       "      <td>87.470377</td>\n",
       "      <td>2</td>\n",
       "      <td>Luca</td>\n",
       "    </tr>\n",
       "    <tr>\n",
       "      <th>4</th>\n",
       "      <td>0.183202</td>\n",
       "      <td>0.504117</td>\n",
       "      <td>0.098819</td>\n",
       "      <td>0.265652</td>\n",
       "      <td>10.891645</td>\n",
       "      <td>1.658308</td>\n",
       "      <td>0.322242</td>\n",
       "      <td>0.378193</td>\n",
       "      <td>8.965621</td>\n",
       "      <td>156.795909</td>\n",
       "      <td>89.770732</td>\n",
       "      <td>2</td>\n",
       "      <td>andrea</td>\n",
       "    </tr>\n",
       "  </tbody>\n",
       "</table>\n",
       "</div>"
      ],
      "text/plain": [
       "   android_sensor_gyroscope_mean  android_sensor_accelerometer_std  \\\n",
       "0                       0.001651                          0.014626   \n",
       "1                       0.036326                          1.775944   \n",
       "2                       0.001525                          0.011199   \n",
       "3                       0.036440                          0.862553   \n",
       "4                       0.183202                          0.504117   \n",
       "\n",
       "   android_sensor_gyroscope_std  android_sensor_gyroscope_uncalibrated_mean  \\\n",
       "0                      0.000737                                    0.016221   \n",
       "1                      0.020290                                    0.039023   \n",
       "2                      0.000713                                    0.016302   \n",
       "3                      0.010553                                    0.050759   \n",
       "4                      0.098819                                    0.265652   \n",
       "\n",
       "   android_sensor_accelerometer_max  android_sensor_linear_acceleration_mean  \\\n",
       "0                          9.849411                                 0.020978   \n",
       "1                         17.146631                                 0.879220   \n",
       "2                          9.849262                                 0.034110   \n",
       "3                         12.304298                                 1.488361   \n",
       "4                         10.891645                                 1.658308   \n",
       "\n",
       "   android_sensor_rotation_vector_mean  android_sensor_rotation_vector_max  \\\n",
       "0                             0.050413                            0.056351   \n",
       "1                             0.999981                            0.999999   \n",
       "2                             0.610456                            0.610456   \n",
       "3                             0.998112                            0.998112   \n",
       "4                             0.322242                            0.378193   \n",
       "\n",
       "   android_sensor_accelerometer_min  \\\n",
       "0                          9.758895   \n",
       "1                          7.707437   \n",
       "2                          9.804817   \n",
       "3                          7.659674   \n",
       "4                          8.965621   \n",
       "\n",
       "   android_sensor_magnetic_field_uncalibrated_min  sound_min  target    user  \n",
       "0                                       51.199707  83.859708       0    Luca  \n",
       "1                                       82.409890  89.065143       2    Luca  \n",
       "2                                       55.501802  83.859708       0    Luca  \n",
       "3                                       95.664309  87.470377       2    Luca  \n",
       "4                                      156.795909  89.770732       2  andrea  "
      ]
     },
     "execution_count": 6,
     "metadata": {},
     "output_type": "execute_result"
    }
   ],
   "source": [
    "df.head()"
   ]
  },
  {
   "cell_type": "code",
   "execution_count": 7,
   "metadata": {
    "ExecuteTime": {
     "end_time": "2021-05-20T16:42:13.479927Z",
     "start_time": "2021-05-20T16:42:13.439301Z"
    },
    "cell_id": "00002-0d867342-b723-4252-be31-c965430b2e6e",
    "deepnote_cell_type": "code",
    "deepnote_to_be_reexecuted": false,
    "execution_millis": 42,
    "execution_start": 1621363705324,
    "source_hash": "b2ead2ac",
    "tags": []
   },
   "outputs": [
    {
     "name": "stdout",
     "output_type": "stream",
     "text": [
      "5893\n"
     ]
    },
    {
     "data": {
      "text/plain": [
       "android_sensor_gyroscope_mean                     5017\n",
       "android_sensor_accelerometer_std                  5861\n",
       "android_sensor_gyroscope_std                      4926\n",
       "android_sensor_gyroscope_uncalibrated_mean        5001\n",
       "android_sensor_accelerometer_max                  5838\n",
       "android_sensor_linear_acceleration_mean           4972\n",
       "android_sensor_rotation_vector_mean               5003\n",
       "android_sensor_rotation_vector_max                4992\n",
       "android_sensor_accelerometer_min                  5833\n",
       "android_sensor_magnetic_field_uncalibrated_min    4708\n",
       "sound_min                                         2305\n",
       "target                                               4\n",
       "user                                                13\n",
       "dtype: int64"
      ]
     },
     "execution_count": 7,
     "metadata": {},
     "output_type": "execute_result"
    }
   ],
   "source": [
    "print(len(df))\n",
    "df.nunique()"
   ]
  },
  {
   "cell_type": "markdown",
   "metadata": {
    "cell_id": "00003-2e89d36e-78f8-4dfe-84e9-8a692182a8c3",
    "deepnote_cell_type": "text-cell-h3",
    "tags": []
   },
   "source": [
    "### We need to separate users from train and test. (we need atleast 1180 rows of data thats not in train)"
   ]
  },
  {
   "cell_type": "markdown",
   "metadata": {
    "cell_id": "00004-cde78f87-be2c-4eb5-99c3-c51f8faca55c",
    "deepnote_cell_type": "markdown",
    "tags": []
   },
   "source": [
    "#### Drop few users data such that the train data is 80% of original data"
   ]
  },
  {
   "cell_type": "code",
   "execution_count": 8,
   "metadata": {
    "ExecuteTime": {
     "end_time": "2021-05-20T16:42:13.494676Z",
     "start_time": "2021-05-20T16:42:13.484136Z"
    },
    "cell_id": "00005-5bc6e50d-4cdc-42e7-bfa0-1c8d83879947",
    "deepnote_cell_type": "code",
    "deepnote_to_be_reexecuted": false,
    "execution_millis": 62,
    "execution_start": 1621363705386,
    "source_hash": "221cf9ce",
    "tags": []
   },
   "outputs": [],
   "source": [
    "#df['user'].unique().tolist()"
   ]
  },
  {
   "cell_type": "code",
   "execution_count": 9,
   "metadata": {
    "ExecuteTime": {
     "end_time": "2021-05-20T16:42:13.569911Z",
     "start_time": "2021-05-20T16:42:13.499488Z"
    },
    "cell_id": "00004-f19cc539-ae2b-4626-998e-18693b933c36",
    "deepnote_cell_type": "code",
    "deepnote_to_be_reexecuted": false,
    "execution_millis": 180,
    "execution_start": 1621363705774,
    "scrolled": false,
    "source_hash": "5b995ba8",
    "tags": []
   },
   "outputs": [
    {
     "name": "stdout",
     "output_type": "stream",
     "text": [
      "4454\n"
     ]
    },
    {
     "data": {
      "text/html": [
       "<div>\n",
       "<style scoped>\n",
       "    .dataframe tbody tr th:only-of-type {\n",
       "        vertical-align: middle;\n",
       "    }\n",
       "\n",
       "    .dataframe tbody tr th {\n",
       "        vertical-align: top;\n",
       "    }\n",
       "\n",
       "    .dataframe thead th {\n",
       "        text-align: right;\n",
       "    }\n",
       "</style>\n",
       "<table border=\"1\" class=\"dataframe\">\n",
       "  <thead>\n",
       "    <tr style=\"text-align: right;\">\n",
       "      <th></th>\n",
       "      <th>android_sensor_gyroscope_mean</th>\n",
       "      <th>android_sensor_accelerometer_std</th>\n",
       "      <th>android_sensor_gyroscope_std</th>\n",
       "      <th>android_sensor_gyroscope_uncalibrated_mean</th>\n",
       "      <th>android_sensor_accelerometer_max</th>\n",
       "      <th>android_sensor_linear_acceleration_mean</th>\n",
       "      <th>android_sensor_rotation_vector_mean</th>\n",
       "      <th>android_sensor_rotation_vector_max</th>\n",
       "      <th>android_sensor_accelerometer_min</th>\n",
       "      <th>android_sensor_magnetic_field_uncalibrated_min</th>\n",
       "      <th>sound_min</th>\n",
       "      <th>target</th>\n",
       "      <th>user</th>\n",
       "    </tr>\n",
       "  </thead>\n",
       "  <tbody>\n",
       "    <tr>\n",
       "      <th>4</th>\n",
       "      <td>0.183202</td>\n",
       "      <td>0.504117</td>\n",
       "      <td>0.098819</td>\n",
       "      <td>0.265652</td>\n",
       "      <td>10.891645</td>\n",
       "      <td>1.658308</td>\n",
       "      <td>0.322242</td>\n",
       "      <td>0.378193</td>\n",
       "      <td>8.965621</td>\n",
       "      <td>156.795909</td>\n",
       "      <td>89.770732</td>\n",
       "      <td>2</td>\n",
       "      <td>andrea</td>\n",
       "    </tr>\n",
       "    <tr>\n",
       "      <th>5</th>\n",
       "      <td>0.053366</td>\n",
       "      <td>0.103857</td>\n",
       "      <td>0.028408</td>\n",
       "      <td>0.060895</td>\n",
       "      <td>9.520044</td>\n",
       "      <td>0.471370</td>\n",
       "      <td>0.880361</td>\n",
       "      <td>0.904736</td>\n",
       "      <td>9.149029</td>\n",
       "      <td>134.198130</td>\n",
       "      <td>57.361127</td>\n",
       "      <td>2</td>\n",
       "      <td>Federica</td>\n",
       "    </tr>\n",
       "    <tr>\n",
       "      <th>6</th>\n",
       "      <td>0.004100</td>\n",
       "      <td>0.013489</td>\n",
       "      <td>0.001801</td>\n",
       "      <td>0.042991</td>\n",
       "      <td>9.816197</td>\n",
       "      <td>0.027441</td>\n",
       "      <td>0.201198</td>\n",
       "      <td>0.201318</td>\n",
       "      <td>9.758751</td>\n",
       "      <td>170.521377</td>\n",
       "      <td>65.158369</td>\n",
       "      <td>3</td>\n",
       "      <td>michelangelo</td>\n",
       "    </tr>\n",
       "    <tr>\n",
       "      <th>8</th>\n",
       "      <td>0.041554</td>\n",
       "      <td>0.255053</td>\n",
       "      <td>0.030074</td>\n",
       "      <td>0.065754</td>\n",
       "      <td>10.027802</td>\n",
       "      <td>0.278997</td>\n",
       "      <td>0.780795</td>\n",
       "      <td>0.786845</td>\n",
       "      <td>8.996134</td>\n",
       "      <td>134.611517</td>\n",
       "      <td>89.808441</td>\n",
       "      <td>3</td>\n",
       "      <td>andrea</td>\n",
       "    </tr>\n",
       "    <tr>\n",
       "      <th>9</th>\n",
       "      <td>0.037451</td>\n",
       "      <td>0.267791</td>\n",
       "      <td>0.021391</td>\n",
       "      <td>0.030491</td>\n",
       "      <td>10.068528</td>\n",
       "      <td>0.255172</td>\n",
       "      <td>0.968082</td>\n",
       "      <td>0.968806</td>\n",
       "      <td>9.014786</td>\n",
       "      <td>140.174223</td>\n",
       "      <td>89.815738</td>\n",
       "      <td>3</td>\n",
       "      <td>andrea</td>\n",
       "    </tr>\n",
       "  </tbody>\n",
       "</table>\n",
       "</div>"
      ],
      "text/plain": [
       "   android_sensor_gyroscope_mean  android_sensor_accelerometer_std  \\\n",
       "4                       0.183202                          0.504117   \n",
       "5                       0.053366                          0.103857   \n",
       "6                       0.004100                          0.013489   \n",
       "8                       0.041554                          0.255053   \n",
       "9                       0.037451                          0.267791   \n",
       "\n",
       "   android_sensor_gyroscope_std  android_sensor_gyroscope_uncalibrated_mean  \\\n",
       "4                      0.098819                                    0.265652   \n",
       "5                      0.028408                                    0.060895   \n",
       "6                      0.001801                                    0.042991   \n",
       "8                      0.030074                                    0.065754   \n",
       "9                      0.021391                                    0.030491   \n",
       "\n",
       "   android_sensor_accelerometer_max  android_sensor_linear_acceleration_mean  \\\n",
       "4                         10.891645                                 1.658308   \n",
       "5                          9.520044                                 0.471370   \n",
       "6                          9.816197                                 0.027441   \n",
       "8                         10.027802                                 0.278997   \n",
       "9                         10.068528                                 0.255172   \n",
       "\n",
       "   android_sensor_rotation_vector_mean  android_sensor_rotation_vector_max  \\\n",
       "4                             0.322242                            0.378193   \n",
       "5                             0.880361                            0.904736   \n",
       "6                             0.201198                            0.201318   \n",
       "8                             0.780795                            0.786845   \n",
       "9                             0.968082                            0.968806   \n",
       "\n",
       "   android_sensor_accelerometer_min  \\\n",
       "4                          8.965621   \n",
       "5                          9.149029   \n",
       "6                          9.758751   \n",
       "8                          8.996134   \n",
       "9                          9.014786   \n",
       "\n",
       "   android_sensor_magnetic_field_uncalibrated_min  sound_min  target  \\\n",
       "4                                      156.795909  89.770732       2   \n",
       "5                                      134.198130  57.361127       2   \n",
       "6                                      170.521377  65.158369       3   \n",
       "8                                      134.611517  89.808441       3   \n",
       "9                                      140.174223  89.815738       3   \n",
       "\n",
       "           user  \n",
       "4        andrea  \n",
       "5      Federica  \n",
       "6  michelangelo  \n",
       "8        andrea  \n",
       "9        andrea  "
      ]
     },
     "execution_count": 9,
     "metadata": {},
     "output_type": "execute_result"
    }
   ],
   "source": [
    "#TRAIN DATA\n",
    "\n",
    "#drop these users from train data so that the model will never see them in test\n",
    "\n",
    "luca_index = df[df['user'] == 'Luca'].index\n",
    "Ivan_index = df[df['user'] == 'IvanHeibi'].index\n",
    "Pier_index = df[df['user'] == 'Pierpaolo'].index\n",
    "Riccardo_index = df[df['user'] == 'Riccardo'].index\n",
    "\n",
    "# Delete these row indexes from dataFrame\n",
    "train_df = df.drop(luca_index)\n",
    "train_df = train_df.drop(Ivan_index)\n",
    "train_df = train_df.drop(Pier_index)\n",
    "train_df = train_df.drop(Riccardo_index)\n",
    "\n",
    "print(len(train_df))\n",
    "train_df.head()"
   ]
  },
  {
   "cell_type": "code",
   "execution_count": 11,
   "metadata": {
    "ExecuteTime": {
     "end_time": "2021-05-20T16:43:59.010894Z",
     "start_time": "2021-05-20T16:43:58.850270Z"
    }
   },
   "outputs": [],
   "source": [
    "train_df.to_csv(\"model_train.csv\", index = False)"
   ]
  },
  {
   "cell_type": "code",
   "execution_count": null,
   "metadata": {
    "ExecuteTime": {
     "end_time": "2021-05-20T16:14:44.070446Z",
     "start_time": "2021-05-20T16:14:44.045964Z"
    }
   },
   "outputs": [],
   "source": [
    "for name, group in train_df.groupby('user'):\n",
    "    print(name,len(group))"
   ]
  },
  {
   "cell_type": "code",
   "execution_count": null,
   "metadata": {
    "ExecuteTime": {
     "end_time": "2021-05-20T16:14:44.223965Z",
     "start_time": "2021-05-20T16:14:44.128155Z"
    },
    "cell_id": "00007-cafa9e37-8d0e-4ecf-9c76-7ec3f4e1a4d3",
    "deepnote_cell_type": "code",
    "deepnote_to_be_reexecuted": false,
    "execution_millis": 198,
    "execution_start": 1621363705944,
    "scrolled": false,
    "source_hash": "b7ffbea",
    "tags": []
   },
   "outputs": [],
   "source": [
    "#TEST DATA\n",
    "\n",
    "andrea_index = df[df['user'] == 'andrea'].index\n",
    "federica_index = df[df['user'] == 'Federica'].index\n",
    "michel_index = df[df['user'] == 'michelangelo'].index\n",
    "damiano_index = df[df['user'] == 'Damiano'].index\n",
    "claudio_index = df[df['user'] == 'Claudio'].index\n",
    "vincenzo_index = df[df['user'] == 'Vincenzo'].index\n",
    "serena_index = df[df['user'] == 'Serena'].index\n",
    "andreacarpi_index = df[df['user'] == 'AndreaCarpineti'].index\n",
    "elena_index = df[df['user'] == 'Elena'].index\n",
    "\n",
    "\n",
    "# Delete these row indexes from dataFrame\n",
    "test_df = df.drop(andrea_index)\n",
    "test_df = test_df.drop(federica_index)\n",
    "test_df = test_df.drop(michel_index)\n",
    "test_df = test_df.drop(damiano_index)\n",
    "test_df = test_df.drop(claudio_index)\n",
    "test_df = test_df.drop(vincenzo_index)\n",
    "test_df = test_df.drop(serena_index)\n",
    "test_df = test_df.drop(andreacarpi_index)\n",
    "test_df = test_df.drop(elena_index)\n",
    "\n",
    "\n",
    "print(len(test_df))\n",
    "test_df.head()"
   ]
  },
  {
   "cell_type": "code",
   "execution_count": null,
   "metadata": {
    "ExecuteTime": {
     "end_time": "2021-05-20T16:14:44.363007Z",
     "start_time": "2021-05-20T16:14:44.346801Z"
    }
   },
   "outputs": [],
   "source": [
    "#split the features and target in train data\n",
    "print(train_df.user.unique())\n",
    "print(test_df.user.unique())\n",
    "\n",
    "X = train_df.drop(['target','user'], axis = 1)\n",
    "y = train_df.target\n",
    "\n",
    "print(len(X))\n",
    "print(len(y))"
   ]
  },
  {
   "cell_type": "code",
   "execution_count": null,
   "metadata": {
    "ExecuteTime": {
     "end_time": "2021-05-20T16:14:44.588591Z",
     "start_time": "2021-05-20T16:14:44.573358Z"
    }
   },
   "outputs": [],
   "source": [
    "#split the features and target in test data\n",
    "\n",
    "\n",
    "X_test = test_df.drop(['target','user'], axis = 1)\n",
    "y_test = test_df.target\n",
    "\n",
    "print(len(X_test))\n",
    "print(len(y_test))"
   ]
  },
  {
   "cell_type": "code",
   "execution_count": null,
   "metadata": {
    "ExecuteTime": {
     "end_time": "2021-05-20T16:14:44.873783Z",
     "start_time": "2021-05-20T16:14:44.834624Z"
    }
   },
   "outputs": [],
   "source": [
    "X_test.head()"
   ]
  },
  {
   "cell_type": "code",
   "execution_count": null,
   "metadata": {
    "ExecuteTime": {
     "end_time": "2021-05-20T16:14:46.236433Z",
     "start_time": "2021-05-20T16:14:46.208375Z"
    }
   },
   "outputs": [],
   "source": [
    "print(X.nunique())\n",
    "print(y.nunique())"
   ]
  },
  {
   "cell_type": "code",
   "execution_count": null,
   "metadata": {
    "ExecuteTime": {
     "end_time": "2021-05-20T16:14:46.641873Z",
     "start_time": "2021-05-20T16:14:46.628058Z"
    },
    "cell_id": "00004-019aa09b-89ca-4464-82c2-a56d6e8da016",
    "deepnote_cell_type": "code",
    "deepnote_to_be_reexecuted": false,
    "execution_millis": 34,
    "execution_start": 1621363708804,
    "source_hash": "855ade2e",
    "tags": []
   },
   "outputs": [],
   "source": [
    "#numerical columns in the train data\n",
    "\n",
    "num_vars  = list(X.columns)\n",
    "num_vars"
   ]
  },
  {
   "cell_type": "code",
   "execution_count": null,
   "metadata": {
    "ExecuteTime": {
     "end_time": "2021-05-20T16:14:47.194543Z",
     "start_time": "2021-05-20T16:14:47.163567Z"
    },
    "cell_id": "00005-2eb9d5bd-2b12-4c3d-a655-00df01bbf61d",
    "deepnote_cell_type": "code",
    "deepnote_to_be_reexecuted": false,
    "execution_millis": 35,
    "execution_start": 1621363709018,
    "source_hash": "c2a019d5",
    "tags": []
   },
   "outputs": [],
   "source": [
    "# Pipeline for Tree models\n",
    "\n",
    "num_4_treeModels = pipeline.Pipeline(steps=[\n",
    "  ('imputer', impute.SimpleImputer(missing_values=np.nan ,strategy='mean')),\n",
    "  ('Normalizer',RobustScaler())\n",
    "  \n",
    "])\n",
    "\n",
    "\n",
    "tree_prepro = compose.ColumnTransformer(transformers=[\n",
    "    ('num', num_4_treeModels, num_vars),\n",
    "], remainder='drop') # Drop other vars not specified in num_vars or cat_vars\n",
    "\n",
    "tree_prepro"
   ]
  },
  {
   "cell_type": "code",
   "execution_count": null,
   "metadata": {
    "ExecuteTime": {
     "end_time": "2021-05-20T16:14:47.902048Z",
     "start_time": "2021-05-20T16:14:47.826210Z"
    },
    "cell_id": "00012-8a50c9be-6e59-44e3-b3c8-c19526ba2a9f",
    "deepnote_cell_type": "code",
    "deepnote_to_be_reexecuted": false,
    "execution_millis": 43,
    "execution_start": 1621363709573,
    "source_hash": "fb2cfa9b",
    "tags": []
   },
   "outputs": [],
   "source": [
    "#import the tress models\n",
    "\n",
    "from sklearn.tree          import DecisionTreeClassifier\n",
    "from sklearn.ensemble      import RandomForestClassifier\n",
    "from sklearn.ensemble      import ExtraTreesClassifier\n",
    "from sklearn.ensemble      import AdaBoostClassifier\n",
    "from sklearn.ensemble      import GradientBoostingClassifier\n",
    "from sklearn.experimental  import enable_hist_gradient_boosting # Necesary for HistGradientBoostingClassifier\n",
    "from sklearn.ensemble      import HistGradientBoostingClassifier\n",
    "#from xgboost               import XGBClassifier\n",
    "#from lightgbm              import LGBMClassifier\n",
    "#from catboost              import CatBoostClassifier"
   ]
  },
  {
   "cell_type": "code",
   "execution_count": null,
   "metadata": {
    "ExecuteTime": {
     "end_time": "2021-05-20T16:14:48.373611Z",
     "start_time": "2021-05-20T16:14:48.366793Z"
    },
    "cell_id": "00013-6743ce06-93cf-494c-a63a-ad315d2d93b7",
    "deepnote_cell_type": "code",
    "deepnote_to_be_reexecuted": false,
    "execution_millis": 4,
    "execution_start": 1621363711972,
    "source_hash": "7ab7463d",
    "tags": []
   },
   "outputs": [],
   "source": [
    "#create a dict with the models that we want to train on\n",
    "\n",
    "tree_classifiers = {\n",
    "  \"Decision Tree\": DecisionTreeClassifier(),\n",
    "  \"Extra Trees\":ExtraTreesClassifier(),\n",
    "  \"Random Forest\":RandomForestClassifier(),\n",
    "  \"AdaBoost\":AdaBoostClassifier(),\n",
    "  \"Skl GBM\":GradientBoostingClassifier(),\n",
    "  \"Skl HistGBM\":GradientBoostingClassifier()\n",
    "  #\"XGBoost\":XGBClassifier(),\n",
    "  #\"LightGBM\":LGBMClassifier(),\n",
    "  #\"CatBoost\":CatBoostClassifier()\n",
    "}"
   ]
  },
  {
   "cell_type": "code",
   "execution_count": null,
   "metadata": {
    "ExecuteTime": {
     "end_time": "2021-05-20T16:14:48.850903Z",
     "start_time": "2021-05-20T16:14:48.837323Z"
    },
    "cell_id": "00014-63efaa2c-5a5f-4baa-8bec-b49eaebe643f",
    "deepnote_cell_type": "code",
    "deepnote_to_be_reexecuted": false,
    "execution_millis": 5,
    "execution_start": 1621363712341,
    "source_hash": "68d56ff9",
    "tags": []
   },
   "outputs": [],
   "source": [
    "#pass the pipeline to everymodel\n",
    "\n",
    "tree_classifiers = {name: pipeline.make_pipeline(tree_prepro, model) for name, model in tree_classifiers.items()}\n",
    "#tree_classifiers"
   ]
  },
  {
   "cell_type": "code",
   "execution_count": null,
   "metadata": {
    "ExecuteTime": {
     "end_time": "2021-05-20T16:15:06.941441Z",
     "start_time": "2021-05-20T16:14:49.914257Z"
    },
    "cell_id": "00015-3a2e9ccc-7c1f-49bf-8f02-c65dee0ea93f",
    "deepnote_cell_type": "code",
    "deepnote_to_be_reexecuted": false,
    "execution_millis": 27136,
    "execution_start": 1621363717362,
    "output_cleared": false,
    "scrolled": true,
    "source_hash": "504b53c6",
    "tags": []
   },
   "outputs": [],
   "source": [
    "#fit the data to the model\n",
    "\n",
    "results = pd.DataFrame({'Model': [], 'Accuracy': [], 'Bal Acc.': [], 'Time': []})\n",
    "\n",
    "x_train, x_val, y_train, y_val = model_selection.train_test_split(\n",
    "    X, y,\n",
    "    test_size=0.2,\n",
    "    stratify = y,   \n",
    "    random_state=37\n",
    ")\n",
    "\n",
    "for model_name, model in tree_classifiers.items():\n",
    "\n",
    "    start_time = time.time()\n",
    "    model.fit(x_train, y_train)\n",
    "    total_time = time.time() - start_time\n",
    "    \n",
    "    pred = model.predict(X_test)  \n",
    "    \n",
    "    results = results.append({\"Model\":    model_name,\n",
    "                              \"Accuracy\": metrics.accuracy_score(y_test, pred)*100,\n",
    "                              \"Bal Acc.\": metrics.balanced_accuracy_score(y_test, pred)*100,\n",
    "                              \"Time\":     total_time},\n",
    "                              ignore_index=True)\n",
    "\n",
    "    \n",
    "results_ord = results.sort_values(by=['Accuracy'], ascending=False, ignore_index=True)\n",
    "results_ord.index += 1 \n",
    "results_ord.style.bar(subset=['Accuracy', 'Bal Acc.'], vmin=0, vmax=100, color='#5fba7d')"
   ]
  },
  {
   "cell_type": "code",
   "execution_count": null,
   "metadata": {
    "ExecuteTime": {
     "end_time": "2021-05-20T16:18:43.107291Z",
     "start_time": "2021-05-20T16:18:43.089656Z"
    }
   },
   "outputs": [],
   "source": [
    "results_ord.Accuracy.values[0]"
   ]
  },
  {
   "cell_type": "code",
   "execution_count": null,
   "metadata": {
    "ExecuteTime": {
     "end_time": "2021-05-20T16:16:27.613310Z",
     "start_time": "2021-05-20T16:16:27.591325Z"
    },
    "cell_id": "00022-a06f3c51-1751-4446-8a74-8dfcc10b5f12",
    "deepnote_cell_type": "code",
    "deepnote_to_be_reexecuted": false,
    "execution_millis": 12,
    "execution_start": 1621363756370,
    "source_hash": "1d2f62eb",
    "tags": []
   },
   "outputs": [],
   "source": [
    "from sklearn.metrics import classification_report,confusion_matrix\n",
    "\n",
    "print(confusion_matrix(y_test, pred))\n"
   ]
  },
  {
   "cell_type": "code",
   "execution_count": null,
   "metadata": {
    "ExecuteTime": {
     "end_time": "2021-05-19T21:44:19.521109Z",
     "start_time": "2021-05-19T21:44:18.867Z"
    }
   },
   "outputs": [],
   "source": [
    "\n",
    "\n",
    "# # save the model to disk\n",
    "# filename = 'final_model_v1.sav'\n",
    "# pickle.dump(model, open(filename, 'wb'))\n",
    " \n",
    "# # load the model from disk\n",
    "# #loaded_model = pickle.load(open(filename, 'rb'))\n",
    "# #result = loaded_model.score(X_test, Y_test)\n",
    "# #print(result)"
   ]
  },
  {
   "cell_type": "code",
   "execution_count": null,
   "metadata": {},
   "outputs": [],
   "source": []
  }
 ],
 "metadata": {
  "deepnote": {
   "is_reactive": false
  },
  "deepnote_execution_queue": [],
  "deepnote_notebook_id": "f3fda45e-771b-4be0-8f3d-5c9ac5018648",
  "kernelspec": {
   "display_name": "Python 3",
   "language": "python",
   "name": "python3"
  },
  "language_info": {
   "codemirror_mode": {
    "name": "ipython",
    "version": 3
   },
   "file_extension": ".py",
   "mimetype": "text/x-python",
   "name": "python",
   "nbconvert_exporter": "python",
   "pygments_lexer": "ipython3",
   "version": "3.8.8"
  }
 },
 "nbformat": 4,
 "nbformat_minor": 2
}
