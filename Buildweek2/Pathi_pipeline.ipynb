{
 "cells": [
  {
   "cell_type": "code",
   "metadata": {
    "tags": [],
    "cell_id": "00000-ef2d781e-122e-41c7-be55-6dd3d3f4fd1b",
    "deepnote_to_be_reexecuted": false,
    "source_hash": "2af09878",
    "execution_start": 1621335228760,
    "execution_millis": 1684,
    "deepnote_cell_type": "code"
   },
   "source": "# Do the necessary imports\n\nimport time\nfrom IPython.display import clear_output\nimport numpy    as np\nimport pandas   as pd\nimport seaborn  as sb\nimport matplotlib.pyplot as plt\nimport sklearn  as skl\n\nfrom sklearn import pipeline      # Pipeline\nfrom sklearn import preprocessing # OrdinalEncoder, LabelEncoder\nfrom sklearn.preprocessing import RobustScaler\nfrom sklearn import impute\nfrom sklearn import compose\nfrom sklearn import model_selection # train_test_split\nfrom sklearn import metrics         # accuracy_score, balanced_accuracy_score, plot_confusion_matrix\nfrom sklearn import set_config\n\nset_config(display='diagram') # Useful for display the pipeline\n\nprint('setup complete')",
   "execution_count": 1,
   "outputs": [
    {
     "name": "stdout",
     "text": "setup complete\n",
     "output_type": "stream"
    }
   ]
  },
  {
   "cell_type": "code",
   "metadata": {
    "tags": [],
    "cell_id": "00001-1047af00-e709-4c03-bbb5-744ca2e45748",
    "deepnote_to_be_reexecuted": false,
    "source_hash": "55692710",
    "execution_start": 1621335238129,
    "execution_millis": 43,
    "deepnote_cell_type": "code"
   },
   "source": "df = pd.read_csv('pathi_test.csv')",
   "execution_count": 2,
   "outputs": []
  },
  {
   "cell_type": "code",
   "metadata": {
    "tags": [],
    "cell_id": "00002-f091d80f-4fa7-42f7-bece-5c7c25dd8bb5",
    "deepnote_to_be_reexecuted": false,
    "source_hash": "c085b6ba",
    "execution_start": 1621335242546,
    "execution_millis": 99,
    "deepnote_cell_type": "code"
   },
   "source": "df.head()",
   "execution_count": 3,
   "outputs": [
    {
     "output_type": "execute_result",
     "execution_count": 3,
     "data": {
      "application/vnd.deepnote.dataframe.v2+json": {
       "row_count": 5,
       "column_count": 15,
       "columns": [
        {
         "name": "id",
         "dtype": "int64",
         "stats": {
          "unique_count": 5,
          "nan_count": 0,
          "min": "876",
          "max": "16811",
          "histogram": [
           {
            "bin_start": 876,
            "bin_end": 2469.5,
            "count": 1
           },
           {
            "bin_start": 2469.5,
            "bin_end": 4063,
            "count": 0
           },
           {
            "bin_start": 4063,
            "bin_end": 5656.5,
            "count": 0
           },
           {
            "bin_start": 5656.5,
            "bin_end": 7250,
            "count": 0
           },
           {
            "bin_start": 7250,
            "bin_end": 8843.5,
            "count": 0
           },
           {
            "bin_start": 8843.5,
            "bin_end": 10437,
            "count": 0
           },
           {
            "bin_start": 10437,
            "bin_end": 12030.5,
            "count": 0
           },
           {
            "bin_start": 12030.5,
            "bin_end": 13624,
            "count": 0
           },
           {
            "bin_start": 13624,
            "bin_end": 15217.5,
            "count": 0
           },
           {
            "bin_start": 15217.5,
            "bin_end": 16811,
            "count": 4
           }
          ]
         }
        },
        {
         "name": "user",
         "dtype": "object",
         "stats": {
          "unique_count": 2,
          "nan_count": 0,
          "categories": [
           {
            "name": "Luca",
            "count": 4
           },
           {
            "name": "andrea",
            "count": 1
           }
          ]
         }
        },
        {
         "name": "android_sensor_gyroscope_mean",
         "dtype": "float64",
         "stats": {
          "unique_count": 5,
          "nan_count": 0,
          "min": "0.00152461653211",
          "max": "0.183202097809",
          "histogram": [
           {
            "bin_start": 0.00152461653211,
            "bin_end": 0.019692364659799,
            "count": 2
           },
           {
            "bin_start": 0.019692364659799,
            "bin_end": 0.037860112787488,
            "count": 2
           },
           {
            "bin_start": 0.037860112787488,
            "bin_end": 0.056027860915177,
            "count": 0
           },
           {
            "bin_start": 0.056027860915177,
            "bin_end": 0.074195609042866,
            "count": 0
           },
           {
            "bin_start": 0.074195609042866,
            "bin_end": 0.092363357170555,
            "count": 0
           },
           {
            "bin_start": 0.092363357170555,
            "bin_end": 0.110531105298244,
            "count": 0
           },
           {
            "bin_start": 0.110531105298244,
            "bin_end": 0.12869885342593299,
            "count": 0
           },
           {
            "bin_start": 0.12869885342593299,
            "bin_end": 0.146866601553622,
            "count": 0
           },
           {
            "bin_start": 0.146866601553622,
            "bin_end": 0.165034349681311,
            "count": 0
           },
           {
            "bin_start": 0.165034349681311,
            "bin_end": 0.183202097809,
            "count": 1
           }
          ]
         }
        },
        {
         "name": "android_sensor_accelerometer_std",
         "dtype": "float64",
         "stats": {
          "unique_count": 5,
          "nan_count": 0,
          "min": "0.0111991059917",
          "max": "1.7759442967",
          "histogram": [
           {
            "bin_start": 0.0111991059917,
            "bin_end": 0.18767362506253,
            "count": 2
           },
           {
            "bin_start": 0.18767362506253,
            "bin_end": 0.36414814413336,
            "count": 0
           },
           {
            "bin_start": 0.36414814413336,
            "bin_end": 0.5406226632041901,
            "count": 1
           },
           {
            "bin_start": 0.5406226632041901,
            "bin_end": 0.7170971822750201,
            "count": 0
           },
           {
            "bin_start": 0.7170971822750201,
            "bin_end": 0.8935717013458501,
            "count": 1
           },
           {
            "bin_start": 0.8935717013458501,
            "bin_end": 1.07004622041668,
            "count": 0
           },
           {
            "bin_start": 1.07004622041668,
            "bin_end": 1.24652073948751,
            "count": 0
           },
           {
            "bin_start": 1.24652073948751,
            "bin_end": 1.42299525855834,
            "count": 0
           },
           {
            "bin_start": 1.42299525855834,
            "bin_end": 1.5994697776291702,
            "count": 0
           },
           {
            "bin_start": 1.5994697776291702,
            "bin_end": 1.7759442967,
            "count": 1
           }
          ]
         }
        },
        {
         "name": "android_sensor_gyroscope_std",
         "dtype": "float64",
         "stats": {
          "unique_count": 5,
          "nan_count": 0,
          "min": "0.000712700740663",
          "max": "0.0988191384778",
          "histogram": [
           {
            "bin_start": 0.000712700740663,
            "bin_end": 0.0105233445143767,
            "count": 2
           },
           {
            "bin_start": 0.0105233445143767,
            "bin_end": 0.0203339882880904,
            "count": 2
           },
           {
            "bin_start": 0.0203339882880904,
            "bin_end": 0.0301446320618041,
            "count": 0
           },
           {
            "bin_start": 0.0301446320618041,
            "bin_end": 0.0399552758355178,
            "count": 0
           },
           {
            "bin_start": 0.0399552758355178,
            "bin_end": 0.0497659196092315,
            "count": 0
           },
           {
            "bin_start": 0.0497659196092315,
            "bin_end": 0.0595765633829452,
            "count": 0
           },
           {
            "bin_start": 0.0595765633829452,
            "bin_end": 0.0693872071566589,
            "count": 0
           },
           {
            "bin_start": 0.0693872071566589,
            "bin_end": 0.0791978509303726,
            "count": 0
           },
           {
            "bin_start": 0.0791978509303726,
            "bin_end": 0.0890084947040863,
            "count": 0
           },
           {
            "bin_start": 0.0890084947040863,
            "bin_end": 0.0988191384778,
            "count": 1
           }
          ]
         }
        },
        {
         "name": "android_sensor_gyroscope_uncalibrated_mean",
         "dtype": "float64",
         "stats": {
          "unique_count": 5,
          "nan_count": 0,
          "min": "0.0162213599906",
          "max": "0.265652184888",
          "histogram": [
           {
            "bin_start": 0.0162213599906,
            "bin_end": 0.04116444248034,
            "count": 3
           },
           {
            "bin_start": 0.04116444248034,
            "bin_end": 0.06610752497008,
            "count": 1
           },
           {
            "bin_start": 0.06610752497008,
            "bin_end": 0.09105060745982,
            "count": 0
           },
           {
            "bin_start": 0.09105060745982,
            "bin_end": 0.11599368994956,
            "count": 0
           },
           {
            "bin_start": 0.11599368994956,
            "bin_end": 0.1409367724393,
            "count": 0
           },
           {
            "bin_start": 0.1409367724393,
            "bin_end": 0.16587985492904,
            "count": 0
           },
           {
            "bin_start": 0.16587985492904,
            "bin_end": 0.19082293741878,
            "count": 0
           },
           {
            "bin_start": 0.19082293741878,
            "bin_end": 0.21576601990852,
            "count": 0
           },
           {
            "bin_start": 0.21576601990852,
            "bin_end": 0.24070910239826002,
            "count": 0
           },
           {
            "bin_start": 0.24070910239826002,
            "bin_end": 0.265652184888,
            "count": 1
           }
          ]
         }
        },
        {
         "name": "android_sensor_accelerometer_max",
         "dtype": "float64",
         "stats": {
          "unique_count": 5,
          "nan_count": 0,
          "min": "9.84926211274",
          "max": "17.1466311902",
          "histogram": [
           {
            "bin_start": 9.84926211274,
            "bin_end": 10.578999020486,
            "count": 2
           },
           {
            "bin_start": 10.578999020486,
            "bin_end": 11.308735928232,
            "count": 1
           },
           {
            "bin_start": 11.308735928232,
            "bin_end": 12.038472835978,
            "count": 0
           },
           {
            "bin_start": 12.038472835978,
            "bin_end": 12.768209743724,
            "count": 1
           },
           {
            "bin_start": 12.768209743724,
            "bin_end": 13.49794665147,
            "count": 0
           },
           {
            "bin_start": 13.49794665147,
            "bin_end": 14.227683559216,
            "count": 0
           },
           {
            "bin_start": 14.227683559216,
            "bin_end": 14.957420466962,
            "count": 0
           },
           {
            "bin_start": 14.957420466962,
            "bin_end": 15.687157374708,
            "count": 0
           },
           {
            "bin_start": 15.687157374708,
            "bin_end": 16.416894282454003,
            "count": 0
           },
           {
            "bin_start": 16.416894282454003,
            "bin_end": 17.1466311902,
            "count": 1
           }
          ]
         }
        },
        {
         "name": "android_sensor_linear_acceleration_mean",
         "dtype": "float64",
         "stats": {
          "unique_count": 5,
          "nan_count": 0,
          "min": "0.0209778383629",
          "max": "1.65830750209",
          "histogram": [
           {
            "bin_start": 0.0209778383629,
            "bin_end": 0.18471080473561002,
            "count": 2
           },
           {
            "bin_start": 0.18471080473561002,
            "bin_end": 0.34844377110832003,
            "count": 0
           },
           {
            "bin_start": 0.34844377110832003,
            "bin_end": 0.51217673748103,
            "count": 0
           },
           {
            "bin_start": 0.51217673748103,
            "bin_end": 0.67590970385374,
            "count": 0
           },
           {
            "bin_start": 0.67590970385374,
            "bin_end": 0.8396426702264501,
            "count": 0
           },
           {
            "bin_start": 0.8396426702264501,
            "bin_end": 1.00337563659916,
            "count": 1
           },
           {
            "bin_start": 1.00337563659916,
            "bin_end": 1.16710860297187,
            "count": 0
           },
           {
            "bin_start": 1.16710860297187,
            "bin_end": 1.33084156934458,
            "count": 0
           },
           {
            "bin_start": 1.33084156934458,
            "bin_end": 1.4945745357172902,
            "count": 1
           },
           {
            "bin_start": 1.4945745357172902,
            "bin_end": 1.65830750209,
            "count": 1
           }
          ]
         }
        },
        {
         "name": "speed_mean",
         "dtype": "float64",
         "stats": {
          "unique_count": 4,
          "nan_count": 0,
          "min": "0.0",
          "max": "17.739895",
          "histogram": [
           {
            "bin_start": 0,
            "bin_end": 1.7739895,
            "count": 2
           },
           {
            "bin_start": 1.7739895,
            "bin_end": 3.547979,
            "count": 0
           },
           {
            "bin_start": 3.547979,
            "bin_end": 5.3219685000000005,
            "count": 0
           },
           {
            "bin_start": 5.3219685000000005,
            "bin_end": 7.095958,
            "count": 0
           },
           {
            "bin_start": 7.095958,
            "bin_end": 8.8699475,
            "count": 0
           },
           {
            "bin_start": 8.8699475,
            "bin_end": 10.643937000000001,
            "count": 1
           },
           {
            "bin_start": 10.643937000000001,
            "bin_end": 12.4179265,
            "count": 0
           },
           {
            "bin_start": 12.4179265,
            "bin_end": 14.191916,
            "count": 0
           },
           {
            "bin_start": 14.191916,
            "bin_end": 15.965905500000002,
            "count": 0
           },
           {
            "bin_start": 15.965905500000002,
            "bin_end": 17.739895,
            "count": 2
           }
          ]
         }
        },
        {
         "name": "android_sensor_rotation_vector_mean",
         "dtype": "float64",
         "stats": {
          "unique_count": 5,
          "nan_count": 0,
          "min": "0.050413140269",
          "max": "0.999981228739",
          "histogram": [
           {
            "bin_start": 0.050413140269,
            "bin_end": 0.14536994911599999,
            "count": 1
           },
           {
            "bin_start": 0.14536994911599999,
            "bin_end": 0.24032675796300002,
            "count": 0
           },
           {
            "bin_start": 0.24032675796300002,
            "bin_end": 0.33528356681000004,
            "count": 1
           },
           {
            "bin_start": 0.33528356681000004,
            "bin_end": 0.430240375657,
            "count": 0
           },
           {
            "bin_start": 0.430240375657,
            "bin_end": 0.525197184504,
            "count": 0
           },
           {
            "bin_start": 0.525197184504,
            "bin_end": 0.6201539933510001,
            "count": 1
           },
           {
            "bin_start": 0.6201539933510001,
            "bin_end": 0.715110802198,
            "count": 0
           },
           {
            "bin_start": 0.715110802198,
            "bin_end": 0.810067611045,
            "count": 0
           },
           {
            "bin_start": 0.810067611045,
            "bin_end": 0.905024419892,
            "count": 0
           },
           {
            "bin_start": 0.905024419892,
            "bin_end": 0.999981228739,
            "count": 2
           }
          ]
         }
        },
        {
         "name": "android_sensor_rotation_vector_max",
         "dtype": "float64",
         "stats": {
          "unique_count": 5,
          "nan_count": 0,
          "min": "0.0563513538347",
          "max": "0.999999403768",
          "histogram": [
           {
            "bin_start": 0.0563513538347,
            "bin_end": 0.15071615882803,
            "count": 1
           },
           {
            "bin_start": 0.15071615882803,
            "bin_end": 0.24508096382136,
            "count": 0
           },
           {
            "bin_start": 0.24508096382136,
            "bin_end": 0.33944576881469,
            "count": 0
           },
           {
            "bin_start": 0.33944576881469,
            "bin_end": 0.43381057380802,
            "count": 1
           },
           {
            "bin_start": 0.43381057380802,
            "bin_end": 0.52817537880135,
            "count": 0
           },
           {
            "bin_start": 0.52817537880135,
            "bin_end": 0.62254018379468,
            "count": 1
           },
           {
            "bin_start": 0.62254018379468,
            "bin_end": 0.71690498878801,
            "count": 0
           },
           {
            "bin_start": 0.71690498878801,
            "bin_end": 0.81126979378134,
            "count": 0
           },
           {
            "bin_start": 0.81126979378134,
            "bin_end": 0.90563459877467,
            "count": 0
           },
           {
            "bin_start": 0.90563459877467,
            "bin_end": 0.999999403768,
            "count": 2
           }
          ]
         }
        },
        {
         "name": "android_sensor_accelerometer_min",
         "dtype": "float64",
         "stats": {
          "unique_count": 5,
          "nan_count": 0,
          "min": "7.65967372861",
          "max": "9.80481712742",
          "histogram": [
           {
            "bin_start": 7.65967372861,
            "bin_end": 7.874188068491,
            "count": 2
           },
           {
            "bin_start": 7.874188068491,
            "bin_end": 8.088702408371999,
            "count": 0
           },
           {
            "bin_start": 8.088702408371999,
            "bin_end": 8.303216748253,
            "count": 0
           },
           {
            "bin_start": 8.303216748253,
            "bin_end": 8.517731088134,
            "count": 0
           },
           {
            "bin_start": 8.517731088134,
            "bin_end": 8.732245428015,
            "count": 0
           },
           {
            "bin_start": 8.732245428015,
            "bin_end": 8.946759767896,
            "count": 0
           },
           {
            "bin_start": 8.946759767896,
            "bin_end": 9.161274107777,
            "count": 1
           },
           {
            "bin_start": 9.161274107777,
            "bin_end": 9.375788447658,
            "count": 0
           },
           {
            "bin_start": 9.375788447658,
            "bin_end": 9.590302787539,
            "count": 0
           },
           {
            "bin_start": 9.590302787539,
            "bin_end": 9.80481712742,
            "count": 2
           }
          ]
         }
        },
        {
         "name": "android_sensor_magnetic_field_uncalibrated_min",
         "dtype": "float64",
         "stats": {
          "unique_count": 5,
          "nan_count": 0,
          "min": "51.1997072531",
          "max": "156.79590908",
          "histogram": [
           {
            "bin_start": 51.1997072531,
            "bin_end": 61.75932743579,
            "count": 2
           },
           {
            "bin_start": 61.75932743579,
            "bin_end": 72.31894761848,
            "count": 0
           },
           {
            "bin_start": 72.31894761848,
            "bin_end": 82.87856780117,
            "count": 1
           },
           {
            "bin_start": 82.87856780117,
            "bin_end": 93.43818798386,
            "count": 0
           },
           {
            "bin_start": 93.43818798386,
            "bin_end": 103.99780816655,
            "count": 1
           },
           {
            "bin_start": 103.99780816655,
            "bin_end": 114.55742834924001,
            "count": 0
           },
           {
            "bin_start": 114.55742834924001,
            "bin_end": 125.11704853193001,
            "count": 0
           },
           {
            "bin_start": 125.11704853193001,
            "bin_end": 135.67666871462,
            "count": 0
           },
           {
            "bin_start": 135.67666871462,
            "bin_end": 146.23628889731,
            "count": 0
           },
           {
            "bin_start": 146.23628889731,
            "bin_end": 156.79590908,
            "count": 1
           }
          ]
         }
        },
        {
         "name": "sound_min",
         "dtype": "float64",
         "stats": {
          "unique_count": 3,
          "nan_count": 2,
          "min": "87.4703770994",
          "max": "89.770732316",
          "histogram": [
           {
            "bin_start": 87.4703770994,
            "bin_end": 87.70041262106,
            "count": 1
           },
           {
            "bin_start": 87.70041262106,
            "bin_end": 87.93044814272,
            "count": 0
           },
           {
            "bin_start": 87.93044814272,
            "bin_end": 88.16048366438,
            "count": 0
           },
           {
            "bin_start": 88.16048366438,
            "bin_end": 88.39051918604,
            "count": 0
           },
           {
            "bin_start": 88.39051918604,
            "bin_end": 88.6205547077,
            "count": 0
           },
           {
            "bin_start": 88.6205547077,
            "bin_end": 88.85059022936,
            "count": 0
           },
           {
            "bin_start": 88.85059022936,
            "bin_end": 89.08062575102,
            "count": 1
           },
           {
            "bin_start": 89.08062575102,
            "bin_end": 89.31066127268,
            "count": 0
           },
           {
            "bin_start": 89.31066127268,
            "bin_end": 89.54069679434,
            "count": 0
           },
           {
            "bin_start": 89.54069679434,
            "bin_end": 89.770732316,
            "count": 1
           }
          ]
         }
        },
        {
         "name": "target",
         "dtype": "object",
         "stats": {
          "unique_count": 2,
          "nan_count": 0,
          "categories": [
           {
            "name": "Car",
            "count": 3
           },
           {
            "name": "Still",
            "count": 2
           }
          ]
         }
        },
        {
         "name": "_deepnote_index_column",
         "dtype": "int64"
        }
       ],
       "rows_top": [
        {
         "id": 16170,
         "user": "Luca",
         "android_sensor_gyroscope_mean": 0.00165077522136,
         "android_sensor_accelerometer_std": 0.0146255073331,
         "android_sensor_gyroscope_std": 0.000736963641413,
         "android_sensor_gyroscope_uncalibrated_mean": 0.0162213599906,
         "android_sensor_accelerometer_max": 9.84941095639,
         "android_sensor_linear_acceleration_mean": 0.0209778383629,
         "speed_mean": 0,
         "android_sensor_rotation_vector_mean": 0.050413140269,
         "android_sensor_rotation_vector_max": 0.0563513538347,
         "android_sensor_accelerometer_min": 9.75889547269,
         "android_sensor_magnetic_field_uncalibrated_min": 51.1997072531,
         "sound_min": "nan",
         "target": "Still",
         "_deepnote_index_column": 0
        },
        {
         "id": 15871,
         "user": "Luca",
         "android_sensor_gyroscope_mean": 0.0363257142488,
         "android_sensor_accelerometer_std": 1.7759442967,
         "android_sensor_gyroscope_std": 0.0202897002181,
         "android_sensor_gyroscope_uncalibrated_mean": 0.0390225389502,
         "android_sensor_accelerometer_max": 17.1466311902,
         "android_sensor_linear_acceleration_mean": 0.879220182554,
         "speed_mean": 16.539349,
         "android_sensor_rotation_vector_mean": 0.999981228739,
         "android_sensor_rotation_vector_max": 0.999999403768,
         "android_sensor_accelerometer_min": 7.70743742161,
         "android_sensor_magnetic_field_uncalibrated_min": 82.4098901832,
         "sound_min": "89.06514335",
         "target": "Car",
         "_deepnote_index_column": 1
        },
        {
         "id": 16811,
         "user": "Luca",
         "android_sensor_gyroscope_mean": 0.00152461653211,
         "android_sensor_accelerometer_std": 0.0111991059917,
         "android_sensor_gyroscope_std": 0.000712700740663,
         "android_sensor_gyroscope_uncalibrated_mean": 0.016301566129,
         "android_sensor_accelerometer_max": 9.84926211274,
         "android_sensor_linear_acceleration_mean": 0.0341102311454,
         "speed_mean": 0,
         "android_sensor_rotation_vector_mean": 0.610456220789,
         "android_sensor_rotation_vector_max": 0.610456220789,
         "android_sensor_accelerometer_min": 9.80481712742,
         "android_sensor_magnetic_field_uncalibrated_min": 55.5018017726,
         "sound_min": "nan",
         "target": "Still",
         "_deepnote_index_column": 2
        },
        {
         "id": 15831,
         "user": "Luca",
         "android_sensor_gyroscope_mean": 0.0364403150565,
         "android_sensor_accelerometer_std": 0.862553258429,
         "android_sensor_gyroscope_std": 0.0105527726211,
         "android_sensor_gyroscope_uncalibrated_mean": 0.0507587448203,
         "android_sensor_accelerometer_max": 12.3042975935,
         "android_sensor_linear_acceleration_mean": 1.48836057989,
         "speed_mean": 17.739895,
         "android_sensor_rotation_vector_mean": 0.998112317214,
         "android_sensor_rotation_vector_max": 0.998112317214,
         "android_sensor_accelerometer_min": 7.65967372861,
         "android_sensor_magnetic_field_uncalibrated_min": 95.6643091367,
         "sound_min": "87.4703770994",
         "target": "Car",
         "_deepnote_index_column": 3
        },
        {
         "id": 876,
         "user": "andrea",
         "android_sensor_gyroscope_mean": 0.183202097809,
         "android_sensor_accelerometer_std": 0.504117059576,
         "android_sensor_gyroscope_std": 0.0988191384778,
         "android_sensor_gyroscope_uncalibrated_mean": 0.265652184888,
         "android_sensor_accelerometer_max": 10.8916451194,
         "android_sensor_linear_acceleration_mean": 1.65830750209,
         "speed_mean": 9,
         "android_sensor_rotation_vector_mean": 0.322241915004,
         "android_sensor_rotation_vector_max": 0.378193174062,
         "android_sensor_accelerometer_min": 8.96562096134,
         "android_sensor_magnetic_field_uncalibrated_min": 156.79590908,
         "sound_min": "89.770732316",
         "target": "Car",
         "_deepnote_index_column": 4
        }
       ],
       "rows_bottom": null
      },
      "text/plain": "      id    user  android_sensor_gyroscope_mean  \\\n0  16170    Luca                       0.001651   \n1  15871    Luca                       0.036326   \n2  16811    Luca                       0.001525   \n3  15831    Luca                       0.036440   \n4    876  andrea                       0.183202   \n\n   android_sensor_accelerometer_std  android_sensor_gyroscope_std  \\\n0                          0.014626                      0.000737   \n1                          1.775944                      0.020290   \n2                          0.011199                      0.000713   \n3                          0.862553                      0.010553   \n4                          0.504117                      0.098819   \n\n   android_sensor_gyroscope_uncalibrated_mean  \\\n0                                    0.016221   \n1                                    0.039023   \n2                                    0.016302   \n3                                    0.050759   \n4                                    0.265652   \n\n   android_sensor_accelerometer_max  android_sensor_linear_acceleration_mean  \\\n0                          9.849411                                 0.020978   \n1                         17.146631                                 0.879220   \n2                          9.849262                                 0.034110   \n3                         12.304298                                 1.488361   \n4                         10.891645                                 1.658308   \n\n   speed_mean  android_sensor_rotation_vector_mean  \\\n0    0.000000                             0.050413   \n1   16.539349                             0.999981   \n2    0.000000                             0.610456   \n3   17.739895                             0.998112   \n4    9.000000                             0.322242   \n\n   android_sensor_rotation_vector_max  android_sensor_accelerometer_min  \\\n0                            0.056351                          9.758895   \n1                            0.999999                          7.707437   \n2                            0.610456                          9.804817   \n3                            0.998112                          7.659674   \n4                            0.378193                          8.965621   \n\n   android_sensor_magnetic_field_uncalibrated_min  sound_min target  \n0                                       51.199707        NaN  Still  \n1                                       82.409890  89.065143    Car  \n2                                       55.501802        NaN  Still  \n3                                       95.664309  87.470377    Car  \n4                                      156.795909  89.770732    Car  ",
      "text/html": "<div>\n<style scoped>\n    .dataframe tbody tr th:only-of-type {\n        vertical-align: middle;\n    }\n\n    .dataframe tbody tr th {\n        vertical-align: top;\n    }\n\n    .dataframe thead th {\n        text-align: right;\n    }\n</style>\n<table border=\"1\" class=\"dataframe\">\n  <thead>\n    <tr style=\"text-align: right;\">\n      <th></th>\n      <th>id</th>\n      <th>user</th>\n      <th>android_sensor_gyroscope_mean</th>\n      <th>android_sensor_accelerometer_std</th>\n      <th>android_sensor_gyroscope_std</th>\n      <th>android_sensor_gyroscope_uncalibrated_mean</th>\n      <th>android_sensor_accelerometer_max</th>\n      <th>android_sensor_linear_acceleration_mean</th>\n      <th>speed_mean</th>\n      <th>android_sensor_rotation_vector_mean</th>\n      <th>android_sensor_rotation_vector_max</th>\n      <th>android_sensor_accelerometer_min</th>\n      <th>android_sensor_magnetic_field_uncalibrated_min</th>\n      <th>sound_min</th>\n      <th>target</th>\n    </tr>\n  </thead>\n  <tbody>\n    <tr>\n      <th>0</th>\n      <td>16170</td>\n      <td>Luca</td>\n      <td>0.001651</td>\n      <td>0.014626</td>\n      <td>0.000737</td>\n      <td>0.016221</td>\n      <td>9.849411</td>\n      <td>0.020978</td>\n      <td>0.000000</td>\n      <td>0.050413</td>\n      <td>0.056351</td>\n      <td>9.758895</td>\n      <td>51.199707</td>\n      <td>NaN</td>\n      <td>Still</td>\n    </tr>\n    <tr>\n      <th>1</th>\n      <td>15871</td>\n      <td>Luca</td>\n      <td>0.036326</td>\n      <td>1.775944</td>\n      <td>0.020290</td>\n      <td>0.039023</td>\n      <td>17.146631</td>\n      <td>0.879220</td>\n      <td>16.539349</td>\n      <td>0.999981</td>\n      <td>0.999999</td>\n      <td>7.707437</td>\n      <td>82.409890</td>\n      <td>89.065143</td>\n      <td>Car</td>\n    </tr>\n    <tr>\n      <th>2</th>\n      <td>16811</td>\n      <td>Luca</td>\n      <td>0.001525</td>\n      <td>0.011199</td>\n      <td>0.000713</td>\n      <td>0.016302</td>\n      <td>9.849262</td>\n      <td>0.034110</td>\n      <td>0.000000</td>\n      <td>0.610456</td>\n      <td>0.610456</td>\n      <td>9.804817</td>\n      <td>55.501802</td>\n      <td>NaN</td>\n      <td>Still</td>\n    </tr>\n    <tr>\n      <th>3</th>\n      <td>15831</td>\n      <td>Luca</td>\n      <td>0.036440</td>\n      <td>0.862553</td>\n      <td>0.010553</td>\n      <td>0.050759</td>\n      <td>12.304298</td>\n      <td>1.488361</td>\n      <td>17.739895</td>\n      <td>0.998112</td>\n      <td>0.998112</td>\n      <td>7.659674</td>\n      <td>95.664309</td>\n      <td>87.470377</td>\n      <td>Car</td>\n    </tr>\n    <tr>\n      <th>4</th>\n      <td>876</td>\n      <td>andrea</td>\n      <td>0.183202</td>\n      <td>0.504117</td>\n      <td>0.098819</td>\n      <td>0.265652</td>\n      <td>10.891645</td>\n      <td>1.658308</td>\n      <td>9.000000</td>\n      <td>0.322242</td>\n      <td>0.378193</td>\n      <td>8.965621</td>\n      <td>156.795909</td>\n      <td>89.770732</td>\n      <td>Car</td>\n    </tr>\n  </tbody>\n</table>\n</div>"
     },
     "metadata": {}
    }
   ]
  },
  {
   "cell_type": "code",
   "metadata": {
    "tags": [],
    "cell_id": "00002-0d867342-b723-4252-be31-c965430b2e6e",
    "deepnote_to_be_reexecuted": false,
    "source_hash": "b2ead2ac",
    "execution_start": 1621335246791,
    "execution_millis": 31,
    "deepnote_cell_type": "code"
   },
   "source": "print(len(df))\ndf.nunique()",
   "execution_count": 4,
   "outputs": [
    {
     "name": "stdout",
     "text": "5893\n",
     "output_type": "stream"
    },
    {
     "output_type": "execute_result",
     "execution_count": 4,
     "data": {
      "text/plain": "id                                                5893\nuser                                                13\nandroid_sensor_gyroscope_mean                     5018\nandroid_sensor_accelerometer_std                  5861\nandroid_sensor_gyroscope_std                      4926\nandroid_sensor_gyroscope_uncalibrated_mean        5000\nandroid_sensor_accelerometer_max                  5838\nandroid_sensor_linear_acceleration_mean           4972\nspeed_mean                                         646\nandroid_sensor_rotation_vector_mean               5002\nandroid_sensor_rotation_vector_max                4991\nandroid_sensor_accelerometer_min                  5833\nandroid_sensor_magnetic_field_uncalibrated_min    4707\nsound_min                                         2306\ntarget                                               5\ndtype: int64"
     },
     "metadata": {}
    }
   ]
  },
  {
   "cell_type": "markdown",
   "source": "### We need to separate users from train and test. (we need atleast 1180 rows of data thats not in train)",
   "metadata": {
    "tags": [],
    "cell_id": "00003-2e89d36e-78f8-4dfe-84e9-8a692182a8c3",
    "deepnote_cell_type": "text-cell-h3"
   }
  },
  {
   "cell_type": "markdown",
   "source": "#### Drop few users data such that the train data is 80% of original data",
   "metadata": {
    "tags": [],
    "cell_id": "00004-cde78f87-be2c-4eb5-99c3-c51f8faca55c",
    "deepnote_cell_type": "markdown"
   }
  },
  {
   "cell_type": "code",
   "metadata": {
    "tags": [],
    "cell_id": "00005-5bc6e50d-4cdc-42e7-bfa0-1c8d83879947",
    "deepnote_to_be_reexecuted": false,
    "source_hash": "221cf9ce",
    "execution_start": 1621335252013,
    "execution_millis": 27,
    "deepnote_cell_type": "code"
   },
   "source": "df['user'].unique().tolist()",
   "execution_count": 5,
   "outputs": [
    {
     "output_type": "execute_result",
     "execution_count": 5,
     "data": {
      "text/plain": "['Luca',\n 'andrea',\n 'Federica',\n 'michelangelo',\n 'Damiano',\n 'Claudio',\n 'Vincenzo',\n 'Serena',\n 'Pierpaolo',\n 'IvanHeibi',\n 'AndreaCarpineti',\n 'Elena',\n 'Riccardo']"
     },
     "metadata": {}
    }
   ]
  },
  {
   "cell_type": "code",
   "metadata": {
    "tags": [],
    "cell_id": "00004-f19cc539-ae2b-4626-998e-18693b933c36",
    "deepnote_to_be_reexecuted": false,
    "source_hash": "5b995ba8",
    "execution_start": 1621335255975,
    "execution_millis": 153,
    "deepnote_cell_type": "code"
   },
   "source": "#TRAIN DATA\n\n#drop these users from train data so that the model will never see them in test\n\nluca_index = df[df['user'] == 'Luca'].index\nIvan_index = df[df['user'] == 'IvanHeibi'].index\nPier_index = df[df['user'] == 'Pierpaolo'].index\nRiccardo_index = df[df['user'] == 'Riccardo'].index\n\n# Delete these row indexes from dataFrame\ntrain_df = df.drop(luca_index)\ntrain_df = train_df.drop(Ivan_index)\ntrain_df = train_df.drop(Pier_index)\ntrain_df = train_df.drop(Riccardo_index)\n\nprint(len(train_df))\ntrain_df.head()",
   "execution_count": 6,
   "outputs": [
    {
     "name": "stdout",
     "text": "4454\n",
     "output_type": "stream"
    },
    {
     "output_type": "execute_result",
     "execution_count": 6,
     "data": {
      "application/vnd.deepnote.dataframe.v2+json": {
       "row_count": 5,
       "column_count": 15,
       "columns": [
        {
         "name": "id",
         "dtype": "int64",
         "stats": {
          "unique_count": 5,
          "nan_count": 0,
          "min": "343",
          "max": "18786",
          "histogram": [
           {
            "bin_start": 343,
            "bin_end": 2187.3,
            "count": 2
           },
           {
            "bin_start": 2187.3,
            "bin_end": 4031.6,
            "count": 0
           },
           {
            "bin_start": 4031.6,
            "bin_end": 5875.9,
            "count": 1
           },
           {
            "bin_start": 5875.9,
            "bin_end": 7720.2,
            "count": 0
           },
           {
            "bin_start": 7720.2,
            "bin_end": 9564.5,
            "count": 0
           },
           {
            "bin_start": 9564.5,
            "bin_end": 11408.8,
            "count": 0
           },
           {
            "bin_start": 11408.8,
            "bin_end": 13253.1,
            "count": 0
           },
           {
            "bin_start": 13253.1,
            "bin_end": 15097.4,
            "count": 1
           },
           {
            "bin_start": 15097.4,
            "bin_end": 16941.7,
            "count": 0
           },
           {
            "bin_start": 16941.7,
            "bin_end": 18786,
            "count": 1
           }
          ]
         }
        },
        {
         "name": "user",
         "dtype": "object",
         "stats": {
          "unique_count": 3,
          "nan_count": 0,
          "categories": [
           {
            "name": "andrea",
            "count": 3
           },
           {
            "name": "Federica",
            "count": 1
           },
           {
            "name": "michelangelo",
            "count": 1
           }
          ]
         }
        },
        {
         "name": "android_sensor_gyroscope_mean",
         "dtype": "float64",
         "stats": {
          "unique_count": 4,
          "nan_count": 1,
          "min": "0.00409986525381",
          "max": "0.183202097809",
          "histogram": [
           {
            "bin_start": 0.00409986525381,
            "bin_end": 0.022010088509329,
            "count": 1
           },
           {
            "bin_start": 0.022010088509329,
            "bin_end": 0.039920311764848,
            "count": 1
           },
           {
            "bin_start": 0.039920311764848,
            "bin_end": 0.057830535020366995,
            "count": 1
           },
           {
            "bin_start": 0.057830535020366995,
            "bin_end": 0.07574075827588599,
            "count": 0
           },
           {
            "bin_start": 0.07574075827588599,
            "bin_end": 0.09365098153140498,
            "count": 0
           },
           {
            "bin_start": 0.09365098153140498,
            "bin_end": 0.11156120478692398,
            "count": 0
           },
           {
            "bin_start": 0.11156120478692398,
            "bin_end": 0.129471428042443,
            "count": 0
           },
           {
            "bin_start": 0.129471428042443,
            "bin_end": 0.147381651297962,
            "count": 0
           },
           {
            "bin_start": 0.147381651297962,
            "bin_end": 0.165291874553481,
            "count": 0
           },
           {
            "bin_start": 0.165291874553481,
            "bin_end": 0.183202097809,
            "count": 1
           }
          ]
         }
        },
        {
         "name": "android_sensor_accelerometer_std",
         "dtype": "float64",
         "stats": {
          "unique_count": 5,
          "nan_count": 0,
          "min": "0.0134885934094",
          "max": "0.504117059576",
          "histogram": [
           {
            "bin_start": 0.0134885934094,
            "bin_end": 0.06255144002606,
            "count": 1
           },
           {
            "bin_start": 0.06255144002606,
            "bin_end": 0.11161428664272,
            "count": 1
           },
           {
            "bin_start": 0.11161428664272,
            "bin_end": 0.16067713325938,
            "count": 0
           },
           {
            "bin_start": 0.16067713325938,
            "bin_end": 0.20973997987603998,
            "count": 0
           },
           {
            "bin_start": 0.20973997987603998,
            "bin_end": 0.2588028264927,
            "count": 1
           },
           {
            "bin_start": 0.2588028264927,
            "bin_end": 0.30786567310935997,
            "count": 1
           },
           {
            "bin_start": 0.30786567310935997,
            "bin_end": 0.35692851972601997,
            "count": 0
           },
           {
            "bin_start": 0.35692851972601997,
            "bin_end": 0.40599136634267996,
            "count": 0
           },
           {
            "bin_start": 0.40599136634267996,
            "bin_end": 0.45505421295933995,
            "count": 0
           },
           {
            "bin_start": 0.45505421295933995,
            "bin_end": 0.504117059576,
            "count": 1
           }
          ]
         }
        },
        {
         "name": "android_sensor_gyroscope_std",
         "dtype": "float64",
         "stats": {
          "unique_count": 4,
          "nan_count": 1,
          "min": "0.00180112306541",
          "max": "0.0988191384778",
          "histogram": [
           {
            "bin_start": 0.00180112306541,
            "bin_end": 0.011502924606649,
            "count": 1
           },
           {
            "bin_start": 0.011502924606649,
            "bin_end": 0.021204726147887997,
            "count": 0
           },
           {
            "bin_start": 0.021204726147887997,
            "bin_end": 0.030906527689126995,
            "count": 2
           },
           {
            "bin_start": 0.030906527689126995,
            "bin_end": 0.040608329230365996,
            "count": 0
           },
           {
            "bin_start": 0.040608329230365996,
            "bin_end": 0.050310130771605,
            "count": 0
           },
           {
            "bin_start": 0.050310130771605,
            "bin_end": 0.06001193231284399,
            "count": 0
           },
           {
            "bin_start": 0.06001193231284399,
            "bin_end": 0.069713733854083,
            "count": 0
           },
           {
            "bin_start": 0.069713733854083,
            "bin_end": 0.07941553539532199,
            "count": 0
           },
           {
            "bin_start": 0.07941553539532199,
            "bin_end": 0.08911733693656099,
            "count": 0
           },
           {
            "bin_start": 0.08911733693656099,
            "bin_end": 0.0988191384778,
            "count": 1
           }
          ]
         }
        },
        {
         "name": "android_sensor_gyroscope_uncalibrated_mean",
         "dtype": "float64",
         "stats": {
          "unique_count": 4,
          "nan_count": 1,
          "min": "0.0304911474402",
          "max": "0.265652184888",
          "histogram": [
           {
            "bin_start": 0.0304911474402,
            "bin_end": 0.05400725118498,
            "count": 2
           },
           {
            "bin_start": 0.05400725118498,
            "bin_end": 0.07752335492976001,
            "count": 1
           },
           {
            "bin_start": 0.07752335492976001,
            "bin_end": 0.10103945867454,
            "count": 0
           },
           {
            "bin_start": 0.10103945867454,
            "bin_end": 0.12455556241932,
            "count": 0
           },
           {
            "bin_start": 0.12455556241932,
            "bin_end": 0.1480716661641,
            "count": 0
           },
           {
            "bin_start": 0.1480716661641,
            "bin_end": 0.17158776990888003,
            "count": 0
           },
           {
            "bin_start": 0.17158776990888003,
            "bin_end": 0.19510387365366003,
            "count": 0
           },
           {
            "bin_start": 0.19510387365366003,
            "bin_end": 0.21861997739844002,
            "count": 0
           },
           {
            "bin_start": 0.21861997739844002,
            "bin_end": 0.24213608114322002,
            "count": 0
           },
           {
            "bin_start": 0.24213608114322002,
            "bin_end": 0.265652184888,
            "count": 1
           }
          ]
         }
        },
        {
         "name": "android_sensor_accelerometer_max",
         "dtype": "float64",
         "stats": {
          "unique_count": 5,
          "nan_count": 0,
          "min": "9.52004390746",
          "max": "10.8916451194",
          "histogram": [
           {
            "bin_start": 9.52004390746,
            "bin_end": 9.657204028654,
            "count": 1
           },
           {
            "bin_start": 9.657204028654,
            "bin_end": 9.794364149848,
            "count": 0
           },
           {
            "bin_start": 9.794364149848,
            "bin_end": 9.931524271041999,
            "count": 1
           },
           {
            "bin_start": 9.931524271041999,
            "bin_end": 10.068684392236,
            "count": 2
           },
           {
            "bin_start": 10.068684392236,
            "bin_end": 10.20584451343,
            "count": 0
           },
           {
            "bin_start": 10.20584451343,
            "bin_end": 10.343004634624,
            "count": 0
           },
           {
            "bin_start": 10.343004634624,
            "bin_end": 10.480164755818,
            "count": 0
           },
           {
            "bin_start": 10.480164755818,
            "bin_end": 10.617324877011999,
            "count": 0
           },
           {
            "bin_start": 10.617324877011999,
            "bin_end": 10.754484998206,
            "count": 0
           },
           {
            "bin_start": 10.754484998206,
            "bin_end": 10.8916451194,
            "count": 1
           }
          ]
         }
        },
        {
         "name": "android_sensor_linear_acceleration_mean",
         "dtype": "float64",
         "stats": {
          "unique_count": 4,
          "nan_count": 1,
          "min": "0.027440833538",
          "max": "1.65830750209",
          "histogram": [
           {
            "bin_start": 0.027440833538,
            "bin_end": 0.1905275003932,
            "count": 1
           },
           {
            "bin_start": 0.1905275003932,
            "bin_end": 0.35361416724839995,
            "count": 2
           },
           {
            "bin_start": 0.35361416724839995,
            "bin_end": 0.5167008341035999,
            "count": 0
           },
           {
            "bin_start": 0.5167008341035999,
            "bin_end": 0.6797875009587999,
            "count": 0
           },
           {
            "bin_start": 0.6797875009587999,
            "bin_end": 0.8428741678139999,
            "count": 0
           },
           {
            "bin_start": 0.8428741678139999,
            "bin_end": 1.0059608346692,
            "count": 0
           },
           {
            "bin_start": 1.0059608346692,
            "bin_end": 1.1690475015244,
            "count": 0
           },
           {
            "bin_start": 1.1690475015244,
            "bin_end": 1.3321341683796,
            "count": 0
           },
           {
            "bin_start": 1.3321341683796,
            "bin_end": 1.4952208352348,
            "count": 0
           },
           {
            "bin_start": 1.4952208352348,
            "bin_end": 1.65830750209,
            "count": 1
           }
          ]
         }
        },
        {
         "name": "speed_mean",
         "dtype": "float64",
         "stats": {
          "unique_count": 3,
          "nan_count": 2,
          "min": "0.0",
          "max": "9.0",
          "histogram": [
           {
            "bin_start": 0,
            "bin_end": 0.9,
            "count": 1
           },
           {
            "bin_start": 0.9,
            "bin_end": 1.8,
            "count": 0
           },
           {
            "bin_start": 1.8,
            "bin_end": 2.7,
            "count": 0
           },
           {
            "bin_start": 2.7,
            "bin_end": 3.6,
            "count": 0
           },
           {
            "bin_start": 3.6,
            "bin_end": 4.5,
            "count": 0
           },
           {
            "bin_start": 4.5,
            "bin_end": 5.4,
            "count": 1
           },
           {
            "bin_start": 5.4,
            "bin_end": 6.3,
            "count": 0
           },
           {
            "bin_start": 6.3,
            "bin_end": 7.2,
            "count": 0
           },
           {
            "bin_start": 7.2,
            "bin_end": 8.1,
            "count": 0
           },
           {
            "bin_start": 8.1,
            "bin_end": 9,
            "count": 1
           }
          ]
         }
        },
        {
         "name": "android_sensor_rotation_vector_mean",
         "dtype": "float64",
         "stats": {
          "unique_count": 4,
          "nan_count": 1,
          "min": "0.201198417294",
          "max": "0.968082050052",
          "histogram": [
           {
            "bin_start": 0.201198417294,
            "bin_end": 0.2778867805698,
            "count": 1
           },
           {
            "bin_start": 0.2778867805698,
            "bin_end": 0.3545751438456,
            "count": 1
           },
           {
            "bin_start": 0.3545751438456,
            "bin_end": 0.43126350712140005,
            "count": 0
           },
           {
            "bin_start": 0.43126350712140005,
            "bin_end": 0.5079518703972,
            "count": 0
           },
           {
            "bin_start": 0.5079518703972,
            "bin_end": 0.584640233673,
            "count": 0
           },
           {
            "bin_start": 0.584640233673,
            "bin_end": 0.6613285969488001,
            "count": 0
           },
           {
            "bin_start": 0.6613285969488001,
            "bin_end": 0.7380169602246001,
            "count": 0
           },
           {
            "bin_start": 0.7380169602246001,
            "bin_end": 0.8147053235004,
            "count": 1
           },
           {
            "bin_start": 0.8147053235004,
            "bin_end": 0.8913936867762,
            "count": 0
           },
           {
            "bin_start": 0.8913936867762,
            "bin_end": 0.968082050052,
            "count": 1
           }
          ]
         }
        },
        {
         "name": "android_sensor_rotation_vector_max",
         "dtype": "float64",
         "stats": {
          "unique_count": 4,
          "nan_count": 1,
          "min": "0.201317697493",
          "max": "0.96880641366",
          "histogram": [
           {
            "bin_start": 0.201317697493,
            "bin_end": 0.27806656910969996,
            "count": 1
           },
           {
            "bin_start": 0.27806656910969996,
            "bin_end": 0.3548154407264,
            "count": 0
           },
           {
            "bin_start": 0.3548154407264,
            "bin_end": 0.4315643123431,
            "count": 1
           },
           {
            "bin_start": 0.4315643123431,
            "bin_end": 0.5083131839598,
            "count": 0
           },
           {
            "bin_start": 0.5083131839598,
            "bin_end": 0.5850620555764999,
            "count": 0
           },
           {
            "bin_start": 0.5850620555764999,
            "bin_end": 0.6618109271932,
            "count": 0
           },
           {
            "bin_start": 0.6618109271932,
            "bin_end": 0.7385597988099,
            "count": 0
           },
           {
            "bin_start": 0.7385597988099,
            "bin_end": 0.8153086704265999,
            "count": 1
           },
           {
            "bin_start": 0.8153086704265999,
            "bin_end": 0.8920575420432999,
            "count": 0
           },
           {
            "bin_start": 0.8920575420432999,
            "bin_end": 0.96880641366,
            "count": 1
           }
          ]
         }
        },
        {
         "name": "android_sensor_accelerometer_min",
         "dtype": "float64",
         "stats": {
          "unique_count": 5,
          "nan_count": 0,
          "min": "8.96562096134",
          "max": "9.7587507121",
          "histogram": [
           {
            "bin_start": 8.96562096134,
            "bin_end": 9.044933936416001,
            "count": 3
           },
           {
            "bin_start": 9.044933936416001,
            "bin_end": 9.124246911492001,
            "count": 0
           },
           {
            "bin_start": 9.124246911492001,
            "bin_end": 9.203559886568,
            "count": 1
           },
           {
            "bin_start": 9.203559886568,
            "bin_end": 9.282872861644,
            "count": 0
           },
           {
            "bin_start": 9.282872861644,
            "bin_end": 9.36218583672,
            "count": 0
           },
           {
            "bin_start": 9.36218583672,
            "bin_end": 9.441498811796,
            "count": 0
           },
           {
            "bin_start": 9.441498811796,
            "bin_end": 9.520811786872,
            "count": 0
           },
           {
            "bin_start": 9.520811786872,
            "bin_end": 9.600124761947999,
            "count": 0
           },
           {
            "bin_start": 9.600124761947999,
            "bin_end": 9.679437737024,
            "count": 0
           },
           {
            "bin_start": 9.679437737024,
            "bin_end": 9.7587507121,
            "count": 1
           }
          ]
         }
        },
        {
         "name": "android_sensor_magnetic_field_uncalibrated_min",
         "dtype": "float64",
         "stats": {
          "unique_count": 4,
          "nan_count": 1,
          "min": "134.611517396",
          "max": "170.521376959",
          "histogram": [
           {
            "bin_start": 134.611517396,
            "bin_end": 138.2025033523,
            "count": 1
           },
           {
            "bin_start": 138.2025033523,
            "bin_end": 141.79348930860002,
            "count": 1
           },
           {
            "bin_start": 141.79348930860002,
            "bin_end": 145.3844752649,
            "count": 0
           },
           {
            "bin_start": 145.3844752649,
            "bin_end": 148.97546122120002,
            "count": 0
           },
           {
            "bin_start": 148.97546122120002,
            "bin_end": 152.5664471775,
            "count": 0
           },
           {
            "bin_start": 152.5664471775,
            "bin_end": 156.1574331338,
            "count": 0
           },
           {
            "bin_start": 156.1574331338,
            "bin_end": 159.74841909010001,
            "count": 1
           },
           {
            "bin_start": 159.74841909010001,
            "bin_end": 163.3394050464,
            "count": 0
           },
           {
            "bin_start": 163.3394050464,
            "bin_end": 166.93039100270002,
            "count": 0
           },
           {
            "bin_start": 166.93039100270002,
            "bin_end": 170.521376959,
            "count": 1
           }
          ]
         }
        },
        {
         "name": "sound_min",
         "dtype": "float64",
         "stats": {
          "unique_count": 5,
          "nan_count": 0,
          "min": "57.3611272365",
          "max": "89.8157384837",
          "histogram": [
           {
            "bin_start": 57.3611272365,
            "bin_end": 60.606588361220005,
            "count": 1
           },
           {
            "bin_start": 60.606588361220005,
            "bin_end": 63.85204948594,
            "count": 0
           },
           {
            "bin_start": 63.85204948594,
            "bin_end": 67.09751061066001,
            "count": 1
           },
           {
            "bin_start": 67.09751061066001,
            "bin_end": 70.34297173538,
            "count": 0
           },
           {
            "bin_start": 70.34297173538,
            "bin_end": 73.5884328601,
            "count": 0
           },
           {
            "bin_start": 73.5884328601,
            "bin_end": 76.83389398482001,
            "count": 0
           },
           {
            "bin_start": 76.83389398482001,
            "bin_end": 80.07935510954,
            "count": 0
           },
           {
            "bin_start": 80.07935510954,
            "bin_end": 83.32481623426,
            "count": 0
           },
           {
            "bin_start": 83.32481623426,
            "bin_end": 86.57027735898001,
            "count": 0
           },
           {
            "bin_start": 86.57027735898001,
            "bin_end": 89.8157384837,
            "count": 3
           }
          ]
         }
        },
        {
         "name": "target",
         "dtype": "object",
         "stats": {
          "unique_count": 3,
          "nan_count": 0,
          "categories": [
           {
            "name": "Car",
            "count": 2
           },
           {
            "name": "Train",
            "count": 2
           },
           {
            "name": "Bus",
            "count": 1
           }
          ]
         }
        },
        {
         "name": "_deepnote_index_column",
         "dtype": "int64"
        }
       ],
       "rows_top": [
        {
         "id": 876,
         "user": "andrea",
         "android_sensor_gyroscope_mean": "0.183202097809",
         "android_sensor_accelerometer_std": 0.504117059576,
         "android_sensor_gyroscope_std": "0.0988191384778",
         "android_sensor_gyroscope_uncalibrated_mean": "0.265652184888",
         "android_sensor_accelerometer_max": 10.8916451194,
         "android_sensor_linear_acceleration_mean": "1.65830750209",
         "speed_mean": "9.0",
         "android_sensor_rotation_vector_mean": "0.322241915004",
         "android_sensor_rotation_vector_max": "0.378193174062",
         "android_sensor_accelerometer_min": 8.96562096134,
         "android_sensor_magnetic_field_uncalibrated_min": "156.79590908",
         "sound_min": 89.770732316,
         "target": "Car",
         "_deepnote_index_column": 4
        },
        {
         "id": 13480,
         "user": "Federica",
         "android_sensor_gyroscope_mean": "nan",
         "android_sensor_accelerometer_std": 0.10385656289,
         "android_sensor_gyroscope_std": "nan",
         "android_sensor_gyroscope_uncalibrated_mean": "nan",
         "android_sensor_accelerometer_max": 9.52004390746,
         "android_sensor_linear_acceleration_mean": "nan",
         "speed_mean": "0.0",
         "android_sensor_rotation_vector_mean": "nan",
         "android_sensor_rotation_vector_max": "nan",
         "android_sensor_accelerometer_min": 9.14902923812,
         "android_sensor_magnetic_field_uncalibrated_min": "nan",
         "sound_min": 57.3611272365,
         "target": "Car",
         "_deepnote_index_column": 5
        },
        {
         "id": 18786,
         "user": "michelangelo",
         "android_sensor_gyroscope_mean": "0.00409986525381",
         "android_sensor_accelerometer_std": 0.0134885934094,
         "android_sensor_gyroscope_std": "0.00180112306541",
         "android_sensor_gyroscope_uncalibrated_mean": "0.0429908440802",
         "android_sensor_accelerometer_max": 9.8161968759,
         "android_sensor_linear_acceleration_mean": "0.027440833538",
         "speed_mean": "nan",
         "android_sensor_rotation_vector_mean": "0.201198417294",
         "android_sensor_rotation_vector_max": "0.201317697493",
         "android_sensor_accelerometer_min": 9.7587507121,
         "android_sensor_magnetic_field_uncalibrated_min": "170.521376959",
         "sound_min": 65.1583690063,
         "target": "Train",
         "_deepnote_index_column": 6
        },
        {
         "id": 343,
         "user": "andrea",
         "android_sensor_gyroscope_mean": "0.0415540643649",
         "android_sensor_accelerometer_std": 0.255052884981,
         "android_sensor_gyroscope_std": "0.0300742373795",
         "android_sensor_gyroscope_uncalibrated_mean": "0.06575401641",
         "android_sensor_accelerometer_max": 10.0278019439,
         "android_sensor_linear_acceleration_mean": "0.2789968597",
         "speed_mean": "4.75",
         "android_sensor_rotation_vector_mean": "0.780795203731",
         "android_sensor_rotation_vector_max": "0.786845052675",
         "android_sensor_accelerometer_min": 8.99613405513,
         "android_sensor_magnetic_field_uncalibrated_min": "134.611517396",
         "sound_min": 89.8084408315,
         "target": "Bus",
         "_deepnote_index_column": 8
        },
        {
         "id": 4650,
         "user": "andrea",
         "android_sensor_gyroscope_mean": "0.0374507823437",
         "android_sensor_accelerometer_std": 0.267790551832,
         "android_sensor_gyroscope_std": "0.0213908240187",
         "android_sensor_gyroscope_uncalibrated_mean": "0.0304911474402",
         "android_sensor_accelerometer_max": 10.0685281258,
         "android_sensor_linear_acceleration_mean": "0.255171829308",
         "speed_mean": "nan",
         "android_sensor_rotation_vector_mean": "0.968082050052",
         "android_sensor_rotation_vector_max": "0.96880641366",
         "android_sensor_accelerometer_min": 9.0147864831,
         "android_sensor_magnetic_field_uncalibrated_min": "140.174223103",
         "sound_min": 89.8157384837,
         "target": "Train",
         "_deepnote_index_column": 9
        }
       ],
       "rows_bottom": null
      },
      "text/plain": "      id          user  android_sensor_gyroscope_mean  \\\n4    876        andrea                       0.183202   \n5  13480      Federica                            NaN   \n6  18786  michelangelo                       0.004100   \n8    343        andrea                       0.041554   \n9   4650        andrea                       0.037451   \n\n   android_sensor_accelerometer_std  android_sensor_gyroscope_std  \\\n4                          0.504117                      0.098819   \n5                          0.103857                           NaN   \n6                          0.013489                      0.001801   \n8                          0.255053                      0.030074   \n9                          0.267791                      0.021391   \n\n   android_sensor_gyroscope_uncalibrated_mean  \\\n4                                    0.265652   \n5                                         NaN   \n6                                    0.042991   \n8                                    0.065754   \n9                                    0.030491   \n\n   android_sensor_accelerometer_max  android_sensor_linear_acceleration_mean  \\\n4                         10.891645                                 1.658308   \n5                          9.520044                                      NaN   \n6                          9.816197                                 0.027441   \n8                         10.027802                                 0.278997   \n9                         10.068528                                 0.255172   \n\n   speed_mean  android_sensor_rotation_vector_mean  \\\n4        9.00                             0.322242   \n5        0.00                                  NaN   \n6         NaN                             0.201198   \n8        4.75                             0.780795   \n9         NaN                             0.968082   \n\n   android_sensor_rotation_vector_max  android_sensor_accelerometer_min  \\\n4                            0.378193                          8.965621   \n5                                 NaN                          9.149029   \n6                            0.201318                          9.758751   \n8                            0.786845                          8.996134   \n9                            0.968806                          9.014786   \n\n   android_sensor_magnetic_field_uncalibrated_min  sound_min target  \n4                                      156.795909  89.770732    Car  \n5                                             NaN  57.361127    Car  \n6                                      170.521377  65.158369  Train  \n8                                      134.611517  89.808441    Bus  \n9                                      140.174223  89.815738  Train  ",
      "text/html": "<div>\n<style scoped>\n    .dataframe tbody tr th:only-of-type {\n        vertical-align: middle;\n    }\n\n    .dataframe tbody tr th {\n        vertical-align: top;\n    }\n\n    .dataframe thead th {\n        text-align: right;\n    }\n</style>\n<table border=\"1\" class=\"dataframe\">\n  <thead>\n    <tr style=\"text-align: right;\">\n      <th></th>\n      <th>id</th>\n      <th>user</th>\n      <th>android_sensor_gyroscope_mean</th>\n      <th>android_sensor_accelerometer_std</th>\n      <th>android_sensor_gyroscope_std</th>\n      <th>android_sensor_gyroscope_uncalibrated_mean</th>\n      <th>android_sensor_accelerometer_max</th>\n      <th>android_sensor_linear_acceleration_mean</th>\n      <th>speed_mean</th>\n      <th>android_sensor_rotation_vector_mean</th>\n      <th>android_sensor_rotation_vector_max</th>\n      <th>android_sensor_accelerometer_min</th>\n      <th>android_sensor_magnetic_field_uncalibrated_min</th>\n      <th>sound_min</th>\n      <th>target</th>\n    </tr>\n  </thead>\n  <tbody>\n    <tr>\n      <th>4</th>\n      <td>876</td>\n      <td>andrea</td>\n      <td>0.183202</td>\n      <td>0.504117</td>\n      <td>0.098819</td>\n      <td>0.265652</td>\n      <td>10.891645</td>\n      <td>1.658308</td>\n      <td>9.00</td>\n      <td>0.322242</td>\n      <td>0.378193</td>\n      <td>8.965621</td>\n      <td>156.795909</td>\n      <td>89.770732</td>\n      <td>Car</td>\n    </tr>\n    <tr>\n      <th>5</th>\n      <td>13480</td>\n      <td>Federica</td>\n      <td>NaN</td>\n      <td>0.103857</td>\n      <td>NaN</td>\n      <td>NaN</td>\n      <td>9.520044</td>\n      <td>NaN</td>\n      <td>0.00</td>\n      <td>NaN</td>\n      <td>NaN</td>\n      <td>9.149029</td>\n      <td>NaN</td>\n      <td>57.361127</td>\n      <td>Car</td>\n    </tr>\n    <tr>\n      <th>6</th>\n      <td>18786</td>\n      <td>michelangelo</td>\n      <td>0.004100</td>\n      <td>0.013489</td>\n      <td>0.001801</td>\n      <td>0.042991</td>\n      <td>9.816197</td>\n      <td>0.027441</td>\n      <td>NaN</td>\n      <td>0.201198</td>\n      <td>0.201318</td>\n      <td>9.758751</td>\n      <td>170.521377</td>\n      <td>65.158369</td>\n      <td>Train</td>\n    </tr>\n    <tr>\n      <th>8</th>\n      <td>343</td>\n      <td>andrea</td>\n      <td>0.041554</td>\n      <td>0.255053</td>\n      <td>0.030074</td>\n      <td>0.065754</td>\n      <td>10.027802</td>\n      <td>0.278997</td>\n      <td>4.75</td>\n      <td>0.780795</td>\n      <td>0.786845</td>\n      <td>8.996134</td>\n      <td>134.611517</td>\n      <td>89.808441</td>\n      <td>Bus</td>\n    </tr>\n    <tr>\n      <th>9</th>\n      <td>4650</td>\n      <td>andrea</td>\n      <td>0.037451</td>\n      <td>0.267791</td>\n      <td>0.021391</td>\n      <td>0.030491</td>\n      <td>10.068528</td>\n      <td>0.255172</td>\n      <td>NaN</td>\n      <td>0.968082</td>\n      <td>0.968806</td>\n      <td>9.014786</td>\n      <td>140.174223</td>\n      <td>89.815738</td>\n      <td>Train</td>\n    </tr>\n  </tbody>\n</table>\n</div>"
     },
     "metadata": {}
    }
   ]
  },
  {
   "cell_type": "code",
   "metadata": {
    "tags": [],
    "cell_id": "00008-067e71cf-99ef-4f04-9dc6-2799c3264a26",
    "deepnote_to_be_reexecuted": false,
    "source_hash": "c32bfc06",
    "execution_start": 1621335260496,
    "execution_millis": 0,
    "deepnote_cell_type": "code"
   },
   "source": "train_df['user'].unique()",
   "execution_count": 7,
   "outputs": [
    {
     "output_type": "execute_result",
     "execution_count": 7,
     "data": {
      "text/plain": "array(['andrea', 'Federica', 'michelangelo', 'Damiano', 'Claudio',\n       'Vincenzo', 'Serena', 'AndreaCarpineti', 'Elena'], dtype=object)"
     },
     "metadata": {}
    }
   ]
  },
  {
   "cell_type": "code",
   "metadata": {
    "tags": [],
    "cell_id": "00007-cafa9e37-8d0e-4ecf-9c76-7ec3f4e1a4d3",
    "deepnote_to_be_reexecuted": false,
    "source_hash": "b7ffbea",
    "execution_start": 1621335269985,
    "execution_millis": 244,
    "deepnote_cell_type": "code"
   },
   "source": "#TEST DATA\n\nandrea_index = df[df['user'] == 'andrea'].index\nfederica_index = df[df['user'] == 'Federica'].index\nmichel_index = df[df['user'] == 'michelangelo'].index\ndamiano_index = df[df['user'] == 'Damiano'].index\nclaudio_index = df[df['user'] == 'Claudio'].index\nvincenzo_index = df[df['user'] == 'Vincenzo'].index\nserena_index = df[df['user'] == 'Serena'].index\nandreacarpi_index = df[df['user'] == 'AndreaCarpineti'].index\nelena_index = df[df['user'] == 'Elena'].index\n\n\n# Delete these row indexes from dataFrame\ntest_df = df.drop(andrea_index)\ntest_df = test_df.drop(federica_index)\ntest_df = test_df.drop(michel_index)\ntest_df = test_df.drop(damiano_index)\ntest_df = test_df.drop(claudio_index)\ntest_df = test_df.drop(vincenzo_index)\ntest_df = test_df.drop(serena_index)\ntest_df = test_df.drop(andreacarpi_index)\ntest_df = test_df.drop(elena_index)\n\n\nprint(len(test_df))\ntest_df.head()",
   "execution_count": 8,
   "outputs": [
    {
     "name": "stdout",
     "text": "1439\n",
     "output_type": "stream"
    },
    {
     "output_type": "execute_result",
     "execution_count": 8,
     "data": {
      "application/vnd.deepnote.dataframe.v2+json": {
       "row_count": 5,
       "column_count": 15,
       "columns": [
        {
         "name": "id",
         "dtype": "int64",
         "stats": {
          "unique_count": 5,
          "nan_count": 0,
          "min": "15268",
          "max": "16811",
          "histogram": [
           {
            "bin_start": 15268,
            "bin_end": 15422.3,
            "count": 1
           },
           {
            "bin_start": 15422.3,
            "bin_end": 15576.6,
            "count": 0
           },
           {
            "bin_start": 15576.6,
            "bin_end": 15730.9,
            "count": 0
           },
           {
            "bin_start": 15730.9,
            "bin_end": 15885.2,
            "count": 2
           },
           {
            "bin_start": 15885.2,
            "bin_end": 16039.5,
            "count": 0
           },
           {
            "bin_start": 16039.5,
            "bin_end": 16193.8,
            "count": 1
           },
           {
            "bin_start": 16193.8,
            "bin_end": 16348.1,
            "count": 0
           },
           {
            "bin_start": 16348.1,
            "bin_end": 16502.4,
            "count": 0
           },
           {
            "bin_start": 16502.4,
            "bin_end": 16656.7,
            "count": 0
           },
           {
            "bin_start": 16656.7,
            "bin_end": 16811,
            "count": 1
           }
          ]
         }
        },
        {
         "name": "user",
         "dtype": "object",
         "stats": {
          "unique_count": 1,
          "nan_count": 0,
          "categories": [
           {
            "name": "Luca",
            "count": 5
           }
          ]
         }
        },
        {
         "name": "android_sensor_gyroscope_mean",
         "dtype": "float64",
         "stats": {
          "unique_count": 5,
          "nan_count": 0,
          "min": "0.00152461653211",
          "max": "0.140902237072",
          "histogram": [
           {
            "bin_start": 0.00152461653211,
            "bin_end": 0.015462378586099,
            "count": 2
           },
           {
            "bin_start": 0.015462378586099,
            "bin_end": 0.029400140640088,
            "count": 0
           },
           {
            "bin_start": 0.029400140640088,
            "bin_end": 0.043337902694077,
            "count": 2
           },
           {
            "bin_start": 0.043337902694077,
            "bin_end": 0.057275664748066,
            "count": 0
           },
           {
            "bin_start": 0.057275664748066,
            "bin_end": 0.071213426802055,
            "count": 0
           },
           {
            "bin_start": 0.071213426802055,
            "bin_end": 0.085151188856044,
            "count": 0
           },
           {
            "bin_start": 0.085151188856044,
            "bin_end": 0.099088950910033,
            "count": 0
           },
           {
            "bin_start": 0.099088950910033,
            "bin_end": 0.113026712964022,
            "count": 0
           },
           {
            "bin_start": 0.113026712964022,
            "bin_end": 0.126964475018011,
            "count": 0
           },
           {
            "bin_start": 0.126964475018011,
            "bin_end": 0.140902237072,
            "count": 1
           }
          ]
         }
        },
        {
         "name": "android_sensor_accelerometer_std",
         "dtype": "float64",
         "stats": {
          "unique_count": 5,
          "nan_count": 0,
          "min": "0.0111991059917",
          "max": "1.7759442967",
          "histogram": [
           {
            "bin_start": 0.0111991059917,
            "bin_end": 0.18767362506253,
            "count": 2
           },
           {
            "bin_start": 0.18767362506253,
            "bin_end": 0.36414814413336,
            "count": 0
           },
           {
            "bin_start": 0.36414814413336,
            "bin_end": 0.5406226632041901,
            "count": 0
           },
           {
            "bin_start": 0.5406226632041901,
            "bin_end": 0.7170971822750201,
            "count": 0
           },
           {
            "bin_start": 0.7170971822750201,
            "bin_end": 0.8935717013458501,
            "count": 1
           },
           {
            "bin_start": 0.8935717013458501,
            "bin_end": 1.07004622041668,
            "count": 1
           },
           {
            "bin_start": 1.07004622041668,
            "bin_end": 1.24652073948751,
            "count": 0
           },
           {
            "bin_start": 1.24652073948751,
            "bin_end": 1.42299525855834,
            "count": 0
           },
           {
            "bin_start": 1.42299525855834,
            "bin_end": 1.5994697776291702,
            "count": 0
           },
           {
            "bin_start": 1.5994697776291702,
            "bin_end": 1.7759442967,
            "count": 1
           }
          ]
         }
        },
        {
         "name": "android_sensor_gyroscope_std",
         "dtype": "float64",
         "stats": {
          "unique_count": 5,
          "nan_count": 0,
          "min": "0.000712700740663",
          "max": "0.119666966016",
          "histogram": [
           {
            "bin_start": 0.000712700740663,
            "bin_end": 0.012608127268196701,
            "count": 3
           },
           {
            "bin_start": 0.012608127268196701,
            "bin_end": 0.024503553795730403,
            "count": 1
           },
           {
            "bin_start": 0.024503553795730403,
            "bin_end": 0.03639898032326411,
            "count": 0
           },
           {
            "bin_start": 0.03639898032326411,
            "bin_end": 0.048294406850797805,
            "count": 0
           },
           {
            "bin_start": 0.048294406850797805,
            "bin_end": 0.0601898333783315,
            "count": 0
           },
           {
            "bin_start": 0.0601898333783315,
            "bin_end": 0.07208525990586521,
            "count": 0
           },
           {
            "bin_start": 0.07208525990586521,
            "bin_end": 0.08398068643339891,
            "count": 0
           },
           {
            "bin_start": 0.08398068643339891,
            "bin_end": 0.09587611296093261,
            "count": 0
           },
           {
            "bin_start": 0.09587611296093261,
            "bin_end": 0.10777153948846631,
            "count": 0
           },
           {
            "bin_start": 0.10777153948846631,
            "bin_end": 0.119666966016,
            "count": 1
           }
          ]
         }
        },
        {
         "name": "android_sensor_gyroscope_uncalibrated_mean",
         "dtype": "float64",
         "stats": {
          "unique_count": 5,
          "nan_count": 0,
          "min": "0.0162213599906",
          "max": "0.142145208906",
          "histogram": [
           {
            "bin_start": 0.0162213599906,
            "bin_end": 0.028813744882139995,
            "count": 2
           },
           {
            "bin_start": 0.028813744882139995,
            "bin_end": 0.041406129773679995,
            "count": 1
           },
           {
            "bin_start": 0.041406129773679995,
            "bin_end": 0.05399851466521999,
            "count": 1
           },
           {
            "bin_start": 0.05399851466521999,
            "bin_end": 0.06659089955676,
            "count": 0
           },
           {
            "bin_start": 0.06659089955676,
            "bin_end": 0.07918328444829999,
            "count": 0
           },
           {
            "bin_start": 0.07918328444829999,
            "bin_end": 0.09177566933983998,
            "count": 0
           },
           {
            "bin_start": 0.09177566933983998,
            "bin_end": 0.10436805423137999,
            "count": 0
           },
           {
            "bin_start": 0.10436805423137999,
            "bin_end": 0.11696043912291998,
            "count": 0
           },
           {
            "bin_start": 0.11696043912291998,
            "bin_end": 0.12955282401445997,
            "count": 0
           },
           {
            "bin_start": 0.12955282401445997,
            "bin_end": 0.142145208906,
            "count": 1
           }
          ]
         }
        },
        {
         "name": "android_sensor_accelerometer_max",
         "dtype": "float64",
         "stats": {
          "unique_count": 5,
          "nan_count": 0,
          "min": "9.84926211274",
          "max": "17.1466311902",
          "histogram": [
           {
            "bin_start": 9.84926211274,
            "bin_end": 10.578999020486,
            "count": 2
           },
           {
            "bin_start": 10.578999020486,
            "bin_end": 11.308735928232,
            "count": 0
           },
           {
            "bin_start": 11.308735928232,
            "bin_end": 12.038472835978,
            "count": 0
           },
           {
            "bin_start": 12.038472835978,
            "bin_end": 12.768209743724,
            "count": 1
           },
           {
            "bin_start": 12.768209743724,
            "bin_end": 13.49794665147,
            "count": 0
           },
           {
            "bin_start": 13.49794665147,
            "bin_end": 14.227683559216,
            "count": 1
           },
           {
            "bin_start": 14.227683559216,
            "bin_end": 14.957420466962,
            "count": 0
           },
           {
            "bin_start": 14.957420466962,
            "bin_end": 15.687157374708,
            "count": 0
           },
           {
            "bin_start": 15.687157374708,
            "bin_end": 16.416894282454003,
            "count": 0
           },
           {
            "bin_start": 16.416894282454003,
            "bin_end": 17.1466311902,
            "count": 1
           }
          ]
         }
        },
        {
         "name": "android_sensor_linear_acceleration_mean",
         "dtype": "float64",
         "stats": {
          "unique_count": 5,
          "nan_count": 0,
          "min": "0.0209778383629",
          "max": "1.48836057989",
          "histogram": [
           {
            "bin_start": 0.0209778383629,
            "bin_end": 0.16771611251560997,
            "count": 2
           },
           {
            "bin_start": 0.16771611251560997,
            "bin_end": 0.31445438666832,
            "count": 0
           },
           {
            "bin_start": 0.31445438666832,
            "bin_end": 0.46119266082102994,
            "count": 0
           },
           {
            "bin_start": 0.46119266082102994,
            "bin_end": 0.60793093497374,
            "count": 0
           },
           {
            "bin_start": 0.60793093497374,
            "bin_end": 0.75466920912645,
            "count": 0
           },
           {
            "bin_start": 0.75466920912645,
            "bin_end": 0.9014074832791599,
            "count": 1
           },
           {
            "bin_start": 0.9014074832791599,
            "bin_end": 1.04814575743187,
            "count": 1
           },
           {
            "bin_start": 1.04814575743187,
            "bin_end": 1.19488403158458,
            "count": 0
           },
           {
            "bin_start": 1.19488403158458,
            "bin_end": 1.3416223057372898,
            "count": 0
           },
           {
            "bin_start": 1.3416223057372898,
            "bin_end": 1.48836057989,
            "count": 1
           }
          ]
         }
        },
        {
         "name": "speed_mean",
         "dtype": "float64",
         "stats": {
          "unique_count": 4,
          "nan_count": 0,
          "min": "0.0",
          "max": "17.739895",
          "histogram": [
           {
            "bin_start": 0,
            "bin_end": 1.7739895,
            "count": 2
           },
           {
            "bin_start": 1.7739895,
            "bin_end": 3.547979,
            "count": 0
           },
           {
            "bin_start": 3.547979,
            "bin_end": 5.3219685000000005,
            "count": 0
           },
           {
            "bin_start": 5.3219685000000005,
            "bin_end": 7.095958,
            "count": 0
           },
           {
            "bin_start": 7.095958,
            "bin_end": 8.8699475,
            "count": 1
           },
           {
            "bin_start": 8.8699475,
            "bin_end": 10.643937000000001,
            "count": 0
           },
           {
            "bin_start": 10.643937000000001,
            "bin_end": 12.4179265,
            "count": 0
           },
           {
            "bin_start": 12.4179265,
            "bin_end": 14.191916,
            "count": 0
           },
           {
            "bin_start": 14.191916,
            "bin_end": 15.965905500000002,
            "count": 0
           },
           {
            "bin_start": 15.965905500000002,
            "bin_end": 17.739895,
            "count": 2
           }
          ]
         }
        },
        {
         "name": "android_sensor_rotation_vector_mean",
         "dtype": "float64",
         "stats": {
          "unique_count": 5,
          "nan_count": 0,
          "min": "0.050413140269",
          "max": "0.999981228739",
          "histogram": [
           {
            "bin_start": 0.050413140269,
            "bin_end": 0.14536994911599999,
            "count": 1
           },
           {
            "bin_start": 0.14536994911599999,
            "bin_end": 0.24032675796300002,
            "count": 0
           },
           {
            "bin_start": 0.24032675796300002,
            "bin_end": 0.33528356681000004,
            "count": 0
           },
           {
            "bin_start": 0.33528356681000004,
            "bin_end": 0.430240375657,
            "count": 0
           },
           {
            "bin_start": 0.430240375657,
            "bin_end": 0.525197184504,
            "count": 0
           },
           {
            "bin_start": 0.525197184504,
            "bin_end": 0.6201539933510001,
            "count": 1
           },
           {
            "bin_start": 0.6201539933510001,
            "bin_end": 0.715110802198,
            "count": 0
           },
           {
            "bin_start": 0.715110802198,
            "bin_end": 0.810067611045,
            "count": 0
           },
           {
            "bin_start": 0.810067611045,
            "bin_end": 0.905024419892,
            "count": 0
           },
           {
            "bin_start": 0.905024419892,
            "bin_end": 0.999981228739,
            "count": 3
           }
          ]
         }
        },
        {
         "name": "android_sensor_rotation_vector_max",
         "dtype": "float64",
         "stats": {
          "unique_count": 5,
          "nan_count": 0,
          "min": "0.0563513538347",
          "max": "0.999999403768",
          "histogram": [
           {
            "bin_start": 0.0563513538347,
            "bin_end": 0.15071615882803,
            "count": 1
           },
           {
            "bin_start": 0.15071615882803,
            "bin_end": 0.24508096382136,
            "count": 0
           },
           {
            "bin_start": 0.24508096382136,
            "bin_end": 0.33944576881469,
            "count": 0
           },
           {
            "bin_start": 0.33944576881469,
            "bin_end": 0.43381057380802,
            "count": 0
           },
           {
            "bin_start": 0.43381057380802,
            "bin_end": 0.52817537880135,
            "count": 0
           },
           {
            "bin_start": 0.52817537880135,
            "bin_end": 0.62254018379468,
            "count": 1
           },
           {
            "bin_start": 0.62254018379468,
            "bin_end": 0.71690498878801,
            "count": 0
           },
           {
            "bin_start": 0.71690498878801,
            "bin_end": 0.81126979378134,
            "count": 0
           },
           {
            "bin_start": 0.81126979378134,
            "bin_end": 0.90563459877467,
            "count": 0
           },
           {
            "bin_start": 0.90563459877467,
            "bin_end": 0.999999403768,
            "count": 3
           }
          ]
         }
        },
        {
         "name": "android_sensor_accelerometer_min",
         "dtype": "float64",
         "stats": {
          "unique_count": 5,
          "nan_count": 0,
          "min": "6.43164569701",
          "max": "9.80481712742",
          "histogram": [
           {
            "bin_start": 6.43164569701,
            "bin_end": 6.7689628400510005,
            "count": 1
           },
           {
            "bin_start": 6.7689628400510005,
            "bin_end": 7.1062799830920005,
            "count": 0
           },
           {
            "bin_start": 7.1062799830920005,
            "bin_end": 7.443597126133,
            "count": 0
           },
           {
            "bin_start": 7.443597126133,
            "bin_end": 7.780914269174,
            "count": 2
           },
           {
            "bin_start": 7.780914269174,
            "bin_end": 8.118231412215,
            "count": 0
           },
           {
            "bin_start": 8.118231412215,
            "bin_end": 8.455548555256,
            "count": 0
           },
           {
            "bin_start": 8.455548555256,
            "bin_end": 8.792865698297,
            "count": 0
           },
           {
            "bin_start": 8.792865698297,
            "bin_end": 9.130182841338,
            "count": 0
           },
           {
            "bin_start": 9.130182841338,
            "bin_end": 9.467499984379,
            "count": 0
           },
           {
            "bin_start": 9.467499984379,
            "bin_end": 9.80481712742,
            "count": 2
           }
          ]
         }
        },
        {
         "name": "android_sensor_magnetic_field_uncalibrated_min",
         "dtype": "float64",
         "stats": {
          "unique_count": 5,
          "nan_count": 0,
          "min": "51.1997072531",
          "max": "95.6643091367",
          "histogram": [
           {
            "bin_start": 51.1997072531,
            "bin_end": 55.64616744146,
            "count": 2
           },
           {
            "bin_start": 55.64616744146,
            "bin_end": 60.09262762982,
            "count": 1
           },
           {
            "bin_start": 60.09262762982,
            "bin_end": 64.53908781818001,
            "count": 0
           },
           {
            "bin_start": 64.53908781818001,
            "bin_end": 68.98554800654,
            "count": 0
           },
           {
            "bin_start": 68.98554800654,
            "bin_end": 73.43200819489999,
            "count": 0
           },
           {
            "bin_start": 73.43200819489999,
            "bin_end": 77.87846838326,
            "count": 0
           },
           {
            "bin_start": 77.87846838326,
            "bin_end": 82.32492857162,
            "count": 0
           },
           {
            "bin_start": 82.32492857162,
            "bin_end": 86.77138875998,
            "count": 1
           },
           {
            "bin_start": 86.77138875998,
            "bin_end": 91.21784894833999,
            "count": 0
           },
           {
            "bin_start": 91.21784894833999,
            "bin_end": 95.6643091367,
            "count": 1
           }
          ]
         }
        },
        {
         "name": "sound_min",
         "dtype": "float64",
         "stats": {
          "unique_count": 2,
          "nan_count": 3,
          "min": "87.4703770994",
          "max": "89.06514335",
          "histogram": [
           {
            "bin_start": 87.4703770994,
            "bin_end": 87.62985372445999,
            "count": 1
           },
           {
            "bin_start": 87.62985372445999,
            "bin_end": 87.78933034952,
            "count": 0
           },
           {
            "bin_start": 87.78933034952,
            "bin_end": 87.94880697458,
            "count": 0
           },
           {
            "bin_start": 87.94880697458,
            "bin_end": 88.10828359964,
            "count": 0
           },
           {
            "bin_start": 88.10828359964,
            "bin_end": 88.2677602247,
            "count": 0
           },
           {
            "bin_start": 88.2677602247,
            "bin_end": 88.42723684975999,
            "count": 0
           },
           {
            "bin_start": 88.42723684975999,
            "bin_end": 88.58671347482,
            "count": 0
           },
           {
            "bin_start": 88.58671347482,
            "bin_end": 88.74619009988,
            "count": 0
           },
           {
            "bin_start": 88.74619009988,
            "bin_end": 88.90566672494,
            "count": 0
           },
           {
            "bin_start": 88.90566672494,
            "bin_end": 89.06514335,
            "count": 1
           }
          ]
         }
        },
        {
         "name": "target",
         "dtype": "object",
         "stats": {
          "unique_count": 3,
          "nan_count": 0,
          "categories": [
           {
            "name": "Still",
            "count": 2
           },
           {
            "name": "Car",
            "count": 2
           },
           {
            "name": "Bus",
            "count": 1
           }
          ]
         }
        },
        {
         "name": "_deepnote_index_column",
         "dtype": "int64"
        }
       ],
       "rows_top": [
        {
         "id": 16170,
         "user": "Luca",
         "android_sensor_gyroscope_mean": 0.00165077522136,
         "android_sensor_accelerometer_std": 0.0146255073331,
         "android_sensor_gyroscope_std": 0.000736963641413,
         "android_sensor_gyroscope_uncalibrated_mean": 0.0162213599906,
         "android_sensor_accelerometer_max": 9.84941095639,
         "android_sensor_linear_acceleration_mean": 0.0209778383629,
         "speed_mean": 0,
         "android_sensor_rotation_vector_mean": 0.050413140269,
         "android_sensor_rotation_vector_max": 0.0563513538347,
         "android_sensor_accelerometer_min": 9.75889547269,
         "android_sensor_magnetic_field_uncalibrated_min": 51.1997072531,
         "sound_min": "nan",
         "target": "Still",
         "_deepnote_index_column": 0
        },
        {
         "id": 15871,
         "user": "Luca",
         "android_sensor_gyroscope_mean": 0.0363257142488,
         "android_sensor_accelerometer_std": 1.7759442967,
         "android_sensor_gyroscope_std": 0.0202897002181,
         "android_sensor_gyroscope_uncalibrated_mean": 0.0390225389502,
         "android_sensor_accelerometer_max": 17.1466311902,
         "android_sensor_linear_acceleration_mean": 0.879220182554,
         "speed_mean": 16.539349,
         "android_sensor_rotation_vector_mean": 0.999981228739,
         "android_sensor_rotation_vector_max": 0.999999403768,
         "android_sensor_accelerometer_min": 7.70743742161,
         "android_sensor_magnetic_field_uncalibrated_min": 82.4098901832,
         "sound_min": "89.06514335",
         "target": "Car",
         "_deepnote_index_column": 1
        },
        {
         "id": 16811,
         "user": "Luca",
         "android_sensor_gyroscope_mean": 0.00152461653211,
         "android_sensor_accelerometer_std": 0.0111991059917,
         "android_sensor_gyroscope_std": 0.000712700740663,
         "android_sensor_gyroscope_uncalibrated_mean": 0.016301566129,
         "android_sensor_accelerometer_max": 9.84926211274,
         "android_sensor_linear_acceleration_mean": 0.0341102311454,
         "speed_mean": 0,
         "android_sensor_rotation_vector_mean": 0.610456220789,
         "android_sensor_rotation_vector_max": 0.610456220789,
         "android_sensor_accelerometer_min": 9.80481712742,
         "android_sensor_magnetic_field_uncalibrated_min": 55.5018017726,
         "sound_min": "nan",
         "target": "Still",
         "_deepnote_index_column": 2
        },
        {
         "id": 15831,
         "user": "Luca",
         "android_sensor_gyroscope_mean": 0.0364403150565,
         "android_sensor_accelerometer_std": 0.862553258429,
         "android_sensor_gyroscope_std": 0.0105527726211,
         "android_sensor_gyroscope_uncalibrated_mean": 0.0507587448203,
         "android_sensor_accelerometer_max": 12.3042975935,
         "android_sensor_linear_acceleration_mean": 1.48836057989,
         "speed_mean": 17.739895,
         "android_sensor_rotation_vector_mean": 0.998112317214,
         "android_sensor_rotation_vector_max": 0.998112317214,
         "android_sensor_accelerometer_min": 7.65967372861,
         "android_sensor_magnetic_field_uncalibrated_min": 95.6643091367,
         "sound_min": "87.4703770994",
         "target": "Car",
         "_deepnote_index_column": 3
        },
        {
         "id": 15268,
         "user": "Luca",
         "android_sensor_gyroscope_mean": 0.140902237072,
         "android_sensor_accelerometer_std": 1.04468410393,
         "android_sensor_gyroscope_std": 0.119666966016,
         "android_sensor_gyroscope_uncalibrated_mean": 0.142145208906,
         "android_sensor_accelerometer_max": 14.2026033269,
         "android_sensor_linear_acceleration_mean": 1.00351975401,
         "speed_mean": 7.79723926667,
         "android_sensor_rotation_vector_mean": 0.929186732937,
         "android_sensor_rotation_vector_max": 0.941615192379,
         "android_sensor_accelerometer_min": 6.43164569701,
         "android_sensor_magnetic_field_uncalibrated_min": 58.6469112605,
         "sound_min": "nan",
         "target": "Bus",
         "_deepnote_index_column": 7
        }
       ],
       "rows_bottom": null
      },
      "text/plain": "      id  user  android_sensor_gyroscope_mean  \\\n0  16170  Luca                       0.001651   \n1  15871  Luca                       0.036326   \n2  16811  Luca                       0.001525   \n3  15831  Luca                       0.036440   \n7  15268  Luca                       0.140902   \n\n   android_sensor_accelerometer_std  android_sensor_gyroscope_std  \\\n0                          0.014626                      0.000737   \n1                          1.775944                      0.020290   \n2                          0.011199                      0.000713   \n3                          0.862553                      0.010553   \n7                          1.044684                      0.119667   \n\n   android_sensor_gyroscope_uncalibrated_mean  \\\n0                                    0.016221   \n1                                    0.039023   \n2                                    0.016302   \n3                                    0.050759   \n7                                    0.142145   \n\n   android_sensor_accelerometer_max  android_sensor_linear_acceleration_mean  \\\n0                          9.849411                                 0.020978   \n1                         17.146631                                 0.879220   \n2                          9.849262                                 0.034110   \n3                         12.304298                                 1.488361   \n7                         14.202603                                 1.003520   \n\n   speed_mean  android_sensor_rotation_vector_mean  \\\n0    0.000000                             0.050413   \n1   16.539349                             0.999981   \n2    0.000000                             0.610456   \n3   17.739895                             0.998112   \n7    7.797239                             0.929187   \n\n   android_sensor_rotation_vector_max  android_sensor_accelerometer_min  \\\n0                            0.056351                          9.758895   \n1                            0.999999                          7.707437   \n2                            0.610456                          9.804817   \n3                            0.998112                          7.659674   \n7                            0.941615                          6.431646   \n\n   android_sensor_magnetic_field_uncalibrated_min  sound_min target  \n0                                       51.199707        NaN  Still  \n1                                       82.409890  89.065143    Car  \n2                                       55.501802        NaN  Still  \n3                                       95.664309  87.470377    Car  \n7                                       58.646911        NaN    Bus  ",
      "text/html": "<div>\n<style scoped>\n    .dataframe tbody tr th:only-of-type {\n        vertical-align: middle;\n    }\n\n    .dataframe tbody tr th {\n        vertical-align: top;\n    }\n\n    .dataframe thead th {\n        text-align: right;\n    }\n</style>\n<table border=\"1\" class=\"dataframe\">\n  <thead>\n    <tr style=\"text-align: right;\">\n      <th></th>\n      <th>id</th>\n      <th>user</th>\n      <th>android_sensor_gyroscope_mean</th>\n      <th>android_sensor_accelerometer_std</th>\n      <th>android_sensor_gyroscope_std</th>\n      <th>android_sensor_gyroscope_uncalibrated_mean</th>\n      <th>android_sensor_accelerometer_max</th>\n      <th>android_sensor_linear_acceleration_mean</th>\n      <th>speed_mean</th>\n      <th>android_sensor_rotation_vector_mean</th>\n      <th>android_sensor_rotation_vector_max</th>\n      <th>android_sensor_accelerometer_min</th>\n      <th>android_sensor_magnetic_field_uncalibrated_min</th>\n      <th>sound_min</th>\n      <th>target</th>\n    </tr>\n  </thead>\n  <tbody>\n    <tr>\n      <th>0</th>\n      <td>16170</td>\n      <td>Luca</td>\n      <td>0.001651</td>\n      <td>0.014626</td>\n      <td>0.000737</td>\n      <td>0.016221</td>\n      <td>9.849411</td>\n      <td>0.020978</td>\n      <td>0.000000</td>\n      <td>0.050413</td>\n      <td>0.056351</td>\n      <td>9.758895</td>\n      <td>51.199707</td>\n      <td>NaN</td>\n      <td>Still</td>\n    </tr>\n    <tr>\n      <th>1</th>\n      <td>15871</td>\n      <td>Luca</td>\n      <td>0.036326</td>\n      <td>1.775944</td>\n      <td>0.020290</td>\n      <td>0.039023</td>\n      <td>17.146631</td>\n      <td>0.879220</td>\n      <td>16.539349</td>\n      <td>0.999981</td>\n      <td>0.999999</td>\n      <td>7.707437</td>\n      <td>82.409890</td>\n      <td>89.065143</td>\n      <td>Car</td>\n    </tr>\n    <tr>\n      <th>2</th>\n      <td>16811</td>\n      <td>Luca</td>\n      <td>0.001525</td>\n      <td>0.011199</td>\n      <td>0.000713</td>\n      <td>0.016302</td>\n      <td>9.849262</td>\n      <td>0.034110</td>\n      <td>0.000000</td>\n      <td>0.610456</td>\n      <td>0.610456</td>\n      <td>9.804817</td>\n      <td>55.501802</td>\n      <td>NaN</td>\n      <td>Still</td>\n    </tr>\n    <tr>\n      <th>3</th>\n      <td>15831</td>\n      <td>Luca</td>\n      <td>0.036440</td>\n      <td>0.862553</td>\n      <td>0.010553</td>\n      <td>0.050759</td>\n      <td>12.304298</td>\n      <td>1.488361</td>\n      <td>17.739895</td>\n      <td>0.998112</td>\n      <td>0.998112</td>\n      <td>7.659674</td>\n      <td>95.664309</td>\n      <td>87.470377</td>\n      <td>Car</td>\n    </tr>\n    <tr>\n      <th>7</th>\n      <td>15268</td>\n      <td>Luca</td>\n      <td>0.140902</td>\n      <td>1.044684</td>\n      <td>0.119667</td>\n      <td>0.142145</td>\n      <td>14.202603</td>\n      <td>1.003520</td>\n      <td>7.797239</td>\n      <td>0.929187</td>\n      <td>0.941615</td>\n      <td>6.431646</td>\n      <td>58.646911</td>\n      <td>NaN</td>\n      <td>Bus</td>\n    </tr>\n  </tbody>\n</table>\n</div>"
     },
     "metadata": {}
    }
   ]
  },
  {
   "cell_type": "code",
   "metadata": {
    "tags": [],
    "cell_id": "00010-e2f2709b-bd94-4979-b89a-3d9a72c4360c",
    "deepnote_to_be_reexecuted": false,
    "source_hash": "6c07ed7f",
    "execution_start": 1621335273719,
    "execution_millis": 40,
    "deepnote_cell_type": "code"
   },
   "source": "test_df['user'].unique()",
   "execution_count": 9,
   "outputs": [
    {
     "output_type": "execute_result",
     "execution_count": 9,
     "data": {
      "text/plain": "array(['Luca', 'Pierpaolo', 'IvanHeibi', 'Riccardo'], dtype=object)"
     },
     "metadata": {}
    }
   ]
  },
  {
   "cell_type": "code",
   "metadata": {
    "tags": [],
    "cell_id": "00010-5f837dd4-e38c-46af-ac49-4839f016047d",
    "deepnote_to_be_reexecuted": false,
    "source_hash": "8b7614ec",
    "execution_start": 1621335280643,
    "execution_millis": 9,
    "deepnote_cell_type": "code"
   },
   "source": "train_df['target'].unique()",
   "execution_count": 10,
   "outputs": [
    {
     "output_type": "execute_result",
     "execution_count": 10,
     "data": {
      "text/plain": "array(['Car', 'Train', 'Bus', 'Still', 'Walking'], dtype=object)"
     },
     "metadata": {}
    }
   ]
  },
  {
   "cell_type": "code",
   "metadata": {
    "tags": [],
    "cell_id": "00003-cc841fb3-47d3-4a71-bc43-300ecb61ef07",
    "deepnote_to_be_reexecuted": false,
    "source_hash": "171d012c",
    "execution_start": 1621335285031,
    "execution_millis": 10,
    "deepnote_cell_type": "code"
   },
   "source": "#split the features and target in train data\n\nX_train = train_df.drop(['target', 'id','user'], axis = 1)\ny_train = train_df.target\n#X_train.head()\n\ny_train = y_train.replace({'Still':0, 'Walking':1, 'Car':2, 'Bus':3, 'Train':4})",
   "execution_count": 11,
   "outputs": []
  },
  {
   "cell_type": "code",
   "metadata": {
    "tags": [],
    "cell_id": "00009-7505afe2-d555-4ea1-8c11-d11a1a5af7c6",
    "deepnote_to_be_reexecuted": false,
    "source_hash": "2bb80e33",
    "execution_start": 1621335287511,
    "execution_millis": 6,
    "deepnote_cell_type": "code"
   },
   "source": "#split the features and target in test data\n\nX_test = test_df.drop(['target', 'id','user'], axis = 1)\ny_test = test_df.target\n\n\ny_test = y_test.replace({'Still':0, 'Walking':1, 'Car':2, 'Bus':3, 'Train':4})",
   "execution_count": 12,
   "outputs": []
  },
  {
   "cell_type": "code",
   "metadata": {
    "tags": [],
    "cell_id": "00004-019aa09b-89ca-4464-82c2-a56d6e8da016",
    "deepnote_to_be_reexecuted": false,
    "source_hash": "855ade2e",
    "execution_start": 1621335290214,
    "execution_millis": 11,
    "deepnote_cell_type": "code"
   },
   "source": "#numerical columns in the train data\n\nnum_vars  = list(X_train.columns)\nnum_vars",
   "execution_count": 13,
   "outputs": [
    {
     "output_type": "execute_result",
     "execution_count": 13,
     "data": {
      "text/plain": "['android_sensor_gyroscope_mean',\n 'android_sensor_accelerometer_std',\n 'android_sensor_gyroscope_std',\n 'android_sensor_gyroscope_uncalibrated_mean',\n 'android_sensor_accelerometer_max',\n 'android_sensor_linear_acceleration_mean',\n 'speed_mean',\n 'android_sensor_rotation_vector_mean',\n 'android_sensor_rotation_vector_max',\n 'android_sensor_accelerometer_min',\n 'android_sensor_magnetic_field_uncalibrated_min',\n 'sound_min']"
     },
     "metadata": {}
    }
   ]
  },
  {
   "cell_type": "code",
   "metadata": {
    "tags": [],
    "cell_id": "00005-2eb9d5bd-2b12-4c3d-a655-00df01bbf61d",
    "deepnote_to_be_reexecuted": false,
    "source_hash": "c2a019d5",
    "execution_start": 1621335293315,
    "execution_millis": 25,
    "deepnote_cell_type": "code"
   },
   "source": "# Pipeline for Tree models\n\nnum_4_treeModels = pipeline.Pipeline(steps=[\n  ('imputer', impute.SimpleImputer(strategy='mean', add_indicator=False)),\n  ('Normalizer',RobustScaler())\n  \n])\n\n\ntree_prepro = compose.ColumnTransformer(transformers=[\n    ('num', num_4_treeModels, num_vars),\n], remainder='passthrough') # Drop other vars not specified in num_vars or cat_vars\n\ntree_prepro",
   "execution_count": 14,
   "outputs": [
    {
     "output_type": "execute_result",
     "execution_count": 14,
     "data": {
      "text/plain": "ColumnTransformer(remainder='passthrough',\n                  transformers=[('num',\n                                 Pipeline(steps=[('imputer', SimpleImputer()),\n                                                 ('Normalizer',\n                                                  RobustScaler())]),\n                                 ['android_sensor_gyroscope_mean',\n                                  'android_sensor_accelerometer_std',\n                                  'android_sensor_gyroscope_std',\n                                  'android_sensor_gyroscope_uncalibrated_mean',\n                                  'android_sensor_accelerometer_max',\n                                  'android_sensor_linear_acceleration_mean',\n                                  'speed_mean',\n                                  'android_sensor_rotation_vector_mean',\n                                  'android_sensor_rotation_vector_max',\n                                  'android_sensor_accelerometer_min',\n                                  'android_sensor_magnetic_field_uncalibrated_min',\n                                  'sound_min'])])",
      "text/html": "<style>#sk-95b15347-99b8-48ba-a461-ce6be765a9cf {color: black;background-color: white;}#sk-95b15347-99b8-48ba-a461-ce6be765a9cf pre{padding: 0;}#sk-95b15347-99b8-48ba-a461-ce6be765a9cf div.sk-toggleable {background-color: white;}#sk-95b15347-99b8-48ba-a461-ce6be765a9cf label.sk-toggleable__label {cursor: pointer;display: block;width: 100%;margin-bottom: 0;padding: 0.2em 0.3em;box-sizing: border-box;text-align: center;}#sk-95b15347-99b8-48ba-a461-ce6be765a9cf div.sk-toggleable__content {max-height: 0;max-width: 0;overflow: hidden;text-align: left;background-color: #f0f8ff;}#sk-95b15347-99b8-48ba-a461-ce6be765a9cf div.sk-toggleable__content pre {margin: 0.2em;color: black;border-radius: 0.25em;background-color: #f0f8ff;}#sk-95b15347-99b8-48ba-a461-ce6be765a9cf input.sk-toggleable__control:checked~div.sk-toggleable__content {max-height: 200px;max-width: 100%;overflow: auto;}#sk-95b15347-99b8-48ba-a461-ce6be765a9cf div.sk-estimator input.sk-toggleable__control:checked~label.sk-toggleable__label {background-color: #d4ebff;}#sk-95b15347-99b8-48ba-a461-ce6be765a9cf div.sk-label input.sk-toggleable__control:checked~label.sk-toggleable__label {background-color: #d4ebff;}#sk-95b15347-99b8-48ba-a461-ce6be765a9cf input.sk-hidden--visually {border: 0;clip: rect(1px 1px 1px 1px);clip: rect(1px, 1px, 1px, 1px);height: 1px;margin: -1px;overflow: hidden;padding: 0;position: absolute;width: 1px;}#sk-95b15347-99b8-48ba-a461-ce6be765a9cf div.sk-estimator {font-family: monospace;background-color: #f0f8ff;margin: 0.25em 0.25em;border: 1px dotted black;border-radius: 0.25em;box-sizing: border-box;}#sk-95b15347-99b8-48ba-a461-ce6be765a9cf div.sk-estimator:hover {background-color: #d4ebff;}#sk-95b15347-99b8-48ba-a461-ce6be765a9cf div.sk-parallel-item::after {content: \"\";width: 100%;border-bottom: 1px solid gray;flex-grow: 1;}#sk-95b15347-99b8-48ba-a461-ce6be765a9cf div.sk-label:hover label.sk-toggleable__label {background-color: #d4ebff;}#sk-95b15347-99b8-48ba-a461-ce6be765a9cf div.sk-serial::before {content: \"\";position: absolute;border-left: 1px solid gray;box-sizing: border-box;top: 2em;bottom: 0;left: 50%;}#sk-95b15347-99b8-48ba-a461-ce6be765a9cf div.sk-serial {display: flex;flex-direction: column;align-items: center;background-color: white;}#sk-95b15347-99b8-48ba-a461-ce6be765a9cf div.sk-item {z-index: 1;}#sk-95b15347-99b8-48ba-a461-ce6be765a9cf div.sk-parallel {display: flex;align-items: stretch;justify-content: center;background-color: white;}#sk-95b15347-99b8-48ba-a461-ce6be765a9cf div.sk-parallel-item {display: flex;flex-direction: column;position: relative;background-color: white;}#sk-95b15347-99b8-48ba-a461-ce6be765a9cf div.sk-parallel-item:first-child::after {align-self: flex-end;width: 50%;}#sk-95b15347-99b8-48ba-a461-ce6be765a9cf div.sk-parallel-item:last-child::after {align-self: flex-start;width: 50%;}#sk-95b15347-99b8-48ba-a461-ce6be765a9cf div.sk-parallel-item:only-child::after {width: 0;}#sk-95b15347-99b8-48ba-a461-ce6be765a9cf div.sk-dashed-wrapped {border: 1px dashed gray;margin: 0.2em;box-sizing: border-box;padding-bottom: 0.1em;background-color: white;position: relative;}#sk-95b15347-99b8-48ba-a461-ce6be765a9cf div.sk-label label {font-family: monospace;font-weight: bold;background-color: white;display: inline-block;line-height: 1.2em;}#sk-95b15347-99b8-48ba-a461-ce6be765a9cf div.sk-label-container {position: relative;z-index: 2;text-align: center;}#sk-95b15347-99b8-48ba-a461-ce6be765a9cf div.sk-container {display: inline-block;position: relative;}</style><div id=\"sk-95b15347-99b8-48ba-a461-ce6be765a9cf\" class\"sk-top-container\"><div class=\"sk-container\"><div class=\"sk-item sk-dashed-wrapped\"><div class=\"sk-label-container\"><div class=\"sk-label sk-toggleable\"><input class=\"sk-toggleable__control sk-hidden--visually\" id=\"df0516ab-2f95-4c76-9123-b664cd21b40b\" type=\"checkbox\" ><label class=\"sk-toggleable__label\" for=\"df0516ab-2f95-4c76-9123-b664cd21b40b\">ColumnTransformer</label><div class=\"sk-toggleable__content\"><pre>ColumnTransformer(remainder='passthrough',\n                  transformers=[('num',\n                                 Pipeline(steps=[('imputer', SimpleImputer()),\n                                                 ('Normalizer',\n                                                  RobustScaler())]),\n                                 ['android_sensor_gyroscope_mean',\n                                  'android_sensor_accelerometer_std',\n                                  'android_sensor_gyroscope_std',\n                                  'android_sensor_gyroscope_uncalibrated_mean',\n                                  'android_sensor_accelerometer_max',\n                                  'android_sensor_linear_acceleration_mean',\n                                  'speed_mean',\n                                  'android_sensor_rotation_vector_mean',\n                                  'android_sensor_rotation_vector_max',\n                                  'android_sensor_accelerometer_min',\n                                  'android_sensor_magnetic_field_uncalibrated_min',\n                                  'sound_min'])])</pre></div></div></div><div class=\"sk-parallel\"><div class=\"sk-parallel-item\"><div class=\"sk-item\"><div class=\"sk-label-container\"><div class=\"sk-label sk-toggleable\"><input class=\"sk-toggleable__control sk-hidden--visually\" id=\"05228bcd-ea15-47b7-b1a4-3e972fca0482\" type=\"checkbox\" ><label class=\"sk-toggleable__label\" for=\"05228bcd-ea15-47b7-b1a4-3e972fca0482\">num</label><div class=\"sk-toggleable__content\"><pre>['android_sensor_gyroscope_mean', 'android_sensor_accelerometer_std', 'android_sensor_gyroscope_std', 'android_sensor_gyroscope_uncalibrated_mean', 'android_sensor_accelerometer_max', 'android_sensor_linear_acceleration_mean', 'speed_mean', 'android_sensor_rotation_vector_mean', 'android_sensor_rotation_vector_max', 'android_sensor_accelerometer_min', 'android_sensor_magnetic_field_uncalibrated_min', 'sound_min']</pre></div></div></div><div class=\"sk-serial\"><div class=\"sk-item\"><div class=\"sk-serial\"><div class=\"sk-item\"><div class=\"sk-estimator sk-toggleable\"><input class=\"sk-toggleable__control sk-hidden--visually\" id=\"0f724ce5-11b5-45d9-ac56-aa8d4795230b\" type=\"checkbox\" ><label class=\"sk-toggleable__label\" for=\"0f724ce5-11b5-45d9-ac56-aa8d4795230b\">SimpleImputer</label><div class=\"sk-toggleable__content\"><pre>SimpleImputer()</pre></div></div></div><div class=\"sk-item\"><div class=\"sk-estimator sk-toggleable\"><input class=\"sk-toggleable__control sk-hidden--visually\" id=\"da76d86f-bae1-4490-b608-768fc083a315\" type=\"checkbox\" ><label class=\"sk-toggleable__label\" for=\"da76d86f-bae1-4490-b608-768fc083a315\">RobustScaler</label><div class=\"sk-toggleable__content\"><pre>RobustScaler()</pre></div></div></div></div></div></div></div></div><div class=\"sk-parallel-item\"><div class=\"sk-item\"><div class=\"sk-label-container\"><div class=\"sk-label sk-toggleable\"><input class=\"sk-toggleable__control sk-hidden--visually\" id=\"41505406-ec82-4d63-befa-c6d2eb2613b0\" type=\"checkbox\" ><label class=\"sk-toggleable__label\" for=\"41505406-ec82-4d63-befa-c6d2eb2613b0\">remainder</label><div class=\"sk-toggleable__content\"><pre></pre></div></div></div><div class=\"sk-serial\"><div class=\"sk-item\"><div class=\"sk-estimator sk-toggleable\"><input class=\"sk-toggleable__control sk-hidden--visually\" id=\"6f1935cc-3c34-431e-92e5-363673b4ee31\" type=\"checkbox\" ><label class=\"sk-toggleable__label\" for=\"6f1935cc-3c34-431e-92e5-363673b4ee31\">passthrough</label><div class=\"sk-toggleable__content\"><pre>passthrough</pre></div></div></div></div></div></div></div></div></div></div>"
     },
     "metadata": {}
    }
   ]
  },
  {
   "cell_type": "code",
   "metadata": {
    "tags": [],
    "cell_id": "00012-8a50c9be-6e59-44e3-b3c8-c19526ba2a9f",
    "deepnote_to_be_reexecuted": false,
    "source_hash": "fb2cfa9b",
    "execution_start": 1621335297064,
    "execution_millis": 38,
    "deepnote_cell_type": "code"
   },
   "source": "#import the tress models\n\nfrom sklearn.tree          import DecisionTreeClassifier\nfrom sklearn.ensemble      import RandomForestClassifier\nfrom sklearn.ensemble      import ExtraTreesClassifier\nfrom sklearn.ensemble      import AdaBoostClassifier\nfrom sklearn.ensemble      import GradientBoostingClassifier\nfrom sklearn.experimental  import enable_hist_gradient_boosting # Necesary for HistGradientBoostingClassifier\nfrom sklearn.ensemble      import HistGradientBoostingClassifier\n#from xgboost               import XGBClassifier\n#from lightgbm              import LGBMClassifier\n#from catboost              import CatBoostClassifier",
   "execution_count": 15,
   "outputs": []
  },
  {
   "cell_type": "code",
   "metadata": {
    "tags": [],
    "cell_id": "00013-6743ce06-93cf-494c-a63a-ad315d2d93b7",
    "deepnote_to_be_reexecuted": false,
    "source_hash": "7ab7463d",
    "execution_start": 1621335300030,
    "execution_millis": 1,
    "deepnote_cell_type": "code"
   },
   "source": "#create a dict with the models that we want to train on\n\ntree_classifiers = {\n  \"Decision Tree\": DecisionTreeClassifier(),\n  \"Extra Trees\":ExtraTreesClassifier(),\n  \"Random Forest\":RandomForestClassifier(),\n  \"AdaBoost\":AdaBoostClassifier(),\n  \"Skl GBM\":GradientBoostingClassifier(),\n  \"Skl HistGBM\":GradientBoostingClassifier()\n  #\"XGBoost\":XGBClassifier(),\n  #\"LightGBM\":LGBMClassifier(),\n  #\"CatBoost\":CatBoostClassifier()\n}",
   "execution_count": 16,
   "outputs": []
  },
  {
   "cell_type": "code",
   "metadata": {
    "tags": [],
    "cell_id": "00014-63efaa2c-5a5f-4baa-8bec-b49eaebe643f",
    "deepnote_to_be_reexecuted": false,
    "source_hash": "68d56ff9",
    "execution_start": 1621335302599,
    "execution_millis": 0,
    "deepnote_cell_type": "code"
   },
   "source": "#pass the pipeline to everymodel\n\ntree_classifiers = {name: pipeline.make_pipeline(tree_prepro, model) for name, model in tree_classifiers.items()}",
   "execution_count": 17,
   "outputs": []
  },
  {
   "cell_type": "code",
   "metadata": {
    "tags": [],
    "cell_id": "00017-34af34df-7125-47a8-a4dd-b52cf3a3d241",
    "deepnote_to_be_reexecuted": false,
    "source_hash": "a083a869",
    "execution_start": 1621327655350,
    "execution_millis": 2,
    "output_cleared": false,
    "deepnote_cell_type": "code"
   },
   "source": "#y_train",
   "outputs": [],
   "execution_count": null
  },
  {
   "cell_type": "code",
   "metadata": {
    "tags": [],
    "cell_id": "00015-3a2e9ccc-7c1f-49bf-8f02-c65dee0ea93f",
    "deepnote_to_be_reexecuted": false,
    "source_hash": "15d7f03f",
    "execution_start": 1621335305632,
    "execution_millis": 33430,
    "deepnote_cell_type": "code"
   },
   "source": "#fit the data to the model\n\nresults = pd.DataFrame({'Model': [], 'Accuracy': [], 'Bal Acc.': [], 'Time': []})\n\nx_train, x_val, y_train, y_val = model_selection.train_test_split(\n    X_train, y_train,\n    test_size=0.002,\n    stratify = y_train,   #is something wrong here?\n    random_state=37\n)\n\nfor model_name, model in tree_classifiers.items():\n\n    start_time = time.time()\n    model.fit(x_train, y_train)\n    total_time = time.time() - start_time\n    \n    pred = model.predict(X_test)  \n    \n    results = results.append({\"Model\":    model_name,\n                              \"Accuracy\": metrics.accuracy_score(y_test, pred)*100,\n                              \"Bal Acc.\": metrics.balanced_accuracy_score(y_test, pred)*100,\n                              \"Time\":     total_time},\n                              ignore_index=True)\n\n\nresults_ord = results.sort_values(by=['Accuracy'], ascending=False, ignore_index=True)\nresults_ord.index += 1 \nresults_ord.style.bar(subset=['Accuracy', 'Bal Acc.'], vmin=0, vmax=100, color='#5fba7d')",
   "execution_count": 18,
   "outputs": [
    {
     "output_type": "execute_result",
     "execution_count": 18,
     "data": {
      "text/plain": "<pandas.io.formats.style.Styler at 0x7f0b5460c1d0>",
      "text/html": "<style  type=\"text/css\" >\n#T_d4b08_row0_col1{\n            width:  10em;\n             height:  80%;\n            background:  linear-gradient(90deg,#5fba7d 47.0%, transparent 47.0%);\n        }#T_d4b08_row0_col2,#T_d4b08_row1_col2{\n            width:  10em;\n             height:  80%;\n            background:  linear-gradient(90deg,#5fba7d 45.1%, transparent 45.1%);\n        }#T_d4b08_row1_col1{\n            width:  10em;\n             height:  80%;\n            background:  linear-gradient(90deg,#5fba7d 46.6%, transparent 46.6%);\n        }#T_d4b08_row2_col1{\n            width:  10em;\n             height:  80%;\n            background:  linear-gradient(90deg,#5fba7d 45.0%, transparent 45.0%);\n        }#T_d4b08_row2_col2{\n            width:  10em;\n             height:  80%;\n            background:  linear-gradient(90deg,#5fba7d 43.5%, transparent 43.5%);\n        }#T_d4b08_row3_col1{\n            width:  10em;\n             height:  80%;\n            background:  linear-gradient(90deg,#5fba7d 42.9%, transparent 42.9%);\n        }#T_d4b08_row3_col2{\n            width:  10em;\n             height:  80%;\n            background:  linear-gradient(90deg,#5fba7d 40.9%, transparent 40.9%);\n        }#T_d4b08_row4_col1{\n            width:  10em;\n             height:  80%;\n            background:  linear-gradient(90deg,#5fba7d 41.2%, transparent 41.2%);\n        }#T_d4b08_row4_col2{\n            width:  10em;\n             height:  80%;\n            background:  linear-gradient(90deg,#5fba7d 42.1%, transparent 42.1%);\n        }#T_d4b08_row5_col1{\n            width:  10em;\n             height:  80%;\n            background:  linear-gradient(90deg,#5fba7d 41.1%, transparent 41.1%);\n        }#T_d4b08_row5_col2{\n            width:  10em;\n             height:  80%;\n            background:  linear-gradient(90deg,#5fba7d 41.5%, transparent 41.5%);\n        }</style><table id=\"T_d4b08_\" ><thead>    <tr>        <th class=\"blank level0\" ></th>        <th class=\"col_heading level0 col0\" >Model</th>        <th class=\"col_heading level0 col1\" >Accuracy</th>        <th class=\"col_heading level0 col2\" >Bal Acc.</th>        <th class=\"col_heading level0 col3\" >Time</th>    </tr></thead><tbody>\n                <tr>\n                        <th id=\"T_d4b08_level0_row0\" class=\"row_heading level0 row0\" >1</th>\n                        <td id=\"T_d4b08_row0_col0\" class=\"data row0 col0\" >Random Forest</td>\n                        <td id=\"T_d4b08_row0_col1\" class=\"data row0 col1\" >47.046560</td>\n                        <td id=\"T_d4b08_row0_col2\" class=\"data row0 col2\" >45.131604</td>\n                        <td id=\"T_d4b08_row0_col3\" class=\"data row0 col3\" >1.738240</td>\n            </tr>\n            <tr>\n                        <th id=\"T_d4b08_level0_row1\" class=\"row_heading level0 row1\" >2</th>\n                        <td id=\"T_d4b08_row1_col0\" class=\"data row1 col0\" >Skl HistGBM</td>\n                        <td id=\"T_d4b08_row1_col1\" class=\"data row1 col1\" >46.560111</td>\n                        <td id=\"T_d4b08_row1_col2\" class=\"data row1 col2\" >45.072230</td>\n                        <td id=\"T_d4b08_row1_col3\" class=\"data row1 col3\" >14.790275</td>\n            </tr>\n            <tr>\n                        <th id=\"T_d4b08_level0_row2\" class=\"row_heading level0 row2\" >3</th>\n                        <td id=\"T_d4b08_row2_col0\" class=\"data row2 col0\" >Skl GBM</td>\n                        <td id=\"T_d4b08_row2_col1\" class=\"data row2 col1\" >44.961779</td>\n                        <td id=\"T_d4b08_row2_col2\" class=\"data row2 col2\" >43.472070</td>\n                        <td id=\"T_d4b08_row2_col3\" class=\"data row2 col3\" >14.765625</td>\n            </tr>\n            <tr>\n                        <th id=\"T_d4b08_level0_row3\" class=\"row_heading level0 row3\" >4</th>\n                        <td id=\"T_d4b08_row3_col0\" class=\"data row3 col0\" >Extra Trees</td>\n                        <td id=\"T_d4b08_row3_col1\" class=\"data row3 col1\" >42.946491</td>\n                        <td id=\"T_d4b08_row3_col2\" class=\"data row3 col2\" >40.872433</td>\n                        <td id=\"T_d4b08_row3_col3\" class=\"data row3 col3\" >0.690944</td>\n            </tr>\n            <tr>\n                        <th id=\"T_d4b08_level0_row4\" class=\"row_heading level0 row4\" >5</th>\n                        <td id=\"T_d4b08_row4_col0\" class=\"data row4 col0\" >Decision Tree</td>\n                        <td id=\"T_d4b08_row4_col1\" class=\"data row4 col1\" >41.209173</td>\n                        <td id=\"T_d4b08_row4_col2\" class=\"data row4 col2\" >42.105247</td>\n                        <td id=\"T_d4b08_row4_col3\" class=\"data row4 col3\" >0.088416</td>\n            </tr>\n            <tr>\n                        <th id=\"T_d4b08_level0_row5\" class=\"row_heading level0 row5\" >6</th>\n                        <td id=\"T_d4b08_row5_col0\" class=\"data row5 col0\" >AdaBoost</td>\n                        <td id=\"T_d4b08_row5_col1\" class=\"data row5 col1\" >41.139680</td>\n                        <td id=\"T_d4b08_row5_col2\" class=\"data row5 col2\" >41.526299</td>\n                        <td id=\"T_d4b08_row5_col3\" class=\"data row5 col3\" >0.882121</td>\n            </tr>\n    </tbody></table>"
     },
     "metadata": {}
    }
   ]
  },
  {
   "cell_type": "markdown",
   "source": "# WHERE IS THE DATA LEAAAAAAK????",
   "metadata": {
    "tags": [],
    "cell_id": "00019-290e785e-c219-41cf-8455-d38866cc0cf7",
    "deepnote_cell_type": "text-cell-h1"
   }
  },
  {
   "cell_type": "markdown",
   "source": "# send help",
   "metadata": {
    "tags": [],
    "cell_id": "00022-780e69ff-8742-4e15-bb19-68dd5112d667",
    "deepnote_cell_type": "text-cell-p"
   }
  },
  {
   "cell_type": "code",
   "metadata": {
    "tags": [],
    "cell_id": "00022-a06f3c51-1751-4446-8a74-8dfcc10b5f12",
    "deepnote_to_be_reexecuted": false,
    "source_hash": "1d2f62eb",
    "execution_start": 1621335479011,
    "execution_millis": 10,
    "deepnote_cell_type": "code"
   },
   "source": "from sklearn.metrics import classification_report,confusion_matrix\n\nprint(confusion_matrix(y_test, pred))",
   "execution_count": 19,
   "outputs": [
    {
     "name": "stdout",
     "text": "[[130   2 164   5   7]\n [ 25 394  43   1   1]\n [  1   2 131   0  11]\n [  4  32 202   0  94]\n [  2   2 171   0  15]]\n",
     "output_type": "stream"
    }
   ]
  },
  {
   "cell_type": "markdown",
   "source": "",
   "metadata": {
    "tags": [],
    "cell_id": "00021-0c123acc-bf26-4102-8eca-c2c7133b067f",
    "deepnote_cell_type": "text-cell-p"
   }
  },
  {
   "cell_type": "markdown",
   "source": "<a style='text-decoration:none;line-height:16px;display:flex;color:#5B5B62;padding:10px;justify-content:end;' href='https://deepnote.com?utm_source=created-in-deepnote-cell&projectId=3e7089f3-11a5-48ad-89c4-39a166311a14' target=\"_blank\">\n<img alt='Created in deepnote.com' style='display:inline;max-height:16px;margin:0px;margin-right:7.5px;' src='data:image/svg+xml;base64,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' > </img>\nCreated in <span style='font-weight:600;margin-left:4px;'>Deepnote</span></a>",
   "metadata": {
    "tags": [],
    "created_in_deepnote_cell": true,
    "deepnote_cell_type": "markdown"
   }
  }
 ],
 "nbformat": 4,
 "nbformat_minor": 2,
 "metadata": {
  "orig_nbformat": 2,
  "deepnote": {
   "is_reactive": false
  },
  "deepnote_notebook_id": "f3fda45e-771b-4be0-8f3d-5c9ac5018648",
  "deepnote_execution_queue": []
 }
}